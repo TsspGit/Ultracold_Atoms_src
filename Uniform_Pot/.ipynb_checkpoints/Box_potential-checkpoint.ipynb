{
 "cells": [
  {
   "cell_type": "code",
   "execution_count": 1,
   "metadata": {},
   "outputs": [],
   "source": [
    "__author__ = \"@Tssp\"\n",
    "__date__   = \"15/04/21\"\n",
    "import sympy as sp\n",
    "from sympy.abc import n, x, a, b\n",
    "import numpy as np\n",
    "import matplotlib.pyplot as plt\n",
    "from method import Chebyshev_Expansion, np_Chebyshev"
   ]
  },
  {
   "cell_type": "code",
   "execution_count": 2,
   "metadata": {},
   "outputs": [],
   "source": [
    "Vo_sym, k_sym, xi_sym, L_sym, V_plane_sym = sp.symbols('V_0 k \\\\xi L V_p')"
   ]
  },
  {
   "cell_type": "code",
   "execution_count": 3,
   "metadata": {},
   "outputs": [
    {
     "name": "stdout",
     "output_type": "stream",
     "text": [
      "\n",
      "       Parameters\n",
      "------------------------\n",
      "Vo[a.u]:      1.7234e-10\n",
      "V_plane[a.u]: 0.0\n",
      "L[a.u]:       661404.146509975\n",
      "wL[nm]:       532\n",
      "k[a.u]:       0.0006249846732907886\n",
      "xi[a.u]:      330702.07325498725\n",
      "\n"
     ]
    }
   ],
   "source": [
    "kb = 8.617e-5               # a.u\n",
    "ao = 5.2917720859e-11       # a.u\n",
    "Vo = kb * 2e-6              # a.u\n",
    "V_plane = 0.0 * Vo         # a.u\n",
    "L = 35e-6/ao                # a.u\n",
    "k = 2*np.pi/(532e-9/ao)     # a.u\n",
    "xi = (Vo + (L/2)**12)**(1/12)# a.u\n",
    "params = {k_sym: k,\n",
    "         Vo_sym: Vo,\n",
    "         xi_sym: xi,\n",
    "         L_sym: L,\n",
    "         V_plane_sym: V_plane}\n",
    "print(f'''\n",
    "       Parameters\n",
    "------------------------\n",
    "Vo[a.u]:      {Vo}\n",
    "V_plane[a.u]: {V_plane}\n",
    "L[a.u]:       {L}\n",
    "wL[nm]:       {532}\n",
    "k[a.u]:       {k}\n",
    "xi[a.u]:      {xi}\n",
    "''')"
   ]
  },
  {
   "cell_type": "code",
   "execution_count": 4,
   "metadata": {},
   "outputs": [
    {
     "data": {
      "text/latex": [
       "$\\displaystyle \\begin{cases} V_{0} & \\text{for}\\: \\xi \\leq - x \\\\a + x^{12} & \\text{for}\\: x \\leq - \\frac{L}{2} \\\\0 & \\text{for}\\: x \\leq \\frac{L}{2} \\\\a + x^{12} & \\text{for}\\: \\xi \\geq x \\\\V_{0} & \\text{for}\\: \\xi \\leq x \\end{cases}$"
      ],
      "text/plain": [
       "Piecewise((V_0, \\xi <= -x), (a + x**12, x <= -L/2), (0, x <= L/2), (a + x**12, \\xi >= x), (V_0, \\xi <= x))"
      ]
     },
     "execution_count": 4,
     "metadata": {},
     "output_type": "execute_result"
    }
   ],
   "source": [
    "V = sp.Piecewise((Vo_sym, x<=-xi_sym), (x**12 + a, x<=-L_sym/2), (0, x<=L_sym/2),\\\n",
    "                (x**12 + a, x<=xi_sym), (Vo_sym, x>=xi_sym))\n",
    "V"
   ]
  },
  {
   "cell_type": "markdown",
   "metadata": {},
   "source": [
    "Continuity conditions leads to:\n",
    "$$ \\xi = (V_0 + (L/2)^{12})^{1/12}$$\n",
    "$$a = -(L/2)^{12}$$"
   ]
  },
  {
   "cell_type": "code",
   "execution_count": 5,
   "metadata": {},
   "outputs": [
    {
     "data": {
      "text/latex": [
       "$\\displaystyle \\begin{cases} V_{0} & \\text{for}\\: x \\leq - \\left(\\frac{L^{12}}{4096} + V_{0}\\right)^{0.0833333333333333} \\\\- \\frac{L^{12}}{4096} + x^{12} & \\text{for}\\: x \\leq - \\frac{L}{2} \\\\0 & \\text{for}\\: x \\leq \\frac{L}{2} \\\\- \\frac{L^{12}}{4096} + x^{12} & \\text{for}\\: x \\leq \\left(\\frac{L^{12}}{4096} + V_{0}\\right)^{0.0833333333333333} \\\\V_{0} & \\text{for}\\: x \\geq \\left(\\frac{L^{12}}{4096} + V_{0}\\right)^{0.0833333333333333} \\end{cases}$"
      ],
      "text/plain": [
       "Piecewise((V_0, x <= -(L**12/4096 + V_0)**0.0833333333333333), (-L**12/4096 + x**12, x <= -L/2), (0, x <= L/2), (-L**12/4096 + x**12, x <= (L**12/4096 + V_0)**0.0833333333333333), (V_0, x >= (L**12/4096 + V_0)**0.0833333333333333))"
      ]
     },
     "execution_count": 5,
     "metadata": {},
     "output_type": "execute_result"
    }
   ],
   "source": [
    "V = sp.Piecewise((Vo_sym, x<=-xi_sym), (x**12 - (L_sym/2)**12, x<=-L_sym/2), (0, x<=L_sym/2),\\\n",
    "                (x**12 - (L_sym/2)**12, x<=xi_sym), (Vo_sym, x>=xi_sym))\n",
    "V = V.subs({xi_sym: (Vo_sym + (L_sym/2)**12)**(1/12)})\n",
    "V"
   ]
  },
  {
   "cell_type": "code",
   "execution_count": 6,
   "metadata": {},
   "outputs": [
    {
     "data": {
      "text/latex": [
       "$\\displaystyle \\begin{cases} V_{0} & \\text{for}\\: x \\left(L + \\xi\\right) \\leq - \\left(\\frac{L^{12}}{4096} + V_{0}\\right)^{0.0833333333333333} \\\\- \\frac{L^{12}}{4096} + x^{12} \\left(L + \\xi\\right)^{12} & \\text{for}\\: \\frac{L}{2} \\leq - x \\left(L + \\xi\\right) \\\\0 & \\text{for}\\: \\frac{L}{2} \\geq x \\left(L + \\xi\\right) \\\\- \\frac{L^{12}}{4096} + x^{12} \\left(L + \\xi\\right)^{12} & \\text{for}\\: x \\left(L + \\xi\\right) \\leq \\left(\\frac{L^{12}}{4096} + V_{0}\\right)^{0.0833333333333333} \\\\V_{0} & \\text{for}\\: x \\left(L + \\xi\\right) \\geq \\left(\\frac{L^{12}}{4096} + V_{0}\\right)^{0.0833333333333333} \\end{cases}$"
      ],
      "text/plain": [
       "Piecewise((V_0, x*(L + \\xi) <= -(L**12/4096 + V_0)**0.0833333333333333), (-L**12/4096 + x**12*(L + \\xi)**12, L/2 <= -x*(L + \\xi)), (0, L/2 >= x*(L + \\xi)), (-L**12/4096 + x**12*(L + \\xi)**12, x*(L + \\xi) <= (L**12/4096 + V_0)**0.0833333333333333), (V_0, x*(L + \\xi) >= (L**12/4096 + V_0)**0.0833333333333333))"
      ]
     },
     "execution_count": 6,
     "metadata": {},
     "output_type": "execute_result"
    }
   ],
   "source": [
    "# Dimensionless\n",
    "V = V.subs({x: x*(xi_sym + L_sym)})\n",
    "V"
   ]
  },
  {
   "cell_type": "code",
   "execution_count": 7,
   "metadata": {},
   "outputs": [],
   "source": [
    "k_value = 100\n",
    "Vo_value= 1\n",
    "L_value = 1\n",
    "xi_value= (Vo_value + (L_value/2)**12)**(1/12)\n",
    "params = {k_sym: k_value,\n",
    "         Vo_sym: Vo_value,\n",
    "         xi_sym: xi_value,\n",
    "         L_sym: L_value}"
   ]
  },
  {
   "cell_type": "code",
   "execution_count": 8,
   "metadata": {},
   "outputs": [
    {
     "data": {
      "text/latex": [
       "$\\displaystyle \\begin{cases} 1 & \\text{for}\\: 2.00002034277587 x \\leq -1.00002034277587 \\\\4096.49997202896 x^{12} - \\frac{1}{4096} & \\text{for}\\: 2.00002034277587 x \\leq - \\frac{1}{2} \\\\0 & \\text{for}\\: 2.00002034277587 x \\leq \\frac{1}{2} \\\\4096.49997202896 x^{12} - \\frac{1}{4096} & \\text{for}\\: 2.00002034277587 x \\leq 1.00002034277587 \\\\1 & \\text{for}\\: 2.00002034277587 x \\geq 1.00002034277587 \\end{cases}$"
      ],
      "text/plain": [
       "Piecewise((1, 2.00002034277587*x <= -1.00002034277587), (4096.49997202896*x**12 - 1/4096, 2.00002034277587*x <= -1/2), (0, 2.00002034277587*x <= 1/2), (4096.49997202896*x**12 - 1/4096, 2.00002034277587*x <= 1.00002034277587), (1, 2.00002034277587*x >= 1.00002034277587))"
      ]
     },
     "execution_count": 8,
     "metadata": {},
     "output_type": "execute_result"
    }
   ],
   "source": [
    "V_function = V.subs(params)\n",
    "V_function"
   ]
  },
  {
   "cell_type": "code",
   "execution_count": 9,
   "metadata": {
    "scrolled": true
   },
   "outputs": [
    {
     "data": {
      "image/png": "[encoded data removed]",
      "text/plain": [
       "<Figure size 432x288 with 1 Axes>"
      ]
     },
     "metadata": {
      "needs_background": "light"
     },
     "output_type": "display_data"
    },
    {
     "data": {
      "text/plain": [
       "<sympy.plotting.plot.Plot at 0x114809490>"
      ]
     },
     "execution_count": 9,
     "metadata": {},
     "output_type": "execute_result"
    }
   ],
   "source": [
    "sp.plotting.plot(V.subs(params), xlim=(-1, 1))"
   ]
  },
  {
   "cell_type": "markdown",
   "metadata": {},
   "source": [
    "## With arrays"
   ]
  },
  {
   "cell_type": "code",
   "execution_count": 10,
   "metadata": {},
   "outputs": [],
   "source": [
    "xI   = np.linspace(-2*xi_value, -xi_value, endpoint=False)/(xi_value + L_value) \n",
    "xII  = np.linspace(-xi_value, -L_value/2, endpoint=False)/(xi_value + L_value)\n",
    "xIII = np.linspace(-L_value/2, L_value/2, endpoint=False)/(xi_value + L_value)\n",
    "xIV  = np.linspace(L_value/2, xi_value, endpoint=False)/(xi_value + L_value)\n",
    "xV   = np.linspace(xi_value, 2*xi_value, endpoint=False)/(xi_value + L_value)\n",
    "x    = np.concatenate((xI, xII, xIII, xIV, xV))"
   ]
  },
  {
   "cell_type": "code",
   "execution_count": 11,
   "metadata": {},
   "outputs": [],
   "source": [
    "VI  = Vo_value*np.ones(xI.size)\n",
    "VII = (xII*(xi_value + L_value))**12 - (L_value/2)**12\n",
    "VIII= np.zeros(xIII.size)\n",
    "VIV = (xIV*(xi_value + L_value))**12 - (L_value/2)**12\n",
    "VV  = Vo_value*np.ones(xV.size)\n",
    "V = np.concatenate((VI, VII, VIII, VIV, VV))"
   ]
  },
  {
   "cell_type": "code",
   "execution_count": 20,
   "metadata": {
    "scrolled": true
   },
   "outputs": [],
   "source": [
    "#for i in range(51):\n",
    "#    fig, ax = plt.subplots(figsize=(8, 6))\n",
    "#    P = np.polynomial.Chebyshev.fit(x, V, i)\n",
    "#    plt.plot(x, V)\n",
    "#    plt.xlim(-1, 1)\n",
    "#    plt.plot(x, P(x))\n",
    "#    #plt.xticks([-xi_value, -L_value/2, 0, L_value/2, xi_value], [r'$-\\xi$', r'$-L/2$', r'$0$', r'$L/2$', r'$\\xi$'])\n",
    "#    plt.xlabel('$x$', fontsize=18)\n",
    "#    plt.legend([r'$V(x)$', 'Chebyshev fit'])\n",
    "#    plt.title(f'Order of Chebyshev expansion: {i}')\n",
    "#    plt.savefig(f'Figures_For_Gif/Cheby_gif{i}')"
   ]
  },
  {
   "cell_type": "code",
   "execution_count": 21,
   "metadata": {},
   "outputs": [],
   "source": [
    "#import imageio, os\n",
    "#images = []\n",
    "#for i in range(51):\n",
    "#    images.append(imageio.imread(f'Figures_For_Gif/Cheby_gif{i}.png'))\n",
    "#imageio.mimsave('Figures_For_Gif/Cheby_gif.gif', images)"
   ]
  },
  {
   "cell_type": "code",
   "execution_count": 24,
   "metadata": {},
   "outputs": [
    {
     "data": {
      "text/plain": [
       "<matplotlib.legend.Legend at 0x11483e250>"
      ]
     },
     "execution_count": 24,
     "metadata": {},
     "output_type": "execute_result"
    },
    {
     "data": {
      "image/png": "[encoded data removed]",
      "text/plain": [
       "<Figure size 576x432 with 1 Axes>"
      ]
     },
     "metadata": {
      "needs_background": "light"
     },
     "output_type": "display_data"
    }
   ],
   "source": [
    "fig, ax = plt.subplots(figsize=(8, 6))\n",
    "P = np.polynomial.Chebyshev.fit(x, V, 28)\n",
    "plt.plot(x, V)\n",
    "plt.xlim(-1, 1)\n",
    "plt.plot(x, P(x))\n",
    "plt.xticks([-xi_value, -L_value/2, 0, L_value/2, xi_value], [r'$-\\xi$', r'$-L/2$', r'$0$', r'$L/2$', r'$\\xi$'])\n",
    "plt.xlabel('$x$', fontsize=18)\n",
    "plt.legend([r'$V(x)$', 'Chebyshev fit'])"
   ]
  }
 ],
 "metadata": {
  "kernelspec": {
   "display_name": "Python 3",
   "language": "python",
   "name": "python3"
  },
  "language_info": {
   "codemirror_mode": {
    "name": "ipython",
    "version": 3
   },
   "file_extension": ".py",
   "mimetype": "text/x-python",
   "name": "python",
   "nbconvert_exporter": "python",
   "pygments_lexer": "ipython3",
   "version": "3.8.5"
  }
 },
 "nbformat": 4,
 "nbformat_minor": 4
}
