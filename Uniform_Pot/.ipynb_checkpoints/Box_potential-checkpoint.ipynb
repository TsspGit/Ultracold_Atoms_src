{
 "cells": [
  {
   "cell_type": "code",
   "execution_count": 1,
   "metadata": {},
   "outputs": [],
   "source": [
    "__author__ = \"@Tssp\"\n",
    "__date__   = \"15/04/21\"\n",
    "import sympy as sp\n",
    "from sympy.abc import n, x, a, b\n",
    "import numpy as np\n",
    "import matplotlib.pyplot as plt\n",
    "from method import Chebyshev_Expansion, np_Chebyshev\n",
    "plt.rc('text',usetex=True)\n",
    "plt.rc('font',family='serif')\n",
    "ref_ticksize = 18\n",
    "plt.rcParams['xtick.labelsize']=ref_ticksize\n",
    "plt.rcParams['ytick.labelsize']=ref_ticksize\n",
    "plt.rcParams['axes.labelsize']=ref_ticksize * 3/2\n",
    "plt.rcParams['axes.titlesize']=ref_ticksize * 3/2\n",
    "aur = (1 + np.sqrt(5)) / 2\n",
    "aursize = (4.3*aur, 4.3)"
   ]
  },
  {
   "cell_type": "code",
   "execution_count": 2,
   "metadata": {},
   "outputs": [],
   "source": [
    "Vo_sym, k_sym, xi_sym, L_sym, V_plane_sym = sp.symbols('V_0 k \\\\xi L V_p')"
   ]
  },
  {
   "cell_type": "code",
   "execution_count": 3,
   "metadata": {},
   "outputs": [
    {
     "data": {
      "text/latex": [
       "$\\displaystyle \\begin{cases} V_{0} & \\text{for}\\: x \\leq - \\frac{L}{2} - \\xi \\\\a + b x^{12} & \\text{for}\\: x \\leq - \\frac{L}{2} \\\\0 & \\text{for}\\: x \\leq \\frac{L}{2} \\\\a + b x^{12} & \\text{for}\\: x \\leq \\frac{L}{2} + \\xi \\\\V_{0} & \\text{for}\\: x \\geq \\frac{L}{2} + \\xi \\end{cases}$"
      ],
      "text/plain": [
       "Piecewise((V_0, x <= -L/2 - \\xi), (a + b*x**12, x <= -L/2), (0, x <= L/2), (a + b*x**12, x <= L/2 + \\xi), (V_0, x >= L/2 + \\xi))"
      ]
     },
     "execution_count": 3,
     "metadata": {},
     "output_type": "execute_result"
    }
   ],
   "source": [
    "V = sp.Piecewise((Vo_sym, x<=-xi_sym-L_sym/2), (b*x**12 + a, x<=-L_sym/2), (0, x<=L_sym/2),\\\n",
    "                (b*x**12 + a, x<=L_sym/2 + xi_sym), (Vo_sym, x>=xi_sym + L_sym/2))\n",
    "V"
   ]
  },
  {
   "cell_type": "markdown",
   "metadata": {},
   "source": [
    "# Continuity"
   ]
  },
  {
   "cell_type": "markdown",
   "metadata": {},
   "source": [
    "$$V_{0} - a - b \\left(- \\frac{L}{2} - \\xi \\right)^{12} = 0$$\n",
    "$$\\frac{L^{12} b}{4096} + a = 0$$"
   ]
  },
  {
   "cell_type": "code",
   "execution_count": 4,
   "metadata": {},
   "outputs": [
    {
     "data": {
      "text/latex": [
       "$\\displaystyle V_{0} - a - b \\left(- \\frac{L}{2} - \\xi\\right)^{12}$"
      ],
      "text/plain": [
       "V_0 - a - b*(-L/2 - \\xi)**12"
      ]
     },
     "execution_count": 4,
     "metadata": {},
     "output_type": "execute_result"
    }
   ],
   "source": [
    "eq_1 = V.args[0][0] - V.args[1][0].subs({x: -L_sym/2 - xi_sym})\n",
    "eq_1"
   ]
  },
  {
   "cell_type": "code",
   "execution_count": 5,
   "metadata": {},
   "outputs": [
    {
     "data": {
      "text/latex": [
       "$\\displaystyle \\frac{L^{12} b}{4096} + a$"
      ],
      "text/plain": [
       "L**12*b/4096 + a"
      ]
     },
     "execution_count": 5,
     "metadata": {},
     "output_type": "execute_result"
    }
   ],
   "source": [
    "eq_2 = V.args[1][0].subs({x: -L_sym/2}) - 0\n",
    "eq_2"
   ]
  },
  {
   "cell_type": "code",
   "execution_count": 6,
   "metadata": {},
   "outputs": [
    {
     "data": {
      "text/latex": [
       "$\\displaystyle - \\frac{L^{12} b}{4096}$"
      ],
      "text/plain": [
       "-L**12*b/4096"
      ]
     },
     "execution_count": 6,
     "metadata": {},
     "output_type": "execute_result"
    }
   ],
   "source": [
    "a_temp = sp.solve(eq_2, a)[0]\n",
    "a_temp"
   ]
  },
  {
   "cell_type": "code",
   "execution_count": 7,
   "metadata": {},
   "outputs": [
    {
     "data": {
      "text/latex": [
       "$\\displaystyle - \\frac{4096 V_{0}}{L^{12} - \\left(L + 2 \\xi\\right)^{12}}$"
      ],
      "text/plain": [
       "-4096*V_0/(L**12 - (L + 2*\\xi)**12)"
      ]
     },
     "execution_count": 7,
     "metadata": {},
     "output_type": "execute_result"
    }
   ],
   "source": [
    "b_sol = sp.solve(eq_1.subs({a: a_temp}), b)[0]\n",
    "b_sol"
   ]
  },
  {
   "cell_type": "code",
   "execution_count": 8,
   "metadata": {},
   "outputs": [
    {
     "data": {
      "text/latex": [
       "$\\displaystyle \\frac{L^{12} V_{0}}{L^{12} - \\left(L + 2 \\xi\\right)^{12}}$"
      ],
      "text/plain": [
       "L**12*V_0/(L**12 - (L + 2*\\xi)**12)"
      ]
     },
     "execution_count": 8,
     "metadata": {},
     "output_type": "execute_result"
    }
   ],
   "source": [
    "a_sol = sp.solve(eq_2.subs({b: b_sol}), a)[0]\n",
    "a_sol"
   ]
  },
  {
   "cell_type": "code",
   "execution_count": 9,
   "metadata": {},
   "outputs": [
    {
     "data": {
      "text/latex": [
       "$\\displaystyle \\begin{cases} V_{0} & \\text{for}\\: x \\leq - \\frac{L}{2} - \\xi \\\\\\frac{L^{12} V_{0}}{L^{12} - \\left(L + 2 \\xi\\right)^{12}} - \\frac{4096 V_{0} x^{12}}{L^{12} - \\left(L + 2 \\xi\\right)^{12}} & \\text{for}\\: x \\leq - \\frac{L}{2} \\\\0 & \\text{for}\\: x \\leq \\frac{L}{2} \\\\\\frac{L^{12} V_{0}}{L^{12} - \\left(L + 2 \\xi\\right)^{12}} - \\frac{4096 V_{0} x^{12}}{L^{12} - \\left(L + 2 \\xi\\right)^{12}} & \\text{for}\\: x \\leq \\frac{L}{2} + \\xi \\\\V_{0} & \\text{for}\\: x \\geq \\frac{L}{2} + \\xi \\end{cases}$"
      ],
      "text/plain": [
       "Piecewise((V_0, x <= -L/2 - \\xi), (L**12*V_0/(L**12 - (L + 2*\\xi)**12) - 4096*V_0*x**12/(L**12 - (L + 2*\\xi)**12), x <= -L/2), (0, x <= L/2), (L**12*V_0/(L**12 - (L + 2*\\xi)**12) - 4096*V_0*x**12/(L**12 - (L + 2*\\xi)**12), x <= L/2 + \\xi), (V_0, x >= L/2 + \\xi))"
      ]
     },
     "execution_count": 9,
     "metadata": {},
     "output_type": "execute_result"
    }
   ],
   "source": [
    "V_cont = V.subs({a: a_sol,\n",
    "       b: b_sol})\n",
    "V_cont"
   ]
  },
  {
   "cell_type": "markdown",
   "metadata": {},
   "source": [
    "# Substituying Parameters"
   ]
  },
  {
   "cell_type": "code",
   "execution_count": 10,
   "metadata": {},
   "outputs": [
    {
     "name": "stdout",
     "output_type": "stream",
     "text": [
      "\n",
      "       Parameters\n",
      "------------------------\n",
      "Vo[a.u]:      1\n",
      "L[a.u]:       1\n",
      "xi[a.u]:      0.1\n",
      "\n"
     ]
    }
   ],
   "source": [
    "Vo_value= 1\n",
    "L_value = 1\n",
    "xi_value= 0.1\n",
    "params = {Vo_sym: Vo_value,\n",
    "         xi_sym: xi_value,\n",
    "         L_sym: L_value}\n",
    "print(f'''\n",
    "       Parameters\n",
    "------------------------\n",
    "Vo[a.u]:      {Vo_value}\n",
    "L[a.u]:       {L_value}\n",
    "xi[a.u]:      {xi_value}\n",
    "''')"
   ]
  },
  {
   "cell_type": "code",
   "execution_count": 11,
   "metadata": {},
   "outputs": [
    {
     "data": {
      "text/latex": [
       "$\\displaystyle \\begin{cases} V_{0} & \\text{for}\\: L x \\leq - \\frac{L}{2} - \\xi \\\\\\frac{L^{12} V_{0} \\left(1 - 4096 x^{12}\\right)}{L^{12} - \\left(L + 2 \\xi\\right)^{12}} & \\text{for}\\: \\frac{L}{2} \\leq - L x \\\\0 & \\text{for}\\: \\frac{L}{2} \\geq L x \\\\\\frac{L^{12} V_{0} \\left(1 - 4096 x^{12}\\right)}{L^{12} - \\left(L + 2 \\xi\\right)^{12}} & \\text{for}\\: L x \\leq \\frac{L}{2} + \\xi \\\\V_{0} & \\text{for}\\: L x \\geq \\frac{L}{2} + \\xi \\end{cases}$"
      ],
      "text/plain": [
       "Piecewise((V_0, L*x <= -L/2 - \\xi), (L**12*V_0*(1 - 4096*x**12)/(L**12 - (L + 2*\\xi)**12), L/2 <= -L*x), (0, L/2 >= L*x), (L**12*V_0*(1 - 4096*x**12)/(L**12 - (L + 2*\\xi)**12), L*x <= L/2 + \\xi), (V_0, L*x >= L/2 + \\xi))"
      ]
     },
     "execution_count": 11,
     "metadata": {},
     "output_type": "execute_result"
    }
   ],
   "source": [
    "# Dimensionless\n",
    "V_d = V_cont.subs({x: x*(L_sym)})\n",
    "sp.simplify(V_d)"
   ]
  },
  {
   "cell_type": "code",
   "execution_count": 12,
   "metadata": {},
   "outputs": [
    {
     "data": {
      "text/latex": [
       "$\\displaystyle \\begin{cases} 1 & \\text{for}\\: x \\leq -0.6 \\\\517.426481229454 x^{12} - 0.12632482451891 & \\text{for}\\: x \\leq - \\frac{1}{2} \\\\0 & \\text{for}\\: x \\leq \\frac{1}{2} \\\\517.426481229454 x^{12} - 0.12632482451891 & \\text{for}\\: x \\leq 0.6 \\\\1 & \\text{for}\\: x \\geq 0.6 \\end{cases}$"
      ],
      "text/plain": [
       "Piecewise((1, x <= -0.6), (517.426481229454*x**12 - 0.12632482451891, x <= -1/2), (0, x <= 1/2), (517.426481229454*x**12 - 0.12632482451891, x <= 0.6), (1, x >= 0.6))"
      ]
     },
     "execution_count": 12,
     "metadata": {},
     "output_type": "execute_result"
    }
   ],
   "source": [
    "V_f = V_d.subs(params)\n",
    "sp.simplify(V_f)"
   ]
  },
  {
   "cell_type": "code",
   "execution_count": 13,
   "metadata": {},
   "outputs": [
    {
     "data": {
      "image/png": "[encoded data removed]",
      "text/plain": [
       "<Figure size 432x288 with 1 Axes>"
      ]
     },
     "metadata": {
      "needs_background": "light"
     },
     "output_type": "display_data"
    },
    {
     "data": {
      "text/plain": [
       "<sympy.plotting.plot.Plot at 0x1169b3d60>"
      ]
     },
     "execution_count": 13,
     "metadata": {},
     "output_type": "execute_result"
    }
   ],
   "source": [
    "sp.plotting.plot(V_f.subs(params), xlim=(-1, 1))"
   ]
  },
  {
   "cell_type": "code",
   "execution_count": 14,
   "metadata": {},
   "outputs": [],
   "source": [
    "xI   = np.linspace(-L_value, -L_value/2 - xi_value, endpoint=False)/(L_value) \n",
    "xII  = np.linspace(-L_value/2 - xi_value, -L_value/2, endpoint=False)/(L_value)\n",
    "xIII = np.linspace(-L_value/2, L_value/2, endpoint=False)/(L_value)\n",
    "xIV  = np.linspace(L_value/2, L_value/2 + xi_value, endpoint=False)/(L_value)\n",
    "xV   = np.linspace(L_value/2 + xi_value, L_value, endpoint=False)/(L_value)\n",
    "X    = np.concatenate((xI, xII, xIII, xIV, xV))"
   ]
  },
  {
   "cell_type": "code",
   "execution_count": 15,
   "metadata": {},
   "outputs": [],
   "source": [
    "b = L_value**12*Vo_value/(L_value**12 - (L_value + 2*xi_value)**12)\n",
    "a = -4096*Vo_value/(L_value**12 - (L_value + 2*xi_value)**12)"
   ]
  },
  {
   "cell_type": "code",
   "execution_count": 16,
   "metadata": {},
   "outputs": [],
   "source": [
    "VI  = Vo_value*np.ones(xI.size)\n",
    "VII = a*(xII*L_value)**12 + b\n",
    "VIII= np.zeros(xIII.size)\n",
    "VIV = a*(xIV*L_value)**12 + b\n",
    "VV  = Vo_value*np.ones(xV.size)\n",
    "V = np.concatenate((VI, VII, VIII, VIV, VV))"
   ]
  },
  {
   "cell_type": "code",
   "execution_count": 17,
   "metadata": {},
   "outputs": [
    {
     "data": {
      "text/plain": [
       "Text(0, 0.5, '$f(x)$')"
      ]
     },
     "execution_count": 17,
     "metadata": {},
     "output_type": "execute_result"
    },
    {
     "data": {
      "image/png": "[encoded data removed]",
      "text/plain": [
       "<Figure size 576x432 with 1 Axes>"
      ]
     },
     "metadata": {
      "needs_background": "light"
     },
     "output_type": "display_data"
    }
   ],
   "source": [
    "fig, ax = plt.subplots(figsize=(8, 6))\n",
    "P = np.polynomial.Chebyshev.fit(X, V, 28)\n",
    "plt.plot(X, V)\n",
    "plt.xlim(-1, 1)\n",
    "plt.plot(X, P(X))\n",
    "#plt.xticks([-xi_value, -L_value/2, 0, L_value/2, xi_value], [r'$-\\xi$', r'$-L/2$', r'$0$', r'$L/2$', r'$\\xi$'])\n",
    "plt.xlabel('$x$')\n",
    "plt.ylabel('$f(x)$')\n",
    "#plt.legend([r'$V(x)$', 'Chebyshev fit'], fontsize=15)\n",
    "#plt.savefig('Box_Interpolation.png', dpi=200)"
   ]
  },
  {
   "cell_type": "markdown",
   "metadata": {},
   "source": [
    "# Real Parameters"
   ]
  },
  {
   "cell_type": "code",
   "execution_count": 18,
   "metadata": {},
   "outputs": [
    {
     "name": "stdout",
     "output_type": "stream",
     "text": [
      "\n",
      "       Parameters\n",
      "------------------------\n",
      "Vo[a.u]:      6.333623011645659e-12\n",
      "L[a.u]:       1322808.29301995\n",
      "wL[nm]:       532.0\n",
      "k[a.u]:       0.0006249846732907886\n",
      "xi[a.u]:      113383.56797313859\n",
      "\n"
     ]
    }
   ],
   "source": [
    "kb = 1.3806488e-23          # a.u\n",
    "ao = 5.2917720859e-11       # a.u\n",
    "Vo_value = kb * 2e-6/4.35974417e-18   # a.u\n",
    "L_value  = 70e-6/ao               # a.u\n",
    "wL = 532e-9/ao\n",
    "k = 2*np.pi/wL     # a.u\n",
    "xi_value = 6e-6/ao# a.u\n",
    "params = {Vo_sym: Vo_value,\n",
    "         xi_sym: xi_value,\n",
    "         L_sym: L_value}\n",
    "print(f'''\n",
    "       Parameters\n",
    "------------------------\n",
    "Vo[a.u]:      {Vo_value}\n",
    "L[a.u]:       {L_value}\n",
    "wL[nm]:       {wL*ao*1e9}\n",
    "k[a.u]:       {k}\n",
    "xi[a.u]:      {xi_value}\n",
    "''')"
   ]
  },
  {
   "cell_type": "code",
   "execution_count": 19,
   "metadata": {},
   "outputs": [
    {
     "data": {
      "text/latex": [
       "$\\displaystyle \\begin{cases} 6.33362301164566 \\cdot 10^{-12} & \\text{for}\\: x \\leq -0.585714285714286 \\\\4.56965503905668 \\cdot 10^{-9} x^{12} - 1.1156384372697 \\cdot 10^{-12} & \\text{for}\\: x \\leq -0.5 \\\\0 & \\text{for}\\: x \\leq 0.5 \\\\4.56965503905668 \\cdot 10^{-9} x^{12} - 1.1156384372697 \\cdot 10^{-12} & \\text{for}\\: x \\leq 0.585714285714286 \\\\6.33362301164566 \\cdot 10^{-12} & \\text{for}\\: x \\geq 0.585714285714286 \\end{cases}$"
      ],
      "text/plain": [
       "Piecewise((6.33362301164566e-12, x <= -0.585714285714286), (4.56965503905668e-9*x**12 - 1.1156384372697e-12, x <= -0.5), (0, x <= 0.5), (4.56965503905668e-9*x**12 - 1.1156384372697e-12, x <= 0.585714285714286), (6.33362301164566e-12, x >= 0.585714285714286))"
      ]
     },
     "execution_count": 19,
     "metadata": {},
     "output_type": "execute_result"
    }
   ],
   "source": [
    "V_f = V_d.subs(params)\n",
    "sp.simplify(V_f)"
   ]
  },
  {
   "cell_type": "markdown",
   "metadata": {},
   "source": [
    "# With arrays"
   ]
  },
  {
   "cell_type": "code",
   "execution_count": 21,
   "metadata": {},
   "outputs": [],
   "source": [
    "xI   = np.linspace(-L_value, -L_value/2 - xi_value, endpoint=False, num=100)/(L_value) \n",
    "xII  = np.linspace(-L_value/2 - xi_value, -L_value/2, endpoint=False, num=100)/(L_value)\n",
    "xIII = np.linspace(-L_value/2, L_value/2, endpoint=False, num=100)/(L_value)\n",
    "xIV  = np.linspace(L_value/2, L_value/2 + xi_value, endpoint=False, num=100)/(L_value)\n",
    "xV   = np.linspace(L_value/2 + xi_value, L_value, endpoint=False, num=100)/(L_value)\n",
    "X    = np.concatenate((xI, xII, xIII, xIV, xV))"
   ]
  },
  {
   "cell_type": "code",
   "execution_count": 22,
   "metadata": {},
   "outputs": [],
   "source": [
    "b = L_value**12*Vo_value/(L_value**12 - (L_value + 2*xi_value)**12)\n",
    "a = -4096*Vo_value/(L_value**12 - (L_value + 2*xi_value)**12)"
   ]
  },
  {
   "cell_type": "code",
   "execution_count": 23,
   "metadata": {},
   "outputs": [],
   "source": [
    "VI  = Vo_value*np.ones(xI.size)\n",
    "VII = a*(xII*L_value)**12 + b\n",
    "VIII= np.zeros(xIII.size)\n",
    "VIV = a*(xIV*L_value)**12 + b\n",
    "VV  = Vo_value*np.ones(xV.size)\n",
    "V = np.concatenate((VI, VII, VIII, VIV, VV))"
   ]
  },
  {
   "cell_type": "code",
   "execution_count": 24,
   "metadata": {},
   "outputs": [
    {
     "data": {
      "image/png": "[encoded data removed]",
      "text/plain": [
       "<Figure size 576x432 with 1 Axes>"
      ]
     },
     "metadata": {
      "needs_background": "light"
     },
     "output_type": "display_data"
    }
   ],
   "source": [
    "fig, ax = plt.subplots(figsize=(8, 6))\n",
    "P = np.polynomial.Chebyshev.fit(X, V, 30)\n",
    "plt.plot(X, V)\n",
    "plt.xlim(-1, 1)\n",
    "plt.plot(X, P(X))\n",
    "#plt.xticks([-xi_value, -L_value/2, 0, L_value/2, xi_value], [r'$-\\xi$', r'$-L/2$', r'$0$', r'$L/2$', r'$\\xi$'])\n",
    "plt.xlabel('$x$')\n",
    "plt.ylabel('$f(x)$')\n",
    "plt.legend([r'$V(x)$', 'Chebyshev fit'], fontsize=15)\n",
    "plt.savefig('Box_Interpolation.png', dpi=200)"
   ]
  }
 ],
 "metadata": {
  "kernelspec": {
   "display_name": "Python 3",
   "language": "python",
   "name": "python3"
  },
  "language_info": {
   "codemirror_mode": {
    "name": "ipython",
    "version": 3
   },
   "file_extension": ".py",
   "mimetype": "text/x-python",
   "name": "python",
   "nbconvert_exporter": "python",
   "pygments_lexer": "ipython3",
   "version": "3.8.5"
  }
 },
 "nbformat": 4,
 "nbformat_minor": 4
}
