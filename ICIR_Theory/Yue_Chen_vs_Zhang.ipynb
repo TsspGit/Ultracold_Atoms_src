{
 "cells": [
  {
   "cell_type": "code",
   "execution_count": 1,
   "metadata": {},
   "outputs": [],
   "source": [
    "__author__ = '@T. Sánchez-Pastor'\n",
    "__date__ = '31/05/21'\n",
    "import numpy as np\n",
    "import matplotlib.pyplot as plt\n",
    "plt.rc('text',usetex=True)\n",
    "plt.rc('font',family='serif')\n",
    "ref_ticksize = 16\n",
    "plt.rcParams['xtick.labelsize']=ref_ticksize\n",
    "plt.rcParams['legend.fontsize']=ref_ticksize\n",
    "plt.rcParams['ytick.labelsize']=ref_ticksize\n",
    "plt.rcParams['axes.labelsize']=ref_ticksize * 3/2\n",
    "plt.rcParams['axes.titlesize']=ref_ticksize * 3/2"
   ]
  },
  {
   "cell_type": "markdown",
   "metadata": {},
   "source": [
    "[Yue Chen et. al (2020) PRA]"
   ]
  },
  {
   "cell_type": "markdown",
   "metadata": {},
   "source": [
    "$$ \\frac{1}{a_{3D}} =  - \\frac{1}{2\\sqrt{\\pi}}\\int^{\\infty}_0 d\\beta\\left[ e^{\\beta E} \\sqrt{\\frac{\\eta_x \\eta_z}{\\sinh(\\eta_x \\beta) \\sinh(\\eta_z \\beta) \\sinh(\\beta)}} - \\beta^{-3/2}\\right]$$"
   ]
  },
  {
   "cell_type": "code",
   "execution_count": 18,
   "metadata": {},
   "outputs": [],
   "source": [
    "E = 5/2 # hbar*w\n",
    "B = np.linspace(0, 10, num=200)\n",
    "t = np.linspace(0, 10, num=200)\n",
    "eta_x = 1\n",
    "eta_z = 1"
   ]
  },
  {
   "cell_type": "code",
   "execution_count": 19,
   "metadata": {},
   "outputs": [],
   "source": [
    "def integrand_2020(E, B, eta_x, eta_z):\n",
    "    return -np.exp(B*E)/(np.sqrt(2*np.pi)) * np.sqrt(eta_x*eta_z/\\\n",
    "            (np.sinh(B) * np.sinh(eta_x*B) * np.sinh(eta_z*B))) - B**(-3/2)"
   ]
  },
  {
   "cell_type": "code",
   "execution_count": 20,
   "metadata": {},
   "outputs": [
    {
     "name": "stderr",
     "output_type": "stream",
     "text": [
      "<ipython-input-19-d419733068fe>:2: RuntimeWarning: divide by zero encountered in true_divide\n",
      "  return -np.exp(B*E)/(np.sqrt(2*np.pi)) * np.sqrt(eta_x*eta_z/\\\n",
      "<ipython-input-19-d419733068fe>:3: RuntimeWarning: divide by zero encountered in power\n",
      "  (np.sinh(B) * np.sinh(eta_x*B) * np.sinh(eta_z*B))) - B**(-3/2)\n"
     ]
    }
   ],
   "source": [
    "Yue_Chen = integrand_2020(E, B, eta_x, eta_z)"
   ]
  },
  {
   "cell_type": "markdown",
   "metadata": {},
   "source": [
    "[J.Liang and C.Zhang Phys. Scr. 77, 025302 (2008)]"
   ]
  },
  {
   "cell_type": "markdown",
   "metadata": {},
   "source": [
    "$$ \\frac{1}{a_{3D}} =  - \\frac{1}{2\\sqrt{\\pi}}\\int^{\\infty}_0 dt \\left[ e^{\\epsilon t/2} \\sqrt{\\frac{\\eta_x \\eta_z}{(1 - e^{-\\eta_x t}) (1 - e^{-\\eta_z t}) (1 - e^{-t})}} - t^{-3/2}\\right]$$\n",
    "\n",
    "with $\\epsilon = E - E_0$"
   ]
  },
  {
   "cell_type": "code",
   "execution_count": 32,
   "metadata": {},
   "outputs": [],
   "source": [
    "def integrand_2008(E, t, eta_x, eta_z):\n",
    "    eps = E - 1/2*(1 + eta_x + eta_z)\n",
    "    return -np.exp(eps*t/2)/(2*np.sqrt(np.pi)) * np.sqrt(eta_x*eta_z/ \\\n",
    "            ((1 - np.exp(-t)) * (1 - np.exp(-eta_x*t)) * (1 - np.exp(-eta_z*t)))) - (t)**(-3/2)"
   ]
  },
  {
   "cell_type": "code",
   "execution_count": 33,
   "metadata": {},
   "outputs": [
    {
     "name": "stderr",
     "output_type": "stream",
     "text": [
      "<ipython-input-32-e6fca4778cb5>:3: RuntimeWarning: divide by zero encountered in true_divide\n",
      "  return -np.exp(eps*t/2)/(2*np.sqrt(np.pi)) * np.sqrt(eta_x*eta_z/ \\\n",
      "<ipython-input-32-e6fca4778cb5>:4: RuntimeWarning: divide by zero encountered in power\n",
      "  ((1 - np.exp(-t)) * (1 - np.exp(-eta_x*t)) * (1 - np.exp(-eta_z*t)))) - (t)**(-3/2)\n"
     ]
    }
   ],
   "source": [
    "Zhang = integrand_2008(E, B, eta_x, eta_z)"
   ]
  },
  {
   "cell_type": "code",
   "execution_count": 39,
   "metadata": {},
   "outputs": [
    {
     "data": {
      "text/plain": [
       "<matplotlib.legend.Legend at 0x117134b80>"
      ]
     },
     "execution_count": 39,
     "metadata": {},
     "output_type": "execute_result"
    },
    {
     "data": {
      "image/png": "[encoded data removed]",
      "text/plain": [
       "<Figure size 576x432 with 1 Axes>"
      ]
     },
     "metadata": {
      "needs_background": "light"
     },
     "output_type": "display_data"
    }
   ],
   "source": [
    "fig, ax = plt.subplots(figsize=(8, 6))\n",
    "ax.plot(B, Yue_Chen, '-', label='Yue Chen (2020)')\n",
    "ax.plot(B, Zhang, '-', label='Zhang (2008)')\n",
    "ax.set_xlabel(r'$\\beta$')\n",
    "ax.set_ylabel(r'$dJ_{3D}$')\n",
    "ax.set_ylim(-50, 0)\n",
    "ax.set_xlim(0, 10)\n",
    "plt.legend()"
   ]
  }
 ],
 "metadata": {
  "kernelspec": {
   "display_name": "Python 3",
   "language": "python",
   "name": "python3"
  },
  "language_info": {
   "codemirror_mode": {
    "name": "ipython",
    "version": 3
   },
   "file_extension": ".py",
   "mimetype": "text/x-python",
   "name": "python",
   "nbconvert_exporter": "python",
   "pygments_lexer": "ipython3",
   "version": "3.8.5"
  }
 },
 "nbformat": 4,
 "nbformat_minor": 4
}
