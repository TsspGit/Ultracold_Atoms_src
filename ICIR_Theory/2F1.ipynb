{
 "cells": [
  {
   "cell_type": "code",
   "execution_count": 31,
   "metadata": {},
   "outputs": [],
   "source": [
    "__author__ = \"Tomás Sánchez Sánchez-Pastor\"\n",
    "__date__   = \"28 de Julio 2021\"\n",
    "import sympy as sp"
   ]
  },
  {
   "cell_type": "code",
   "execution_count": 32,
   "metadata": {},
   "outputs": [],
   "source": [
    "ex, ey, E, L, a, b, c = sp.symbols(\"\\\\epsilon_x \\\\epsilon_y E \\\\Lambda a b c\")"
   ]
  },
  {
   "cell_type": "code",
   "execution_count": 33,
   "metadata": {},
   "outputs": [
    {
     "data": {
      "text/latex": [
       "$\\displaystyle {{}_{2}F_{1}\\left(\\begin{matrix} 0.75, 1 \\\\ 1.25 \\end{matrix}\\middle| {e^{-2}} \\right)}$"
      ],
      "text/plain": [
       "hyper((0.75, 1), (1.25,), exp(-2))"
      ]
     },
     "execution_count": 33,
     "metadata": {},
     "output_type": "execute_result"
    }
   ],
   "source": [
    "F = sp.hyper((1, 3/4 - 1/2*(E - ex - ey)/2), [5/4 - 1/2*(E - ex - ey)/2], sp.exp(-2*L))\n",
    "sp.hyperexpand(F.subs({E:0,\n",
    "                      ex:0,\n",
    "                      ey:0,\n",
    "                      L:1}))"
   ]
  },
  {
   "cell_type": "code",
   "execution_count": 41,
   "metadata": {},
   "outputs": [
    {
     "data": {
      "text/latex": [
       "$\\displaystyle {{}_{2}F_{1}\\left(\\begin{matrix} a, a \\\\ a + 0.5 \\end{matrix}\\middle| {\\Lambda} \\right)}$"
      ],
      "text/plain": [
       "hyper((a, a), (a + 0.5,), \\Lambda)"
      ]
     },
     "execution_count": 41,
     "metadata": {},
     "output_type": "execute_result"
    }
   ],
   "source": [
    "sp.hyperexpand(sp.hyper((a, a), [a+1/2], L)).evalf()"
   ]
  },
  {
   "cell_type": "code",
   "execution_count": null,
   "metadata": {},
   "outputs": [],
   "source": []
  }
 ],
 "metadata": {
  "kernelspec": {
   "display_name": "Python 3",
   "language": "python",
   "name": "python3"
  },
  "language_info": {
   "codemirror_mode": {
    "name": "ipython",
    "version": 3
   },
   "file_extension": ".py",
   "mimetype": "text/x-python",
   "name": "python",
   "nbconvert_exporter": "python",
   "pygments_lexer": "ipython3",
   "version": "3.8.5"
  }
 },
 "nbformat": 4,
 "nbformat_minor": 4
}
