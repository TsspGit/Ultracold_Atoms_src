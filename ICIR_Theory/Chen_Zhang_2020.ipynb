{
 "cells": [
  {
   "cell_type": "code",
   "execution_count": 1,
   "metadata": {},
   "outputs": [],
   "source": [
    "__author__ = 'T. Sánchez-Pastor'\n",
    "__date__   = '19 de Julio de 2021'\n",
    "# Modules\n",
    "import numpy as np\n",
    "import matplotlib.pyplot as plt\n",
    "from math import pi, factorial\n",
    "from numpy import sqrt\n",
    "from scipy.special import gamma, hyp2f1, poch\n",
    "import os\n",
    "from numba import njit, prange\n",
    "from atomic_units import ao, vo, e, hbar, me, Eh, to\n",
    "from utils import A3D_int, B1_3D, B2_3D, separate_levels, en"
   ]
  },
  {
   "cell_type": "markdown",
   "metadata": {},
   "source": [
    "The energy spectrum solution for a two identical-ultracold atoms in completely anisotropic traps is:\n",
    "\n",
    "$$J_{3D} = 4 \\pi \\left[ W_{3D}(E) + \\int^\\infty_0 d\\beta\\  I_{3D}(E, \\beta)\\right]$$\n",
    "\n",
    "with $J_{3D} = \\frac{1}{a_{3D}}$. The functions $W_{3D}$ and $I_{3D}$ are defined as follows:\n",
    "\n",
    "$$W_{3D} = -\\frac{\\pi}{2} \\sqrt{\\frac{\\eta_x \\eta_y \\eta_z}{2}} \\sum_{(n_x, n_y) \\in C^{3D}_E} \\left[ \\frac{2^{n_x+n_y-1} \\Gamma\\left(\\frac{1}{4} - \\frac{E - \\epsilon_{n_x} - \\epsilon_{n_y}}{2}\\right)}{\\Gamma \\left(\\frac{1-n_x}{2}\\right)^2 \\Gamma\\left(\\frac{1-n_y}{2}\\right)^2 \\Gamma\\left(n_x + 1\\right) \\Gamma\\left(n_y + 1\\right) \\Gamma\\left(\\frac{3}{4} - \\frac{E- \\epsilon_{n_x} - \\epsilon_{n_y}}{2}\\right)}    \\right],$$\n",
    "\n",
    "$$ I_{3D} = -e^{\\beta E} \\prod_{\\alpha=x,y,z}\\sqrt{\\frac{\\eta_\\alpha}{4\\pi \\sinh(\\eta_\\alpha\\beta)}} + \\left(\\frac{1}{4\\pi \\beta}\\right)^{3/2} + \\sqrt{\\frac{\\pi\\eta_x \\eta_z}{8\\sinh(\\beta)}} \\sum_{(n_x, n_y) \\in C^{3D}_E} \\left[ \\frac{2^{n_x + n_y - 1/2} e^{\\beta(E - \\epsilon_{n_x} - \\epsilon_{n_y})}}{\\Gamma \\left(\\frac{1-n_x}{2}\\right)^2 \\Gamma\\left(\\frac{1-n_y}{2}\\right)^2 \\Gamma\\left(n_x + 1\\right) \\Gamma\\left(n_y + 1\\right)} \\right]$$\n",
    "\n",
    "where, $\\epsilon_{n_j} = \\eta_j(n_j + 1/2)$, $\\eta_j$ the anisotropies with respect the constant axis and $C^{3D}_E : \\left\\{ (n_x, n_y)|n_{x,y} = 0, 2, 4, 6, ...; \\epsilon_{n_x} + \\epsilon_{n_y} + 1/2 \\leq E\\right\\}$.\n",
    "\n",
    "There are some techniques which may speed up the calculation for the function $J_{3D}$. First,\n",
    "$$J_{3D}(E) = 4\\pi\\left[ \\int^\\Lambda_0 A_{3D}d\\beta + B^{(1)}_{3D}(E, \\Lambda) + B^{(2)}_{3D}(E, \\Lambda + \\left(\\frac{1}{2\\pi} \\right)^{3/2}\\frac{1}{\\sqrt{2\\Lambda}}\\right]$$\n",
    "\n",
    "where $\\Lambda$ is an arbitrary finite positive number, and the functions are defined as\n",
    "\n",
    "$$A_{3D} = -e^{\\beta E}\\prod_\\alpha \\sqrt{\\frac{\\eta_\\alpha}{4\\pi \\sinh(\\eta_\\alpha \\beta)}} + \\left(\\frac{1}{4\\pi \\beta} \\right)^{3/2};$$\n",
    "\n",
    "$$B^{(1)}_{3D} = (-1) \\sum_{(n_x, n_y) \\in C^{3D}_E}\\left\\{ \\frac{2^{n_x + n_y - 5/2} \\sqrt{\\pi \\eta_x \\eta_z}\\ \\Gamma\\left(\\frac{1}{4} - \\frac{E - \\epsilon_{n_x} - \\epsilon_{n_y}}{2}\\right) e^{(E - \\epsilon_{n_x} - \\epsilon_{n_y} - 3/2)\\Lambda} }{\\Gamma \\left(\\frac{1-n_x}{2}\\right)^2 \\Gamma\\left(\\frac{1-n_y}{2}\\right)^2 \\Gamma\\left(n_x + 1\\right) \\Gamma\\left(n_y + 1\\right) \\Gamma\\left(\\frac{5}{4} - \\frac{E- \\epsilon_{n_x} - \\epsilon_{n_y}}{2}\\right)} \\\\ \\sqrt{e^{2\\Lambda} - 1} _2F^1 \\left[1, \\frac{3}{4} - \\frac{E- \\epsilon_{n_x} - \\epsilon_{n_y}}{2}, \\frac{5}{4} - \\frac{E- \\epsilon_{n_x} - \\epsilon_{n_y}}{2}, e^{-2\\Lambda} \\right] \\right\\}$$\n",
    "\n",
    "$$ B^{(2)}_{3D} = \\sqrt{\\pi \\eta_x \\eta_z cosch \\Lambda} \\sum_{(n_x, n_y) \\in C^{3D}_E} \\frac{2^{n_x + n_y - 1} e^{(E - \\epsilon_{n_x} - \\epsilon_{n_y} - 2)\\Lambda} (e^{2\\Lambda - 1}) _2F^1\\left[1, \\frac{3}{4} - \\frac{E- \\epsilon_{n_x} - \\epsilon_{n_y}}{2}, \\frac{5}{4} - \\frac{E- \\epsilon_{n_x} - \\epsilon_{n_y}}{2}, e^{-2\\Lambda} \\right] }{\\Gamma \\left(\\frac{1-n_x}{2}\\right)^2 \\Gamma\\left(\\frac{1-n_y}{2}\\right)^2 \\Gamma\\left(n_x + 1\\right) \\Gamma\\left(n_y + 1\\right) [2(E - \\epsilon_{n_x} - \\epsilon_{n_y}) - 1]} $$"
   ]
  },
  {
   "cell_type": "code",
   "execution_count": 2,
   "metadata": {},
   "outputs": [],
   "source": [
    "# Parameters:\n",
    "eta_x  = 1\n",
    "eta_y  = 1\n",
    "eta_z  = 1\n",
    "nx     = 50\n",
    "ny     = 50\n",
    "nz     = 0\n",
    "Eo = 1/2*(eta_x + eta_y + eta_z)\n",
    "E      = np.linspace(-7.5, 12, num=200)"
   ]
  },
  {
   "cell_type": "code",
   "execution_count": 6,
   "metadata": {},
   "outputs": [],
   "source": [
    "def B1_3D(nx, ny, etax, etay, E, Lambda):\n",
    "    #np.seterr('raise')\n",
    "    suma = 0\n",
    "    for i in range(0, nx+1, 2):\n",
    "        for j in range(0, ny+1, 2):\n",
    "            if en(i, etax) + en(j, etay) + 1/2 <= E:\n",
    "                suma += 2**(i + j - 5/2) * sqrt(pi*etax*etay) * gamma(1/4 - (E - en(i, etax) - en(j, etay))/2) *\\\n",
    "                       np.exp((E - en(i, etax) - en(j, etay) - 3/2)*Lambda) / (gamma((1-i)/2)**2 * gamma((1-j)/2)**2 \\\n",
    "                       * gamma(1+i) * gamma(1+j) * gamma(5/4 - (E - en(i, etax) - en(j, etay))/2)) * sqrt(np.exp(2*Lambda) - 1)*\\\n",
    "                        hyp2f1(1, 3/4 - (E - en(i, etax) - en(j, etay))/2, 5/4 - (E - en(i, etax) - en(j, etay))/2, np.exp(-2*Lambda))\n",
    "    return (-1) * suma\n",
    "\n",
    "def B2_3D(nx, ny, etax, etay, E, Lambda):\n",
    "    suma = 0\n",
    "    for i in range(0, nx+1):\n",
    "        for j in range(0, ny+1):\n",
    "            if (en(i, etax) + en(j, etay) + 1/2 >= E) or ((i%2 != 0) and (j%2 != 0) and (en(i, etax) + en(j, etay) + 1/2 <= E)):\n",
    "                suma += 2**(i + j - 1) * (np.exp(2*Lambda) - 1) * hyp2f1(1, 3/4 - (E - en(i, etax) - en(j, etay))/2,\\\n",
    "                        5/4 - (E - en(i, etax) - en(j, etay))/2, np.exp(-2*Lambda)) / (gamma((1-i)/2)**2 * gamma((1-j)/2)**2 * gamma(1+i) * gamma(1+j) * (2*(E - en(i, etax) - en(j, etay)) - 1))\n",
    "    return sqrt(pi*etax*etay/np.sinh(Lambda)) * suma"
   ]
  },
  {
   "cell_type": "code",
   "execution_count": 8,
   "metadata": {
    "scrolled": true
   },
   "outputs": [
    {
     "name": "stderr",
     "output_type": "stream",
     "text": [
      "<ipython-input-6-06aa1d09168f>:9: RuntimeWarning: overflow encountered in exp\n",
      "  * gamma(1+i) * gamma(1+j) * gamma(5/4 - (E - en(i, etax) - en(j, etay))/2)) * sqrt(np.exp(2*Lambda) - 1)*\\\n",
      "<ipython-input-6-06aa1d09168f>:18: RuntimeWarning: overflow encountered in exp\n",
      "  suma += 2**(i + j - 1) * (np.exp(2*Lambda) - 1) * hyp2f1(1, 3/4 - (E - en(i, etax) - en(j, etay))/2,\\\n",
      "<ipython-input-6-06aa1d09168f>:18: RuntimeWarning: invalid value encountered in double_scalars\n",
      "  suma += 2**(i + j - 1) * (np.exp(2*Lambda) - 1) * hyp2f1(1, 3/4 - (E - en(i, etax) - en(j, etay))/2,\\\n"
     ]
    }
   ],
   "source": [
    "a3D = []\n",
    "A3D_list = []\n",
    "for e in E:\n",
    "    integral = 0\n",
    "    if e >= 1/2*(eta_x + eta_y + eta_z):\n",
    "        Lambda = 10/(e - Eo)\n",
    "        beta   = np.linspace(1e-6, Lambda, num=1000)\n",
    "        A3D    = - np.exp(np.float128(beta*e)) * np.sqrt(eta_x*eta_y*eta_z/((4*pi)**3*np.float128(np.sinh(eta_x*beta))*np.float128(np.sinh(eta_y*beta))*np.float128(np.sinh(eta_z*beta)))) + 1/(4*pi*beta)**(3/2)\n",
    "        integral = np.trapz(A3D)\n",
    "        A3D_list.append(integral)\n",
    "    else:\n",
    "        Lambda = 3\n",
    "        beta   = np.linspace(1e-6, Lambda, num=50000)\n",
    "        A3D    = - np.exp(beta*e) * np.sqrt(eta_x*eta_y*eta_z/((4*pi)**3*np.sinh(eta_x*beta)*np.sinh(eta_y*beta)*np.sinh(eta_z*beta))) + 1/(4*pi*beta)**(3/2)\n",
    "        integral = np.trapz(A3D)\n",
    "        A3D_list.append(integral)\n",
    "\n",
    "    J3D = sqrt(2)*4*pi*(integral + B1_3D(nx, ny, eta_x, eta_y, e, Lambda) + B2_3D(nx, ny, eta_x, eta_y, e, Lambda) + (1/(2*pi))**3/2 * 1/sqrt(2*Lambda))\n",
    "    a3D.append(1/J3D)\n",
    "E   = np.array(E)[~np.isnan(np.array(a3D))]\n",
    "a3D = np.array(a3D)[~np.isnan(np.array(a3D))]"
   ]
  },
  {
   "cell_type": "code",
   "execution_count": 9,
   "metadata": {},
   "outputs": [
    {
     "name": "stdout",
     "output_type": "stream",
     "text": [
      "1\n"
     ]
    },
    {
     "data": {
      "image/png": "[encoded data removed]",
      "text/plain": [
       "<Figure size 576x432 with 1 Axes>"
      ]
     },
     "metadata": {
      "needs_background": "light"
     },
     "output_type": "display_data"
    }
   ],
   "source": [
    "Spectrum, level = separate_levels(a3D, E)\n",
    "fig, ax = plt.subplots(figsize=(8,6))\n",
    "for i in range(1, level+1):\n",
    "    print(i)\n",
    "    ax.plot(Spectrum[f'a3D_n{i}'], Spectrum[f'E_n{i}'], 'C0')\n",
    "ax.set_xlabel(r'$a_{3D}/d_y$')\n",
    "ax.set_ylabel(r'$E/(\\hbar \\omega_z)$')\n",
    "#ax.set_xlim(-10, 10)\n",
    "ax.set_ylim(-7.5, 12)\n",
    "plt.grid()"
   ]
  },
  {
   "cell_type": "code",
   "execution_count": 10,
   "metadata": {},
   "outputs": [
    {
     "data": {
      "text/plain": [
       "[<matplotlib.lines.Line2D at 0x127f30f10>]"
      ]
     },
     "execution_count": 10,
     "metadata": {},
     "output_type": "execute_result"
    },
    {
     "data": {
      "image/png": "[encoded data removed]",
      "text/plain": [
       "<Figure size 432x288 with 1 Axes>"
      ]
     },
     "metadata": {
      "needs_background": "light"
     },
     "output_type": "display_data"
    }
   ],
   "source": [
    "plt.plot(Spectrum[f'a3D_n{i}'], Spectrum[f'E_n{i}'])"
   ]
  },
  {
   "cell_type": "code",
   "execution_count": 8,
   "metadata": {},
   "outputs": [],
   "source": [
    "Lambda = 10/(E - Eo)"
   ]
  },
  {
   "cell_type": "code",
   "execution_count": 10,
   "metadata": {},
   "outputs": [
    {
     "data": {
      "text/plain": [
       "array([2.40830046e-165, 4.90744380e-083, 1.34040763e-055, 7.00531498e-042,\n",
       "       1.19218083e-033, 3.66115777e-028, 3.04159597e-024, 2.64675556e-021,\n",
       "       5.11774878e-019, 3.45279717e-017, 1.08318084e-015, 1.91341521e-014,\n",
       "       2.17297468e-013, 1.74401719e-012, 1.06034545e-011, 5.14466282e-011,\n",
       "       2.07286594e-010, 7.15384427e-010, 2.16710278e-009, 5.87605069e-009,\n",
       "       1.44888475e-008, 3.29117128e-008, 6.96118335e-008, 1.38326252e-007,\n",
       "       2.60176715e-007, 4.66151766e-007, 7.99882732e-007, 1.32061243e-006,\n",
       "       2.10623713e-006, 3.25629460e-006, 4.89477352e-006, 7.17263050e-006,\n",
       "       1.02699183e-005, 1.43974510e-005, 1.97979537e-005, 2.67466713e-005,\n",
       "       3.55514276e-005, 4.65521512e-005, 6.01198962e-005, 7.66554022e-005,\n",
       "       9.65872436e-005, 1.20369629e-004, 1.48479908e-004, 1.81415856e-004,\n",
       "       2.19692784e-004, 2.63840546e-004, 3.14400484e-004, 3.71922374e-004,\n",
       "       4.36961401e-004, 5.10075206e-004, 5.91821046e-004, 6.82753078e-004,\n",
       "       7.83419795e-004, 8.94361634e-004, 1.01610876e-003, 1.14917902e-003,\n",
       "       1.29407616e-003, 1.45128809e-003, 1.62128552e-003, 1.80452060e-003,\n",
       "       2.00142592e-003, 2.21241351e-003, 2.43787414e-003, 2.67817671e-003,\n",
       "       2.93366780e-003, 3.20467133e-003, 3.49148843e-003, 3.79439731e-003,\n",
       "       4.11365334e-003, 4.44948915e-003, 4.80211487e-003, 5.17171841e-003,\n",
       "       5.55846584e-003, 5.96250179e-003, 6.38394998e-003, 6.82291369e-003,\n",
       "       7.27947634e-003, 7.75370210e-003, 8.24563650e-003, 8.75530709e-003,\n",
       "       9.28272405e-003, 9.82788093e-003, 1.03907553e-002, 1.09713093e-002,\n",
       "       1.15694907e-002, 1.21852332e-002, 1.28184571e-002, 1.34690703e-002,\n",
       "       1.41369688e-002, 1.48220371e-002, 1.55241493e-002, 1.62431692e-002,\n",
       "       1.69789515e-002, 1.77313419e-002, 1.85001778e-002, 1.92852891e-002,\n",
       "       2.00864984e-002, 2.09036217e-002, 2.17364690e-002, 2.25848446e-002,\n",
       "       2.34485476e-002, 2.43273724e-002, 2.52211091e-002, 2.61295442e-002,\n",
       "       2.70524603e-002, 2.79896373e-002, 2.89408522e-002, 2.99058796e-002,\n",
       "       3.08844922e-002, 3.18764609e-002, 3.28815551e-002, 3.38995431e-002,\n",
       "       3.49301925e-002, 3.59732701e-002, 3.70285422e-002, 3.80957753e-002,\n",
       "       3.91747356e-002, 4.02651899e-002, 4.13669052e-002, 4.24796493e-002,\n",
       "       4.36031907e-002, 4.47372989e-002, 4.58817447e-002, 4.70362999e-002,\n",
       "       4.82007377e-002, 4.93748331e-002, 5.05583623e-002, 5.17511035e-002,\n",
       "       5.29528367e-002, 5.41633437e-002, 5.53824083e-002, 5.66098165e-002,\n",
       "       5.78453564e-002, 5.90888181e-002, 6.03399942e-002, 6.15986795e-002,\n",
       "       6.28646710e-002, 6.41377685e-002, 6.54177737e-002, 6.67044913e-002,\n",
       "       6.79977280e-002, 6.92972934e-002, 7.06029994e-002, 7.19146606e-002,\n",
       "       7.32320941e-002, 7.45551194e-002, 7.58835590e-002, 7.72172377e-002,\n",
       "       7.85559828e-002, 7.98996244e-002, 8.12479952e-002, 8.26009303e-002,\n",
       "       8.39582675e-002, 8.53198473e-002, 8.66855124e-002, 8.80551083e-002,\n",
       "       8.94284831e-002, 9.08054872e-002, 9.21859736e-002, 9.35697979e-002,\n",
       "       9.49568180e-002, 9.63468944e-002, 9.77398897e-002, 9.91356693e-002,\n",
       "       1.00534101e-001, 1.01935054e-001, 1.03338402e-001, 1.04744018e-001,\n",
       "       1.06151780e-001, 1.07561567e-001, 1.08973261e-001, 1.10386744e-001,\n",
       "       1.11801903e-001, 1.13218625e-001, 1.14636802e-001, 1.16056324e-001,\n",
       "       1.17477087e-001, 1.18898986e-001, 1.20321920e-001, 1.21745789e-001,\n",
       "       1.23170496e-001, 1.24595944e-001, 1.26022040e-001, 1.27448692e-001,\n",
       "       1.28875810e-001, 1.30303306e-001, 1.31731092e-001, 1.33159085e-001,\n",
       "       1.34587201e-001, 1.36015359e-001, 1.37443479e-001, 1.38871484e-001,\n",
       "       1.40299297e-001, 1.41726844e-001, 1.43154052e-001, 1.44580848e-001,\n",
       "       1.46007164e-001, 1.47432931e-001, 1.48858081e-001])"
      ]
     },
     "execution_count": 10,
     "metadata": {},
     "output_type": "execute_result"
    }
   ],
   "source": [
    "np.exp(-2*Lambda)"
   ]
  },
  {
   "cell_type": "code",
   "execution_count": null,
   "metadata": {},
   "outputs": [],
   "source": []
  }
 ],
 "metadata": {
  "kernelspec": {
   "display_name": "Python 3",
   "language": "python",
   "name": "python3"
  },
  "language_info": {
   "codemirror_mode": {
    "name": "ipython",
    "version": 3
   },
   "file_extension": ".py",
   "mimetype": "text/x-python",
   "name": "python",
   "nbconvert_exporter": "python",
   "pygments_lexer": "ipython3",
   "version": "3.8.5"
  }
 },
 "nbformat": 4,
 "nbformat_minor": 4
}
