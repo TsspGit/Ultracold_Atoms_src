{
 "cells": [
  {
   "cell_type": "code",
   "execution_count": 2,
   "metadata": {},
   "outputs": [],
   "source": [
    "__author__ = 'T. Sánchez-Pastor'\n",
    "__date__   = '19 de Julio de 2021'\n",
    "# Modules\n",
    "import numpy as np\n",
    "import matplotlib.pyplot as plt\n",
    "from math import pi, sqrt\n",
    "from scipy.special import gamma, hyp2f1\n",
    "import os\n",
    "from numba import njit, prange\n",
    "from atomic_units import ao, vo, e, hbar, me, Eh, to"
   ]
  },
  {
   "cell_type": "markdown",
   "metadata": {},
   "source": [
    "The energy spectrum solution for a two identical-ultracold atoms in completely anisotropic traps is:\n",
    "\n",
    "$$J_{3D} = 4 \\pi \\left[ W_{3D}(E) + \\int^\\infty_0 d\\beta\\  I_{3D}(E, \\beta)\\right]$$\n",
    "\n",
    "with $J_{3D} = \\frac{1}{a_{3D}}$. The functions $W_{3D}$ and $I_{3D}$ are defined as follows:\n",
    "\n",
    "$$W_{3D} = -\\frac{\\pi}{2} \\sqrt{\\frac{\\eta_x \\eta_y \\eta_z}{2}} \\sum_{(n_x, n_y) \\in C^{3D}_E} \\left[ \\frac{2^{n_x+n_y-1} \\Gamma\\left(\\frac{1}{4} - \\frac{E - \\epsilon_{n_x} - \\epsilon_{n_y}}{2}\\right)}{\\Gamma \\left(\\frac{1-n_x}{2}\\right)^2 \\Gamma\\left(\\frac{1-n_y}{2}\\right)^2 \\Gamma\\left(n_x + 1\\right) \\Gamma\\left(n_y + 1\\right) \\Gamma\\left(\\frac{3}{4} - \\frac{E- \\epsilon_{n_x} - \\epsilon_{n_y}}{2}\\right)}    \\right],$$\n",
    "\n",
    "$$ I_{3D} = -e^{\\beta E} \\prod_{\\alpha=x,y,z}\\sqrt{\\frac{\\eta_\\alpha}{4\\pi \\sinh(\\eta_\\alpha\\beta)}} + \\left(\\frac{1}{4\\pi \\beta}\\right)^{3/2} + \\sqrt{\\frac{\\pi\\eta_x \\eta_z}{8\\sinh(\\beta)}} \\sum_{(n_x, n_y) \\in C^{3D}_E} \\left[ \\frac{2^{n_x + n_y - 1/2} e^{\\beta(E - \\epsilon_{n_x} - \\epsilon_{n_y})}}{\\Gamma \\left(\\frac{1-n_x}{2}\\right)^2 \\Gamma\\left(\\frac{1-n_y}{2}\\right)^2 \\Gamma\\left(n_x + 1\\right) \\Gamma\\left(n_y + 1\\right)} \\right]$$\n",
    "\n",
    "where, $\\epsilon_{n_j} = \\eta_j(n_j + 1/2)$, $\\eta_j$ the anisotropies with respect the constant axis and $C^{3D}_E : \\left\\{ (n_x, n_y)|n_{x,y} = 0, 2, 4, 6, ...; \\epsilon_{n_x} + \\epsilon_{n_y} + 1/2 \\leq E\\right\\}$.\n",
    "\n",
    "There are some techniques which may speed up the calculation for the function $J_{3D}$. First,\n",
    "$$J_{3D}(E) = 4\\pi\\left[ \\int^\\Lambda_0 A_{3D}d\\beta + B^{(1)}_{3D}(E, \\Lambda) + B^{(2)}_{3D}(E, \\Lambda + \\left(\\frac{1}{2\\pi} \\right)^{3/2}\\frac{1}{\\sqrt{2\\Lambda}}\\right]$$\n",
    "\n",
    "where $\\Lambda$ is an arbitrary finite positive number, and the functions are defined as\n",
    "\n",
    "$$A_{3D} = -e^{\\beta E}\\prod_\\alpha \\sqrt{\\frac{\\eta_\\alpha}{4\\pi \\sinh(\\eta_\\alpha \\beta)}} + \\left(\\frac{1}{4\\pi \\beta} \\right)^{3/2};$$\n",
    "\n",
    "$$B^{(1)}_{3D} = (-1) \\sum_{(n_x, n_y) \\in C^{3D}_E}\\left\\{ \\frac{2^{n_x + n_y - 5/2} \\sqrt{\\pi \\eta_x \\eta_z}\\ \\Gamma\\left(\\frac{1}{4} - \\frac{E - \\epsilon_{n_x} - \\epsilon_{n_y}}{2}\\right) e^{(E - \\epsilon_{n_x} - \\epsilon_{n_y} - 3/2)\\Lambda} }{\\Gamma \\left(\\frac{1-n_x}{2}\\right)^2 \\Gamma\\left(\\frac{1-n_y}{2}\\right)^2 \\Gamma\\left(n_x + 1\\right) \\Gamma\\left(n_y + 1\\right) \\Gamma\\left(\\frac{5}{4} - \\frac{E- \\epsilon_{n_x} - \\epsilon_{n_y}}{2}\\right)} \\\\ \\sqrt{e^{2\\Lambda} - 1} _2F^1 \\left[1, \\frac{3}{4} - \\frac{E- \\epsilon_{n_x} - \\epsilon_{n_y}}{2}, \\frac{5}{4} - \\frac{E- \\epsilon_{n_x} - \\epsilon_{n_y}}{2}, e^{-2\\Lambda} \\right] \\right\\}$$\n",
    "\n",
    "$$ B^{(2)}_{3D} = \\sqrt{\\pi \\eta_x \\eta_z cosch \\Lambda} \\sum_{(n_x, n_y) \\in C^{3D}_E} \\frac{2^{n_x + n_y - 1} e^{(E - \\epsilon_{n_x} - \\epsilon_{n_y} - 2)\\Lambda} (e^{2\\Lambda - 1}) _2F^1\\left[1, \\frac{3}{4} - \\frac{E- \\epsilon_{n_x} - \\epsilon_{n_y}}{2}, \\frac{5}{4} - \\frac{E- \\epsilon_{n_x} - \\epsilon_{n_y}}{2}, e^{-2\\Lambda} \\right] }{\\Gamma \\left(\\frac{1-n_x}{2}\\right)^2 \\Gamma\\left(\\frac{1-n_y}{2}\\right)^2 \\Gamma\\left(n_x + 1\\right) \\Gamma\\left(n_y + 1\\right) [2(E - \\epsilon_{n_x} - \\epsilon_{n_y}) - 1]} $$"
   ]
  },
  {
   "cell_type": "code",
   "execution_count": 8,
   "metadata": {},
   "outputs": [],
   "source": [
    "# Parameters:\n",
    "eta_x  = 1\n",
    "eta_y  = 1\n",
    "eta_z  = 0.1\n",
    "nx     = 0\n",
    "ny     = 0\n",
    "nz     = 0\n",
    "E      = -0.7660728376220698"
   ]
  },
  {
   "cell_type": "code",
   "execution_count": 9,
   "metadata": {},
   "outputs": [],
   "source": [
    "# Functions:\n",
    "def en(n, eta):\n",
    "    return eta*(n + 1/2)\n",
    "\n",
    "def A3D_int(a, b, h, eta_x, eta_y, eta_z, E):\n",
    "    '''\n",
    "    Chen et al. (2020)\n",
    "    Parameters:\n",
    "    -----------\n",
    "    a:     left limit of the X-axis\n",
    "    b:     right limit of the X-axis\n",
    "    h:     step size\n",
    "    nj:    levels\n",
    "    eta_j: wj/wy\n",
    "    E:     energy\n",
    "    Lambda:cutoff\n",
    "    \n",
    "    Outputs:\n",
    "    --------\n",
    "    Value of the integral applying the trapezoidal integration method: step * f(t)\n",
    "    '''\n",
    "    out = 0\n",
    "    N = int((2*b-2*a)/h)\n",
    "    beta = np.arange(2*a, 2*b, h)\n",
    "    for j in prange(N):\n",
    "        out += -np.exp(beta[j]*E) * np.sqrt(eta_x*eta_y*eta_z/((4*pi)**3*np.sinh(eta_x*beta[j])*np.sinh(eta_y*beta[j])*np.sinh(eta_z*beta[j])))\\\n",
    "        + 1/(4*pi*beta[j])**(3/2)\n",
    "    out*=h\n",
    "    return out\n",
    "\n",
    "def en(n, eta):\n",
    "    return eta*(n + 1/2)\n",
    "\n",
    "def W3D(nx, ny, nz, etax, etay, etaz, E):\n",
    "    suma = 0\n",
    "    for i in range(0, nx+1):\n",
    "        for j in range(0, ny+1):\n",
    "            if i%2==0 and j%2==0 and en(i, etax) + en(j, etay) + 1/2 <= E:\n",
    "                suma += 2**(i + j - 1)*gamma(1/4 - (E - en(i, etax) - en(j, etay))/2)/\\\n",
    "                (gamma((1-i)/2)**2 * gamma((1-j)/2)**2 * gamma(1+i) * gamma(1+j) *\\\n",
    "                 gamma(3/4 - (E - en(i, etax) - en(j, etay))/2))\n",
    "    return -pi/2 * sqrt(etax*etay*etaz/2) * suma\n",
    "\n",
    "def B1_3D(nx, ny, nz, etax, etay, etaz, E, Lambda):\n",
    "    suma = 0\n",
    "    for i in range(0, nx+1):\n",
    "        for j in range(0, ny+1):\n",
    "            if i%2==0 and j%2==0 and en(i, etax) + en(j, etay) + 1/2 <= E:\n",
    "                suma += 2**(i + j - 5/2) * sqrt(pi*etax*etay) * gamma(1/4 - (E - en(i, etax) - en(j, etay))/2) *\\\n",
    "                np.exp((E - en(i, etax) - en(j, etay) - 3/2)*Lambda) / (gamma((1-i)/2)**2 * gamma((1-j)/2)**2 *\\\n",
    "                gamma(1+i) * gamma(1+j) * gamma(5/4 - (E - en(i, etax) - en(j, etay))/2)) * sqrt(np.exp(2*Lambda) - 1) *\\\n",
    "                hyp2f1(1, 3/4 - (E - en(i, etax) - en(j, etay))/2, 5/4 - (E - en(i, etax) - en(j, eta_y))/2, np.exp(-2*Lambda))\n",
    "    return (-1) * suma\n",
    "\n",
    "def B2_3D(nx, ny, nz, etax, etay, etaz, E, Lambda):\n",
    "    suma = 0\n",
    "    for i in range(0, nx+1):\n",
    "        for j in range(0, ny+1):\n",
    "            if i%2==0 and j%2==0 and en(i, etax) + en(j, etay) + 1/2 <= E:\n",
    "                suma += 2**(i + j - 1) * (np.exp(2*Lambda) - 1) * hyp2f1(1, 3/4 - (E - en(i, etax) - en(j, etay))/2,                5/4 - (E - en(i, etax) - en(j, etay))/2, np.exp(-2*Lambda)) / (gamma((1-i)/2)**2 * gamma((1-j)/2)**2 * gamma(1+i) * gamma(1+j) * (2*(E - en(i, etax) - en(j, etay)) - 1))\n",
    "    return sqrt(pi*etax*etay/np.sinh(Lambda)) * suma"
   ]
  },
  {
   "cell_type": "code",
   "execution_count": 10,
   "metadata": {},
   "outputs": [],
   "source": [
    "# Integration\n",
    "h        = 1e-6\n",
    "a        = h*1e-3 \n",
    "b        = h*1e4"
   ]
  },
  {
   "cell_type": "code",
   "execution_count": 11,
   "metadata": {
    "scrolled": true
   },
   "outputs": [
    {
     "name": "stdout",
     "output_type": "stream",
     "text": [
      "\n",
      "          1th integral\n",
      "          ----------------\n",
      "          a:    2e-09\n",
      "          b:    0.02   \n",
      "          step: 1e-09        \n",
      "          N:    19999998\n",
      "    \n"
     ]
    },
    {
     "ename": "KeyboardInterrupt",
     "evalue": "",
     "output_type": "error",
     "traceback": [
      "\u001b[0;31m-----------------------------------------------------------------\u001b[0m",
      "\u001b[0;31mKeyboardInterrupt\u001b[0m               Traceback (most recent call last)",
      "\u001b[0;32m<ipython-input-11-1507355b5a99>\u001b[0m in \u001b[0;36m<module>\u001b[0;34m\u001b[0m\n\u001b[1;32m      9\u001b[0m           \u001b[0mN\u001b[0m\u001b[0;34m:\u001b[0m    \u001b[0;34m{\u001b[0m\u001b[0mint\u001b[0m\u001b[0;34m(\u001b[0m\u001b[0;34m(\u001b[0m\u001b[0;36m2\u001b[0m\u001b[0;34m*\u001b[0m\u001b[0mb\u001b[0m\u001b[0;34m-\u001b[0m\u001b[0;36m2\u001b[0m\u001b[0;34m*\u001b[0m\u001b[0ma\u001b[0m\u001b[0;34m)\u001b[0m\u001b[0;34m/\u001b[0m\u001b[0;34m(\u001b[0m\u001b[0mh\u001b[0m\u001b[0;34m*\u001b[0m\u001b[0;36m10\u001b[0m\u001b[0;34m**\u001b[0m\u001b[0;34m(\u001b[0m\u001b[0;34m-\u001b[0m\u001b[0;36m3\u001b[0m\u001b[0;34m+\u001b[0m\u001b[0mi\u001b[0m\u001b[0;34m)\u001b[0m\u001b[0;34m)\u001b[0m\u001b[0;34m)\u001b[0m\u001b[0;34m}\u001b[0m\u001b[0;34m\u001b[0m\u001b[0;34m\u001b[0m\u001b[0m\n\u001b[1;32m     10\u001b[0m     ''')\n\u001b[0;32m---> 11\u001b[0;31m     \u001b[0mintegral\u001b[0m \u001b[0;34m+=\u001b[0m \u001b[0mA3D_int\u001b[0m\u001b[0;34m(\u001b[0m\u001b[0ma\u001b[0m\u001b[0;34m,\u001b[0m \u001b[0mb\u001b[0m\u001b[0;34m,\u001b[0m \u001b[0mh\u001b[0m\u001b[0;34m*\u001b[0m\u001b[0;36m10\u001b[0m\u001b[0;34m**\u001b[0m\u001b[0;34m(\u001b[0m\u001b[0;34m-\u001b[0m\u001b[0;36m3\u001b[0m\u001b[0;34m+\u001b[0m\u001b[0mi\u001b[0m\u001b[0;34m)\u001b[0m\u001b[0;34m,\u001b[0m \u001b[0meta_x\u001b[0m\u001b[0;34m,\u001b[0m \u001b[0meta_y\u001b[0m\u001b[0;34m,\u001b[0m \u001b[0meta_z\u001b[0m\u001b[0;34m,\u001b[0m \u001b[0mE\u001b[0m\u001b[0;34m)\u001b[0m\u001b[0;34m\u001b[0m\u001b[0;34m\u001b[0m\u001b[0m\n\u001b[0m\u001b[1;32m     12\u001b[0m     \u001b[0mprint\u001b[0m\u001b[0;34m(\u001b[0m\u001b[0;34m'\\nDone!\\n'\u001b[0m\u001b[0;34m)\u001b[0m\u001b[0;34m\u001b[0m\u001b[0;34m\u001b[0m\u001b[0m\n\u001b[1;32m     13\u001b[0m     \u001b[0ma\u001b[0m \u001b[0;34m=\u001b[0m \u001b[0mb\u001b[0m\u001b[0;34m\u001b[0m\u001b[0;34m\u001b[0m\u001b[0m\n",
      "\u001b[0;32m<ipython-input-9-941f91e4dfc3>\u001b[0m in \u001b[0;36mA3D_int\u001b[0;34m(a, b, h, eta_x, eta_y, eta_z, E)\u001b[0m\n\u001b[1;32m     24\u001b[0m     \u001b[0mbeta\u001b[0m \u001b[0;34m=\u001b[0m \u001b[0mnp\u001b[0m\u001b[0;34m.\u001b[0m\u001b[0marange\u001b[0m\u001b[0;34m(\u001b[0m\u001b[0;36m2\u001b[0m\u001b[0;34m*\u001b[0m\u001b[0ma\u001b[0m\u001b[0;34m,\u001b[0m \u001b[0;36m2\u001b[0m\u001b[0;34m*\u001b[0m\u001b[0mb\u001b[0m\u001b[0;34m,\u001b[0m \u001b[0mh\u001b[0m\u001b[0;34m)\u001b[0m\u001b[0;34m\u001b[0m\u001b[0;34m\u001b[0m\u001b[0m\n\u001b[1;32m     25\u001b[0m     \u001b[0;32mfor\u001b[0m \u001b[0mj\u001b[0m \u001b[0;32min\u001b[0m \u001b[0mprange\u001b[0m\u001b[0;34m(\u001b[0m\u001b[0mN\u001b[0m\u001b[0;34m)\u001b[0m\u001b[0;34m:\u001b[0m\u001b[0;34m\u001b[0m\u001b[0;34m\u001b[0m\u001b[0m\n\u001b[0;32m---> 26\u001b[0;31m         \u001b[0mout\u001b[0m \u001b[0;34m+=\u001b[0m \u001b[0;34m-\u001b[0m\u001b[0mnp\u001b[0m\u001b[0;34m.\u001b[0m\u001b[0mexp\u001b[0m\u001b[0;34m(\u001b[0m\u001b[0mbeta\u001b[0m\u001b[0;34m[\u001b[0m\u001b[0mj\u001b[0m\u001b[0;34m]\u001b[0m\u001b[0;34m*\u001b[0m\u001b[0mE\u001b[0m\u001b[0;34m)\u001b[0m \u001b[0;34m*\u001b[0m \u001b[0mnp\u001b[0m\u001b[0;34m.\u001b[0m\u001b[0msqrt\u001b[0m\u001b[0;34m(\u001b[0m\u001b[0meta_x\u001b[0m\u001b[0;34m*\u001b[0m\u001b[0meta_y\u001b[0m\u001b[0;34m*\u001b[0m\u001b[0meta_z\u001b[0m\u001b[0;34m/\u001b[0m\u001b[0;34m(\u001b[0m\u001b[0;34m(\u001b[0m\u001b[0;36m4\u001b[0m\u001b[0;34m*\u001b[0m\u001b[0mpi\u001b[0m\u001b[0;34m)\u001b[0m\u001b[0;34m**\u001b[0m\u001b[0;36m3\u001b[0m\u001b[0;34m*\u001b[0m\u001b[0mnp\u001b[0m\u001b[0;34m.\u001b[0m\u001b[0msinh\u001b[0m\u001b[0;34m(\u001b[0m\u001b[0meta_x\u001b[0m\u001b[0;34m*\u001b[0m\u001b[0mbeta\u001b[0m\u001b[0;34m[\u001b[0m\u001b[0mj\u001b[0m\u001b[0;34m]\u001b[0m\u001b[0;34m)\u001b[0m\u001b[0;34m*\u001b[0m\u001b[0mnp\u001b[0m\u001b[0;34m.\u001b[0m\u001b[0msinh\u001b[0m\u001b[0;34m(\u001b[0m\u001b[0meta_y\u001b[0m\u001b[0;34m*\u001b[0m\u001b[0mbeta\u001b[0m\u001b[0;34m[\u001b[0m\u001b[0mj\u001b[0m\u001b[0;34m]\u001b[0m\u001b[0;34m)\u001b[0m\u001b[0;34m*\u001b[0m\u001b[0mnp\u001b[0m\u001b[0;34m.\u001b[0m\u001b[0msinh\u001b[0m\u001b[0;34m(\u001b[0m\u001b[0meta_z\u001b[0m\u001b[0;34m*\u001b[0m\u001b[0mbeta\u001b[0m\u001b[0;34m[\u001b[0m\u001b[0mj\u001b[0m\u001b[0;34m]\u001b[0m\u001b[0;34m)\u001b[0m\u001b[0;34m)\u001b[0m\u001b[0;34m)\u001b[0m\u001b[0;31m\\\u001b[0m\u001b[0;34m\u001b[0m\u001b[0;34m\u001b[0m\u001b[0m\n\u001b[0m\u001b[1;32m     27\u001b[0m         \u001b[0;34m+\u001b[0m \u001b[0;36m1\u001b[0m\u001b[0;34m/\u001b[0m\u001b[0;34m(\u001b[0m\u001b[0;36m4\u001b[0m\u001b[0;34m*\u001b[0m\u001b[0mpi\u001b[0m\u001b[0;34m*\u001b[0m\u001b[0mbeta\u001b[0m\u001b[0;34m[\u001b[0m\u001b[0mj\u001b[0m\u001b[0;34m]\u001b[0m\u001b[0;34m)\u001b[0m\u001b[0;34m**\u001b[0m\u001b[0;34m(\u001b[0m\u001b[0;36m3\u001b[0m\u001b[0;34m/\u001b[0m\u001b[0;36m2\u001b[0m\u001b[0;34m)\u001b[0m\u001b[0;34m\u001b[0m\u001b[0;34m\u001b[0m\u001b[0m\n\u001b[1;32m     28\u001b[0m     \u001b[0mout\u001b[0m\u001b[0;34m*=\u001b[0m\u001b[0mh\u001b[0m\u001b[0;34m\u001b[0m\u001b[0;34m\u001b[0m\u001b[0m\n",
      "\u001b[0;31mKeyboardInterrupt\u001b[0m: "
     ]
    }
   ],
   "source": [
    "integral = 0\n",
    "for i in range(0, 7):\n",
    "    print(f'''\n",
    "          {i+1}th integral\n",
    "          ----------------\n",
    "          a:    {2*a}\n",
    "          b:    {2*b}   \n",
    "          step: {h*10**(-3+i)}        \n",
    "          N:    {int((2*b-2*a)/(h*10**(-3+i)))}\n",
    "    ''')\n",
    "    integral += A3D_int(a, b, h*10**(-3+i), eta_x, eta_y, eta_z, E)\n",
    "    print('\\nDone!\\n')\n",
    "    a = b\n",
    "    b *= 10\n",
    "print(10*'-' + '\\nBingo !' )\n",
    "a3D = 4*pi*(integral + B1_3D(nx, ny, nz, eta_x, eta_y, eta_z, E, Lambda) + B2_3D(nx, ny, nz, eta_x, eta_y, eta_z, E, Lambda) + \\\n",
    "            (1/(2*pi))**3/2 * 1/sqrt(2*Lambda))\n",
    "print(f\"\"\"     \n",
    "               Results\n",
    "        ---------------------\n",
    "        asc/dy: {a3D}\n",
    "\"\"\")"
   ]
  },
  {
   "cell_type": "code",
   "execution_count": null,
   "metadata": {},
   "outputs": [],
   "source": []
  }
 ],
 "metadata": {
  "kernelspec": {
   "display_name": "Python 3",
   "language": "python",
   "name": "python3"
  },
  "language_info": {
   "codemirror_mode": {
    "name": "ipython",
    "version": 3
   },
   "file_extension": ".py",
   "mimetype": "text/x-python",
   "name": "python",
   "nbconvert_exporter": "python",
   "pygments_lexer": "ipython3",
   "version": "3.8.5"
  }
 },
 "nbformat": 4,
 "nbformat_minor": 4
}
