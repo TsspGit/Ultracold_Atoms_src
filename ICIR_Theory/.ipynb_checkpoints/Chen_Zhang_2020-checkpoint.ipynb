{
 "cells": [
  {
   "cell_type": "code",
   "execution_count": 66,
   "metadata": {},
   "outputs": [],
   "source": [
    "__author__ = 'T. Sánchez-Pastor'\n",
    "__date__   = '19 de Julio de 2021'\n",
    "# Modules\n",
    "import numpy as np\n",
    "import matplotlib.pyplot as plt\n",
    "from math import pi, factorial\n",
    "#from mpmath import hyp2f1\n",
    "from numpy import sqrt\n",
    "from scipy.special import gamma, hyp2f1, poch\n",
    "import os\n",
    "from numba import njit, prange\n",
    "from atomic_units import ao, vo, e, hbar, me, Eh, to\n",
    "from utils import A3D_int, B1_3D, B2_3D, separate_levels, en"
   ]
  },
  {
   "cell_type": "markdown",
   "metadata": {},
   "source": [
    "The energy spectrum solution for a two identical-ultracold atoms in completely anisotropic traps is:\n",
    "\n",
    "$$J_{3D} = 4 \\pi \\left[ W_{3D}(E) + \\int^\\infty_0 d\\beta\\  I_{3D}(E, \\beta)\\right]$$\n",
    "\n",
    "with $J_{3D} = \\frac{1}{a_{3D}}$. The functions $W_{3D}$ and $I_{3D}$ are defined as follows:\n",
    "\n",
    "$$W_{3D} = -\\frac{\\pi}{2} \\sqrt{\\frac{\\eta_x \\eta_y \\eta_z}{2}} \\sum_{(n_x, n_y) \\in C^{3D}_E} \\left[ \\frac{2^{n_x+n_y-1} \\Gamma\\left(\\frac{1}{4} - \\frac{E - \\epsilon_{n_x} - \\epsilon_{n_y}}{2}\\right)}{\\Gamma \\left(\\frac{1-n_x}{2}\\right)^2 \\Gamma\\left(\\frac{1-n_y}{2}\\right)^2 \\Gamma\\left(n_x + 1\\right) \\Gamma\\left(n_y + 1\\right) \\Gamma\\left(\\frac{3}{4} - \\frac{E- \\epsilon_{n_x} - \\epsilon_{n_y}}{2}\\right)}    \\right],$$\n",
    "\n",
    "$$ I_{3D} = -e^{\\beta E} \\prod_{\\alpha=x,y,z}\\sqrt{\\frac{\\eta_\\alpha}{4\\pi \\sinh(\\eta_\\alpha\\beta)}} + \\left(\\frac{1}{4\\pi \\beta}\\right)^{3/2} + \\sqrt{\\frac{\\pi\\eta_x \\eta_z}{8\\sinh(\\beta)}} \\sum_{(n_x, n_y) \\in C^{3D}_E} \\left[ \\frac{2^{n_x + n_y - 1/2} e^{\\beta(E - \\epsilon_{n_x} - \\epsilon_{n_y})}}{\\Gamma \\left(\\frac{1-n_x}{2}\\right)^2 \\Gamma\\left(\\frac{1-n_y}{2}\\right)^2 \\Gamma\\left(n_x + 1\\right) \\Gamma\\left(n_y + 1\\right)} \\right]$$\n",
    "\n",
    "where, $\\epsilon_{n_j} = \\eta_j(n_j + 1/2)$, $\\eta_j$ the anisotropies with respect the constant axis and $C^{3D}_E : \\left\\{ (n_x, n_y)|n_{x,y} = 0, 2, 4, 6, ...; \\epsilon_{n_x} + \\epsilon_{n_y} + 1/2 \\leq E\\right\\}$.\n",
    "\n",
    "There are some techniques which may speed up the calculation for the function $J_{3D}$. First,\n",
    "$$J_{3D}(E) = 4\\pi\\left[ \\int^\\Lambda_0 A_{3D}d\\beta + B^{(1)}_{3D}(E, \\Lambda) + B^{(2)}_{3D}(E, \\Lambda + \\left(\\frac{1}{2\\pi} \\right)^{3/2}\\frac{1}{\\sqrt{2\\Lambda}}\\right]$$\n",
    "\n",
    "where $\\Lambda$ is an arbitrary finite positive number, and the functions are defined as\n",
    "\n",
    "$$A_{3D} = -e^{\\beta E}\\prod_\\alpha \\sqrt{\\frac{\\eta_\\alpha}{4\\pi \\sinh(\\eta_\\alpha \\beta)}} + \\left(\\frac{1}{4\\pi \\beta} \\right)^{3/2};$$\n",
    "\n",
    "$$B^{(1)}_{3D} = (-1) \\sum_{(n_x, n_y) \\in C^{3D}_E}\\left\\{ \\frac{2^{n_x + n_y - 5/2} \\sqrt{\\pi \\eta_x \\eta_z}\\ \\Gamma\\left(\\frac{1}{4} - \\frac{E - \\epsilon_{n_x} - \\epsilon_{n_y}}{2}\\right) e^{(E - \\epsilon_{n_x} - \\epsilon_{n_y} - 3/2)\\Lambda} }{\\Gamma \\left(\\frac{1-n_x}{2}\\right)^2 \\Gamma\\left(\\frac{1-n_y}{2}\\right)^2 \\Gamma\\left(n_x + 1\\right) \\Gamma\\left(n_y + 1\\right) \\Gamma\\left(\\frac{5}{4} - \\frac{E- \\epsilon_{n_x} - \\epsilon_{n_y}}{2}\\right)} \\\\ \\sqrt{e^{2\\Lambda} - 1} _2F^1 \\left[1, \\frac{3}{4} - \\frac{E- \\epsilon_{n_x} - \\epsilon_{n_y}}{2}, \\frac{5}{4} - \\frac{E- \\epsilon_{n_x} - \\epsilon_{n_y}}{2}, e^{-2\\Lambda} \\right] \\right\\}$$\n",
    "\n",
    "$$ B^{(2)}_{3D} = \\sqrt{\\pi \\eta_x \\eta_z cosch \\Lambda} \\sum_{(n_x, n_y) \\in C^{3D}_E} \\frac{2^{n_x + n_y - 1} e^{(E - \\epsilon_{n_x} - \\epsilon_{n_y} - 2)\\Lambda} (e^{2\\Lambda - 1}) _2F^1\\left[1, \\frac{3}{4} - \\frac{E- \\epsilon_{n_x} - \\epsilon_{n_y}}{2}, \\frac{5}{4} - \\frac{E- \\epsilon_{n_x} - \\epsilon_{n_y}}{2}, e^{-2\\Lambda} \\right] }{\\Gamma \\left(\\frac{1-n_x}{2}\\right)^2 \\Gamma\\left(\\frac{1-n_y}{2}\\right)^2 \\Gamma\\left(n_x + 1\\right) \\Gamma\\left(n_y + 1\\right) [2(E - \\epsilon_{n_x} - \\epsilon_{n_y}) - 1]} $$"
   ]
  },
  {
   "cell_type": "code",
   "execution_count": 84,
   "metadata": {},
   "outputs": [],
   "source": [
    "# Parameters:\n",
    "eta_x  = 1\n",
    "eta_y  = 1\n",
    "eta_z  = 1\n",
    "nx     = 50\n",
    "ny     = 50\n",
    "nz     = 0\n",
    "Eo = 1/2*(eta_x + eta_y + eta_z)\n",
    "E      = np.linspace(-7.5, 1.4, num=200)"
   ]
  },
  {
   "cell_type": "code",
   "execution_count": 85,
   "metadata": {},
   "outputs": [],
   "source": [
    "def B1_3D(nx, ny, nz, etax, etay, etaz, E, Lambda):\n",
    "    #np.seterr('raise')\n",
    "    suma = 0\n",
    "    for i in range(0, nx+1):\n",
    "        for j in range(0, ny+1):\n",
    "            if i%2==0 and j%2==0 and en(i, etax) + en(j, etay) + 1/2 <= E:\n",
    "                suma += 2**(i + j - 5/2) * sqrt(pi*etax*etay) * gamma(1/4 - (E - en(i, etax) - en(j, etay))/2) *\\\n",
    "                       np.exp((E - en(i, etax) - en(j, etay) - 3/2)*Lambda) / (gamma((1-i)/2)**2 * gamma((1-j)/2)**2 \\\n",
    "                       * gamma(1+i) * gamma(1+j) * gamma(5/4 - (E - en(i, etax) - en(j, etay))/2)) * sqrt(np.exp(2*Lambda) - 1)*\\\n",
    "                        hyp2f1(1, 3/4 - (E - en(i, etax) - en(j, etay))/2, 5/4 - (E - en(i, etax) - en(j, etay))/2, np.exp(-2*Lambda))\n",
    "    return (-1) * suma\n",
    "\n",
    "def B2_3D(nx, ny, nz, etax, etay, etaz, E, Lambda):\n",
    "    suma = 0\n",
    "    for i in range(0, nx+1):\n",
    "        for j in range(0, ny+1):\n",
    "            if en(i, etax) + en(j, etay) + 1/2 >= E:\n",
    "                suma += 2**(i + j - 1) * (np.exp(2*Lambda) - 1) * hyp2f1(1, 3/4 - (E - en(i, etax) - en(j, etay))/2,\\\n",
    "                        5/4 - (E - en(i, etax) - en(j, etay))/2, np.exp(-2*Lambda)) / (gamma((1-i)/2)**2 * gamma((1-j)/2)**2 * gamma(1+i) * gamma(1+j) * (2*(E - en(i, etax) - en(j, etay)) - 1))\n",
    "    return sqrt(pi*etax*etay/np.sinh(Lambda)) * suma"
   ]
  },
  {
   "cell_type": "code",
   "execution_count": 86,
   "metadata": {},
   "outputs": [],
   "source": [
    "a3D = []\n",
    "A3D_list = []\n",
    "for e in E:\n",
    "    integral = 0\n",
    "    if e>=1/2*(eta_x + eta_y + eta_z):\n",
    "        Lambda = np.float128(10/(2*e - Eo))\n",
    "        beta   = np.linspace(1e-6, Lambda, num=1000, dtype=np.float128)\n",
    "        A3D    = - np.exp(np.float128(beta*e)) * np.sqrt(eta_x*eta_y*eta_z/((4*pi)**3*np.float128(np.sinh(eta_x*beta))*np.float128(np.sinh(eta_y*beta))*np.float128(np.sinh(eta_z*beta)))) + 1/(4*pi*beta)**(3/2)\n",
    "        integral = np.trapz(A3D)\n",
    "        A3D_list.append(integral)\n",
    "    else:\n",
    "        Lambda = 3\n",
    "        beta   = np.linspace(1e-6, Lambda, num=50000)\n",
    "        A3D    = - np.exp(beta*e) * np.sqrt(eta_x*eta_y*eta_z/((4*pi)**3*np.sinh(eta_x*beta)*np.sinh(eta_y*beta)*np.sinh(eta_z*beta))) + 1/(4*pi*beta)**(3/2)\n",
    "        integral = np.trapz(A3D)\n",
    "        A3D_list.append(integral)\n",
    "\n",
    "    J3D = sqrt(2)*4*pi*(integral + B1_3D(nx, ny, nz, eta_x, eta_y, eta_z, e, Lambda) + B2_3D(nx, ny, nz, eta_x, eta_y, eta_z, e, Lambda) + (1/(2*pi))**3/2 * 1/sqrt(2*Lambda))\n",
    "    a3D.append(1/J3D)"
   ]
  },
  {
   "cell_type": "code",
   "execution_count": 87,
   "metadata": {},
   "outputs": [
    {
     "data": {
      "image/png": "[encoded data removed]",
      "text/plain": [
       "<Figure size 576x432 with 1 Axes>"
      ]
     },
     "metadata": {
      "needs_background": "light"
     },
     "output_type": "display_data"
    }
   ],
   "source": [
    "Spectrum, level = separate_levels(a3D, E)\n",
    "fig, ax = plt.subplots(figsize=(8,6))\n",
    "for i in range(1, level+1):\n",
    "    plt.plot(Spectrum[f'a3D_n{i}'], Spectrum[f'E_n{i}'], 'C0')\n",
    "ax.set_xlabel(r'$a_{3D}/d_y$')\n",
    "ax.set_ylabel(r'$E/(\\hbar \\omega_z)$')\n",
    "#ax.set_xlim(-10, 10)\n",
    "ax.set_ylim(-7.5, 12)\n",
    "plt.grid()\n",
    "plt.show()"
   ]
  },
  {
   "cell_type": "code",
   "execution_count": 18,
   "metadata": {},
   "outputs": [
    {
     "name": "stderr",
     "output_type": "stream",
     "text": [
      "<ipython-input-18-9ec9694a1f0f>:2: RuntimeWarning: overflow encountered in exp\n",
      "  np.exp(-2*Lambda).min()\n"
     ]
    },
    {
     "data": {
      "text/plain": [
       "0.0"
      ]
     },
     "execution_count": 18,
     "metadata": {},
     "output_type": "execute_result"
    }
   ],
   "source": [
    "Lambda = 10/(E-Eo)\n",
    "np.exp(-2*Lambda).min()"
   ]
  }
 ],
 "metadata": {
  "kernelspec": {
   "display_name": "Python 3",
   "language": "python",
   "name": "python3"
  },
  "language_info": {
   "codemirror_mode": {
    "name": "ipython",
    "version": 3
   },
   "file_extension": ".py",
   "mimetype": "text/x-python",
   "name": "python",
   "nbconvert_exporter": "python",
   "pygments_lexer": "ipython3",
   "version": "3.8.5"
  }
 },
 "nbformat": 4,
 "nbformat_minor": 4
}
