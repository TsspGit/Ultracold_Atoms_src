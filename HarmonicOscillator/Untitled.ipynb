{
 "cells": [
  {
   "cell_type": "code",
   "execution_count": 121,
   "id": "d3a22fdf",
   "metadata": {},
   "outputs": [],
   "source": [
    "__author__ = \"Tomás Sánchez Sánchez-Pastor\"\n",
    "__date__   = \"27/09/2021\"\n",
    "import sympy as sp\n",
    "from sympy import diff as D\n",
    "from sympy import Eq as Eq\n",
    "from sympy.abc import a, b, c, n\n",
    "from sympy import pi, exp, sqrt, gamma, sinh\n",
    "import numpy as np"
   ]
  },
  {
   "cell_type": "code",
   "execution_count": 122,
   "id": "32b5e64a",
   "metadata": {},
   "outputs": [],
   "source": [
    "etax, etay, nx, ny, E, enx, eny, b, L = sp.symbols('\\\\eta_x, \\\\eta_y, n_x, n_y, E, \\\\epsilon_{nx}, \\\\epsilon_{ny}, \\\\beta, \\\\Lambda')"
   ]
  },
  {
   "cell_type": "code",
   "execution_count": 123,
   "id": "0ab8da98",
   "metadata": {},
   "outputs": [
    {
     "data": {
      "text/latex": [
       "$\\displaystyle - \\frac{\\sqrt{2} \\pi \\sqrt{\\eta_{x} \\eta_{y}} \\sum_{\\substack{0 \\leq n_{x} \\leq \\infty\\\\0 \\leq n_{y} \\leq \\infty}} \\frac{2^{n_{x} + n_{y} - 1} \\Gamma\\left(- \\frac{E}{2} + \\frac{\\epsilon_{nx}}{2} + \\frac{\\epsilon_{ny}}{2} + 0.25\\right)}{\\Gamma^{2}\\left(0.5 - \\frac{n_{x}}{2}\\right) \\Gamma^{2}\\left(0.5 - \\frac{n_{y}}{2}\\right) \\Gamma\\left(n_{x} + 1\\right) \\Gamma\\left(n_{y} + 1\\right) \\Gamma\\left(- \\frac{E}{2} + \\frac{\\epsilon_{nx}}{2} + \\frac{\\epsilon_{ny}}{2} + 0.75\\right)}}{4}$"
      ],
      "text/plain": [
       "-sqrt(2)*pi*sqrt(\\eta_x*\\eta_y)*Sum(2**(n_x + n_y - 1)*gamma(-E/2 + \\epsilon_{nx}/2 + \\epsilon_{ny}/2 + 0.25)/(gamma(0.5 - n_x/2)**2*gamma(0.5 - n_y/2)**2*gamma(n_x + 1)*gamma(n_y + 1)*gamma(-E/2 + \\epsilon_{nx}/2 + \\epsilon_{ny}/2 + 0.75)), (n_x, 0, oo), (n_y, 0, oo))/4"
      ]
     },
     "execution_count": 123,
     "metadata": {},
     "output_type": "execute_result"
    }
   ],
   "source": [
    "W3D = -pi/2 * sqrt(etax*etay/2)*sp.Sum(sp.Sum(2**(nx+ny-1) * gamma(1/4 - (E-enx-eny)/2)/(gamma(1/2-nx/2)**2\\\n",
    "                                       *gamma(1/2-ny/2)**2*gamma(nx+1)*gamma(ny+1)*gamma(3/4 - (E-enx-eny)/2)),\\\n",
    "                                              (nx, 0, sp.oo)), (ny, 0, sp.oo))\n",
    "W3D"
   ]
  },
  {
   "cell_type": "code",
   "execution_count": 124,
   "id": "d9b6bfe8",
   "metadata": {},
   "outputs": [
    {
     "data": {
      "text/latex": [
       "$\\displaystyle \\frac{0.125}{\\pi^{1.5} \\beta^{1.5}} - \\frac{\\sqrt{\\frac{\\eta_{x} \\eta_{y}}{\\sinh{\\left(\\beta \\right)} \\sinh{\\left(\\beta \\eta_{x} \\right)} \\sinh{\\left(\\beta \\eta_{y} \\right)}}} e^{E \\beta}}{8 \\pi^{\\frac{3}{2}}}$"
      ],
      "text/plain": [
       "0.125*pi**(-1.5)*\\beta**(-1.5) - sqrt(\\eta_x*\\eta_y/(sinh(\\beta)*sinh(\\beta*\\eta_x)*sinh(\\beta*\\eta_y)))*exp(E*\\beta)/(8*pi**(3/2))"
      ]
     },
     "execution_count": 124,
     "metadata": {},
     "output_type": "execute_result"
    }
   ],
   "source": [
    "A3D = -exp(b*E)*sqrt(etax*etay/((4*pi)**3*sinh(b)*sinh(etax*b)*sinh(etay*b))) + 1/(4*pi*b)**(3/2)\n",
    "A3D"
   ]
  },
  {
   "cell_type": "code",
   "execution_count": 125,
   "id": "d2122f94",
   "metadata": {},
   "outputs": [
    {
     "data": {
      "text/latex": [
       "$\\displaystyle \\frac{0.125}{\\pi^{1.5} \\beta^{1.5}} + \\frac{\\sqrt{2} \\sqrt{\\pi} \\sqrt{\\frac{\\eta_{x} \\eta_{y}}{\\sinh{\\left(\\beta \\right)}}} \\sum_{\\substack{0 \\leq n_{x} \\leq \\infty\\\\0 \\leq n_{y} \\leq \\infty}} \\frac{2^{n_{x} + n_{y} - 0.5} e^{\\beta \\left(E - \\epsilon_{nx} - \\epsilon_{ny}\\right)}}{\\Gamma^{2}\\left(0.5 - \\frac{n_{x}}{2}\\right) \\Gamma^{2}\\left(0.5 - \\frac{n_{y}}{2}\\right) \\Gamma\\left(n_{x} + 1\\right) \\Gamma\\left(n_{y} + 1\\right)}}{4} - \\frac{\\sqrt{\\frac{\\eta_{x} \\eta_{y}}{\\sinh{\\left(\\beta \\right)} \\sinh{\\left(\\beta \\eta_{x} \\right)} \\sinh{\\left(\\beta \\eta_{y} \\right)}}} e^{E \\beta}}{8 \\pi^{\\frac{3}{2}}}$"
      ],
      "text/plain": [
       "0.125*pi**(-1.5)*\\beta**(-1.5) + sqrt(2)*sqrt(pi)*sqrt(\\eta_x*\\eta_y/sinh(\\beta))*Sum(2**(n_x + n_y - 0.5)*exp(\\beta*(E - \\epsilon_{nx} - \\epsilon_{ny}))/(gamma(0.5 - n_x/2)**2*gamma(0.5 - n_y/2)**2*gamma(n_x + 1)*gamma(n_y + 1)), (n_x, 0, oo), (n_y, 0, oo))/4 - sqrt(\\eta_x*\\eta_y/(sinh(\\beta)*sinh(\\beta*\\eta_x)*sinh(\\beta*\\eta_y)))*exp(E*\\beta)/(8*pi**(3/2))"
      ]
     },
     "execution_count": 125,
     "metadata": {},
     "output_type": "execute_result"
    }
   ],
   "source": [
    "I3D = A3D + sqrt(pi*etax*etay/(8*sinh(b)))*sp.Sum(sp.Sum(2**(nx+ny-1/2) * exp(b*(E-enx-eny))/\\\n",
    "                                                         (gamma(1/2-nx/2)**2*gamma(1/2-ny/2)**2*\\\n",
    "                                                         gamma(nx+1)*gamma(ny+1)), (nx, 0, sp.oo)) , (ny, 0, sp.oo))\n",
    "I3D"
   ]
  },
  {
   "cell_type": "markdown",
   "id": "625feb93",
   "metadata": {},
   "source": [
    "$$ J_{3D} = 4\\pi\\left(W_{3D} + \\int^{+\\infty}_0 d\\beta \\ I_{3D}(E, \\beta)\\right) $$\n",
    "\n",
    "We separate the integration in two parts:\n",
    "\n",
    "$$ \\int^{+\\infty}_0 d\\beta \\ I_{3D}(E, \\beta) = \\int^{\\Lambda}_0 d\\beta \\ I_{3D}(E, \\beta) + \\int^{+\\infty}_{\\Lambda} d\\beta \\ I_{3D}(E, \\beta)$$\n",
    "\n",
    "with $\\Lambda$ being an arbritary positive number, using the definition of $I_{3D}$ we inmediately obtain:\n",
    "\n",
    "$$\\int^{\\Lambda}_0 d\\beta \\ I_{3D}(E, \\beta) = \\int^{\\Lambda}_0 d\\beta \\ A_{3D}(E, \\beta) + \\sum_{C^{3D}_E}\\left[ \\frac{2^{n_x + n_y - 2}\\sqrt{\\eta_x \\eta_y}}{\\Gamma \\left(\\frac{1-n_x}{2}\\right)^2 \\Gamma\\left(\\frac{1-n_y}{2}\\right)^2 \\Gamma\\left(n_x + 1\\right) \\Gamma\\left(n_y + 1\\right)} \\right] \\underbrace{\\int^{\\Lambda}_{0} d\\beta \\ \\frac{e^{\\beta(E - \\epsilon_{n_x} - \\epsilon_{n_y})}}{\\sqrt{\\sinh{\\beta}}}}_{H(\\beta)}$$"
   ]
  },
  {
   "cell_type": "code",
   "execution_count": 126,
   "id": "6bfa5ee7",
   "metadata": {},
   "outputs": [],
   "source": [
    "H = sp.Function('H')(E)"
   ]
  },
  {
   "cell_type": "code",
   "execution_count": 127,
   "id": "6b89fbf6",
   "metadata": {},
   "outputs": [
    {
     "data": {
      "text/latex": [
       "$\\displaystyle \\sum_{\\substack{0 \\leq n_{x} \\leq \\infty\\\\0 \\leq n_{y} \\leq \\infty}} \\frac{2^{n_{x} + n_{y} - 2} \\sqrt{\\eta_{x} \\eta_{y}} H{\\left(E \\right)}}{\\Gamma^{2}\\left(0.5 - \\frac{n_{x}}{2}\\right) \\Gamma^{2}\\left(0.5 - \\frac{n_{y}}{2}\\right) \\Gamma\\left(n_{x} + 1\\right) \\Gamma\\left(n_{y} + 1\\right)}$"
      ],
      "text/plain": [
       "Sum(2**(n_x + n_y - 2)*sqrt(\\eta_x*\\eta_y)*H(E)/(gamma(0.5 - n_x/2)**2*gamma(0.5 - n_y/2)**2*gamma(n_x + 1)*gamma(n_y + 1)), (n_x, 0, oo), (n_y, 0, oo))"
      ]
     },
     "execution_count": 127,
     "metadata": {},
     "output_type": "execute_result"
    }
   ],
   "source": [
    "int_I3D_0L = sp.Sum(sp.Sum(H*2**(nx+ny-2)*sqrt(etax*etay)/\\\n",
    "             (gamma(1/2-nx/2)**2*gamma(1/2-ny/2)**2*\\\n",
    "             gamma(nx+1)*gamma(ny+1)), (nx, 0, sp.oo)) , (ny, 0, sp.oo))\n",
    "                                \n",
    "int_I3D_0L"
   ]
  },
  {
   "cell_type": "code",
   "execution_count": 128,
   "id": "8057723a",
   "metadata": {},
   "outputs": [
    {
     "data": {
      "text/latex": [
       "$\\displaystyle H{\\left(E \\right)} = \\frac{\\left(1 - e^{2 \\beta}\\right) e^{\\beta \\left(E - \\epsilon_{nx} - \\epsilon_{ny}\\right)} {{}_{2}F_{1}\\left(\\begin{matrix} 1, \\frac{E}{2} - \\frac{\\epsilon_{nx}}{2} - \\frac{\\epsilon_{ny}}{2} + 0.75 \\\\ \\frac{E}{2} - \\frac{\\epsilon_{nx}}{2} - \\frac{\\epsilon_{ny}}{2} + 1.25 \\end{matrix}\\middle| {e^{2 \\beta}} \\right)}}{\\sqrt{\\frac{e^{\\beta}}{2} - \\frac{e^{- \\beta}}{2}} \\left(E - \\epsilon_{nx} - \\epsilon_{ny} + 0.5\\right)}$"
      ],
      "text/plain": [
       "Eq(H(E), (1 - exp(2*\\beta))*exp(\\beta*(E - \\epsilon_{nx} - \\epsilon_{ny}))*hyper((1, E/2 - \\epsilon_{nx}/2 - \\epsilon_{ny}/2 + 0.75), (E/2 - \\epsilon_{nx}/2 - \\epsilon_{ny}/2 + 1.25,), exp(2*\\beta))/(sqrt(exp(\\beta)/2 - exp(-\\beta)/2)*(E - \\epsilon_{nx} - \\epsilon_{ny} + 0.5)))"
      ]
     },
     "execution_count": 128,
     "metadata": {},
     "output_type": "execute_result"
    }
   ],
   "source": [
    "H_eq = Eq(H, -(exp(2*b) - 1) * exp(b*(E-enx-eny))*sp.hyper([1, 3/4 + (E-enx-eny)/2], [5/4 + (E-enx-eny)/2], exp(2*b))/\\\n",
    "   ((E - enx - eny + 1/2)*sqrt(sp.sinh(b))))\n",
    "H_eq.rewrite(sp.exp)"
   ]
  },
  {
   "cell_type": "code",
   "execution_count": 129,
   "id": "cfd0d961",
   "metadata": {},
   "outputs": [
    {
     "data": {
      "text/latex": [
       "$\\displaystyle H{\\left(E \\right)} = - \\frac{\\sqrt{2} \\sqrt{e^{2 \\beta} - 1} e^{\\beta \\left(E - \\epsilon_{nx} - \\epsilon_{ny}\\right)} {{}_{2}F_{1}\\left(\\begin{matrix} 1, \\frac{E}{2} - \\frac{\\epsilon_{nx}}{2} - \\frac{\\epsilon_{ny}}{2} + 0.75 \\\\ \\frac{E}{2} - \\frac{\\epsilon_{nx}}{2} - \\frac{\\epsilon_{ny}}{2} + 1.25 \\end{matrix}\\middle| {e^{2 \\beta}} \\right)}}{E - \\epsilon_{nx} - \\epsilon_{ny} + 0.5}$"
      ],
      "text/plain": [
       "Eq(H(E), -sqrt(2)*sqrt(exp(2*\\beta) - 1)*exp(\\beta*(E - \\epsilon_{nx} - \\epsilon_{ny}))*hyper((1, E/2 - \\epsilon_{nx}/2 - \\epsilon_{ny}/2 + 0.75), (E/2 - \\epsilon_{nx}/2 - \\epsilon_{ny}/2 + 1.25,), exp(2*\\beta))/(E - \\epsilon_{nx} - \\epsilon_{ny} + 0.5))"
      ]
     },
     "execution_count": 129,
     "metadata": {},
     "output_type": "execute_result"
    }
   ],
   "source": [
    "H_eq = Eq(H, -sqrt(2)*exp(b*(E-enx-eny))*sp.hyper([1, 3/4 + (E-enx-eny)/2], [5/4 + (E-enx-eny)/2], exp(2*b))* \\\n",
    "         sqrt(exp(2*b) - 1)/(E - enx - eny + 1/2))\n",
    "H_eq"
   ]
  },
  {
   "cell_type": "code",
   "execution_count": 130,
   "id": "f97f7d88",
   "metadata": {},
   "outputs": [
    {
     "data": {
      "text/latex": [
       "$\\displaystyle H{\\left(E \\right)} = - \\frac{\\sqrt{2} \\sqrt{e^{2 \\Lambda} - 1} e^{\\Lambda \\left(E - \\epsilon_{nx} - \\epsilon_{ny}\\right)} {{}_{2}F_{1}\\left(\\begin{matrix} 1, \\frac{E}{2} - \\frac{\\epsilon_{nx}}{2} - \\frac{\\epsilon_{ny}}{2} + 0.75 \\\\ \\frac{E}{2} - \\frac{\\epsilon_{nx}}{2} - \\frac{\\epsilon_{ny}}{2} + 1.25 \\end{matrix}\\middle| {e^{2 \\Lambda}} \\right)}}{E - \\epsilon_{nx} - \\epsilon_{ny} + 0.5}$"
      ],
      "text/plain": [
       "Eq(H(E), -sqrt(2)*sqrt(exp(2*\\Lambda) - 1)*exp(\\Lambda*(E - \\epsilon_{nx} - \\epsilon_{ny}))*hyper((1, E/2 - \\epsilon_{nx}/2 - \\epsilon_{ny}/2 + 0.75), (E/2 - \\epsilon_{nx}/2 - \\epsilon_{ny}/2 + 1.25,), exp(2*\\Lambda))/(E - \\epsilon_{nx} - \\epsilon_{ny} + 0.5))"
      ]
     },
     "execution_count": 130,
     "metadata": {},
     "output_type": "execute_result"
    }
   ],
   "source": [
    "H_eq = Eq(H, H_eq.args[1].subs({b:L}) - H_eq.args[1].subs({b:0}))\n",
    "H_eq"
   ]
  },
  {
   "cell_type": "markdown",
   "id": "680471a9",
   "metadata": {},
   "source": [
    "Then"
   ]
  },
  {
   "cell_type": "code",
   "execution_count": 131,
   "id": "20dad6c0",
   "metadata": {},
   "outputs": [
    {
     "data": {
      "text/latex": [
       "$\\displaystyle \\sum_{\\substack{0 \\leq n_{x} \\leq \\infty\\\\0 \\leq n_{y} \\leq \\infty}} - \\frac{\\sqrt{2} \\cdot 2^{n_{x} + n_{y} - 2} \\sqrt{\\eta_{x} \\eta_{y}} \\sqrt{e^{2 \\Lambda} - 1} e^{\\Lambda \\left(E - \\epsilon_{nx} - \\epsilon_{ny}\\right)} {{}_{2}F_{1}\\left(\\begin{matrix} 1, \\frac{E}{2} - \\frac{\\epsilon_{nx}}{2} - \\frac{\\epsilon_{ny}}{2} + 0.75 \\\\ \\frac{E}{2} - \\frac{\\epsilon_{nx}}{2} - \\frac{\\epsilon_{ny}}{2} + 1.25 \\end{matrix}\\middle| {e^{2 \\Lambda}} \\right)}}{\\left(E - \\epsilon_{nx} - \\epsilon_{ny} + 0.5\\right) \\Gamma^{2}\\left(0.5 - \\frac{n_{x}}{2}\\right) \\Gamma^{2}\\left(0.5 - \\frac{n_{y}}{2}\\right) \\Gamma\\left(n_{x} + 1\\right) \\Gamma\\left(n_{y} + 1\\right)}$"
      ],
      "text/plain": [
       "Sum(-sqrt(2)*2**(n_x + n_y - 2)*sqrt(\\eta_x*\\eta_y)*sqrt(exp(2*\\Lambda) - 1)*exp(\\Lambda*(E - \\epsilon_{nx} - \\epsilon_{ny}))*hyper((1, E/2 - \\epsilon_{nx}/2 - \\epsilon_{ny}/2 + 0.75), (E/2 - \\epsilon_{nx}/2 - \\epsilon_{ny}/2 + 1.25,), exp(2*\\Lambda))/((E - \\epsilon_{nx} - \\epsilon_{ny} + 0.5)*gamma(0.5 - n_x/2)**2*gamma(0.5 - n_y/2)**2*gamma(n_x + 1)*gamma(n_y + 1)), (n_x, 0, oo), (n_y, 0, oo))"
      ]
     },
     "execution_count": 131,
     "metadata": {},
     "output_type": "execute_result"
    }
   ],
   "source": [
    "int_I3D_0L = int_I3D_0L.subs({H: H_eq.args[1]})\n",
    "int_I3D_0L"
   ]
  },
  {
   "cell_type": "code",
   "execution_count": 132,
   "id": "5776f434",
   "metadata": {},
   "outputs": [
    {
     "data": {
      "text/latex": [
       "$\\displaystyle - \\frac{\\sqrt{2} \\pi \\sqrt{\\eta_{x} \\eta_{y}} \\sum_{\\substack{0 \\leq n_{x} \\leq \\infty\\\\0 \\leq n_{y} \\leq \\infty}} \\frac{2^{n_{x} + n_{y} - 1} \\Gamma\\left(- \\frac{E}{2} + \\frac{\\epsilon_{nx}}{2} + \\frac{\\epsilon_{ny}}{2} + 0.25\\right)}{\\Gamma^{2}\\left(0.5 - \\frac{n_{x}}{2}\\right) \\Gamma^{2}\\left(0.5 - \\frac{n_{y}}{2}\\right) \\Gamma\\left(n_{x} + 1\\right) \\Gamma\\left(n_{y} + 1\\right) \\Gamma\\left(- \\frac{E}{2} + \\frac{\\epsilon_{nx}}{2} + \\frac{\\epsilon_{ny}}{2} + 0.75\\right)}}{4} + \\sum_{\\substack{0 \\leq n_{x} \\leq \\infty\\\\0 \\leq n_{y} \\leq \\infty}} - \\frac{\\sqrt{2} \\cdot 2^{n_{x} + n_{y} - 2} \\sqrt{\\eta_{x} \\eta_{y}} \\sqrt{e^{2 \\Lambda} - 1} e^{\\Lambda \\left(E - \\epsilon_{nx} - \\epsilon_{ny}\\right)} {{}_{2}F_{1}\\left(\\begin{matrix} 1, \\frac{E}{2} - \\frac{\\epsilon_{nx}}{2} - \\frac{\\epsilon_{ny}}{2} + 0.75 \\\\ \\frac{E}{2} - \\frac{\\epsilon_{nx}}{2} - \\frac{\\epsilon_{ny}}{2} + 1.25 \\end{matrix}\\middle| {e^{2 \\Lambda}} \\right)}}{\\left(E - \\epsilon_{nx} - \\epsilon_{ny} + 0.5\\right) \\Gamma^{2}\\left(0.5 - \\frac{n_{x}}{2}\\right) \\Gamma^{2}\\left(0.5 - \\frac{n_{y}}{2}\\right) \\Gamma\\left(n_{x} + 1\\right) \\Gamma\\left(n_{y} + 1\\right)}$"
      ],
      "text/plain": [
       "-sqrt(2)*pi*sqrt(\\eta_x*\\eta_y)*Sum(2**(n_x + n_y - 1)*gamma(-E/2 + \\epsilon_{nx}/2 + \\epsilon_{ny}/2 + 0.25)/(gamma(0.5 - n_x/2)**2*gamma(0.5 - n_y/2)**2*gamma(n_x + 1)*gamma(n_y + 1)*gamma(-E/2 + \\epsilon_{nx}/2 + \\epsilon_{ny}/2 + 0.75)), (n_x, 0, oo), (n_y, 0, oo))/4 + Sum(-sqrt(2)*2**(n_x + n_y - 2)*sqrt(\\eta_x*\\eta_y)*sqrt(exp(2*\\Lambda) - 1)*exp(\\Lambda*(E - \\epsilon_{nx} - \\epsilon_{ny}))*hyper((1, E/2 - \\epsilon_{nx}/2 - \\epsilon_{ny}/2 + 0.75), (E/2 - \\epsilon_{nx}/2 - \\epsilon_{ny}/2 + 1.25,), exp(2*\\Lambda))/((E - \\epsilon_{nx} - \\epsilon_{ny} + 0.5)*gamma(0.5 - n_x/2)**2*gamma(0.5 - n_y/2)**2*gamma(n_x + 1)*gamma(n_y + 1)), (n_x, 0, oo), (n_y, 0, oo))"
      ]
     },
     "execution_count": 132,
     "metadata": {},
     "output_type": "execute_result"
    }
   ],
   "source": [
    "(W3D + int_I3D_0L)"
   ]
  },
  {
   "cell_type": "code",
   "execution_count": null,
   "id": "8b6f90ad",
   "metadata": {},
   "outputs": [],
   "source": []
  }
 ],
 "metadata": {
  "kernelspec": {
   "display_name": "Python [conda env:root] *",
   "language": "python",
   "name": "conda-root-py"
  },
  "language_info": {
   "codemirror_mode": {
    "name": "ipython",
    "version": 3
   },
   "file_extension": ".py",
   "mimetype": "text/x-python",
   "name": "python",
   "nbconvert_exporter": "python",
   "pygments_lexer": "ipython3",
   "version": "3.8.8"
  }
 },
 "nbformat": 4,
 "nbformat_minor": 5
}
