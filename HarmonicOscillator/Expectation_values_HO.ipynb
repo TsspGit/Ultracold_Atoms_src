{
 "cells": [
  {
   "cell_type": "code",
   "execution_count": 19,
   "metadata": {},
   "outputs": [],
   "source": [
    "__author__ = \"@Tssp\"\n",
    "__date__   = \"17/05/2021\"\n",
    "import sympy as sp\n",
    "from sympy import diff as D\n",
    "from sympy import Eq\n",
    "import numpy as np\n",
    "import matplotlib.pyplot as plt\n",
    "from sympy.physics.quantum import Operator, Dagger, Bra, Ket"
   ]
  },
  {
   "cell_type": "code",
   "execution_count": 2,
   "metadata": {},
   "outputs": [],
   "source": [
    "x     = sp.symbols('x', real=True)\n",
    "alpha = sp.symbols('\\\\alpha', real=True, positive=True)\n",
    "n     = sp.symbols('n', real=True, positive=True, integer=True)\n",
    "a = Operator('a')"
   ]
  },
  {
   "cell_type": "markdown",
   "metadata": {},
   "source": [
    "The normalized wavefunction of the HO:\n",
    "$$\\psi_n(x) = \\pi^{-1/4} \\sqrt{\\frac{\\alpha}{2^n n!}}e^{-\\alpha^2x^2/2} H_n(\\alpha x)$$\n",
    "\n",
    "with $\\alpha=\\sqrt{\\frac{m\\omega}{\\hbar}}$. Let's see the expectation values of $x^{2n}$.\n",
    "\n",
    "In anhilation-creation operators:\n",
    "\n",
    "$$x = \\frac{1}{\\sqrt{2}\\alpha}(a^{\\dagger} + a)$$\n",
    "\n",
    "where:\n",
    "\n",
    "$$a^{\\dagger}|n> = \\sqrt{(n+1)} |n+1>$$\n",
    "$$a|n> = \\sqrt{n} |n-1>$$"
   ]
  },
  {
   "cell_type": "code",
   "execution_count": 3,
   "metadata": {},
   "outputs": [],
   "source": [
    "def wf(n, x, alpha):\n",
    "    return sp.sqrt(alpha/(2**n *sp.factorial(n) * sp.sqrt(sp.pi)))*sp.hermite(n, x*alpha) * sp.exp(-alpha**2 * x**2/2)"
   ]
  },
  {
   "cell_type": "markdown",
   "metadata": {},
   "source": [
    "# $<x>$"
   ]
  },
  {
   "cell_type": "code",
   "execution_count": 4,
   "metadata": {},
   "outputs": [
    {
     "data": {
      "text/latex": [
       "$\\displaystyle 0$"
      ],
      "text/plain": [
       "0"
      ]
     },
     "execution_count": 4,
     "metadata": {},
     "output_type": "execute_result"
    }
   ],
   "source": [
    "sp.integrate(wf(0, x, alpha) * x * sp.conjugate(wf(0, x, alpha)), (x, -sp.oo, sp.oo))"
   ]
  },
  {
   "cell_type": "code",
   "execution_count": 5,
   "metadata": {},
   "outputs": [
    {
     "data": {
      "text/latex": [
       "$\\displaystyle 0$"
      ],
      "text/plain": [
       "0"
      ]
     },
     "execution_count": 5,
     "metadata": {},
     "output_type": "execute_result"
    }
   ],
   "source": [
    "sp.integrate(wf(3, x, alpha) * x * sp.conjugate(wf(3, x, alpha)), (x, -sp.oo, sp.oo))"
   ]
  },
  {
   "cell_type": "markdown",
   "metadata": {},
   "source": [
    "So: $$<x> = 0$$"
   ]
  },
  {
   "cell_type": "markdown",
   "metadata": {},
   "source": [
    "# $<x^2>$"
   ]
  },
  {
   "cell_type": "code",
   "execution_count": 6,
   "metadata": {},
   "outputs": [
    {
     "data": {
      "text/latex": [
       "$\\displaystyle \\frac{1}{2 \\alpha^{2}}$"
      ],
      "text/plain": [
       "1/(2*\\alpha**2)"
      ]
     },
     "execution_count": 6,
     "metadata": {},
     "output_type": "execute_result"
    }
   ],
   "source": [
    "sp.integrate(wf(0, x, alpha) * x**2 * sp.conjugate(wf(0, x, alpha)), (x, -sp.oo, sp.oo))"
   ]
  },
  {
   "cell_type": "code",
   "execution_count": 7,
   "metadata": {},
   "outputs": [
    {
     "data": {
      "text/latex": [
       "$\\displaystyle \\frac{3}{2 \\alpha^{2}}$"
      ],
      "text/plain": [
       "3/(2*\\alpha**2)"
      ]
     },
     "execution_count": 7,
     "metadata": {},
     "output_type": "execute_result"
    }
   ],
   "source": [
    "sp.integrate(wf(1, x, alpha) * x**2 * sp.conjugate(wf(1, x, alpha)), (x, -sp.oo, sp.oo))"
   ]
  },
  {
   "cell_type": "code",
   "execution_count": 8,
   "metadata": {},
   "outputs": [
    {
     "data": {
      "text/latex": [
       "$\\displaystyle \\frac{5}{2 \\alpha^{2}}$"
      ],
      "text/plain": [
       "5/(2*\\alpha**2)"
      ]
     },
     "execution_count": 8,
     "metadata": {},
     "output_type": "execute_result"
    }
   ],
   "source": [
    "sp.integrate(wf(2, x, alpha) * x**2 * sp.conjugate(wf(2, x, alpha)), (x, -sp.oo, sp.oo))"
   ]
  },
  {
   "cell_type": "code",
   "execution_count": 9,
   "metadata": {},
   "outputs": [
    {
     "data": {
      "text/latex": [
       "$\\displaystyle \\frac{7}{2 \\alpha^{2}}$"
      ],
      "text/plain": [
       "7/(2*\\alpha**2)"
      ]
     },
     "execution_count": 9,
     "metadata": {},
     "output_type": "execute_result"
    }
   ],
   "source": [
    "sp.integrate(wf(3, x, alpha) * x**2 * sp.conjugate(wf(3, x, alpha)), (x, -sp.oo, sp.oo))"
   ]
  },
  {
   "cell_type": "markdown",
   "metadata": {},
   "source": [
    "$$<x^2> = \\frac{2n + 1}{2\\alpha^2}$$"
   ]
  },
  {
   "cell_type": "markdown",
   "metadata": {},
   "source": [
    "# $<x^3>$"
   ]
  },
  {
   "cell_type": "code",
   "execution_count": 10,
   "metadata": {},
   "outputs": [
    {
     "data": {
      "text/latex": [
       "$\\displaystyle 0$"
      ],
      "text/plain": [
       "0"
      ]
     },
     "execution_count": 10,
     "metadata": {},
     "output_type": "execute_result"
    }
   ],
   "source": [
    "sp.integrate(wf(0, x, alpha) * x**3 * sp.conjugate(wf(0, x, alpha)), (x, -sp.oo, sp.oo))"
   ]
  },
  {
   "cell_type": "code",
   "execution_count": 11,
   "metadata": {},
   "outputs": [
    {
     "data": {
      "text/latex": [
       "$\\displaystyle 0$"
      ],
      "text/plain": [
       "0"
      ]
     },
     "execution_count": 11,
     "metadata": {},
     "output_type": "execute_result"
    }
   ],
   "source": [
    "sp.integrate(wf(1, x, alpha) * x**3 * sp.conjugate(wf(1, x, alpha)), (x, -sp.oo, sp.oo))"
   ]
  },
  {
   "cell_type": "code",
   "execution_count": 12,
   "metadata": {},
   "outputs": [
    {
     "data": {
      "text/latex": [
       "$\\displaystyle 0$"
      ],
      "text/plain": [
       "0"
      ]
     },
     "execution_count": 12,
     "metadata": {},
     "output_type": "execute_result"
    }
   ],
   "source": [
    "sp.integrate(wf(2, x, alpha) * x**3 * sp.conjugate(wf(2, x, alpha)), (x, -sp.oo, sp.oo))"
   ]
  },
  {
   "cell_type": "markdown",
   "metadata": {},
   "source": [
    "$$<x^3> = 0$$"
   ]
  },
  {
   "cell_type": "markdown",
   "metadata": {},
   "source": [
    "# $<x^4>$"
   ]
  },
  {
   "cell_type": "code",
   "execution_count": 13,
   "metadata": {},
   "outputs": [
    {
     "data": {
      "text/latex": [
       "$\\displaystyle \\frac{3}{4 \\alpha^{4}}$"
      ],
      "text/plain": [
       "3/(4*\\alpha**4)"
      ]
     },
     "execution_count": 13,
     "metadata": {},
     "output_type": "execute_result"
    }
   ],
   "source": [
    "sp.integrate(wf(0, x, alpha) * x**4 * sp.conjugate(wf(0, x, alpha)), (x, -sp.oo, sp.oo))"
   ]
  },
  {
   "cell_type": "code",
   "execution_count": 14,
   "metadata": {},
   "outputs": [
    {
     "data": {
      "text/latex": [
       "$\\displaystyle \\frac{15}{4 \\alpha^{4}}$"
      ],
      "text/plain": [
       "15/(4*\\alpha**4)"
      ]
     },
     "execution_count": 14,
     "metadata": {},
     "output_type": "execute_result"
    }
   ],
   "source": [
    "sp.integrate(wf(1, x, alpha) * x**4 * sp.conjugate(wf(1, x, alpha)), (x, -sp.oo, sp.oo))"
   ]
  },
  {
   "cell_type": "code",
   "execution_count": 15,
   "metadata": {},
   "outputs": [
    {
     "data": {
      "text/latex": [
       "$\\displaystyle \\frac{39}{4 \\alpha^{4}}$"
      ],
      "text/plain": [
       "39/(4*\\alpha**4)"
      ]
     },
     "execution_count": 15,
     "metadata": {},
     "output_type": "execute_result"
    }
   ],
   "source": [
    "sp.integrate(wf(2, x, alpha) * x**4 * sp.conjugate(wf(2, x, alpha)), (x, -sp.oo, sp.oo))"
   ]
  },
  {
   "cell_type": "code",
   "execution_count": 16,
   "metadata": {},
   "outputs": [
    {
     "data": {
      "text/latex": [
       "$\\displaystyle \\frac{75}{4 \\alpha^{4}}$"
      ],
      "text/plain": [
       "75/(4*\\alpha**4)"
      ]
     },
     "execution_count": 16,
     "metadata": {},
     "output_type": "execute_result"
    }
   ],
   "source": [
    "sp.integrate(wf(3, x, alpha) * x**4 * sp.conjugate(wf(3, x, alpha)), (x, -sp.oo, sp.oo))"
   ]
  },
  {
   "cell_type": "markdown",
   "metadata": {},
   "source": [
    "Using creation-anhilation operators:"
   ]
  },
  {
   "cell_type": "code",
   "execution_count": 17,
   "metadata": {},
   "outputs": [],
   "source": [
    "x_op = 1/(sp.sqrt(2) * alpha) * (Dagger(a) + a)"
   ]
  },
  {
   "cell_type": "code",
   "execution_count": 39,
   "metadata": {
    "scrolled": true
   },
   "outputs": [
    {
     "data": {
      "text/latex": [
       "$\\displaystyle \\frac{{\\left\\langle n\\right|} a^{\\dagger} a a^{\\dagger} a {\\left|n\\right\\rangle }}{4 \\alpha^{4}} + \\frac{{\\left\\langle n\\right|} a^{\\dagger} a \\left(a^{\\dagger}\\right)^{2} {\\left|n\\right\\rangle }}{4 \\alpha^{4}} + \\frac{{\\left\\langle n\\right|} a^{\\dagger} a^{2} a^{\\dagger} {\\left|n\\right\\rangle }}{4 \\alpha^{4}} + \\frac{{\\left\\langle n\\right|} a^{\\dagger} a^{3} {\\left|n\\right\\rangle }}{4 \\alpha^{4}} + \\frac{{\\left\\langle n\\right|} \\left(a^{\\dagger}\\right)^{2} a a^{\\dagger} {\\left|n\\right\\rangle }}{4 \\alpha^{4}} + \\frac{{\\left\\langle n\\right|} \\left(a^{\\dagger}\\right)^{2} a^{2} {\\left|n\\right\\rangle }}{4 \\alpha^{4}} + \\frac{{\\left\\langle n\\right|} \\left(a^{\\dagger}\\right)^{3} a {\\left|n\\right\\rangle }}{4 \\alpha^{4}} + \\frac{{\\left\\langle n\\right|} \\left(a^{\\dagger}\\right)^{4} {\\left|n\\right\\rangle }}{4 \\alpha^{4}} + \\frac{{\\left\\langle n\\right|} a a^{\\dagger} a a^{\\dagger} {\\left|n\\right\\rangle }}{4 \\alpha^{4}} + \\frac{{\\left\\langle n\\right|} a a^{\\dagger} a^{2} {\\left|n\\right\\rangle }}{4 \\alpha^{4}} + \\frac{{\\left\\langle n\\right|} a \\left(a^{\\dagger}\\right)^{2} a {\\left|n\\right\\rangle }}{4 \\alpha^{4}} + \\frac{{\\left\\langle n\\right|} a \\left(a^{\\dagger}\\right)^{3} {\\left|n\\right\\rangle }}{4 \\alpha^{4}} + \\frac{{\\left\\langle n\\right|} a^{2} a^{\\dagger} a {\\left|n\\right\\rangle }}{4 \\alpha^{4}} + \\frac{{\\left\\langle n\\right|} a^{2} \\left(a^{\\dagger}\\right)^{2} {\\left|n\\right\\rangle }}{4 \\alpha^{4}} + \\frac{{\\left\\langle n\\right|} a^{3} a^{\\dagger} {\\left|n\\right\\rangle }}{4 \\alpha^{4}} + \\frac{{\\left\\langle n\\right|} a^{4} {\\left|n\\right\\rangle }}{4 \\alpha^{4}}$"
      ],
      "text/plain": [
       "<n|*Dagger(a)*a*Dagger(a)*a*|n>/(4*\\alpha**4) + <n|*Dagger(a)*a*Dagger(a)**2*|n>/(4*\\alpha**4) + <n|*Dagger(a)*a**2*Dagger(a)*|n>/(4*\\alpha**4) + <n|*Dagger(a)*a**3*|n>/(4*\\alpha**4) + <n|*Dagger(a)**2*a*Dagger(a)*|n>/(4*\\alpha**4) + <n|*Dagger(a)**2*a**2*|n>/(4*\\alpha**4) + <n|*Dagger(a)**3*a*|n>/(4*\\alpha**4) + <n|*Dagger(a)**4*|n>/(4*\\alpha**4) + <n|*a*Dagger(a)*a*Dagger(a)*|n>/(4*\\alpha**4) + <n|*a*Dagger(a)*a**2*|n>/(4*\\alpha**4) + <n|*a*Dagger(a)**2*a*|n>/(4*\\alpha**4) + <n|*a*Dagger(a)**3*|n>/(4*\\alpha**4) + <n|*a**2*Dagger(a)*a*|n>/(4*\\alpha**4) + <n|*a**2*Dagger(a)**2*|n>/(4*\\alpha**4) + <n|*a**3*Dagger(a)*|n>/(4*\\alpha**4) + <n|*a**4*|n>/(4*\\alpha**4)"
      ]
     },
     "execution_count": 39,
     "metadata": {},
     "output_type": "execute_result"
    }
   ],
   "source": [
    "x4_expect = ((Bra(n) * x_op**4 * Ket(n)).expand())\n",
    "x4_expect"
   ]
  },
  {
   "cell_type": "code",
   "execution_count": 88,
   "metadata": {},
   "outputs": [
    {
     "data": {
      "text/latex": [
       "$\\displaystyle \\frac{75}{4 \\alpha^{2}}$"
      ],
      "text/plain": [
       "75/(4*\\alpha**2)"
      ]
     },
     "execution_count": 88,
     "metadata": {},
     "output_type": "execute_result"
    }
   ],
   "source": [
    "x4_expect = 1/(4*alpha**2) * (n**2 + 2*n*(n+1) + n*(n-1) + (n+1)**2 + (n+1) * (n+2))\n",
    "x4_expect.subs({n:3})"
   ]
  },
  {
   "cell_type": "code",
   "execution_count": 98,
   "metadata": {},
   "outputs": [
    {
     "data": {
      "text/latex": [
       "$\\displaystyle 6 n^{2} + 6 n + 3$"
      ],
      "text/plain": [
       "6*n**2 + 6*n + 3"
      ]
     },
     "execution_count": 98,
     "metadata": {},
     "output_type": "execute_result"
    }
   ],
   "source": [
    "(n**2 + 2*n*(n+1) + n*(n-1) + (n+1)**2 + (n+1) * (n+2)).expand()"
   ]
  },
  {
   "cell_type": "markdown",
   "metadata": {},
   "source": [
    "# $<x^5>$"
   ]
  },
  {
   "cell_type": "code",
   "execution_count": 96,
   "metadata": {},
   "outputs": [
    {
     "data": {
      "text/latex": [
       "$\\displaystyle 0$"
      ],
      "text/plain": [
       "0"
      ]
     },
     "execution_count": 96,
     "metadata": {},
     "output_type": "execute_result"
    }
   ],
   "source": [
    "sp.integrate(wf(2, x, alpha) * x**5 * sp.conjugate(wf(2, x, alpha)), (x, -sp.oo, sp.oo))"
   ]
  },
  {
   "cell_type": "markdown",
   "metadata": {},
   "source": [
    "In general: $$<x^{2n+1}> = 0$$\n",
    "And\n",
    "$$<x^{2n}> \\neq 0$$"
   ]
  },
  {
   "cell_type": "markdown",
   "metadata": {},
   "source": [
    "# $<x^6>$"
   ]
  },
  {
   "cell_type": "code",
   "execution_count": 101,
   "metadata": {},
   "outputs": [
    {
     "data": {
      "text/latex": [
       "$\\displaystyle \\frac{15}{8 \\alpha^{6}}$"
      ],
      "text/plain": [
       "15/(8*\\alpha**6)"
      ]
     },
     "execution_count": 101,
     "metadata": {},
     "output_type": "execute_result"
    }
   ],
   "source": [
    "sp.integrate(wf(0, x, alpha) * x**6 * sp.conjugate(wf(0, x, alpha)), (x, -sp.oo, sp.oo))"
   ]
  },
  {
   "cell_type": "code",
   "execution_count": 102,
   "metadata": {},
   "outputs": [
    {
     "data": {
      "text/latex": [
       "$\\displaystyle \\frac{105}{8 \\alpha^{6}}$"
      ],
      "text/plain": [
       "105/(8*\\alpha**6)"
      ]
     },
     "execution_count": 102,
     "metadata": {},
     "output_type": "execute_result"
    }
   ],
   "source": [
    "sp.integrate(wf(1, x, alpha) * x**6 * sp.conjugate(wf(1, x, alpha)), (x, -sp.oo, sp.oo))"
   ]
  },
  {
   "cell_type": "code",
   "execution_count": 104,
   "metadata": {},
   "outputs": [
    {
     "data": {
      "text/latex": [
       "$\\displaystyle \\frac{375}{8 \\alpha^{6}}$"
      ],
      "text/plain": [
       "375/(8*\\alpha**6)"
      ]
     },
     "execution_count": 104,
     "metadata": {},
     "output_type": "execute_result"
    }
   ],
   "source": [
    "sp.integrate(wf(2, x, alpha) * x**6 * sp.conjugate(wf(2, x, alpha)), (x, -sp.oo, sp.oo))"
   ]
  },
  {
   "cell_type": "code",
   "execution_count": 106,
   "metadata": {},
   "outputs": [
    {
     "data": {
      "text/latex": [
       "$\\displaystyle \\frac{945}{8 \\alpha^{6}}$"
      ],
      "text/plain": [
       "945/(8*\\alpha**6)"
      ]
     },
     "execution_count": 106,
     "metadata": {},
     "output_type": "execute_result"
    }
   ],
   "source": [
    "sp.integrate(wf(3, x, alpha) * x**6 * sp.conjugate(wf(3, x, alpha)), (x, -sp.oo, sp.oo))"
   ]
  },
  {
   "cell_type": "code",
   "execution_count": 100,
   "metadata": {},
   "outputs": [
    {
     "data": {
      "text/latex": [
       "$\\displaystyle \\frac{{\\left\\langle n\\right|} a^{\\dagger} a a^{\\dagger} a a^{\\dagger} a {\\left|n\\right\\rangle }}{8 \\alpha^{6}} + \\frac{{\\left\\langle n\\right|} a^{\\dagger} a a^{\\dagger} a \\left(a^{\\dagger}\\right)^{2} {\\left|n\\right\\rangle }}{8 \\alpha^{6}} + \\frac{{\\left\\langle n\\right|} a^{\\dagger} a a^{\\dagger} a^{2} a^{\\dagger} {\\left|n\\right\\rangle }}{8 \\alpha^{6}} + \\frac{{\\left\\langle n\\right|} a^{\\dagger} a a^{\\dagger} a^{3} {\\left|n\\right\\rangle }}{8 \\alpha^{6}} + \\frac{{\\left\\langle n\\right|} a^{\\dagger} a \\left(a^{\\dagger}\\right)^{2} a a^{\\dagger} {\\left|n\\right\\rangle }}{8 \\alpha^{6}} + \\frac{{\\left\\langle n\\right|} a^{\\dagger} a \\left(a^{\\dagger}\\right)^{2} a^{2} {\\left|n\\right\\rangle }}{8 \\alpha^{6}} + \\frac{{\\left\\langle n\\right|} a^{\\dagger} a \\left(a^{\\dagger}\\right)^{3} a {\\left|n\\right\\rangle }}{8 \\alpha^{6}} + \\frac{{\\left\\langle n\\right|} a^{\\dagger} a \\left(a^{\\dagger}\\right)^{4} {\\left|n\\right\\rangle }}{8 \\alpha^{6}} + \\frac{{\\left\\langle n\\right|} a^{\\dagger} a^{2} a^{\\dagger} a a^{\\dagger} {\\left|n\\right\\rangle }}{8 \\alpha^{6}} + \\frac{{\\left\\langle n\\right|} a^{\\dagger} a^{2} a^{\\dagger} a^{2} {\\left|n\\right\\rangle }}{8 \\alpha^{6}} + \\frac{{\\left\\langle n\\right|} a^{\\dagger} a^{2} \\left(a^{\\dagger}\\right)^{2} a {\\left|n\\right\\rangle }}{8 \\alpha^{6}} + \\frac{{\\left\\langle n\\right|} a^{\\dagger} a^{2} \\left(a^{\\dagger}\\right)^{3} {\\left|n\\right\\rangle }}{8 \\alpha^{6}} + \\frac{{\\left\\langle n\\right|} a^{\\dagger} a^{3} a^{\\dagger} a {\\left|n\\right\\rangle }}{8 \\alpha^{6}} + \\frac{{\\left\\langle n\\right|} a^{\\dagger} a^{3} \\left(a^{\\dagger}\\right)^{2} {\\left|n\\right\\rangle }}{8 \\alpha^{6}} + \\frac{{\\left\\langle n\\right|} a^{\\dagger} a^{4} a^{\\dagger} {\\left|n\\right\\rangle }}{8 \\alpha^{6}} + \\frac{{\\left\\langle n\\right|} a^{\\dagger} a^{5} {\\left|n\\right\\rangle }}{8 \\alpha^{6}} + \\frac{{\\left\\langle n\\right|} \\left(a^{\\dagger}\\right)^{2} a a^{\\dagger} a a^{\\dagger} {\\left|n\\right\\rangle }}{8 \\alpha^{6}} + \\frac{{\\left\\langle n\\right|} \\left(a^{\\dagger}\\right)^{2} a a^{\\dagger} a^{2} {\\left|n\\right\\rangle }}{8 \\alpha^{6}} + \\frac{{\\left\\langle n\\right|} \\left(a^{\\dagger}\\right)^{2} a \\left(a^{\\dagger}\\right)^{2} a {\\left|n\\right\\rangle }}{8 \\alpha^{6}} + \\frac{{\\left\\langle n\\right|} \\left(a^{\\dagger}\\right)^{2} a \\left(a^{\\dagger}\\right)^{3} {\\left|n\\right\\rangle }}{8 \\alpha^{6}} + \\frac{{\\left\\langle n\\right|} \\left(a^{\\dagger}\\right)^{2} a^{2} a^{\\dagger} a {\\left|n\\right\\rangle }}{8 \\alpha^{6}} + \\frac{{\\left\\langle n\\right|} \\left(a^{\\dagger}\\right)^{2} a^{2} \\left(a^{\\dagger}\\right)^{2} {\\left|n\\right\\rangle }}{8 \\alpha^{6}} + \\frac{{\\left\\langle n\\right|} \\left(a^{\\dagger}\\right)^{2} a^{3} a^{\\dagger} {\\left|n\\right\\rangle }}{8 \\alpha^{6}} + \\frac{{\\left\\langle n\\right|} \\left(a^{\\dagger}\\right)^{2} a^{4} {\\left|n\\right\\rangle }}{8 \\alpha^{6}} + \\frac{{\\left\\langle n\\right|} \\left(a^{\\dagger}\\right)^{3} a a^{\\dagger} a {\\left|n\\right\\rangle }}{8 \\alpha^{6}} + \\frac{{\\left\\langle n\\right|} \\left(a^{\\dagger}\\right)^{3} a \\left(a^{\\dagger}\\right)^{2} {\\left|n\\right\\rangle }}{8 \\alpha^{6}} + \\frac{{\\left\\langle n\\right|} \\left(a^{\\dagger}\\right)^{3} a^{2} a^{\\dagger} {\\left|n\\right\\rangle }}{8 \\alpha^{6}} + \\frac{{\\left\\langle n\\right|} \\left(a^{\\dagger}\\right)^{3} a^{3} {\\left|n\\right\\rangle }}{8 \\alpha^{6}} + \\frac{{\\left\\langle n\\right|} \\left(a^{\\dagger}\\right)^{4} a a^{\\dagger} {\\left|n\\right\\rangle }}{8 \\alpha^{6}} + \\frac{{\\left\\langle n\\right|} \\left(a^{\\dagger}\\right)^{4} a^{2} {\\left|n\\right\\rangle }}{8 \\alpha^{6}} + \\frac{{\\left\\langle n\\right|} \\left(a^{\\dagger}\\right)^{5} a {\\left|n\\right\\rangle }}{8 \\alpha^{6}} + \\frac{{\\left\\langle n\\right|} \\left(a^{\\dagger}\\right)^{6} {\\left|n\\right\\rangle }}{8 \\alpha^{6}} + \\frac{{\\left\\langle n\\right|} a a^{\\dagger} a a^{\\dagger} a a^{\\dagger} {\\left|n\\right\\rangle }}{8 \\alpha^{6}} + \\frac{{\\left\\langle n\\right|} a a^{\\dagger} a a^{\\dagger} a^{2} {\\left|n\\right\\rangle }}{8 \\alpha^{6}} + \\frac{{\\left\\langle n\\right|} a a^{\\dagger} a \\left(a^{\\dagger}\\right)^{2} a {\\left|n\\right\\rangle }}{8 \\alpha^{6}} + \\frac{{\\left\\langle n\\right|} a a^{\\dagger} a \\left(a^{\\dagger}\\right)^{3} {\\left|n\\right\\rangle }}{8 \\alpha^{6}} + \\frac{{\\left\\langle n\\right|} a a^{\\dagger} a^{2} a^{\\dagger} a {\\left|n\\right\\rangle }}{8 \\alpha^{6}} + \\frac{{\\left\\langle n\\right|} a a^{\\dagger} a^{2} \\left(a^{\\dagger}\\right)^{2} {\\left|n\\right\\rangle }}{8 \\alpha^{6}} + \\frac{{\\left\\langle n\\right|} a a^{\\dagger} a^{3} a^{\\dagger} {\\left|n\\right\\rangle }}{8 \\alpha^{6}} + \\frac{{\\left\\langle n\\right|} a a^{\\dagger} a^{4} {\\left|n\\right\\rangle }}{8 \\alpha^{6}} + \\frac{{\\left\\langle n\\right|} a \\left(a^{\\dagger}\\right)^{2} a a^{\\dagger} a {\\left|n\\right\\rangle }}{8 \\alpha^{6}} + \\frac{{\\left\\langle n\\right|} a \\left(a^{\\dagger}\\right)^{2} a \\left(a^{\\dagger}\\right)^{2} {\\left|n\\right\\rangle }}{8 \\alpha^{6}} + \\frac{{\\left\\langle n\\right|} a \\left(a^{\\dagger}\\right)^{2} a^{2} a^{\\dagger} {\\left|n\\right\\rangle }}{8 \\alpha^{6}} + \\frac{{\\left\\langle n\\right|} a \\left(a^{\\dagger}\\right)^{2} a^{3} {\\left|n\\right\\rangle }}{8 \\alpha^{6}} + \\frac{{\\left\\langle n\\right|} a \\left(a^{\\dagger}\\right)^{3} a a^{\\dagger} {\\left|n\\right\\rangle }}{8 \\alpha^{6}} + \\frac{{\\left\\langle n\\right|} a \\left(a^{\\dagger}\\right)^{3} a^{2} {\\left|n\\right\\rangle }}{8 \\alpha^{6}} + \\frac{{\\left\\langle n\\right|} a \\left(a^{\\dagger}\\right)^{4} a {\\left|n\\right\\rangle }}{8 \\alpha^{6}} + \\frac{{\\left\\langle n\\right|} a \\left(a^{\\dagger}\\right)^{5} {\\left|n\\right\\rangle }}{8 \\alpha^{6}} + \\frac{{\\left\\langle n\\right|} a^{2} a^{\\dagger} a a^{\\dagger} a {\\left|n\\right\\rangle }}{8 \\alpha^{6}} + \\frac{{\\left\\langle n\\right|} a^{2} a^{\\dagger} a \\left(a^{\\dagger}\\right)^{2} {\\left|n\\right\\rangle }}{8 \\alpha^{6}} + \\frac{{\\left\\langle n\\right|} a^{2} a^{\\dagger} a^{2} a^{\\dagger} {\\left|n\\right\\rangle }}{8 \\alpha^{6}} + \\frac{{\\left\\langle n\\right|} a^{2} a^{\\dagger} a^{3} {\\left|n\\right\\rangle }}{8 \\alpha^{6}} + \\frac{{\\left\\langle n\\right|} a^{2} \\left(a^{\\dagger}\\right)^{2} a a^{\\dagger} {\\left|n\\right\\rangle }}{8 \\alpha^{6}} + \\frac{{\\left\\langle n\\right|} a^{2} \\left(a^{\\dagger}\\right)^{2} a^{2} {\\left|n\\right\\rangle }}{8 \\alpha^{6}} + \\frac{{\\left\\langle n\\right|} a^{2} \\left(a^{\\dagger}\\right)^{3} a {\\left|n\\right\\rangle }}{8 \\alpha^{6}} + \\frac{{\\left\\langle n\\right|} a^{2} \\left(a^{\\dagger}\\right)^{4} {\\left|n\\right\\rangle }}{8 \\alpha^{6}} + \\frac{{\\left\\langle n\\right|} a^{3} a^{\\dagger} a a^{\\dagger} {\\left|n\\right\\rangle }}{8 \\alpha^{6}} + \\frac{{\\left\\langle n\\right|} a^{3} a^{\\dagger} a^{2} {\\left|n\\right\\rangle }}{8 \\alpha^{6}} + \\frac{{\\left\\langle n\\right|} a^{3} \\left(a^{\\dagger}\\right)^{2} a {\\left|n\\right\\rangle }}{8 \\alpha^{6}} + \\frac{{\\left\\langle n\\right|} a^{3} \\left(a^{\\dagger}\\right)^{3} {\\left|n\\right\\rangle }}{8 \\alpha^{6}} + \\frac{{\\left\\langle n\\right|} a^{4} a^{\\dagger} a {\\left|n\\right\\rangle }}{8 \\alpha^{6}} + \\frac{{\\left\\langle n\\right|} a^{4} \\left(a^{\\dagger}\\right)^{2} {\\left|n\\right\\rangle }}{8 \\alpha^{6}} + \\frac{{\\left\\langle n\\right|} a^{5} a^{\\dagger} {\\left|n\\right\\rangle }}{8 \\alpha^{6}} + \\frac{{\\left\\langle n\\right|} a^{6} {\\left|n\\right\\rangle }}{8 \\alpha^{6}}$"
      ],
      "text/plain": [
       "<n|*Dagger(a)*a*Dagger(a)*a*Dagger(a)*a*|n>/(8*\\alpha**6) + <n|*Dagger(a)*a*Dagger(a)*a*Dagger(a)**2*|n>/(8*\\alpha**6) + <n|*Dagger(a)*a*Dagger(a)*a**2*Dagger(a)*|n>/(8*\\alpha**6) + <n|*Dagger(a)*a*Dagger(a)*a**3*|n>/(8*\\alpha**6) + <n|*Dagger(a)*a*Dagger(a)**2*a*Dagger(a)*|n>/(8*\\alpha**6) + <n|*Dagger(a)*a*Dagger(a)**2*a**2*|n>/(8*\\alpha**6) + <n|*Dagger(a)*a*Dagger(a)**3*a*|n>/(8*\\alpha**6) + <n|*Dagger(a)*a*Dagger(a)**4*|n>/(8*\\alpha**6) + <n|*Dagger(a)*a**2*Dagger(a)*a*Dagger(a)*|n>/(8*\\alpha**6) + <n|*Dagger(a)*a**2*Dagger(a)*a**2*|n>/(8*\\alpha**6) + <n|*Dagger(a)*a**2*Dagger(a)**2*a*|n>/(8*\\alpha**6) + <n|*Dagger(a)*a**2*Dagger(a)**3*|n>/(8*\\alpha**6) + <n|*Dagger(a)*a**3*Dagger(a)*a*|n>/(8*\\alpha**6) + <n|*Dagger(a)*a**3*Dagger(a)**2*|n>/(8*\\alpha**6) + <n|*Dagger(a)*a**4*Dagger(a)*|n>/(8*\\alpha**6) + <n|*Dagger(a)*a**5*|n>/(8*\\alpha**6) + <n|*Dagger(a)**2*a*Dagger(a)*a*Dagger(a)*|n>/(8*\\alpha**6) + <n|*Dagger(a)**2*a*Dagger(a)*a**2*|n>/(8*\\alpha**6) + <n|*Dagger(a)**2*a*Dagger(a)**2*a*|n>/(8*\\alpha**6) + <n|*Dagger(a)**2*a*Dagger(a)**3*|n>/(8*\\alpha**6) + <n|*Dagger(a)**2*a**2*Dagger(a)*a*|n>/(8*\\alpha**6) + <n|*Dagger(a)**2*a**2*Dagger(a)**2*|n>/(8*\\alpha**6) + <n|*Dagger(a)**2*a**3*Dagger(a)*|n>/(8*\\alpha**6) + <n|*Dagger(a)**2*a**4*|n>/(8*\\alpha**6) + <n|*Dagger(a)**3*a*Dagger(a)*a*|n>/(8*\\alpha**6) + <n|*Dagger(a)**3*a*Dagger(a)**2*|n>/(8*\\alpha**6) + <n|*Dagger(a)**3*a**2*Dagger(a)*|n>/(8*\\alpha**6) + <n|*Dagger(a)**3*a**3*|n>/(8*\\alpha**6) + <n|*Dagger(a)**4*a*Dagger(a)*|n>/(8*\\alpha**6) + <n|*Dagger(a)**4*a**2*|n>/(8*\\alpha**6) + <n|*Dagger(a)**5*a*|n>/(8*\\alpha**6) + <n|*Dagger(a)**6*|n>/(8*\\alpha**6) + <n|*a*Dagger(a)*a*Dagger(a)*a*Dagger(a)*|n>/(8*\\alpha**6) + <n|*a*Dagger(a)*a*Dagger(a)*a**2*|n>/(8*\\alpha**6) + <n|*a*Dagger(a)*a*Dagger(a)**2*a*|n>/(8*\\alpha**6) + <n|*a*Dagger(a)*a*Dagger(a)**3*|n>/(8*\\alpha**6) + <n|*a*Dagger(a)*a**2*Dagger(a)*a*|n>/(8*\\alpha**6) + <n|*a*Dagger(a)*a**2*Dagger(a)**2*|n>/(8*\\alpha**6) + <n|*a*Dagger(a)*a**3*Dagger(a)*|n>/(8*\\alpha**6) + <n|*a*Dagger(a)*a**4*|n>/(8*\\alpha**6) + <n|*a*Dagger(a)**2*a*Dagger(a)*a*|n>/(8*\\alpha**6) + <n|*a*Dagger(a)**2*a*Dagger(a)**2*|n>/(8*\\alpha**6) + <n|*a*Dagger(a)**2*a**2*Dagger(a)*|n>/(8*\\alpha**6) + <n|*a*Dagger(a)**2*a**3*|n>/(8*\\alpha**6) + <n|*a*Dagger(a)**3*a*Dagger(a)*|n>/(8*\\alpha**6) + <n|*a*Dagger(a)**3*a**2*|n>/(8*\\alpha**6) + <n|*a*Dagger(a)**4*a*|n>/(8*\\alpha**6) + <n|*a*Dagger(a)**5*|n>/(8*\\alpha**6) + <n|*a**2*Dagger(a)*a*Dagger(a)*a*|n>/(8*\\alpha**6) + <n|*a**2*Dagger(a)*a*Dagger(a)**2*|n>/(8*\\alpha**6) + <n|*a**2*Dagger(a)*a**2*Dagger(a)*|n>/(8*\\alpha**6) + <n|*a**2*Dagger(a)*a**3*|n>/(8*\\alpha**6) + <n|*a**2*Dagger(a)**2*a*Dagger(a)*|n>/(8*\\alpha**6) + <n|*a**2*Dagger(a)**2*a**2*|n>/(8*\\alpha**6) + <n|*a**2*Dagger(a)**3*a*|n>/(8*\\alpha**6) + <n|*a**2*Dagger(a)**4*|n>/(8*\\alpha**6) + <n|*a**3*Dagger(a)*a*Dagger(a)*|n>/(8*\\alpha**6) + <n|*a**3*Dagger(a)*a**2*|n>/(8*\\alpha**6) + <n|*a**3*Dagger(a)**2*a*|n>/(8*\\alpha**6) + <n|*a**3*Dagger(a)**3*|n>/(8*\\alpha**6) + <n|*a**4*Dagger(a)*a*|n>/(8*\\alpha**6) + <n|*a**4*Dagger(a)**2*|n>/(8*\\alpha**6) + <n|*a**5*Dagger(a)*|n>/(8*\\alpha**6) + <n|*a**6*|n>/(8*\\alpha**6)"
      ]
     },
     "execution_count": 100,
     "metadata": {},
     "output_type": "execute_result"
    }
   ],
   "source": [
    "x6_expect = ((Bra(n) * x_op**6 * Ket(n)).expand())\n",
    "x6_expect"
   ]
  }
 ],
 "metadata": {
  "kernelspec": {
   "display_name": "Python 3",
   "language": "python",
   "name": "python3"
  },
  "language_info": {
   "codemirror_mode": {
    "name": "ipython",
    "version": 3
   },
   "file_extension": ".py",
   "mimetype": "text/x-python",
   "name": "python",
   "nbconvert_exporter": "python",
   "pygments_lexer": "ipython3",
   "version": "3.8.5"
  }
 },
 "nbformat": 4,
 "nbformat_minor": 4
}
