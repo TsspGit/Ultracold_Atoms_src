{
 "cells": [
  {
   "cell_type": "code",
   "execution_count": 1,
   "metadata": {},
   "outputs": [],
   "source": [
    "__author__ = \"@Tssp\"\n",
    "__date__   = \"17/03/2021\"\n",
    "import sympy as sp\n",
    "from sympy import diff as D\n",
    "from sympy import Eq as Eq\n",
    "from sympy.abc import a, b, c, n\n",
    "import numpy as np\n",
    "from utils import chain_rule"
   ]
  },
  {
   "cell_type": "code",
   "execution_count": 15,
   "metadata": {},
   "outputs": [],
   "source": [
    "def chain_rule(Eq, x, f, new_f, y, relation, order):\n",
    "    '''\n",
    "    Parameters\n",
    "    ----------\n",
    "    Eq: Equation\n",
    "    x: independent variable\n",
    "    f: dependent variable f(x(y))\n",
    "    new_f: new symbol for the f in string\n",
    "    y: new independent variable\n",
    "    relation: equation y(x)\n",
    "    order: 1 or 2\n",
    "    \n",
    "    Returns\n",
    "    -------\n",
    "    Equation with the derivatives changed\n",
    "    '''\n",
    "    global f_new\n",
    "    f_new = sp.Function(new_f)(y)\n",
    "    if order == 2:\n",
    "        chain = D(f_new, y, order) * D(relation.args[1], x)**2 + D(f_new, y) * D(relation.args[1], x, 2)\n",
    "        out = Eq.args[0].subs({D(f, x, order): chain}).subs({f: f_new})\n",
    "        return out\n",
    "    if order == 1:\n",
    "        chain = D(f_new, y, order) * D(relation.args[1], x)\n",
    "        out = Eq.args[0].subs({D(f, x, order): chain}).subs({f: f_new})\n",
    "        return out"
   ]
  },
  {
   "cell_type": "markdown",
   "metadata": {},
   "source": [
    "# 1-Particle Hamiltonian"
   ]
  },
  {
   "cell_type": "markdown",
   "metadata": {},
   "source": [
    "The 1-particle HO Hamiltonian is:\n",
    "$$\\mathcal{H}(r) = -\\frac{\\hbar^2}{2m}\\nabla^2 + \\frac{1}{2}m\\omega^2r^2$$"
   ]
  },
  {
   "cell_type": "code",
   "execution_count": 2,
   "metadata": {},
   "outputs": [],
   "source": [
    "x, m, hbar, w, alpha, E = sp.symbols('x m \\\\hbar \\\\omega \\\\alpha E', real=True)\n",
    "psi = sp.Function('\\\\psi', real=False)(x)  # wavefunction"
   ]
  },
  {
   "cell_type": "code",
   "execution_count": 3,
   "metadata": {},
   "outputs": [
    {
     "data": {
      "text/latex": [
       "$\\displaystyle - E \\psi{\\left(x \\right)} - \\frac{\\hbar^{2} \\frac{d^{2}}{d x^{2}} \\psi{\\left(x \\right)}}{2 m} + 0.5 \\omega^{2} m x^{2} \\psi{\\left(x \\right)} = 0$"
      ],
      "text/plain": [
       "Eq(-E*\\psi(x) - \\hbar**2*Derivative(\\psi(x), (x, 2))/(2*m) + 0.5*\\omega**2*m*x**2*\\psi(x), 0)"
      ]
     },
     "execution_count": 3,
     "metadata": {},
     "output_type": "execute_result"
    }
   ],
   "source": [
    "Schr_eq = Eq(-hbar**2/(2*m)*D(psi, x, 2) + 0.5*m*w**2*x**2*psi - E*psi, 0)\n",
    "Schr_eq"
   ]
  },
  {
   "cell_type": "code",
   "execution_count": 4,
   "metadata": {},
   "outputs": [
    {
     "data": {
      "text/latex": [
       "$\\displaystyle - \\frac{2 E m \\psi{\\left(x \\right)}}{\\hbar^{2}} - \\frac{d^{2}}{d x^{2}} \\psi{\\left(x \\right)} + \\frac{\\omega^{2} m^{2} x^{2} \\psi{\\left(x \\right)}}{\\hbar^{2}} = 0$"
      ],
      "text/plain": [
       "Eq(-2*E*m*\\psi(x)/\\hbar**2 - Derivative(\\psi(x), (x, 2)) + \\omega**2*m**2*x**2*\\psi(x)/\\hbar**2, 0)"
      ]
     },
     "execution_count": 4,
     "metadata": {},
     "output_type": "execute_result"
    }
   ],
   "source": [
    "Schr_eq_1 = Eq(sp.expand(Schr_eq.args[0] * 2*m/hbar**2), 0)\n",
    "Schr_eq_1"
   ]
  },
  {
   "cell_type": "code",
   "execution_count": 5,
   "metadata": {},
   "outputs": [
    {
     "data": {
      "text/latex": [
       "$\\displaystyle \\alpha = \\sqrt{\\frac{\\hbar}{\\omega m}}$"
      ],
      "text/plain": [
       "Eq(\\alpha, sqrt(\\hbar/(\\omega*m)))"
      ]
     },
     "execution_count": 5,
     "metadata": {},
     "output_type": "execute_result"
    }
   ],
   "source": [
    "Eq(alpha, sp.sqrt(hbar/(m*w)))"
   ]
  },
  {
   "cell_type": "code",
   "execution_count": 6,
   "metadata": {},
   "outputs": [],
   "source": [
    "y = sp.symbols('y')"
   ]
  },
  {
   "cell_type": "code",
   "execution_count": 7,
   "metadata": {},
   "outputs": [
    {
     "data": {
      "text/latex": [
       "$\\displaystyle - \\frac{2 E m \\psi{\\left(x \\right)}}{\\hbar^{2}} - \\frac{d^{2}}{d x^{2}} \\psi{\\left(x \\right)} + \\frac{x^{2} \\psi{\\left(x \\right)}}{\\alpha^{4}} = 0$"
      ],
      "text/plain": [
       "Eq(-2*E*m*\\psi(x)/\\hbar**2 - Derivative(\\psi(x), (x, 2)) + x**2*\\psi(x)/\\alpha**4, 0)"
      ]
     },
     "execution_count": 7,
     "metadata": {},
     "output_type": "execute_result"
    }
   ],
   "source": [
    "Schr_eq_2 = Eq(Schr_eq_1.args[0].subs({m*w/hbar: 1/alpha**2}), 0)\n",
    "Schr_eq_2"
   ]
  },
  {
   "cell_type": "code",
   "execution_count": 8,
   "metadata": {},
   "outputs": [
    {
     "data": {
      "text/latex": [
       "$\\displaystyle y = \\frac{x}{\\alpha}$"
      ],
      "text/plain": [
       "Eq(y, x/\\alpha)"
      ]
     },
     "execution_count": 8,
     "metadata": {},
     "output_type": "execute_result"
    }
   ],
   "source": [
    "change_xy = Eq(y, x/alpha)\n",
    "change_xy"
   ]
  },
  {
   "cell_type": "markdown",
   "metadata": {},
   "source": [
    "Let $f(x)$ be a function where x satisfies $x=y\\alpha$, $f(x(y\\alpha))$ is given by the chain rule:\n",
    "\n",
    "$$\\frac{\\partial f(x(y))}{\\partial y} = \\frac{\\partial f}{\\partial y}\\frac{\\partial y}{\\partial x}$$\n",
    "\n",
    "$$\\frac{\\partial^2 f(x(y))}{\\partial y^2} = \\frac{\\partial^2 f}{\\partial y^2}\\left(\\frac{\\partial y}{\\partial x}\\right)^2 + \\frac{\\partial f}{\\partial y}\\frac{\\partial^2 y}{\\partial x^2}$$"
   ]
  },
  {
   "cell_type": "code",
   "execution_count": 16,
   "metadata": {},
   "outputs": [
    {
     "data": {
      "text/latex": [
       "$\\displaystyle - \\frac{2 E m \\psi{\\left(y \\right)}}{\\hbar^{2}} + \\frac{y^{2} \\psi{\\left(y \\right)}}{\\alpha^{2}} - \\frac{\\frac{d^{2}}{d y^{2}} \\psi{\\left(y \\right)}}{\\alpha^{2}} = 0$"
      ],
      "text/plain": [
       "Eq(-2*E*m*\\psi(y)/\\hbar**2 + y**2*\\psi(y)/\\alpha**2 - Derivative(\\psi(y), (y, 2))/\\alpha**2, 0)"
      ]
     },
     "execution_count": 16,
     "metadata": {},
     "output_type": "execute_result"
    }
   ],
   "source": [
    "Schr_eq_3 = Eq(chain_rule(Schr_eq_2, x, psi, '\\\\psi', y, change_xy, 2), 0).subs({x: y*alpha})\n",
    "Schr_eq_3"
   ]
  },
  {
   "cell_type": "code",
   "execution_count": 17,
   "metadata": {},
   "outputs": [
    {
     "data": {
      "text/latex": [
       "$\\displaystyle - \\frac{2 E \\psi{\\left(y \\right)}}{\\hbar \\omega} + y^{2} \\psi{\\left(y \\right)} - \\frac{d^{2}}{d y^{2}} \\psi{\\left(y \\right)} = 0$"
      ],
      "text/plain": [
       "Eq(-2*E*\\psi(y)/(\\hbar*\\omega) + y**2*\\psi(y) - Derivative(\\psi(y), (y, 2)), 0)"
      ]
     },
     "execution_count": 17,
     "metadata": {},
     "output_type": "execute_result"
    }
   ],
   "source": [
    "Schr_eq_4 = Eq(sp.simplify(Schr_eq_3.args[0] * alpha**2), 0).subs({alpha: sp.sqrt(hbar/(m*w))})\n",
    "Schr_eq_4"
   ]
  },
  {
   "cell_type": "code",
   "execution_count": 18,
   "metadata": {},
   "outputs": [
    {
     "data": {
      "text/latex": [
       "$\\displaystyle \\varepsilon = \\frac{2 E}{\\hbar \\omega}$"
      ],
      "text/plain": [
       "Eq(\\varepsilon, 2*E/(\\hbar*\\omega))"
      ]
     },
     "execution_count": 18,
     "metadata": {},
     "output_type": "execute_result"
    }
   ],
   "source": [
    "eps = sp.symbols('\\\\varepsilon')\n",
    "Eq(eps, 2*E/(hbar*w))"
   ]
  },
  {
   "cell_type": "code",
   "execution_count": 19,
   "metadata": {},
   "outputs": [
    {
     "data": {
      "text/latex": [
       "$\\displaystyle - \\varepsilon \\psi{\\left(y \\right)} + y^{2} \\psi{\\left(y \\right)} - \\frac{d^{2}}{d y^{2}} \\psi{\\left(y \\right)} = 0$"
      ],
      "text/plain": [
       "Eq(-\\varepsilon*\\psi(y) + y**2*\\psi(y) - Derivative(\\psi(y), (y, 2)), 0)"
      ]
     },
     "execution_count": 19,
     "metadata": {},
     "output_type": "execute_result"
    }
   ],
   "source": [
    "Schr_eq_5 = Schr_eq_4.subs({2*E/(hbar*w): eps})\n",
    "Schr_eq_5"
   ]
  },
  {
   "cell_type": "markdown",
   "metadata": {},
   "source": [
    "Proponemos un comportamiento asintótico que decaiga como una gaussiana:\n",
    "\n",
    "$$\\xi(y) = e^{-y^2/2} H(y)$$\n",
    "\n",
    "Donde $H(y)$ es una función arbitraria"
   ]
  },
  {
   "cell_type": "code",
   "execution_count": 20,
   "metadata": {},
   "outputs": [
    {
     "data": {
      "text/latex": [
       "$\\displaystyle - \\varepsilon H{\\left(y \\right)} + 2 y \\frac{d}{d y} H{\\left(y \\right)} + H{\\left(y \\right)} - \\frac{d^{2}}{d y^{2}} H{\\left(y \\right)} = 0$"
      ],
      "text/plain": [
       "Eq(-\\varepsilon*H(y) + 2*y*Derivative(H(y), y) + H(y) - Derivative(H(y), (y, 2)), 0)"
      ]
     },
     "execution_count": 20,
     "metadata": {},
     "output_type": "execute_result"
    }
   ],
   "source": [
    "H = sp.Function('H')(y)\n",
    "Schr_eq_6 = Eq(sp.simplify(Schr_eq_5.subs({f_new: sp.exp(-y**2/2) * H}).doit()).args[0]*sp.exp(y**2/2), 0)\n",
    "Schr_eq_6"
   ]
  },
  {
   "cell_type": "code",
   "execution_count": 21,
   "metadata": {},
   "outputs": [
    {
     "data": {
      "text/latex": [
       "$\\displaystyle - 2 y \\frac{d}{d y} H{\\left(y \\right)} - \\left(1 - \\varepsilon\\right) H{\\left(y \\right)} + \\frac{d^{2}}{d y^{2}} H{\\left(y \\right)}$"
      ],
      "text/plain": [
       "-2*y*Derivative(H(y), y) - (1 - \\varepsilon)*H(y) + Derivative(H(y), (y, 2))"
      ]
     },
     "execution_count": 21,
     "metadata": {},
     "output_type": "execute_result"
    }
   ],
   "source": [
    "-Schr_eq_6.args[0].collect(H)"
   ]
  },
  {
   "cell_type": "markdown",
   "metadata": {},
   "source": [
    "Que es la ecuación de Hermite"
   ]
  },
  {
   "cell_type": "code",
   "execution_count": 22,
   "metadata": {},
   "outputs": [
    {
     "data": {
      "text/latex": [
       "$\\displaystyle \\psi{\\left(x \\right)} = e^{- \\frac{y^{2}}{2}} H_{n}\\left(x\\right)$"
      ],
      "text/plain": [
       "Eq(\\psi(x), exp(-y**2/2)*hermite(n, x))"
      ]
     },
     "execution_count": 22,
     "metadata": {},
     "output_type": "execute_result"
    }
   ],
   "source": [
    "Eq(psi, sp.hermite(n, x) * sp.exp(-y**2/2))"
   ]
  },
  {
   "cell_type": "code",
   "execution_count": 23,
   "metadata": {},
   "outputs": [
    {
     "data": {
      "text/latex": [
       "$\\displaystyle \\varepsilon = 2 n + 1$"
      ],
      "text/plain": [
       "Eq(\\varepsilon, 2*n + 1)"
      ]
     },
     "execution_count": 23,
     "metadata": {},
     "output_type": "execute_result"
    }
   ],
   "source": [
    "Eq(eps, 2*n+1)"
   ]
  },
  {
   "cell_type": "code",
   "execution_count": 24,
   "metadata": {},
   "outputs": [
    {
     "data": {
      "text/latex": [
       "$\\displaystyle \\frac{2 E}{\\hbar \\omega} = 2 n + 1$"
      ],
      "text/plain": [
       "Eq(2*E/(\\hbar*\\omega), 2*n + 1)"
      ]
     },
     "execution_count": 24,
     "metadata": {},
     "output_type": "execute_result"
    }
   ],
   "source": [
    "Eq(2*E/(hbar*w), 2*n+1)"
   ]
  },
  {
   "cell_type": "code",
   "execution_count": 25,
   "metadata": {},
   "outputs": [
    {
     "data": {
      "text/latex": [
       "$\\displaystyle E = \\hbar \\omega \\left(n + 0.5\\right)$"
      ],
      "text/plain": [
       "Eq(E, \\hbar*\\omega*(n + 0.5))"
      ]
     },
     "execution_count": 25,
     "metadata": {},
     "output_type": "execute_result"
    }
   ],
   "source": [
    "Eq(E, hbar*w*(n+1/2))"
   ]
  }
 ],
 "metadata": {
  "kernelspec": {
   "display_name": "Python 3",
   "language": "python",
   "name": "python3"
  },
  "language_info": {
   "codemirror_mode": {
    "name": "ipython",
    "version": 3
   },
   "file_extension": ".py",
   "mimetype": "text/x-python",
   "name": "python",
   "nbconvert_exporter": "python",
   "pygments_lexer": "ipython3",
   "version": "3.8.5"
  }
 },
 "nbformat": 4,
 "nbformat_minor": 4
}
