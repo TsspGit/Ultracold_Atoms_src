{
 "cells": [
  {
   "cell_type": "code",
   "execution_count": 8,
   "metadata": {},
   "outputs": [],
   "source": [
    "__author__ = \"@Tssp\"\n",
    "__date__   = \"26/03/2021\"\n",
    "import sympy as sp\n",
    "from sympy import diff as D\n",
    "from sympy import Eq\n",
    "from sympy.abc import a, b, c, n\n",
    "import numpy as np"
   ]
  },
  {
   "cell_type": "code",
   "execution_count": 29,
   "metadata": {},
   "outputs": [],
   "source": [
    "x, y, z, m, hbar, wx, wy, wz, alpha, E, r1, r2, r, R, ao = sp.symbols('x  y z m \\\\hbar \\\\omega_x \\\\omega_y \\\\omega_z \\\\alpha E r_1 r_2 r R a_0', real=True)\n",
    "etax, etay, etaz = sp.symbols('\\\\eta_x \\\\eta_y \\\\eta_z')\n",
    "psi_rm = sp.Function('\\\\psi_{rm}', real=False)(r)  # wavefunction\n",
    "phi_cm = sp.Function('\\\\phi_{CM}', real=False)(R)  # wavefunction"
   ]
  },
  {
   "cell_type": "markdown",
   "metadata": {},
   "source": [
    "## Change from cartesians to rm and CM"
   ]
  },
  {
   "cell_type": "code",
   "execution_count": 19,
   "metadata": {},
   "outputs": [
    {
     "data": {
      "text/latex": [
       "$\\displaystyle r = r_{1} - r_{2}$"
      ],
      "text/plain": [
       "Eq(r, r_1 - r_2)"
      ]
     },
     "metadata": {},
     "output_type": "display_data"
    },
    {
     "data": {
      "text/latex": [
       "$\\displaystyle R = 0.5 r_{1} + 0.5 r_{2}$"
      ],
      "text/plain": [
       "Eq(R, 0.5*r_1 + 0.5*r_2)"
      ]
     },
     "metadata": {},
     "output_type": "display_data"
    }
   ],
   "source": [
    "rel_eq = Eq(r, r1 - r2)\n",
    "CM_eq  = Eq(R, (r1 + r2)*0.5)\n",
    "display(rel_eq)\n",
    "display(CM_eq)"
   ]
  },
  {
   "cell_type": "code",
   "execution_count": 28,
   "metadata": {},
   "outputs": [
    {
     "data": {
      "text/latex": [
       "$\\displaystyle r_{1}$"
      ],
      "text/plain": [
       "r_1"
      ]
     },
     "metadata": {},
     "output_type": "display_data"
    },
    {
     "data": {
      "text/latex": [
       "$\\displaystyle R + 0.5 r$"
      ],
      "text/plain": [
       "R + 0.5*r"
      ]
     },
     "metadata": {},
     "output_type": "display_data"
    },
    {
     "data": {
      "text/latex": [
       "$\\displaystyle r_{2}$"
      ],
      "text/plain": [
       "r_2"
      ]
     },
     "metadata": {},
     "output_type": "display_data"
    },
    {
     "data": {
      "text/latex": [
       "$\\displaystyle R - 0.5 r$"
      ],
      "text/plain": [
       "R - 0.5*r"
      ]
     },
     "metadata": {},
     "output_type": "display_data"
    }
   ],
   "source": [
    "sol_change = sp.solve([rel_eq, CM_eq], {r1, r2})\n",
    "display(r1,sol_change[r1], r2, sol_change[r2])"
   ]
  },
  {
   "cell_type": "code",
   "execution_count": null,
   "metadata": {},
   "outputs": [],
   "source": []
  }
 ],
 "metadata": {
  "kernelspec": {
   "display_name": "Python 3",
   "language": "python",
   "name": "python3"
  },
  "language_info": {
   "codemirror_mode": {
    "name": "ipython",
    "version": 3
   },
   "file_extension": ".py",
   "mimetype": "text/x-python",
   "name": "python",
   "nbconvert_exporter": "python",
   "pygments_lexer": "ipython3",
   "version": "3.8.5"
  }
 },
 "nbformat": 4,
 "nbformat_minor": 4
}
