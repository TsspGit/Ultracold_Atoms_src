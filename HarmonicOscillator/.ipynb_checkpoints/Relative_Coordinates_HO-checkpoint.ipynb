{
 "cells": [
  {
   "cell_type": "code",
   "execution_count": 1,
   "metadata": {},
   "outputs": [],
   "source": [
    "__author__ = \"@Tssp\"\n",
    "__date__   = \"10/05/2021\"\n",
    "import sympy as sp\n",
    "from sympy import diff as D\n",
    "from sympy import Eq as Eq\n",
    "from sympy.abc import a, b, c, n\n",
    "import numpy as np"
   ]
  },
  {
   "cell_type": "code",
   "execution_count": 2,
   "metadata": {},
   "outputs": [],
   "source": [
    "x1, x2, m1, m2, M, mu1, mu2, mu, x, X, hbar, w, E = sp.symbols('x_1 x_2 m_1 m_2 M \\\\mu_1 \\\\mu_2 \\\\mu x X \\\\hbar \\\\omega E', real=True)\n",
    "psi_rm = sp.Function('\\\\psi', real=False)(x)  # wavefunction\n",
    "psi_cm = sp.Function('\\\\psi', real=False)(X)  # wavefunction\n",
    "psi_1 = sp.Function('\\\\psi', real=False)(x1)  # wavefunction\n",
    "psi_2 = sp.Function('\\\\psi', real=False)(x2)  # wavefunction"
   ]
  },
  {
   "cell_type": "code",
   "execution_count": 3,
   "metadata": {},
   "outputs": [
    {
     "data": {
      "text/latex": [
       "$\\displaystyle - \\frac{\\hbar^{2} \\frac{d^{2}}{d x^{2}} \\psi{\\left(x \\right)}}{2 \\mu}$"
      ],
      "text/plain": [
       "-\\hbar**2*Derivative(\\psi(x), (x, 2))/(2*\\mu)"
      ]
     },
     "metadata": {},
     "output_type": "display_data"
    },
    {
     "data": {
      "text/latex": [
       "$\\displaystyle - \\frac{\\hbar^{2} \\frac{d^{2}}{d X^{2}} \\psi{\\left(X \\right)}}{2 M}$"
      ],
      "text/plain": [
       "-\\hbar**2*Derivative(\\psi(X), (X, 2))/(2*M)"
      ]
     },
     "metadata": {},
     "output_type": "display_data"
    }
   ],
   "source": [
    "Trm = -hbar**2/(2*mu) * D(psi_rm, x, 2)\n",
    "display(Trm)\n",
    "Tcm = -hbar**2/(2*M) * D(psi_cm, X, 2)\n",
    "display(Tcm)"
   ]
  },
  {
   "cell_type": "code",
   "execution_count": 4,
   "metadata": {},
   "outputs": [
    {
     "data": {
      "text/latex": [
       "$\\displaystyle 0.5 \\omega^{2} m_{1} x_{1}^{2} + 0.5 \\omega^{2} m_{2} x_{2}^{2}$"
      ],
      "text/plain": [
       "0.5*\\omega**2*m_1*x_1**2 + 0.5*\\omega**2*m_2*x_2**2"
      ]
     },
     "metadata": {},
     "output_type": "display_data"
    }
   ],
   "source": [
    "V = 0.5 * m1 * w**2 * x1**2 + 0.5 * m2 * w**2 * x2**2\n",
    "display(V)"
   ]
  },
  {
   "cell_type": "code",
   "execution_count": 5,
   "metadata": {},
   "outputs": [
    {
     "data": {
      "text/latex": [
       "$\\displaystyle x = x_{1} - x_{2}$"
      ],
      "text/plain": [
       "Eq(x, x_1 - x_2)"
      ]
     },
     "metadata": {},
     "output_type": "display_data"
    },
    {
     "data": {
      "text/latex": [
       "$\\displaystyle X = \\mu_1 x_{1} + \\mu_2 x_{2}$"
      ],
      "text/plain": [
       "Eq(X, \\mu_1*x_1 + \\mu_2*x_2)"
      ]
     },
     "metadata": {},
     "output_type": "display_data"
    }
   ],
   "source": [
    "relative_eq = Eq(x, x1 - x2)\n",
    "cm_eq = Eq(X, mu1*x1 + mu2*x2)\n",
    "display(relative_eq, cm_eq)"
   ]
  },
  {
   "cell_type": "code",
   "execution_count": 6,
   "metadata": {},
   "outputs": [
    {
     "data": {
      "text/latex": [
       "$\\displaystyle x_{1}$"
      ],
      "text/plain": [
       "x_1"
      ]
     },
     "metadata": {},
     "output_type": "display_data"
    },
    {
     "data": {
      "text/latex": [
       "$\\displaystyle X + \\mu_2 x$"
      ],
      "text/plain": [
       "X + \\mu_2*x"
      ]
     },
     "metadata": {},
     "output_type": "display_data"
    },
    {
     "data": {
      "text/latex": [
       "$\\displaystyle x_{2}$"
      ],
      "text/plain": [
       "x_2"
      ]
     },
     "metadata": {},
     "output_type": "display_data"
    },
    {
     "data": {
      "text/latex": [
       "$\\displaystyle X - \\mu_1 x$"
      ],
      "text/plain": [
       "X - \\mu_1*x"
      ]
     },
     "metadata": {},
     "output_type": "display_data"
    }
   ],
   "source": [
    "sol_change = sp.solve([relative_eq, cm_eq], {x1, x2})\n",
    "sol_change[x1] = sol_change[x1].subs({mu1 + mu2: 1})\n",
    "sol_change[x2] = sol_change[x2].subs({mu1 + mu2: 1})\n",
    "display(x1, sol_change[x1], x2, sol_change[x2])"
   ]
  },
  {
   "cell_type": "code",
   "execution_count": 7,
   "metadata": {},
   "outputs": [
    {
     "data": {
      "text/latex": [
       "$\\displaystyle 0.5 X^{2} \\omega^{2} m_{1} + 0.5 X^{2} \\omega^{2} m_{2} - 1.0 X \\mu_1 \\omega^{2} m_{2} x + 1.0 X \\mu_2 \\omega^{2} m_{1} x + 0.5 \\mu_1^{2} \\omega^{2} m_{2} x^{2} + 0.5 \\mu_2^{2} \\omega^{2} m_{1} x^{2}$"
      ],
      "text/plain": [
       "0.5*X**2*\\omega**2*m_1 + 0.5*X**2*\\omega**2*m_2 - 1.0*X*\\mu_1*\\omega**2*m_2*x + 1.0*X*\\mu_2*\\omega**2*m_1*x + 0.5*\\mu_1**2*\\omega**2*m_2*x**2 + 0.5*\\mu_2**2*\\omega**2*m_1*x**2"
      ]
     },
     "metadata": {},
     "output_type": "display_data"
    }
   ],
   "source": [
    "V_2 = V.subs({x1: sol_change[x1],\n",
    "       x2: sol_change[x2]}).expand()\n",
    "display(V_2)"
   ]
  },
  {
   "cell_type": "code",
   "execution_count": 8,
   "metadata": {},
   "outputs": [
    {
     "data": {
      "text/latex": [
       "$\\displaystyle - \\frac{\\hbar^{2} \\frac{d^{2}}{d x^{2}} \\psi{\\left(x \\right)}}{2 \\mu} + 0.5 \\omega^{2} x^{2} \\left(\\mu_1^{2} m_{2} + \\mu_2^{2} m_{1}\\right)$"
      ],
      "text/plain": [
       "-\\hbar**2*Derivative(\\psi(x), (x, 2))/(2*\\mu) + 0.5*\\omega**2*x**2*(\\mu_1**2*m_2 + \\mu_2**2*m_1)"
      ]
     },
     "metadata": {},
     "output_type": "display_data"
    }
   ],
   "source": [
    "rel_H = Trm + V_2.coeff(x, 2)*x**2\n",
    "display(rel_H.collect(0.5*w**2))"
   ]
  },
  {
   "cell_type": "code",
   "execution_count": 9,
   "metadata": {},
   "outputs": [
    {
     "data": {
      "text/latex": [
       "$\\displaystyle \\frac{m_{1} m_{2}}{m_{1} + m_{2}}$"
      ],
      "text/plain": [
       "m_1*m_2/(m_1 + m_2)"
      ]
     },
     "execution_count": 9,
     "metadata": {},
     "output_type": "execute_result"
    }
   ],
   "source": [
    "sp.simplify((mu1**2 * m2 + mu2**2 * m1).subs({mu1: m1/(m1+m2),\n",
    "                                       mu2: m2/(m1+m2)}))"
   ]
  },
  {
   "cell_type": "code",
   "execution_count": 10,
   "metadata": {},
   "outputs": [
    {
     "data": {
      "text/latex": [
       "$\\displaystyle - \\frac{\\hbar^{2} \\frac{d^{2}}{d x^{2}} \\psi{\\left(x \\right)}}{2 \\mu} + 0.5 \\mu \\omega^{2} x^{2}$"
      ],
      "text/plain": [
       "-\\hbar**2*Derivative(\\psi(x), (x, 2))/(2*\\mu) + 0.5*\\mu*\\omega**2*x**2"
      ]
     },
     "execution_count": 10,
     "metadata": {},
     "output_type": "execute_result"
    }
   ],
   "source": [
    "rel_H = Trm + 0.5*mu*w**2*x**2\n",
    "rel_H"
   ]
  },
  {
   "cell_type": "code",
   "execution_count": 11,
   "metadata": {},
   "outputs": [
    {
     "data": {
      "text/latex": [
       "$\\displaystyle 0.5 M X^{2} \\omega^{2} - \\frac{\\hbar^{2} \\frac{d^{2}}{d X^{2}} \\psi{\\left(X \\right)}}{2 M}$"
      ],
      "text/plain": [
       "0.5*M*X**2*\\omega**2 - \\hbar**2*Derivative(\\psi(X), (X, 2))/(2*M)"
      ]
     },
     "metadata": {},
     "output_type": "display_data"
    }
   ],
   "source": [
    "cm_H = Tcm + V_2.coeff(X, 2)* X**2\n",
    "display(cm_H.collect(0.5*w**2).subs({m1 + m2: M}))"
   ]
  },
  {
   "cell_type": "code",
   "execution_count": 12,
   "metadata": {},
   "outputs": [
    {
     "data": {
      "text/latex": [
       "$\\displaystyle X \\omega^{2} x \\left(- 1.0 \\mu_1 m_{2} + 1.0 \\mu_2 m_{1}\\right)$"
      ],
      "text/plain": [
       "X*\\omega**2*x*(-1.0*\\mu_1*m_2 + 1.0*\\mu_2*m_1)"
      ]
     },
     "metadata": {},
     "output_type": "display_data"
    }
   ],
   "source": [
    "coupled_H = V_2.coeff(x, 1).coeff(X, 1) * x * X\n",
    "display(coupled_H.collect(w**2))"
   ]
  },
  {
   "cell_type": "markdown",
   "metadata": {},
   "source": [
    "Que es no nulo para átomos acoplados a trampas ópticas con distintas intensidades en la misma dirección espacial"
   ]
  },
  {
   "cell_type": "markdown",
   "metadata": {},
   "source": [
    "## Trampas mixtas $\\omega^1_x \\neq \\omega^2_x$"
   ]
  },
  {
   "cell_type": "code",
   "execution_count": 13,
   "metadata": {},
   "outputs": [],
   "source": [
    "x1, x2, m1, m2, M, mu1, mu2, mu, x, X, hbar, w_1, w_2, E = sp.symbols('x_1 x_2 m_1 m_2 M \\\\mu_1 \\\\mu_2 \\\\mu x X \\\\hbar \\\\omega_1 \\\\omega_2 E', real=True)"
   ]
  },
  {
   "cell_type": "code",
   "execution_count": 14,
   "metadata": {},
   "outputs": [
    {
     "data": {
      "text/latex": [
       "$\\displaystyle 0.5 \\omega_1^{2} m_{1} x_{1}^{2} + 0.5 \\omega_2^{2} m_{2} x_{2}^{2}$"
      ],
      "text/plain": [
       "0.5*\\omega_1**2*m_1*x_1**2 + 0.5*\\omega_2**2*m_2*x_2**2"
      ]
     },
     "metadata": {},
     "output_type": "display_data"
    }
   ],
   "source": [
    "V = 0.5 * m1 * w_1**2 * x1**2 + 0.5 * m2 * w_2**2 * x2**2\n",
    "display(V)"
   ]
  },
  {
   "cell_type": "code",
   "execution_count": 15,
   "metadata": {},
   "outputs": [
    {
     "data": {
      "text/latex": [
       "$\\displaystyle 0.5 X^{2} \\omega_1^{2} m_{1} + 0.5 X^{2} \\omega_2^{2} m_{2} - 1.0 X \\mu_1 \\omega_2^{2} m_{2} x + 1.0 X \\mu_2 \\omega_1^{2} m_{1} x + 0.5 \\mu_1^{2} \\omega_2^{2} m_{2} x^{2} + 0.5 \\mu_2^{2} \\omega_1^{2} m_{1} x^{2}$"
      ],
      "text/plain": [
       "0.5*X**2*\\omega_1**2*m_1 + 0.5*X**2*\\omega_2**2*m_2 - 1.0*X*\\mu_1*\\omega_2**2*m_2*x + 1.0*X*\\mu_2*\\omega_1**2*m_1*x + 0.5*\\mu_1**2*\\omega_2**2*m_2*x**2 + 0.5*\\mu_2**2*\\omega_1**2*m_1*x**2"
      ]
     },
     "metadata": {},
     "output_type": "display_data"
    }
   ],
   "source": [
    "V_2 = V.subs({x1: sol_change[x1],\n",
    "       x2: sol_change[x2]}).expand()\n",
    "display(V_2)"
   ]
  },
  {
   "cell_type": "code",
   "execution_count": 16,
   "metadata": {},
   "outputs": [
    {
     "data": {
      "text/latex": [
       "$\\displaystyle - \\frac{0.5 \\hbar^{2} \\frac{d^{2}}{d x^{2}} \\psi{\\left(x \\right)}}{\\mu} + 0.5 x^{2} \\left(\\mu_1^{2} \\omega_2^{2} m_{2} + \\mu_2^{2} \\omega_1^{2} m_{1}\\right)$"
      ],
      "text/plain": [
       "-0.5*\\hbar**2*Derivative(\\psi(x), (x, 2))/\\mu + 0.5*x**2*(\\mu_1**2*\\omega_2**2*m_2 + \\mu_2**2*\\omega_1**2*m_1)"
      ]
     },
     "metadata": {},
     "output_type": "display_data"
    }
   ],
   "source": [
    "rel_H = Trm + V_2.coeff(x, 2)*x**2\n",
    "display(rel_H.collect(0.5))"
   ]
  },
  {
   "cell_type": "code",
   "execution_count": 17,
   "metadata": {},
   "outputs": [
    {
     "data": {
      "text/latex": [
       "$\\displaystyle 0.5 X^{2} \\left(\\omega_1^{2} m_{1} + \\omega_2^{2} m_{2}\\right) - \\frac{0.5 \\hbar^{2} \\frac{d^{2}}{d X^{2}} \\psi{\\left(X \\right)}}{M}$"
      ],
      "text/plain": [
       "0.5*X**2*(\\omega_1**2*m_1 + \\omega_2**2*m_2) - 0.5*\\hbar**2*Derivative(\\psi(X), (X, 2))/M"
      ]
     },
     "metadata": {},
     "output_type": "display_data"
    }
   ],
   "source": [
    "cm_H = Tcm + V_2.coeff(X, 2)* X**2\n",
    "display(cm_H.collect(0.5).subs({m1 + m2: M}))"
   ]
  },
  {
   "cell_type": "code",
   "execution_count": 18,
   "metadata": {},
   "outputs": [
    {
     "data": {
      "text/latex": [
       "$\\displaystyle X x \\left(- 1.0 \\mu_1 \\omega_2^{2} m_{2} + 1.0 \\mu_2 \\omega_1^{2} m_{1}\\right)$"
      ],
      "text/plain": [
       "X*x*(-1.0*\\mu_1*\\omega_2**2*m_2 + 1.0*\\mu_2*\\omega_1**2*m_1)"
      ]
     },
     "metadata": {},
     "output_type": "display_data"
    }
   ],
   "source": [
    "coupled_H = V_2.coeff(x, 1).coeff(X, 1) * x * X\n",
    "display(coupled_H.collect(w**2))"
   ]
  },
  {
   "cell_type": "code",
   "execution_count": 19,
   "metadata": {},
   "outputs": [],
   "source": [
    "A, B, C = sp.symbols('A B C')"
   ]
  },
  {
   "cell_type": "code",
   "execution_count": 20,
   "metadata": {},
   "outputs": [
    {
     "data": {
      "text/latex": [
       "$\\displaystyle X^{2} \\left(0.5 \\omega_1^{2} m_{1} + 0.5 \\omega_2^{2} m_{2}\\right) + X x \\left(- 1.0 \\mu_1 \\omega_2^{2} m_{2} + 1.0 \\mu_2 \\omega_1^{2} m_{1}\\right) - \\frac{\\hbar^{2} \\frac{d^{2}}{d x^{2}} \\psi{\\left(x \\right)}}{2 \\mu} + x^{2} \\left(0.5 \\mu_1^{2} \\omega_2^{2} m_{2} + 0.5 \\mu_2^{2} \\omega_1^{2} m_{1}\\right) - \\frac{\\hbar^{2} \\frac{d^{2}}{d X^{2}} \\psi{\\left(X \\right)}}{2 M}$"
      ],
      "text/plain": [
       "X**2*(0.5*\\omega_1**2*m_1 + 0.5*\\omega_2**2*m_2) + X*x*(-1.0*\\mu_1*\\omega_2**2*m_2 + 1.0*\\mu_2*\\omega_1**2*m_1) - \\hbar**2*Derivative(\\psi(x), (x, 2))/(2*\\mu) + x**2*(0.5*\\mu_1**2*\\omega_2**2*m_2 + 0.5*\\mu_2**2*\\omega_1**2*m_1) - \\hbar**2*Derivative(\\psi(X), (X, 2))/(2*M)"
      ]
     },
     "metadata": {},
     "output_type": "display_data"
    }
   ],
   "source": [
    "H_tot = rel_H + cm_H + coupled_H\n",
    "display(H_tot)"
   ]
  },
  {
   "cell_type": "code",
   "execution_count": 21,
   "metadata": {},
   "outputs": [
    {
     "data": {
      "text/latex": [
       "$\\displaystyle A = 0.5 \\mu_1^{2} \\omega_2^{2} m_{2} + 0.5 \\mu_2^{2} \\omega_1^{2} m_{1}$"
      ],
      "text/plain": [
       "Eq(A, 0.5*\\mu_1**2*\\omega_2**2*m_2 + 0.5*\\mu_2**2*\\omega_1**2*m_1)"
      ]
     },
     "metadata": {},
     "output_type": "display_data"
    },
    {
     "data": {
      "text/latex": [
       "$\\displaystyle B = 0.5 \\omega_1^{2} m_{1} + 0.5 \\omega_2^{2} m_{2}$"
      ],
      "text/plain": [
       "Eq(B, 0.5*\\omega_1**2*m_1 + 0.5*\\omega_2**2*m_2)"
      ]
     },
     "metadata": {},
     "output_type": "display_data"
    },
    {
     "data": {
      "text/latex": [
       "$\\displaystyle C = - 1.0 \\mu_1 \\omega_2^{2} m_{2} + 1.0 \\mu_2 \\omega_1^{2} m_{1}$"
      ],
      "text/plain": [
       "Eq(C, -1.0*\\mu_1*\\omega_2**2*m_2 + 1.0*\\mu_2*\\omega_1**2*m_1)"
      ]
     },
     "metadata": {},
     "output_type": "display_data"
    }
   ],
   "source": [
    "A_eq = Eq(A, V_2.coeff(x, 2))\n",
    "B_eq = Eq(B, V_2.coeff(X, 2))\n",
    "C_eq = Eq(C, V_2.coeff(x, 1).coeff(X, 1))\n",
    "display(A_eq, B_eq, C_eq)"
   ]
  },
  {
   "cell_type": "code",
   "execution_count": 27,
   "metadata": {},
   "outputs": [
    {
     "data": {
      "text/latex": [
       "$\\displaystyle A x^{2} + B X^{2} + C X x - \\frac{\\hbar^{2} \\frac{d^{2}}{d x^{2}} \\psi{\\left(x \\right)}}{2 \\mu} - \\frac{\\hbar^{2} \\frac{d^{2}}{d X^{2}} \\psi{\\left(X \\right)}}{2 M}$"
      ],
      "text/plain": [
       "A*x**2 + B*X**2 + C*X*x - \\hbar**2*Derivative(\\psi(x), (x, 2))/(2*\\mu) - \\hbar**2*Derivative(\\psi(X), (X, 2))/(2*M)"
      ]
     },
     "metadata": {},
     "output_type": "display_data"
    }
   ],
   "source": [
    "H_tot_2 = H_tot.subs({V_2.coeff(x, 2): A,\n",
    "          V_2.coeff(X, 2): B,\n",
    "          V_2.coeff(x, 1).coeff(X, 1): C})\n",
    "display(H_tot_2)"
   ]
  },
  {
   "cell_type": "markdown",
   "metadata": {},
   "source": [
    "It is possible to diagonalize by a single rotation the quadratic form of x1 and x2. However, the\n",
    "momentum variables undergo the same rotation. Therefore, the uncoupling of the potential energy by rotation alone will lead to a coupling of the two kinetic energy terms.\n",
    "In order to avoid this complication, we have to bring the kinetic energy portion into a rotationally invariant form. For this purpose, we will need the transformation\n",
    "$$p'_{rm} = (M / \\mu)^{1/4}p_{rm}$$\n",
    "$$p'_{CM} = (\\mu / M)^{1/4}p_{CM}$$"
   ]
  },
  {
   "cell_type": "code",
   "execution_count": 39,
   "metadata": {},
   "outputs": [
    {
     "data": {
      "text/latex": [
       "$\\displaystyle A x^{2} + B X^{2} + C X x - \\frac{\\hbar^{2} \\sqrt{\\frac{\\mu}{M}} \\frac{d^{2}}{d x^{2}} \\psi{\\left(x \\right)}}{2 \\mu} - \\frac{\\hbar^{2} \\sqrt{\\frac{M}{\\mu}} \\frac{d^{2}}{d X^{2}} \\psi{\\left(X \\right)}}{2 \\mu}$"
      ],
      "text/plain": [
       "A*x**2 + B*X**2 + C*X*x - \\hbar**2*sqrt(\\mu/M)*Derivative(\\psi(x), (x, 2))/(2*\\mu) - \\hbar**2*sqrt(M/\\mu)*Derivative(\\psi(X), (X, 2))/(2*\\mu)"
      ]
     },
     "metadata": {},
     "output_type": "display_data"
    }
   ],
   "source": [
    "H_tot_3 = H_tot_2.subs({-hbar**2 * D(psi_rm, x, 2)/(2*mu): -hbar**2 * D(psi_rm, x, 2)/(2*mu) * sp.sqrt((mu/M)),\n",
    "             -hbar**2 * D(psi_cm, X, 2)/(2*M): -hbar**2 * D(psi_cm, X, 2)/(2*mu) * sp.sqrt(M/mu)})\n",
    "sp.simplify.cse_main(H_tot_3)"
   ]
  },
  {
   "cell_type": "code",
   "execution_count": null,
   "metadata": {},
   "outputs": [],
   "source": []
  }
 ],
 "metadata": {
  "kernelspec": {
   "display_name": "Python 3",
   "language": "python",
   "name": "python3"
  },
  "language_info": {
   "codemirror_mode": {
    "name": "ipython",
    "version": 3
   },
   "file_extension": ".py",
   "mimetype": "text/x-python",
   "name": "python",
   "nbconvert_exporter": "python",
   "pygments_lexer": "ipython3",
   "version": "3.8.5"
  }
 },
 "nbformat": 4,
 "nbformat_minor": 4
}
