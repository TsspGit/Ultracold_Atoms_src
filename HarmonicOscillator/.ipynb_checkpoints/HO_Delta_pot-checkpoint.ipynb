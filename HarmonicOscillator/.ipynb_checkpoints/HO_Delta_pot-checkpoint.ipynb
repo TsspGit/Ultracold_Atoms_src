{
 "cells": [
  {
   "cell_type": "code",
   "execution_count": 1,
   "metadata": {},
   "outputs": [],
   "source": [
    "__author__ = \"@Tssp\"\n",
    "__date__   = \"14/05/2021\"\n",
    "import sympy as sp\n",
    "from sympy import diff as D\n",
    "from sympy import Eq\n",
    "from sympy.abc import a, b, c, n\n",
    "import numpy as np\n",
    "import matplotlib.pyplot as plt"
   ]
  },
  {
   "cell_type": "code",
   "execution_count": 2,
   "metadata": {},
   "outputs": [],
   "source": [
    "def chain_rule(Eq, x, f, new_f, y, relation, order):\n",
    "    '''\n",
    "    Parameters\n",
    "    ----------\n",
    "    Eq: Equation\n",
    "    x: independent variable\n",
    "    f: dependent variable f(x(y))\n",
    "    new_f: new symbol for the f in string\n",
    "    y: new independent variable\n",
    "    relation: equation y(x)\n",
    "    order: 1 or 2\n",
    "    \n",
    "    Returns\n",
    "    -------\n",
    "    Equation with the derivatives changed\n",
    "    '''\n",
    "    global f_new\n",
    "    f_new = sp.Function(new_f)(y)\n",
    "    if order == 2:\n",
    "        chain = D(f_new, y, order) * D(relation.args[1], x)**2 + D(f_new, y) * D(relation.args[1], x, 2)\n",
    "        out = Eq.args[0].subs({D(f, x, order): chain}).subs({f: f_new})\n",
    "        return out\n",
    "    if order == 1:\n",
    "        chain = D(f_new, y, order) * D(relation.args[1], x)\n",
    "        out = Eq.args[0].subs({D(f, x, order): chain}).subs({f: f_new})\n",
    "        return out"
   ]
  },
  {
   "cell_type": "code",
   "execution_count": 3,
   "metadata": {},
   "outputs": [],
   "source": [
    "x, w, g, E, hbar, m, ao = sp.symbols('x \\\\omega g E \\\\hbar m a_0')\n",
    "psi = sp.Function('\\\\psi', real=False)(x)"
   ]
  },
  {
   "cell_type": "markdown",
   "metadata": {},
   "source": [
    "We are interested in solving the Schrödinger equation of a particle inmersed in a harmonic potential plus a point-like interaction modeled by a Dirac delta function:"
   ]
  },
  {
   "cell_type": "code",
   "execution_count": 4,
   "metadata": {},
   "outputs": [
    {
     "data": {
      "text/latex": [
       "$\\displaystyle - E \\psi{\\left(x \\right)} + \\frac{4 \\pi \\hbar^{2} a_{0} \\psi{\\left(x \\right)} \\delta\\left(x\\right)}{m} - \\frac{\\hbar^{2} \\frac{d^{2}}{d x^{2}} \\psi{\\left(x \\right)}}{2 m} + \\frac{\\omega^{2} m x^{2} \\psi{\\left(x \\right)}}{2} = 0$"
      ],
      "text/plain": [
       "Eq(-E*\\psi(x) + 4*pi*\\hbar**2*a_0*\\psi(x)*DiracDelta(x)/m - \\hbar**2*Derivative(\\psi(x), (x, 2))/(2*m) + \\omega**2*m*x**2*\\psi(x)/2, 0)"
      ]
     },
     "metadata": {},
     "output_type": "display_data"
    }
   ],
   "source": [
    "Schr = Eq(-hbar**2/(2*m)*D(psi, x, 2) + m/2*w**2*x**2*psi + 4*sp.pi*hbar**2*ao/m*sp.DiracDelta(x)*psi - E*psi, 0)\n",
    "display(Schr)"
   ]
  },
  {
   "cell_type": "markdown",
   "metadata": {},
   "source": [
    "being $a_0$ the s-wave scattering length characteristic of the dispersion with a hard sphere. \n",
    "\n",
    "Folowing the tradition, we introduce dimensionless variables"
   ]
  },
  {
   "cell_type": "code",
   "execution_count": 5,
   "metadata": {},
   "outputs": [
    {
     "data": {
      "text/latex": [
       "$\\displaystyle \\alpha = \\sqrt{\\frac{\\hbar}{\\omega m}}$"
      ],
      "text/plain": [
       "Eq(\\alpha, sqrt(\\hbar/(\\omega*m)))"
      ]
     },
     "metadata": {},
     "output_type": "display_data"
    },
    {
     "data": {
      "text/latex": [
       "$\\displaystyle \\epsilon = \\frac{E \\alpha^{2} m}{\\hbar^{2}}$"
      ],
      "text/plain": [
       "Eq(\\epsilon, E*\\alpha**2*m/\\hbar**2)"
      ]
     },
     "metadata": {},
     "output_type": "display_data"
    },
    {
     "data": {
      "text/latex": [
       "$\\displaystyle g = 4 \\pi \\alpha a_{0}$"
      ],
      "text/plain": [
       "Eq(g, 4*pi*\\alpha*a_0)"
      ]
     },
     "metadata": {},
     "output_type": "display_data"
    },
    {
     "data": {
      "text/latex": [
       "$\\displaystyle y = \\frac{x}{\\alpha}$"
      ],
      "text/plain": [
       "Eq(y, x/\\alpha)"
      ]
     },
     "metadata": {},
     "output_type": "display_data"
    }
   ],
   "source": [
    "alpha, eps, g, y = sp.symbols('\\\\alpha \\\\epsilon g y')\n",
    "alpha_eq = Eq(alpha, sp.sqrt(hbar/(m*w)))\n",
    "eps_eq   = Eq(eps, E*m*alpha**2/hbar**2)\n",
    "g_eq     = Eq(g, alpha*m/hbar**2 * 4*sp.pi*hbar**2*ao/m)\n",
    "y_eq        = Eq(y, x/alpha)\n",
    "display(alpha_eq, eps_eq, g_eq, y_eq)"
   ]
  },
  {
   "cell_type": "markdown",
   "metadata": {},
   "source": [
    "First multiply the whole equation by the term of the second derivative of the wavefunction: $-\\frac{2m}{\\hbar^2}$"
   ]
  },
  {
   "cell_type": "code",
   "execution_count": 6,
   "metadata": {},
   "outputs": [
    {
     "data": {
      "text/latex": [
       "$\\displaystyle \\frac{2 E m \\psi{\\left(x \\right)}}{\\hbar^{2}} - 8 \\pi a_{0} \\psi{\\left(x \\right)} \\delta\\left(x\\right) + \\frac{d^{2}}{d x^{2}} \\psi{\\left(x \\right)} - \\frac{\\omega^{2} m^{2} x^{2} \\psi{\\left(x \\right)}}{\\hbar^{2}} = 0$"
      ],
      "text/plain": [
       "Eq(2*E*m*\\psi(x)/\\hbar**2 - 8*pi*a_0*\\psi(x)*DiracDelta(x) + Derivative(\\psi(x), (x, 2)) - \\omega**2*m**2*x**2*\\psi(x)/\\hbar**2, 0)"
      ]
     },
     "metadata": {},
     "output_type": "display_data"
    }
   ],
   "source": [
    "Schr_2 = Eq(sp.expand(Schr.args[0] * -2*m/hbar**2), 0)\n",
    "display(Schr_2)"
   ]
  },
  {
   "cell_type": "markdown",
   "metadata": {},
   "source": [
    "Make the substitution of the variables $\\epsilon, g, \\alpha$ and apply the chain rule to the change of variables $x \\rightarrow y\\alpha$"
   ]
  },
  {
   "cell_type": "code",
   "execution_count": 7,
   "metadata": {},
   "outputs": [
    {
     "data": {
      "text/latex": [
       "$\\displaystyle - \\frac{2 g \\psi{\\left(y \\right)} \\delta\\left(\\alpha y\\right)}{\\alpha} + \\frac{2 \\epsilon \\psi{\\left(y \\right)}}{\\alpha^{2}} - \\frac{y^{2} \\psi{\\left(y \\right)}}{\\alpha^{2}} + \\frac{\\frac{d^{2}}{d y^{2}} \\psi{\\left(y \\right)}}{\\alpha^{2}} = 0$"
      ],
      "text/plain": [
       "Eq(-2*g*\\psi(y)*DiracDelta(\\alpha*y)/\\alpha + 2*\\epsilon*\\psi(y)/\\alpha**2 - y**2*\\psi(y)/\\alpha**2 + Derivative(\\psi(y), (y, 2))/\\alpha**2, 0)"
      ]
     },
     "metadata": {},
     "output_type": "display_data"
    }
   ],
   "source": [
    "Schr_3 = Schr_2.subs({E: hbar**2*eps/(m*alpha**2),\n",
    "           ao: g/(4*sp.pi*alpha),\n",
    "           m*w/hbar: 1/alpha**2})\n",
    "Schr_4 = Eq(chain_rule(Schr_3, x, psi, '\\\\psi', y, y_eq, 2), 0).subs({x**2/alpha**2: y**2,\n",
    "                                                                     x: y*alpha})\n",
    "display(Schr_4)"
   ]
  },
  {
   "cell_type": "markdown",
   "metadata": {},
   "source": [
    "Multiply by $\\alpha^2$"
   ]
  },
  {
   "cell_type": "code",
   "execution_count": 8,
   "metadata": {},
   "outputs": [
    {
     "data": {
      "text/latex": [
       "$\\displaystyle - 2 \\alpha g \\psi{\\left(y \\right)} \\delta\\left(\\alpha y\\right) + 2 \\epsilon \\psi{\\left(y \\right)} - y^{2} \\psi{\\left(y \\right)} + \\frac{d^{2}}{d y^{2}} \\psi{\\left(y \\right)} = 0$"
      ],
      "text/plain": [
       "Eq(-2*\\alpha*g*\\psi(y)*DiracDelta(\\alpha*y) + 2*\\epsilon*\\psi(y) - y**2*\\psi(y) + Derivative(\\psi(y), (y, 2)), 0)"
      ]
     },
     "metadata": {},
     "output_type": "display_data"
    }
   ],
   "source": [
    "Schr_5 = Eq(sp.simplify(Schr_4.args[0] * alpha**2), 0)\n",
    "display(Schr_5)"
   ]
  },
  {
   "cell_type": "markdown",
   "metadata": {},
   "source": [
    "Using the Dirac delta property of $\\delta(\\alpha x) = \\frac{1}{|\\alpha|}\\delta(x)$"
   ]
  },
  {
   "cell_type": "code",
   "execution_count": 9,
   "metadata": {},
   "outputs": [
    {
     "data": {
      "text/latex": [
       "$\\displaystyle 2 \\epsilon \\psi{\\left(y \\right)} - 2 g \\psi{\\left(y \\right)} \\delta\\left(y\\right) - y^{2} \\psi{\\left(y \\right)} + \\frac{d^{2}}{d y^{2}} \\psi{\\left(y \\right)} = 0$"
      ],
      "text/plain": [
       "Eq(2*\\epsilon*\\psi(y) - 2*g*\\psi(y)*DiracDelta(y) - y**2*\\psi(y) + Derivative(\\psi(y), (y, 2)), 0)"
      ]
     },
     "metadata": {},
     "output_type": "display_data"
    }
   ],
   "source": [
    "Schr_6 = Schr_5.subs({sp.DiracDelta(alpha*y): 1/alpha*sp.DiracDelta(y)})\n",
    "display(Schr_6)"
   ]
  },
  {
   "cell_type": "markdown",
   "metadata": {},
   "source": [
    "Rewritting the expression: \n",
    "$$\\frac{d^2 \\psi(y)}{dy^2} + (2\\epsilon - y^2)\\psi(y) - 2\\alpha g \\psi(y)\\delta(x) = 0$$\n",
    "\n",
    "Now we are going to solve the HO equation ($g=0$) and then find the boundaries conditions of the delta potential. Typically, assume the next functional form of the wavefunction:\n",
    "$$\\psi(y) = e^{-y^2/2}w(y)$$"
   ]
  },
  {
   "cell_type": "code",
   "execution_count": 10,
   "metadata": {},
   "outputs": [],
   "source": [
    "W = sp.Function('w')(y)"
   ]
  },
  {
   "cell_type": "code",
   "execution_count": 11,
   "metadata": {},
   "outputs": [
    {
     "data": {
      "text/latex": [
       "$\\displaystyle 2 \\epsilon w{\\left(y \\right)} - 2 g w{\\left(y \\right)} \\delta\\left(y\\right) - y^{2} w{\\left(y \\right)} - 2 y \\frac{d}{d y} w{\\left(y \\right)} + \\left(y^{2} - 1\\right) w{\\left(y \\right)} + \\frac{d^{2}}{d y^{2}} w{\\left(y \\right)} = 0$"
      ],
      "text/plain": [
       "Eq(2*\\epsilon*w(y) - 2*g*w(y)*DiracDelta(y) - y**2*w(y) - 2*y*Derivative(w(y), y) + (y**2 - 1)*w(y) + Derivative(w(y), (y, 2)), 0)"
      ]
     },
     "metadata": {},
     "output_type": "display_data"
    }
   ],
   "source": [
    "Schr_7 = Eq(sp.simplify(Schr_6.subs({f_new: sp.exp(-y**2/2) * W}).args[0] * sp.exp(y**2/2)), 0)\n",
    "display(Schr_7)"
   ]
  },
  {
   "cell_type": "code",
   "execution_count": 12,
   "metadata": {},
   "outputs": [
    {
     "data": {
      "text/latex": [
       "$\\displaystyle - 2 y \\frac{d}{d y} w{\\left(y \\right)} + \\left(2 \\epsilon - 2 g \\delta\\left(y\\right) - 1\\right) w{\\left(y \\right)} + \\frac{d^{2}}{d y^{2}} w{\\left(y \\right)} = 0$"
      ],
      "text/plain": [
       "Eq(-2*y*Derivative(w(y), y) + (2*\\epsilon - 2*g*DiracDelta(y) - 1)*w(y) + Derivative(w(y), (y, 2)), 0)"
      ]
     },
     "metadata": {},
     "output_type": "display_data"
    }
   ],
   "source": [
    "Schr_8 = Eq(Schr_7.args[0].collect(W), 0)\n",
    "display(Schr_8)"
   ]
  },
  {
   "cell_type": "markdown",
   "metadata": {},
   "source": [
    "At the same time, it is a common practice to write $2\\epsilon = 2\\nu + 1$, where $\\nu$ is a real number"
   ]
  },
  {
   "cell_type": "code",
   "execution_count": 13,
   "metadata": {},
   "outputs": [
    {
     "data": {
      "text/latex": [
       "$\\displaystyle - 2 y \\frac{d}{d y} w{\\left(y \\right)} + \\left(2 \\nu - 2 g \\delta\\left(y\\right)\\right) w{\\left(y \\right)} + \\frac{d^{2}}{d y^{2}} w{\\left(y \\right)} = 0$"
      ],
      "text/plain": [
       "Eq(-2*y*Derivative(w(y), y) + (2*\\nu - 2*g*DiracDelta(y))*w(y) + Derivative(w(y), (y, 2)), 0)"
      ]
     },
     "metadata": {},
     "output_type": "display_data"
    }
   ],
   "source": [
    "v = sp.symbols('\\\\nu')\n",
    "Schr_9 = Schr_8.subs({2*eps: 2*v + 1})\n",
    "display(Schr_9)"
   ]
  },
  {
   "cell_type": "markdown",
   "metadata": {},
   "source": [
    "This is the equation we need to solve:\n",
    "$$\\boxed{w''(y) - 2yw'(y) + 2\\nu w(y) - 2g\\delta(y)w(y) = 0}$$"
   ]
  },
  {
   "cell_type": "markdown",
   "metadata": {},
   "source": [
    "which is Hermite's differential equation for $g=0$; a further substitution $z=y^2$ transforms this equation to Kummer's equation:"
   ]
  },
  {
   "cell_type": "code",
   "execution_count": 14,
   "metadata": {},
   "outputs": [
    {
     "data": {
      "text/latex": [
       "$\\displaystyle 2 \\nu w{\\left(y \\right)} - 2 y \\frac{d}{d y} w{\\left(y \\right)} + \\frac{d^{2}}{d y^{2}} w{\\left(y \\right)} = 0$"
      ],
      "text/plain": [
       "Eq(2*\\nu*w(y) - 2*y*Derivative(w(y), y) + Derivative(w(y), (y, 2)), 0)"
      ]
     },
     "metadata": {},
     "output_type": "display_data"
    }
   ],
   "source": [
    "z = sp.symbols('z')\n",
    "HO_eq = Schr_9.subs({g: 0})\n",
    "display(HO_eq)"
   ]
  },
  {
   "cell_type": "markdown",
   "metadata": {},
   "source": [
    "Taking into account how the python function works, lets separate the equation as:\n",
    "$$\\underbrace{2 \\nu w{\\left(y \\right)} - 2 y \\frac{d}{d y} w{\\left(y \\right)}}_{eq_1} + \\underbrace{\\frac{d^{2}}{d y^{2}} w{\\left(y \\right)}}_{eq_2} = 0$$\n"
   ]
  },
  {
   "cell_type": "code",
   "execution_count": 15,
   "metadata": {},
   "outputs": [],
   "source": [
    "HO_eq_part1 = Eq(2*v*W - 2*y*D(W, y, 1), 0)\n",
    "HO_eq_part2 = Eq(D(W, y, 2), 0)"
   ]
  },
  {
   "cell_type": "code",
   "execution_count": 16,
   "metadata": {},
   "outputs": [
    {
     "data": {
      "text/latex": [
       "$\\displaystyle \\frac{\\nu w{\\left(z \\right)}}{2} + z \\frac{d^{2}}{d z^{2}} w{\\left(z \\right)} + \\left(\\frac{1}{2} - z\\right) \\frac{d}{d z} w{\\left(z \\right)} = 0$"
      ],
      "text/plain": [
       "Eq(\\nu*w(z)/2 + z*Derivative(w(z), (z, 2)) + (1/2 - z)*Derivative(w(z), z), 0)"
      ]
     },
     "metadata": {},
     "output_type": "display_data"
    }
   ],
   "source": [
    "HO_eq2_part1 = Eq(chain_rule(HO_eq_part1, y, W, 'w', z, Eq(z, y**2), 1).subs({y**2: z}), 0)\n",
    "HO_eq2_part2 = Eq(chain_rule(HO_eq_part2, y, W, 'w', z, Eq(z, y**2), 2).subs({y**2: z}), 0)\n",
    "HO_eq2 = Eq((HO_eq2_part1.args[0]/4 + HO_eq2_part2.args[0]/4).collect(f_new), 0)\n",
    "display(HO_eq2)"
   ]
  },
  {
   "cell_type": "markdown",
   "metadata": {},
   "source": [
    "which, obviously, has two linearly independent solutions: the confluent hypergeometric equation into Kummer’s equation, functions $M \\left(-\\frac{\\nu}{2}, \\frac{1}{2}, z \\right)$ and $U \\left(-\\frac{\\nu}{2}, \\frac{1}{2}, z \\right)$. Thus the general solution is\n",
    "$$w(z) = A_{\\nu} M \\left(-\\frac{\\nu}{2}, \\frac{1}{2}, z \\right) + B_{\\nu}U \\left(-\\frac{\\nu}{2}, \\frac{1}{2}, z \\right) $$\n",
    "\n",
    "where $A_ν$ and $B_ν$ are arbitrary complex constants and $ν$ is an arbitrary real number."
   ]
  },
  {
   "cell_type": "markdown",
   "metadata": {},
   "source": [
    "The hypergeometric confluent functions are first and second class of\n",
    "$${}_pF_q\\left(\\begin{matrix} a_1, \\cdots, a_p \\\\ b_1, \\cdots, b_q \\end{matrix}\n",
    "                 \\middle| z \\right)\n",
    "    = \\sum_{n=0}^\\infty \\frac{(a_1)_n \\cdots (a_p)_n}{(b_1)_n \\cdots (b_q)_n}\n",
    "                        \\frac{z^n}{n!}$$\n",
    "                        \n",
    "where:\n",
    "$$M(a, b, z) =\\ _1F_1(a, b, z)$$\n",
    "and\n",
    "$$U(a,b,z) = z^{-a}\\ _2F_0(a, 1+a-b, -1/z)$$"
   ]
  },
  {
   "cell_type": "code",
   "execution_count": 17,
   "metadata": {},
   "outputs": [
    {
     "data": {
      "text/plain": [
       "'U(-v/2, 1/2, z):'"
      ]
     },
     "metadata": {},
     "output_type": "display_data"
    },
    {
     "data": {
      "text/latex": [
       "$\\displaystyle {{}_{1}F_{1}\\left(\\begin{matrix} - \\frac{\\nu}{2} \\\\ 0.5 \\end{matrix}\\middle| {z} \\right)}$"
      ],
      "text/plain": [
       "hyper((-\\nu/2,), (0.5,), z)"
      ]
     },
     "metadata": {},
     "output_type": "display_data"
    }
   ],
   "source": [
    "display('U(-v/2, 1/2, z):', sp.hyperexpand(sp.hyper([-v/2], [1/2], z)))"
   ]
  },
  {
   "cell_type": "code",
   "execution_count": 18,
   "metadata": {},
   "outputs": [
    {
     "data": {
      "text/plain": [
       "'M(-v/2, 1/2, z):'"
      ]
     },
     "metadata": {},
     "output_type": "display_data"
    },
    {
     "data": {
      "text/latex": [
       "$\\displaystyle {{}_{2}F_{0}\\left(\\begin{matrix} - \\frac{\\nu}{2}, 0.5 - \\frac{\\nu}{2} \\\\  \\end{matrix}\\middle| {z} \\right)}$"
      ],
      "text/plain": [
       "hyper((-\\nu/2, 0.5 - \\nu/2), (), z)"
      ]
     },
     "metadata": {},
     "output_type": "display_data"
    }
   ],
   "source": [
    "display('M(-v/2, 1/2, z):', sp.hyperexpand(sp.hyper([-v/2, 1 -v/2 - 1/2], [], z)))"
   ]
  },
  {
   "cell_type": "markdown",
   "metadata": {},
   "source": [
    "This hypergeometric functions depends on the gamma functions. This tell us that $\\nu$ must be either 0 or a a real-positive-integer value. This forces $z>0$ givin rise to the typical solution of the harmonic oscillator:\n",
    "$$H_{2n}(x) = (-1)^n\\frac{(2n)!}{n!}\\ _1F_1(-n, 1/2, x)$$\n",
    "$$H_{2n+1}(x) = (-1)^n\\frac{(2n+1)!}{n!}2x\\ _1F_1(-n, 3/2, x)$$\n",
    "\n",
    "$$w(z) = H_n(z)$$\n",
    "Hence\n",
    "$$\\psi(y) = c H_n(y) e^{-y^2/2}$$\n",
    "\n",
    "For non-integer values of $a$ and $b$ the function $M(a,b,z)$ diverges when $(y,z) \\rightarrow \\infty$. On the contrary, $U(a,b,z)$ with a non-integer value of $\\nu$ does not blow up in the limit. Thus, the function:\n",
    "$$\\psi_{\\nu}(y) = A e^{-y^2/2} U \\left(-\\frac{\\nu}{2}, \\frac{1}{2}, y^2 \\right)$$\n",
    "could in principle be an acceptable wavefunction for any $\\nu$.\n",
    "\n",
    "We are now about to see that $\\psi'_ν (0^+) = −\\psi'_ν (0^−)$. It is the latter property of $\\psi_ν(y)$ which allows the solution of the quantum problem with finite g.\n",
    "\n",
    "Since Hamiltonian is invariant over the parity transformation $x \\rightarrow -x$, their eigenstates $\\psi_g(y)$ are either even- or odd-parity states. In the case of odd states, we have $\\psi_g (0) = 0$ and therefore they do not see the presence of the delta function at the origin. Thus, the odd-parity wavefunctions $\\psi^{odd}_g(y)$ are the states $\\psi(y)$ of the ordinary harmonic oscillator, with $ν = n = 1,3,5,...,$ and the eigenvalues are $\\epsilon = n + 1/2$. To the latter result, we recall the 'trivial solution'.\n",
    "\n",
    "The solution of the even-parity eigenfunctions $\\psi^{even}_g(y)$ is not as simple, since these states feel the presence of the delta function at the origin. We need to find now the boundary condition the function $w(y)$ must obey at the origin. Proceeding as we did in the standard delta potential barrier, we integrate equation (Schr_9) around $y = 0$ obtaining\n",
    "\n",
    "$$\\lim_{\\varepsilon \\to 0} \\int^{\\varepsilon}_{\\varepsilon} \\left[ - 2 y \\frac{d}{d y} w{\\left(y \\right)} + \\left(2 \\nu - 2 g \\delta\\left(y\\right)\\right) w{\\left(y \\right)} + \\frac{d^{2}}{d y^{2}} w{\\left(y \\right)} \\right] = 0$$\n",
    "\n",
    "Therefore:\n",
    "\n",
    "$$w'_>(0^+) - w'_<(0^-) = 2gw(0)$$\n",
    "\n",
    "This equation enables us to find the quantized energies of the even-parity eigenstates we are seeking. Thus, the correct wavefunction for $\\psi^{even}_g(y)$ is $\\psi_{\\nu}(y)$ and not $\\psi_n(y)$ with $n = 0,2,4,...,$\n",
    "\n",
    "Using the previous results:\n",
    "\n",
    "$$ \\lim_{x \\to 0^+} U(-\\nu/2, 1/2, y^2) = \\frac{\\sqrt{\\pi}}{\\Gamma(1/2 - \\nu/2)} $$\n",
    "\n",
    "The derivative is simply $U'(a, b, z) = -a U(a+1, b+1, z)$ so\n",
    "\n",
    "$$ \\lim_{x \\to 0^+} U'(-\\nu/2, 1/2, y^2) = \\frac{\\nu \\sqrt{\\pi}}{\\Gamma(1 - \\nu/2)} $$\n",
    "\n",
    "The eigenvalues associated with even-parity eigenstates are given by the numerical solution of the transcendent equation\n",
    "\n",
    "$$F(\\nu) = \\nu - g\\frac{\\Gamma(1 - \\nu/2)}{\\Gamma(1/2 - \\nu/2)} = 0$$"
   ]
  },
  {
   "cell_type": "code",
   "execution_count": 19,
   "metadata": {},
   "outputs": [],
   "source": [
    "from scipy.special import hyperu\n",
    "from numpy.polynomial.hermite import hermval\n",
    "x = np.linspace(-5, 5, num=200)"
   ]
  },
  {
   "cell_type": "code",
   "execution_count": 20,
   "metadata": {},
   "outputs": [
    {
     "data": {
      "text/plain": [
       "<matplotlib.legend.Legend at 0x126329370>"
      ]
     },
     "execution_count": 20,
     "metadata": {},
     "output_type": "execute_result"
    },
    {
     "data": {
      "image/png": "[encoded data removed]",
      "text/plain": [
       "<Figure size 360x432 with 1 Axes>"
      ]
     },
     "metadata": {
      "needs_background": "light"
     },
     "output_type": "display_data"
    }
   ],
   "source": [
    "plt.figure(figsize=(5, 6))\n",
    "plt.plot(x, np.exp(-x**2/2)*hermval(x, [0, 1]), '-', label='n=1')\n",
    "plt.plot(x, 2.5*(np.exp(-x**2/2)*hyperu(-0.7961/2, 1/2, x**2)), '--', label='n=2')\n",
    "plt.plot(x, 0.4*np.exp(-x**2/2)*hermval(x, [0, 0, 0, 1]) + 8, '-', label='n=3')\n",
    "plt.plot(x, 2.5*(np.exp(-x**2/2)*hyperu(-2.7003/2, 1/2, x**2)) + 4, '--', label='n=4')\n",
    "plt.xlim(-3, 3)\n",
    "plt.ylabel(r'$\\psi(x)$', fontsize=18)\n",
    "plt.xlabel(r'$x$', fontsize=18)\n",
    "plt.title(r'$g=5$')\n",
    "plt.legend()"
   ]
  },
  {
   "cell_type": "markdown",
   "metadata": {},
   "source": [
    "As expected, the effect of the potential is to shift the eigenenergies of the even-states of the ordinary harmonic oscillator up or down in energy for positive and negative values of $g$, respectively. This effect is stronger for the low-lying eigenvalues (as we can anticipate from perturbation theory) and shifts the eigenenergies of the states towards those of their lower or higher neighbouring odd states, depending on the signal of $g$. See for example, $n=2$ has a form very likely to the $n=3$ of the harmonic case."
   ]
  }
 ],
 "metadata": {
  "kernelspec": {
   "display_name": "Python 3",
   "language": "python",
   "name": "python3"
  },
  "language_info": {
   "codemirror_mode": {
    "name": "ipython",
    "version": 3
   },
   "file_extension": ".py",
   "mimetype": "text/x-python",
   "name": "python",
   "nbconvert_exporter": "python",
   "pygments_lexer": "ipython3",
   "version": "3.8.5"
  }
 },
 "nbformat": 4,
 "nbformat_minor": 4
}
