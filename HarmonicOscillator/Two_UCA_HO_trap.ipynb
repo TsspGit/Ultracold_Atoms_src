{
 "cells": [
  {
   "cell_type": "code",
   "execution_count": 1,
   "metadata": {},
   "outputs": [],
   "source": [
    "__author__ = \"@Tssp\"\n",
    "__date__   = \"27/04/2021\"\n",
    "import sympy as sp\n",
    "from sympy import diff as D\n",
    "from sympy import Eq\n",
    "from sympy.abc import a, b, c, n\n",
    "import numpy as np"
   ]
  },
  {
   "cell_type": "code",
   "execution_count": 13,
   "metadata": {},
   "outputs": [],
   "source": [
    "x, y, z, m1, m2, m, hbar, w, alpha, E, r1, r2, r, R, ao = sp.symbols('x  y z m_1 m_2 m \\\\hbar \\\\omega \\\\alpha E r_1 r_2 r R a_0', real=True)\n",
    "psi = sp.Function('\\\\Psi', real=False)(r1, r2)  # wavefunction\n",
    "psi_rm = sp.Function('\\\\psi_{rm}', real=False)(r)  # wavefunction\n",
    "phi_cm = sp.Function('\\\\phi_{CM}', real=False)(R)  # wavefunction"
   ]
  },
  {
   "cell_type": "code",
   "execution_count": 24,
   "metadata": {},
   "outputs": [
    {
     "data": {
      "text/latex": [
       "$\\displaystyle \\frac{4 \\pi \\hbar^{2} a_{0} \\Psi{\\left(r_{1},r_{2} \\right)} \\delta\\left(r_{1} - r_{2}\\right)}{m} - \\frac{\\hbar \\frac{\\partial^{2}}{\\partial r_{2}^{2}} \\Psi{\\left(r_{1},r_{2} \\right)}}{2 m_{2}} - \\frac{\\hbar \\frac{\\partial^{2}}{\\partial r_{1}^{2}} \\Psi{\\left(r_{1},r_{2} \\right)}}{2 m_{1}} + 0.5 \\omega^{2} m_{1} r_{1}^{2} + 0.5 \\omega^{2} m_{2} r_{2}^{2} = 0$"
      ],
      "text/plain": [
       "Eq(4*pi*\\hbar**2*a_0*\\Psi(r_1, r_2)*DiracDelta(r_1 - r_2)/m - \\hbar*Derivative(\\Psi(r_1, r_2), (r_2, 2))/(2*m_2) - \\hbar*Derivative(\\Psi(r_1, r_2), (r_1, 2))/(2*m_1) + 0.5*\\omega**2*m_1*r_1**2 + 0.5*\\omega**2*m_2*r_2**2, 0)"
      ]
     },
     "execution_count": 24,
     "metadata": {},
     "output_type": "execute_result"
    }
   ],
   "source": [
    "Schr_eq = Eq(-hbar/(2*m1)*D(psi, r1, 2) - hbar/(2*m2)*D(psi, r2, 2) +\\\n",
    "             1/2*m1*w**2*r1**2 + 1/2*m2*w**2*r2**2 +\\\n",
    "             4*sp.pi*hbar**2*ao/m * sp.DiracDelta(r1-r2) * D(r*psi, r), 0)\n",
    "Schr_eq"
   ]
  },
  {
   "cell_type": "markdown",
   "metadata": {},
   "source": [
    "## Change from cartesians to rm and CM"
   ]
  },
  {
   "cell_type": "code",
   "execution_count": 25,
   "metadata": {},
   "outputs": [
    {
     "data": {
      "text/latex": [
       "$\\displaystyle r = r_{1} - r_{2}$"
      ],
      "text/plain": [
       "Eq(r, r_1 - r_2)"
      ]
     },
     "metadata": {},
     "output_type": "display_data"
    },
    {
     "data": {
      "text/latex": [
       "$\\displaystyle R = 0.5 r_{1} + 0.5 r_{2}$"
      ],
      "text/plain": [
       "Eq(R, 0.5*r_1 + 0.5*r_2)"
      ]
     },
     "metadata": {},
     "output_type": "display_data"
    }
   ],
   "source": [
    "rel_eq = Eq(r, r1 - r2)\n",
    "CM_eq  = Eq(R, (r1 + r2)*0.5)\n",
    "display(rel_eq)\n",
    "display(CM_eq)"
   ]
  },
  {
   "cell_type": "code",
   "execution_count": 26,
   "metadata": {},
   "outputs": [
    {
     "data": {
      "text/latex": [
       "$\\displaystyle r_{1}$"
      ],
      "text/plain": [
       "r_1"
      ]
     },
     "metadata": {},
     "output_type": "display_data"
    },
    {
     "data": {
      "text/latex": [
       "$\\displaystyle R + 0.5 r$"
      ],
      "text/plain": [
       "R + 0.5*r"
      ]
     },
     "metadata": {},
     "output_type": "display_data"
    },
    {
     "data": {
      "text/latex": [
       "$\\displaystyle r_{2}$"
      ],
      "text/plain": [
       "r_2"
      ]
     },
     "metadata": {},
     "output_type": "display_data"
    },
    {
     "data": {
      "text/latex": [
       "$\\displaystyle R - 0.5 r$"
      ],
      "text/plain": [
       "R - 0.5*r"
      ]
     },
     "metadata": {},
     "output_type": "display_data"
    }
   ],
   "source": [
    "sol_change = sp.solve([rel_eq, CM_eq], {r1, r2})\n",
    "display(r1,sol_change[r1], r2, sol_change[r2])"
   ]
  },
  {
   "cell_type": "code",
   "execution_count": 28,
   "metadata": {},
   "outputs": [
    {
     "data": {
      "text/latex": [
       "$\\displaystyle 0.5 R^{2} \\omega^{2} m_{1} + 0.5 R^{2} \\omega^{2} m_{2} + 0.5 R \\omega^{2} m_{1} r - 0.5 R \\omega^{2} m_{2} r + \\frac{4 \\pi \\hbar^{2} a_{0} \\Psi{\\left(R + 0.5 r,R - 0.5 r \\right)} \\delta\\left(1.0 r\\right)}{m} - \\frac{\\hbar \\left. \\frac{\\partial^{2}}{\\partial r_{2}^{2}} \\Psi{\\left(R + 0.5 r,r_{2} \\right)} \\right|_{\\substack{ r_{2}=R - 0.5 r }}}{2 m_{2}} - \\frac{\\hbar \\left. \\frac{\\partial^{2}}{\\partial r_{1}^{2}} \\Psi{\\left(r_{1},R - 0.5 r \\right)} \\right|_{\\substack{ r_{1}=R + 0.5 r }}}{2 m_{1}} + 0.125 \\omega^{2} m_{1} r^{2} + 0.125 \\omega^{2} m_{2} r^{2} = 0$"
      ],
      "text/plain": [
       "Eq(0.5*R**2*\\omega**2*m_1 + 0.5*R**2*\\omega**2*m_2 + 0.5*R*\\omega**2*m_1*r - 0.5*R*\\omega**2*m_2*r + 4*pi*\\hbar**2*a_0*\\Psi(R + 0.5*r, R - 0.5*r)*DiracDelta(1.0*r)/m - \\hbar*Subs(Derivative(\\Psi(R + 0.5*r, r_2), (r_2, 2)), r_2, R - 0.5*r)/(2*m_2) - \\hbar*Subs(Derivative(\\Psi(r_1, R - 0.5*r), (r_1, 2)), r_1, R + 0.5*r)/(2*m_1) + 0.125*\\omega**2*m_1*r**2 + 0.125*\\omega**2*m_2*r**2, 0)"
      ]
     },
     "execution_count": 28,
     "metadata": {},
     "output_type": "execute_result"
    }
   ],
   "source": [
    "Schr_eq.subs({r1: sol_change[r1],\n",
    "             r2: sol_change[r2]}).expand()"
   ]
  },
  {
   "cell_type": "code",
   "execution_count": 71,
   "metadata": {},
   "outputs": [
    {
     "data": {
      "text/latex": [
       "$\\displaystyle - E \\psi_{rm}{\\left(r \\right)} + \\frac{4 \\pi \\hbar^{2} a_{0} \\left(r \\frac{d}{d r} \\psi_{rm}{\\left(r \\right)} + \\psi_{rm}{\\left(r \\right)}\\right) \\delta\\left(r\\right)}{m} - \\frac{\\hbar \\frac{d^{2}}{d r^{2}} \\psi_{rm}{\\left(r \\right)}}{2 m} + 0.5 \\omega^{2} m r^{2} = 0$"
      ],
      "text/plain": [
       "Eq(-E*\\psi_{rm}(r) + 4*pi*\\hbar**2*a_0*(r*Derivative(\\psi_{rm}(r), r) + \\psi_{rm}(r))*DiracDelta(r)/m - \\hbar*Derivative(\\psi_{rm}(r), (r, 2))/(2*m) + 0.5*\\omega**2*m*r**2, 0)"
      ]
     },
     "execution_count": 71,
     "metadata": {},
     "output_type": "execute_result"
    }
   ],
   "source": [
    "Schr_eq_rm = Eq(-hbar/(2*m)*D(psi_rm, r, 2) +\\\n",
    "             1/2*m*w**2*r**2 + 4*sp.pi*hbar**2*ao/m * sp.DiracDelta(r) * D(r*psi_rm, r) - E*psi_rm, 0)\n",
    "Schr_eq_rm"
   ]
  },
  {
   "cell_type": "code",
   "execution_count": 72,
   "metadata": {},
   "outputs": [],
   "source": [
    "En = sp.symbols('E_n')"
   ]
  },
  {
   "cell_type": "code",
   "execution_count": 73,
   "metadata": {},
   "outputs": [
    {
     "data": {
      "text/latex": [
       "$\\displaystyle - E \\psi_{rm}{\\left(r \\right)} + E_{n} \\psi_{rm}{\\left(r \\right)} + \\frac{4 \\pi \\hbar^{2} a_{0} \\left(r \\frac{d}{d r} \\psi_{rm}{\\left(r \\right)} + \\psi_{rm}{\\left(r \\right)}\\right) \\delta\\left(r\\right)}{m} = 0$"
      ],
      "text/plain": [
       "Eq(-E*\\psi_{rm}(r) + E_n*\\psi_{rm}(r) + 4*pi*\\hbar**2*a_0*(r*Derivative(\\psi_{rm}(r), r) + \\psi_{rm}(r))*DiracDelta(r)/m, 0)"
      ]
     },
     "execution_count": 73,
     "metadata": {},
     "output_type": "execute_result"
    }
   ],
   "source": [
    "Schr_eq_rm = Schr_eq_rm.subs({-hbar/(2*m)*D(psi_rm, r, 2) + 1/2*m*w**2*r**2: En*psi_rm})\n",
    "Schr_eq_rm"
   ]
  },
  {
   "cell_type": "code",
   "execution_count": 85,
   "metadata": {},
   "outputs": [],
   "source": [
    "cn = sp.symbols('c_n')\n",
    "phi = sp.Function('\\\\phi_n', real=False)(r)\n",
    "phim = sp.Function('\\\\phi_m', real=False)(r)"
   ]
  },
  {
   "cell_type": "code",
   "execution_count": 86,
   "metadata": {},
   "outputs": [
    {
     "data": {
      "text/latex": [
       "$\\displaystyle \\sum_{n=0}^{\\infty} c_{n} \\phi_{n}{\\left(r \\right)}$"
      ],
      "text/plain": [
       "Sum(c_n*\\phi_n(r), (n, 0, oo))"
      ]
     },
     "execution_count": 86,
     "metadata": {},
     "output_type": "execute_result"
    }
   ],
   "source": [
    "sol_series = sp.Sum(cn * phi, (n, 0, sp.oo))\n",
    "sol_series"
   ]
  },
  {
   "cell_type": "code",
   "execution_count": 87,
   "metadata": {},
   "outputs": [
    {
     "data": {
      "text/latex": [
       "$\\displaystyle - E \\sum_{n=0}^{\\infty} c_{n} \\phi_{n}{\\left(r \\right)} + E_{n} \\sum_{n=0}^{\\infty} c_{n} \\phi_{n}{\\left(r \\right)} + \\frac{4 \\pi \\hbar^{2} a_{0} \\left(r \\frac{\\partial}{\\partial r} \\sum_{n=0}^{\\infty} c_{n} \\phi_{n}{\\left(r \\right)} + \\sum_{n=0}^{\\infty} c_{n} \\phi_{n}{\\left(r \\right)}\\right) \\delta\\left(r\\right)}{m} = 0$"
      ],
      "text/plain": [
       "Eq(-E*Sum(c_n*\\phi_n(r), (n, 0, oo)) + E_n*Sum(c_n*\\phi_n(r), (n, 0, oo)) + 4*pi*\\hbar**2*a_0*(r*Derivative(Sum(c_n*\\phi_n(r), (n, 0, oo)), r) + Sum(c_n*\\phi_n(r), (n, 0, oo)))*DiracDelta(r)/m, 0)"
      ]
     },
     "execution_count": 87,
     "metadata": {},
     "output_type": "execute_result"
    }
   ],
   "source": [
    "Schr_eq_rm_2 = Schr_eq_rm.subs({psi_rm: sol_series})\n",
    "Schr_eq_rm_2"
   ]
  },
  {
   "cell_type": "code",
   "execution_count": 89,
   "metadata": {},
   "outputs": [
    {
     "data": {
      "text/latex": [
       "$\\displaystyle - E \\overline{\\phi_{m}{\\left(r \\right)}} \\sum_{n=0}^{\\infty} c_{n} \\phi_{n}{\\left(r \\right)} + E_{n} \\overline{\\phi_{m}{\\left(r \\right)}} \\sum_{n=0}^{\\infty} c_{n} \\phi_{n}{\\left(r \\right)} + \\frac{4 \\pi \\hbar^{2} a_{0} r \\overline{\\phi_{m}{\\left(r \\right)}} \\delta\\left(r\\right) \\frac{\\partial}{\\partial r} \\sum_{n=0}^{\\infty} c_{n} \\phi_{n}{\\left(r \\right)}}{m} + \\frac{4 \\pi \\hbar^{2} a_{0} \\overline{\\phi_{m}{\\left(r \\right)}} \\delta\\left(r\\right) \\sum_{n=0}^{\\infty} c_{n} \\phi_{n}{\\left(r \\right)}}{m} = 0$"
      ],
      "text/plain": [
       "Eq(-E*conjugate(\\phi_m(r))*Sum(c_n*\\phi_n(r), (n, 0, oo)) + E_n*conjugate(\\phi_m(r))*Sum(c_n*\\phi_n(r), (n, 0, oo)) + 4*pi*\\hbar**2*a_0*r*conjugate(\\phi_m(r))*DiracDelta(r)*Derivative(Sum(c_n*\\phi_n(r), (n, 0, oo)), r)/m + 4*pi*\\hbar**2*a_0*conjugate(\\phi_m(r))*DiracDelta(r)*Sum(c_n*\\phi_n(r), (n, 0, oo))/m, 0)"
      ]
     },
     "execution_count": 89,
     "metadata": {},
     "output_type": "execute_result"
    }
   ],
   "source": [
    "Schr_eq_rm_3 = Eq(sp.expand(Schr_eq_rm_2.args[0] * sp.conjugate(phim)), 0)\n",
    "Schr_eq_rm_3"
   ]
  },
  {
   "cell_type": "markdown",
   "metadata": {},
   "source": [
    "$$\\sum^\\infty_0 c_n \\phi_m(r) \\phi^*_n(r) = \\sum^\\infty_0 c_n \\delta_{nm} = c_m$$"
   ]
  },
  {
   "cell_type": "code",
   "execution_count": 90,
   "metadata": {},
   "outputs": [],
   "source": [
    "cm = sp.symbols('c_m')"
   ]
  },
  {
   "cell_type": "code",
   "execution_count": 96,
   "metadata": {},
   "outputs": [
    {
     "data": {
      "text/latex": [
       "$\\displaystyle - E c_{m} + E_{n} c_{m} + \\frac{4 \\pi \\hbar^{2} a_{0} c_{m} \\delta\\left(r\\right)}{m} + \\frac{4 \\pi \\hbar^{2} a_{0} r \\overline{\\phi_{m}{\\left(r \\right)}} \\delta\\left(r\\right) \\frac{\\partial}{\\partial r} \\sum_{n=0}^{\\infty} c_{n} \\phi_{n}{\\left(r \\right)}}{m} = 0$"
      ],
      "text/plain": [
       "Eq(-E*c_m + E_n*c_m + 4*pi*\\hbar**2*a_0*c_m*DiracDelta(r)/m + 4*pi*\\hbar**2*a_0*r*conjugate(\\phi_m(r))*DiracDelta(r)*Derivative(Sum(c_n*\\phi_n(r), (n, 0, oo)), r)/m, 0)"
      ]
     },
     "execution_count": 96,
     "metadata": {},
     "output_type": "execute_result"
    }
   ],
   "source": [
    "Eq(Schr_eq_rm_3.args[0].subs({sp.conjugate(phim) * sp.Sum(cn*phi, (n, 0, sp.oo)): cm}), 0)"
   ]
  },
  {
   "cell_type": "code",
   "execution_count": null,
   "metadata": {},
   "outputs": [],
   "source": []
  }
 ],
 "metadata": {
  "kernelspec": {
   "display_name": "Python 3",
   "language": "python",
   "name": "python3"
  },
  "language_info": {
   "codemirror_mode": {
    "name": "ipython",
    "version": 3
   },
   "file_extension": ".py",
   "mimetype": "text/x-python",
   "name": "python",
   "nbconvert_exporter": "python",
   "pygments_lexer": "ipython3",
   "version": "3.8.5"
  }
 },
 "nbformat": 4,
 "nbformat_minor": 4
}
