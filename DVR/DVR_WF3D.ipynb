{
 "cells": [
  {
   "cell_type": "code",
   "execution_count": 17,
   "metadata": {},
   "outputs": [],
   "source": [
    "__author__ = \"@Tssp\"\n",
    "__date__ = \"20/10/20\"\n",
    "import numpy as np\n",
    "import matplotlib.pyplot as plt\n",
    "from math import pi\n",
    "import seaborn as sns\n",
    "import pandas as pd\n",
    "from input_DVR_3D import hbar, m, Ix, Iy, Iz, n, pot, wL, alpha, delta, xmax, xmin\n",
    "from method import DVR_method\n",
    "plt.rc('text',usetex=True)\n",
    "plt.rc('font',family='serif')\n",
    "plt.rcParams['xtick.labelsize']=16\n",
    "plt.rcParams['ytick.labelsize']=16\n",
    "plt.rcParams['axes.labelsize']=18\n",
    "plt.rcParams['axes.titlesize']=18"
   ]
  },
  {
   "cell_type": "code",
   "execution_count": 2,
   "metadata": {},
   "outputs": [
    {
     "name": "stdout",
     "output_type": "stream",
     "text": [
      " \n",
      "           Potential      =    sin2\n",
      "           order (Taylor) =    6\n",
      "           Ix(mW/cm2)     =    7190.0\n",
      "           Iy(mW/cm2)     =    4993.0\n",
      "           Iz(mW/cm2)     =    50.0\n",
      "           wL(nm)         =    1000.0\n",
      "           wL(a.u)        =    18897.259885789234\n",
      "           hbar           =    1\n",
      "           alpha(a.u)     =    200\n",
      "           delta          =    50\n",
      "           xmin           =    -15000\n",
      "           xmax           =    15000\n",
      "           kx(a.u)        =    0.00033249187158105134\n",
      "           Vx(a.u)        =    2.2341649369095206e-10\n",
      "           Vy(a.u)        =    1.5514861655061523e-10\n",
      "           Vz(a.u)        =    1.553661291313992e-12\n",
      "           wx(a.u)        =    6.214821862347626e-11\n",
      "           \n",
      "      \n"
     ]
    }
   ],
   "source": [
    "# Parameters:\n",
    "Ix = Ix / 6.436409310e15\n",
    "Iy = Iy / 6.436409310e15\n",
    "Iz = Iz / 6.436409310e15\n",
    "wL = wL / 0.0529177249\n",
    "kx = 2*pi/wL\n",
    "Vx = alpha * Ix\n",
    "Vy = alpha * Iy\n",
    "Vz = alpha * Iz\n",
    "wx = np.sqrt(2 * Vx/m) * kx\n",
    "print(f\"\"\" \n",
    "           Potential      =    {pot}\n",
    "           order (Taylor) =    {n}\n",
    "           Ix(mW/cm2)     =    {Ix * 6.436409310e15}\n",
    "           Iy(mW/cm2)     =    {Iy * 6.436409310e15}\n",
    "           Iz(mW/cm2)     =    {Iz * 6.436409310e15}\n",
    "           wL(nm)         =    {wL * 0.0529177249}\n",
    "           wL(a.u)        =    {wL}\n",
    "           hbar           =    {hbar}\n",
    "           alpha(a.u)     =    {alpha}\n",
    "           delta          =    {delta}\n",
    "           xmin           =    {xmin}\n",
    "           xmax           =    {xmax}\n",
    "           kx(a.u)        =    {kx}\n",
    "           Vx(a.u)        =    {Vx}\n",
    "           Vy(a.u)        =    {Vy}\n",
    "           Vz(a.u)        =    {Vz}\n",
    "           wx(a.u)        =    {wx}\n",
    "           \n",
    "      \"\"\")"
   ]
  },
  {
   "cell_type": "code",
   "execution_count": 3,
   "metadata": {},
   "outputs": [
    {
     "name": "stdout",
     "output_type": "stream",
     "text": [
      "\n",
      "X Axis: \n",
      "\n",
      "           n        E                       E[hbar wx]\n",
      "           0 2.99541430809373e-11     0.48197910968959345\n",
      "           1 8.743491097806448e-11     1.4068771867426664\n",
      "           2 1.3970473954103311e-10     2.2479283016530447\n",
      "           3 1.8595771609440584e-10     2.9921648635019924\n",
      "           4 2.2547482742826134e-10     3.628017542937088\n",
      "           5 2.5891377730437444e-10     4.1660691656022895\n",
      "           6 2.8962139870299653e-10     4.66017216772796\n",
      "           7 3.2160895834547655e-10     5.174870100363423\n",
      "           8 3.565680458360276e-10     5.737381597311549\n",
      "           9 3.944284184907659e-10     6.346576414046597\n",
      "           10 4.3493326669458834e-10     6.99832233856328\n",
      "\n",
      "Bingo !\n",
      "\n",
      "Y Axis: \n",
      "\n",
      "           n        E                       E[hbar wx]\n",
      "           0 2.4766832865840235e-11     0.39851235344152974\n",
      "           1 7.181047057596027e-11     1.155471100644454\n",
      "           2 1.1342566004157905e-10     1.8250830442746258\n",
      "           3 1.4873663226736216e-10     2.3932565657027123\n",
      "           4 1.7787349514839497e-10     2.862085174573353\n",
      "           5 2.0379573439414997e-10     3.279188670375934\n",
      "           6 2.3076390125696157e-10     3.713121733304056\n",
      "           7 2.6073281833069326e-10     4.195338564896571\n",
      "           8 2.935780643359423e-10     4.72383715637256\n",
      "           9 3.289843417975895e-10     5.293544192967694\n",
      "           10 3.6679774972096693e-10     5.9019833206033425\n",
      "\n",
      "Bingo !\n",
      "\n",
      "Z Axis: \n",
      "\n",
      "           n        E                       E[hbar wx]\n",
      "           0 2.0217654575682236e-12     0.032531350090934205\n",
      "           1 6.186494824018218e-12     0.09954420192634922\n",
      "           2 1.1586714078263067e-11     0.1864367850744193\n",
      "           3 1.885817707341696e-11     0.30343873872988775\n",
      "           4 2.750815704039973e-11     0.44262181040227955\n",
      "           5 3.734691308176379e-11     0.6009329616996638\n",
      "           6 4.8273487553342556e-11     0.7767477270073743\n",
      "           7 6.02039883746417e-11     0.9687162352856219\n",
      "           8 7.307097314758337e-11     1.1757533001916336\n",
      "           9 8.681917686719074e-11     1.3969696765273834\n",
      "           10 1.0140214568788754e-10     1.6316178956347953\n",
      "\n",
      "Bingo !\n"
     ]
    }
   ],
   "source": [
    "# xaxis:\n",
    "########\n",
    "x = np.arange(xmin, xmax, delta)\n",
    "N = len(x)\n",
    "\n",
    "print(\"\\nX Axis: \\n\")\n",
    "Ex, wfx = DVR_method(N, delta, kx, x, Vx, wx)\n",
    "\n",
    "print(\"\\nY Axis: \\n\")\n",
    "Ey,wfy = DVR_method(N, delta, kx, x, Vy, wx)\n",
    "\n",
    "print(\"\\nZ Axis: \\n\")\n",
    "Ez, wfz =DVR_method(N, delta, kx, x, Vz, wx)"
   ]
  },
  {
   "cell_type": "code",
   "execution_count": 19,
   "metadata": {},
   "outputs": [
    {
     "data": {
      "text/plain": [
       "<matplotlib.axes._subplots.AxesSubplot at 0x12789a940>"
      ]
     },
     "execution_count": 19,
     "metadata": {},
     "output_type": "execute_result"
    },
    {
     "data": {
      "image/png": "[encoded data removed]",
      "text/plain": [
       "<Figure size 432x288 with 2 Axes>"
      ]
     },
     "metadata": {
      "needs_background": "light"
     },
     "output_type": "display_data"
    }
   ],
   "source": [
    "data = pd.DataFrame(data={'x':x, 'y':x, 'z':wfz[:,1]})\n",
    "data = data.pivot(index='x', columns='y', values='z')\n",
    "sns.heatmap(data)"
   ]
  },
  {
   "cell_type": "code",
   "execution_count": 20,
   "metadata": {},
   "outputs": [
    {
     "data": {
      "text/plain": [
       "[<matplotlib.lines.Line2D at 0x127918280>]"
      ]
     },
     "execution_count": 20,
     "metadata": {},
     "output_type": "execute_result"
    },
    {
     "data": {
      "image/png": "[encoded data removed]",
      "text/plain": [
       "<Figure size 432x288 with 1 Axes>"
      ]
     },
     "metadata": {
      "needs_background": "light"
     },
     "output_type": "display_data"
    }
   ],
   "source": [
    "plt.plot(wfz[:,1])"
   ]
  },
  {
   "cell_type": "code",
   "execution_count": null,
   "metadata": {},
   "outputs": [],
   "source": []
  }
 ],
 "metadata": {
  "kernelspec": {
   "display_name": "Python 3",
   "language": "python",
   "name": "python3"
  },
  "language_info": {
   "codemirror_mode": {
    "name": "ipython",
    "version": 3
   },
   "file_extension": ".py",
   "mimetype": "text/x-python",
   "name": "python",
   "nbconvert_exporter": "python",
   "pygments_lexer": "ipython3",
   "version": "3.8.5"
  }
 },
 "nbformat": 4,
 "nbformat_minor": 4
}
