{
 "cells": [
  {
   "cell_type": "code",
   "execution_count": 5,
   "metadata": {},
   "outputs": [],
   "source": [
    "__author__ = \"@Tssp\"\n",
    "__date__ = \"20/10/20\"\n",
    "import numpy as np\n",
    "import matplotlib.pyplot as plt\n",
    "from math import pi\n",
    "import seaborn as sns\n",
    "import pandas as pd\n",
    "from input_DVR_3D import hbar, m, Ix, Iy, Iz, n, pot, wL, alpha, delta, xmax, xmin\n",
    "from method import DVR_method\n",
    "plt.rc('text',usetex=True)\n",
    "plt.rc('font',family='serif')\n",
    "plt.rcParams['xtick.labelsize']=16\n",
    "plt.rcParams['ytick.labelsize']=16\n",
    "plt.rcParams['axes.labelsize']=18\n",
    "plt.rcParams['axes.titlesize']=18"
   ]
  },
  {
   "cell_type": "code",
   "execution_count": 6,
   "metadata": {},
   "outputs": [
    {
     "name": "stdout",
     "output_type": "stream",
     "text": [
      " \n",
      "           Potential      =    sin2\n",
      "           order (Taylor) =    6\n",
      "           Ix(mW/cm2)     =    4993.0\n",
      "           Iy(mW/cm2)     =    4993.0\n",
      "           Iz(mW/cm2)     =    50.0\n",
      "           wL(nm)         =    1000.0\n",
      "           wL(a.u)        =    18897.259885789234\n",
      "           hbar           =    1\n",
      "           alpha(a.u)     =    200\n",
      "           delta          =    50\n",
      "           xmin           =    -18000\n",
      "           xmax           =    18000\n",
      "           kx(a.u)        =    0.00033249187158105134\n",
      "           Vx(a.u)        =    1.5514861655061523e-10\n",
      "           Vy(a.u)        =    1.5514861655061523e-10\n",
      "           Vz(a.u)        =    1.553661291313992e-12\n",
      "           wx(a.u)        =    5.178989406202299e-11\n",
      "           \n",
      "      \n"
     ]
    }
   ],
   "source": [
    "# Parameters:\n",
    "Ix = Ix / 6.436409310e15\n",
    "Iy = Iy / 6.436409310e15\n",
    "Iz = Iz / 6.436409310e15\n",
    "wL = wL / 0.0529177249\n",
    "kx = 2*pi/wL\n",
    "Vx = alpha * Ix\n",
    "Vy = alpha * Iy\n",
    "Vz = alpha * Iz\n",
    "wx = np.sqrt(2 * Vx/m) * kx\n",
    "print(f\"\"\" \n",
    "           Potential      =    {pot}\n",
    "           order (Taylor) =    {n}\n",
    "           Ix(mW/cm2)     =    {Ix * 6.436409310e15}\n",
    "           Iy(mW/cm2)     =    {Iy * 6.436409310e15}\n",
    "           Iz(mW/cm2)     =    {Iz * 6.436409310e15}\n",
    "           wL(nm)         =    {wL * 0.0529177249}\n",
    "           wL(a.u)        =    {wL}\n",
    "           hbar           =    {hbar}\n",
    "           alpha(a.u)     =    {alpha}\n",
    "           delta          =    {delta}\n",
    "           xmin           =    {xmin}\n",
    "           xmax           =    {xmax}\n",
    "           kx(a.u)        =    {kx}\n",
    "           Vx(a.u)        =    {Vx}\n",
    "           Vy(a.u)        =    {Vy}\n",
    "           Vz(a.u)        =    {Vz}\n",
    "           wx(a.u)        =    {wx}\n",
    "           \n",
    "      \"\"\")"
   ]
  },
  {
   "cell_type": "code",
   "execution_count": 10,
   "metadata": {},
   "outputs": [
    {
     "name": "stdout",
     "output_type": "stream",
     "text": [
      "\n",
      "X Axis: \n",
      "\n",
      "           n        E                       E[hbar wx]\n",
      "           0 2.476683286604281e-11     0.4782174846000328\n",
      "           1 7.181047057593393e-11     1.386573034691566\n",
      "           2 1.1342566004151712e-10     2.1901118373727475\n",
      "           3 1.4873663226725212e-10     2.871923856208835\n",
      "           4 1.7787349514850612e-10     3.434521316755096\n",
      "           5 2.037957343941597e-10     3.9350482962968845\n",
      "           6 2.3076390125698641e-10     4.45577086874567\n",
      "           7 2.6073281833071653e-10     5.034434285933581\n",
      "           8 2.9357806433603194e-10     5.668636123959748\n",
      "           9 3.2898434179761617e-10     6.352288371233744\n",
      "           10 3.66797749720953e-10     7.082419386332017\n",
      "\n",
      "Bingo !\n",
      "\n",
      "Y Axis: \n",
      "\n",
      "           n        E                       E[hbar wx]\n",
      "           0 2.476683286604281e-11     0.4782174846000328\n",
      "           1 7.181047057593393e-11     1.386573034691566\n",
      "           2 1.1342566004151712e-10     2.1901118373727475\n",
      "           3 1.4873663226725212e-10     2.871923856208835\n",
      "           4 1.7787349514850612e-10     3.434521316755096\n",
      "           5 2.037957343941597e-10     3.9350482962968845\n",
      "           6 2.3076390125698641e-10     4.45577086874567\n",
      "           7 2.6073281833071653e-10     5.034434285933581\n",
      "           8 2.9357806433603194e-10     5.668636123959748\n",
      "           9 3.2898434179761617e-10     6.352288371233744\n",
      "           10 3.66797749720953e-10     7.082419386332017\n",
      "\n",
      "Bingo !\n",
      "\n",
      "Z Axis: \n",
      "\n",
      "           n        E                       E[hbar wx]\n",
      "           0 2.0217654575687636e-12     0.03903783728824624\n",
      "           1 6.186494824042879e-12     0.11945370686864125\n",
      "           2 1.158671407826596e-11     0.22372538674031353\n",
      "           3 1.885817707338437e-11     0.36412851223059134\n",
      "           4 2.7508157040330266e-11     0.5311491274221726\n",
      "           5 3.7346913081508943e-11     0.7211235658598317\n",
      "           6 4.8273487552500874e-11     0.9321024579561621\n",
      "           7 6.02039883719208e-11     1.162465949434482\n",
      "           8 7.307097313908991e-11     1.4109118093885449\n",
      "           9 8.681917684160224e-11     1.6763729375006748\n",
      "           10 1.0140214561322192e-10     1.9579523659921731\n",
      "\n",
      "Bingo !\n"
     ]
    }
   ],
   "source": [
    "# xaxis:\n",
    "########\n",
    "x = np.arange(xmin, xmax, delta)\n",
    "N = len(x)\n",
    "\n",
    "print(\"\\nX Axis: \\n\")\n",
    "Ex, wfx = DVR_method(N, delta, m, kx, x, Vx, wx)\n",
    "\n",
    "print(\"\\nY Axis: \\n\")\n",
    "Ey,wfy = DVR_method(N, delta, m, kx, x, Vy, wx)\n",
    "\n",
    "print(\"\\nZ Axis: \\n\")\n",
    "Ez, wfz =DVR_method(N, delta, m, kx, x, Vz, wx)"
   ]
  },
  {
   "cell_type": "code",
   "execution_count": 12,
   "metadata": {},
   "outputs": [
    {
     "data": {
      "text/plain": [
       "[<matplotlib.lines.Line2D at 0x12eba27c0>]"
      ]
     },
     "execution_count": 12,
     "metadata": {},
     "output_type": "execute_result"
    },
    {
     "data": {
      "image/png": "[encoded data removed]",
      "text/plain": [
       "<Figure size 432x288 with 1 Axes>"
      ]
     },
     "metadata": {
      "needs_background": "light"
     },
     "output_type": "display_data"
    }
   ],
   "source": [
    "plt.plot(wfz[:,1])"
   ]
  },
  {
   "cell_type": "markdown",
   "metadata": {},
   "source": [
    "## Potential as input"
   ]
  },
  {
   "cell_type": "code",
   "execution_count": null,
   "metadata": {},
   "outputs": [],
   "source": []
  }
 ],
 "metadata": {
  "kernelspec": {
   "display_name": "Python 3",
   "language": "python",
   "name": "python3"
  },
  "language_info": {
   "codemirror_mode": {
    "name": "ipython",
    "version": 3
   },
   "file_extension": ".py",
   "mimetype": "text/x-python",
   "name": "python",
   "nbconvert_exporter": "python",
   "pygments_lexer": "ipython3",
   "version": "3.8.5"
  }
 },
 "nbformat": 4,
 "nbformat_minor": 4
}
