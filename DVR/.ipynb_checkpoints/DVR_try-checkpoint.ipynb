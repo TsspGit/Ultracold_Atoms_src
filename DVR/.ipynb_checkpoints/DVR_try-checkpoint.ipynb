{
 "cells": [
  {
   "cell_type": "code",
   "execution_count": 1,
   "metadata": {},
   "outputs": [],
   "source": [
    "__author__ = \"@Tssp\"\n",
    "__date__ = \"30/09/20\"\n",
    "import numpy as np\n",
    "import matplotlib.pyplot as plt\n",
    "from math import pi"
   ]
  },
  {
   "cell_type": "code",
   "execution_count": 2,
   "metadata": {},
   "outputs": [],
   "source": [
    "# Constants:\n",
    "###########\n",
    "hbar = 1\n",
    "w = 1\n",
    "m = 1"
   ]
  },
  {
   "cell_type": "code",
   "execution_count": 3,
   "metadata": {},
   "outputs": [],
   "source": [
    "# xaxis:\n",
    "########\n",
    "xmin = -15 # a.u\n",
    "xmax = 15 # a.u\n",
    "delta = 0.05\n",
    "x = np.arange(xmin, xmax, delta)\n",
    "N = len(x)"
   ]
  },
  {
   "cell_type": "code",
   "execution_count": 4,
   "metadata": {},
   "outputs": [],
   "source": [
    "# Potential:\n",
    "############\n",
    "def potho(x):\n",
    "    return 1/2 * m * w**2 * x**2"
   ]
  },
  {
   "cell_type": "code",
   "execution_count": 5,
   "metadata": {},
   "outputs": [],
   "source": [
    "# Kinetic Energy:\n",
    "#################\n",
    "def Kin(N):\n",
    "    T = np.zeros((N, N))\n",
    "    for i in range(N):\n",
    "        i += 1 \n",
    "        for j in range(N):\n",
    "            j += 1\n",
    "            if i == j:\n",
    "                T[i-1, i-1] = -hbar**2/(2*m) * (-1/3*(pi/delta)**2 + 2/delta**2 * (-1)**(i+j)/(i+j)**2)\n",
    "            elif i != j:\n",
    "                T[i-1, j-1] = hbar**2/(delta**2*m) * ((-1)**(i-j)/(i-j)**2 - (-1)**(i+j)/(i+j)**2)\n",
    "    return T\n",
    "       \n",
    "T = Kin(N)        \n",
    "# Potential:\n",
    "############\n",
    "V = potho(x)"
   ]
  },
  {
   "cell_type": "code",
   "execution_count": 6,
   "metadata": {},
   "outputs": [],
   "source": [
    "# Hamiltonian:\n",
    "##############\n",
    "H = T + np.diagflat(V)"
   ]
  },
  {
   "cell_type": "code",
   "execution_count": 7,
   "metadata": {},
   "outputs": [],
   "source": [
    "# Diagonalization:\n",
    "##################\n",
    "E, cn = np.linalg.eig(H)"
   ]
  },
  {
   "cell_type": "code",
   "execution_count": 8,
   "metadata": {},
   "outputs": [
    {
     "name": "stdout",
     "output_type": "stream",
     "text": [
      "n        E\n",
      "0 0.5000000000001705\n",
      "1 1.5000000000008962\n",
      "2 2.499999999999963\n",
      "3 3.5000000000000533\n",
      "4 4.500000000000996\n",
      "5 5.500000000000081\n",
      "6 6.500000000000523\n",
      "7 7.500000000000416\n",
      "8 8.500000000000654\n",
      "9 9.499999999999913\n",
      "10 10.500000000000092\n",
      "\n",
      "Bingo !\n"
     ]
    }
   ],
   "source": [
    "inds = E.argsort()\n",
    "E = E[inds[::1]]\n",
    "cn = cn[:,inds[::1]]\n",
    "print(\"n        E\")\n",
    "for i in range(11):\n",
    "    print(i, E[i])\n",
    "print(\"\\nBingo !\")"
   ]
  },
  {
   "cell_type": "code",
   "execution_count": 9,
   "metadata": {},
   "outputs": [
    {
     "data": {
      "text/plain": [
       "[<matplotlib.lines.Line2D at 0x11488a5e0>]"
      ]
     },
     "execution_count": 9,
     "metadata": {},
     "output_type": "execute_result"
    },
    {
     "data": {
      "image/png": "[encoded data removed]",
      "text/plain": [
       "<Figure size 576x432 with 1 Axes>"
      ]
     },
     "metadata": {
      "needs_background": "light"
     },
     "output_type": "display_data"
    }
   ],
   "source": [
    "fig, ax = plt.subplots(figsize=(8,6))\n",
    "ax.plot(x, -cn[:,0])\n",
    "#ax.plot(x, V, 'k', lw=2)"
   ]
  }
 ],
 "metadata": {
  "kernelspec": {
   "display_name": "Python 3",
   "language": "python",
   "name": "python3"
  },
  "language_info": {
   "codemirror_mode": {
    "name": "ipython",
    "version": 3
   },
   "file_extension": ".py",
   "mimetype": "text/x-python",
   "name": "python",
   "nbconvert_exporter": "python",
   "pygments_lexer": "ipython3",
   "version": "3.8.5"
  }
 },
 "nbformat": 4,
 "nbformat_minor": 4
}
