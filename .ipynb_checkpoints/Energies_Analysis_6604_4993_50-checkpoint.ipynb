{
 "cells": [
  {
   "cell_type": "code",
   "execution_count": 1,
   "metadata": {},
   "outputs": [],
   "source": [
    "__author__ = \"@Tssp\"\n",
    "__date__ = \"21/09/20\"\n",
    "import numpy as np\n",
    "import matplotlib.pyplot as plt\n",
    "import os\n",
    "from utils.atomic_units import ao, vo, e, hbar, me, Eh, to\n",
    "from decimal import Decimal\n",
    "from utils.Energies_Analysis_utils import *\n",
    "plt.rc('text',usetex=True)\n",
    "plt.rc('font',family='serif')\n",
    "plt.rcParams['xtick.labelsize']=16\n",
    "plt.rcParams['ytick.labelsize']=16\n",
    "plt.rcParams['axes.labelsize']=18\n",
    "plt.rcParams['axes.titlesize']=18"
   ]
  },
  {
   "cell_type": "code",
   "execution_count": 2,
   "metadata": {},
   "outputs": [],
   "source": [
    "delta = np.loadtxt('Simulations/q1d/delta_asc_ix6603.dat', dtype=str)[:,0]\n",
    "asc = np.loadtxt('Simulations/q1d/delta_asc_ix6603.dat')[:,1]\n",
    "delta = delta.tolist()\n",
    "asc = asc.tolist()"
   ]
  },
  {
   "cell_type": "code",
   "execution_count": 3,
   "metadata": {},
   "outputs": [
    {
     "name": "stdout",
     "output_type": "stream",
     "text": [
      "wy [u.a]:  2141065.2804475287\n",
      "dho [u.a]:  1737.6709708894564\n"
     ]
    }
   ],
   "source": [
    "# Parameters and Constants:\n",
    "mass = 7.0160040 * 1.66053873e-27 / me # a.u\n",
    "alpha = 200 # a.u\n",
    "lambd = 1000 * 1e-9 / ao # a.u\n",
    "ky = 2*np.pi/lambd\n",
    "Iy = 4993 * (1e4 / Eh * to * ao**2)\n",
    "Vy = alpha * Iy # a.u\n",
    "Iy = Vy/alpha\n",
    "wy = np.sqrt( 2 * Vy * ky**2 / mass)       \n",
    "dho = np.sqrt(2 / (mass * wy))\n",
    "print('wy [u.a]: ', wy/to)\n",
    "print('dho [u.a]: ', dho)"
   ]
  },
  {
   "cell_type": "code",
   "execution_count": 4,
   "metadata": {},
   "outputs": [
    {
     "data": {
      "text/plain": [
       "1.1500659600202747"
      ]
     },
     "execution_count": 4,
     "metadata": {},
     "output_type": "execute_result"
    }
   ],
   "source": [
    "np.sqrt(6604/4993)"
   ]
  },
  {
   "cell_type": "code",
   "execution_count": 5,
   "metadata": {},
   "outputs": [],
   "source": [
    "folder_path = \"Simulations/q1d/ix6604_iy4993_iz50/config/\""
   ]
  },
  {
   "cell_type": "code",
   "execution_count": 6,
   "metadata": {},
   "outputs": [
    {
     "name": "stdout",
     "output_type": "stream",
     "text": [
      "There are a few folders without data, \n",
      "delta=['.70855', '.70860', '.71030', '.71035', '.71040', '.71045', '.71050', '.71055', '.71075', '.71080', '.71085', '.71090', '.71095', '.71160', '.71200'] non readed\n"
     ]
    }
   ],
   "source": [
    "Data = list()\n",
    "delta_nonreaded = list()\n",
    "for d in delta:\n",
    "    try:\n",
    "        Data.append(np.loadtxt(folder_path + f'Li7Li7_x10000_y10000_z10000_120rm8g2l60m14_68CM8g1L60M14_Li7a200_Li7a200_kx1000_ky1000_kz1000_ix6604_iy4993_iz50_LiLi_a3Sup_0{d}_sinTnx6_sinTny6_sinTnz6/Ag_vsLiLi_int_rm200_CM50_ddb.eva'))\n",
    "    except:\n",
    "        delta_nonreaded.append(d)\n",
    "        continue\n",
    "print(f'There are a few folders without data, \\ndelta={delta_nonreaded} non readed')"
   ]
  },
  {
   "cell_type": "code",
   "execution_count": 7,
   "metadata": {},
   "outputs": [
    {
     "name": "stdout",
     "output_type": "stream",
     "text": [
      "filtering completed\n"
     ]
    }
   ],
   "source": [
    "# Delete from original delta and asc lists the unreaded values:\n",
    "for dnr in delta_nonreaded:\n",
    "    idx = delta.index(dnr)\n",
    "    del delta[idx], asc[idx]\n",
    "assert len(delta) == len(asc)\n",
    "print(\"filtering completed\")\n",
    "x = dho / asc"
   ]
  },
  {
   "cell_type": "code",
   "execution_count": 8,
   "metadata": {},
   "outputs": [],
   "source": [
    "dic = transpose_energies(Data)"
   ]
  },
  {
   "cell_type": "code",
   "execution_count": 9,
   "metadata": {},
   "outputs": [
    {
     "name": "stdout",
     "output_type": "stream",
     "text": [
      "Least bound state:  1001 -0.19941182227646856\n",
      "First trap state:  1002 0.003344750359964451\n"
     ]
    }
   ],
   "source": [
    "dic, least_bound_pos = dic_from_least_bound_forward(dic, wy)"
   ]
  },
  {
   "cell_type": "code",
   "execution_count": 10,
   "metadata": {},
   "outputs": [],
   "source": [
    "for key in dic.keys():\n",
    "    dic[key] = np.sort(dic[key])"
   ]
  },
  {
   "cell_type": "code",
   "execution_count": 20,
   "metadata": {},
   "outputs": [],
   "source": [
    "fig, ax = plt.subplots(figsize=(8,6))\n",
    "for i in range(least_bound_pos, least_bound_pos + 30):\n",
    "    ax.plot(x, dic['nivel_{}'.format(i)]/wy, 'b*')\n",
    "ax.set_ylim(0, 3)\n",
    "ax.set_xlabel('$d_{y}/a$')\n",
    "ax.set_ylabel('$E/\\hbar \\omega_{y}$')\n",
    "plt.tight_layout()\n",
    "fig.savefig('PRL_Sala_Results/Figures/Ix6604_Iy4993_Iz50_Easc.png', dpi=200)\n",
    "plt.show()"
   ]
  },
  {
   "cell_type": "markdown",
   "metadata": {},
   "source": [
    "# Crosses"
   ]
  },
  {
   "cell_type": "code",
   "execution_count": 105,
   "metadata": {},
   "outputs": [],
   "source": [
    "%matplotlib inline"
   ]
  },
  {
   "cell_type": "code",
   "execution_count": 106,
   "metadata": {},
   "outputs": [
    {
     "name": "stdout",
     "output_type": "stream",
     "text": [
      "1007\n",
      "1008\n",
      "1009\n",
      "1010\n"
     ]
    },
    {
     "data": {
      "image/png": "[encoded data removed]",
      "text/plain": [
       "<Figure size 576x432 with 1 Axes>"
      ]
     },
     "metadata": {
      "needs_background": "light"
     },
     "output_type": "display_data"
    }
   ],
   "source": [
    "fig2, ax2 = plt.subplots(figsize=(8,6))\n",
    "xpol = np.linspace(x[0], x[-1], num=50)\n",
    "for i in range(least_bound_pos + 6, least_bound_pos + 10):\n",
    "    print(i)\n",
    "    ax2.plot(x, dic['nivel_{}'.format(i)]/wy, 'b')\n",
    "ax2.set_ylim(2.22, 2.225)\n",
    "ax2.set_xlim(1.18, 1.45)\n",
    "ax2.set_xlabel('$d_{y}/a$')\n",
    "ax2.set_ylabel('$E/\\hbar \\omega_{y}$')\n",
    "ax2.legend(['Data'], fontsize=14)\n",
    "plt.grid()\n",
    "plt.show()"
   ]
  },
  {
   "cell_type": "code",
   "execution_count": 13,
   "metadata": {},
   "outputs": [
    {
     "name": "stdout",
     "output_type": "stream",
     "text": [
      "Using matplotlib backend: MacOSX\n"
     ]
    }
   ],
   "source": [
    "%matplotlib"
   ]
  },
  {
   "cell_type": "code",
   "execution_count": 21,
   "metadata": {},
   "outputs": [
    {
     "name": "stderr",
     "output_type": "stream",
     "text": [
      "Traceback (most recent call last):\n",
      "  File \"/Users/tomy/Library/Python/3.8/lib/python/site-packages/matplotlib/cbook/__init__.py\", line 196, in process\n",
      "    func(*args, **kwargs)\n",
      "  File \"<ipython-input-21-09f246fc9fba>\", line 15, in onclick\n",
      "    plt.plot(ix, iy, 'ro', markersize=4)\n",
      "  File \"/Users/tomy/Library/Python/3.8/lib/python/site-packages/matplotlib/pyplot.py\", line 2761, in plot\n",
      "    return gca().plot(\n",
      "  File \"/Users/tomy/Library/Python/3.8/lib/python/site-packages/matplotlib/axes/_axes.py\", line 1647, in plot\n",
      "    lines = [*self._get_lines(*args, data=data, **kwargs)]\n",
      "  File \"/Users/tomy/Library/Python/3.8/lib/python/site-packages/matplotlib/axes/_base.py\", line 216, in __call__\n",
      "    yield from self._plot_args(this, kwargs)\n",
      "  File \"/Users/tomy/Library/Python/3.8/lib/python/site-packages/matplotlib/axes/_base.py\", line 322, in _plot_args\n",
      "    raise ValueError(\"x, y, and format string must not be None\")\n",
      "ValueError: x, y, and format string must not be None\n"
     ]
    }
   ],
   "source": [
    "fig2, ax2 = plt.subplots(figsize=(8,6))\n",
    "for i in range(least_bound_pos + 4, least_bound_pos + 10):\n",
    "    ax2.plot(x, dic['nivel_{}'.format(i)]/wy, 'b')\n",
    "ax2.set_ylim(2.22, 2.225)\n",
    "ax2.set_xlim(1.18, 1.45)\n",
    "ax2.set_xlabel('$d_{y}/a$')\n",
    "ax2.set_ylabel('$E/\\hbar \\omega_{y}$')\n",
    "ax2.legend(['Data'], fontsize=14)\n",
    "plt.grid()\n",
    "xcoord = []\n",
    "ycoord = []\n",
    "def onclick(event):\n",
    "    global ix, iy\n",
    "    ix, iy = event.xdata, event.ydata\n",
    "    plt.plot(ix, iy, 'ro', markersize=4)\n",
    "    plt.draw()\n",
    "    global xcoord, ycoord\n",
    "    xcoord.append(ix)\n",
    "    ycoord.append(iy)\n",
    "    if len(xcoord) == 40:\n",
    "        fig2.canvas.mpl_disconnect(cid)\n",
    "        print(f'xcoord: {xcoord}\\n ycoord: {ycoord}')\n",
    "    return xcoord, ycoord\n",
    "cid = fig2.canvas.mpl_connect('button_press_event', onclick)\n",
    "plt.show()"
   ]
  },
  {
   "cell_type": "code",
   "execution_count": 107,
   "metadata": {},
   "outputs": [
    {
     "data": {
      "image/png": "[encoded data removed]",
      "text/plain": [
       "<Figure size 576x360 with 1 Axes>"
      ]
     },
     "metadata": {
      "needs_background": "light"
     },
     "output_type": "display_data"
    }
   ],
   "source": [
    "fig3, ax3 = plt.subplots(figsize=(8,5))\n",
    "# nivel 1007:\n",
    "f1007 = np.polyfit(xcoord, ycoord, deg=1)\n",
    "x1007 = np.linspace(1.15, 1.45, num=40)\n",
    "ax3.plot(x1007, np.polyval(f1007, x1007), 'ro', markersize=4, label='Diabatic')\n",
    "ax3.plot(x, dic['nivel_1007']/wy, 'b', label='Adiabatic')\n",
    "\n",
    "# nivel 1008:\n",
    "f1008 = np.polyfit(x[(x > 1.1) & (x < 1.225)], np.array(dic['nivel_1008'])[(x > 1.1) & (x < 1.225)]/wy, deg=1)\n",
    "x1008 = np.linspace(1.21, 1.25, num=100)\n",
    "ax3.plot(x1008, np.polyval(f1008, x1008), 'ro', markersize=4)\n",
    "ax3.plot(x, dic['nivel_1008']/wy, 'b')\n",
    "\n",
    "# nivel 1009:\n",
    "f1009 = np.polyfit(x[(x > 1.21) & (x < 1.36)], np.array(dic['nivel_1009'])[(x > 1.21) & (x < 1.36)]/wy, deg=1)\n",
    "x1009 = np.linspace(1.32, 1.37, num=100)\n",
    "ax3.plot(x1009, np.polyval(f1009, x1009), 'ro', markersize=4)\n",
    "ax3.plot(x, dic['nivel_1009']/wy, 'b')\n",
    "\n",
    "# nivel 1010:\n",
    "f1010 = np.polyfit(x[(x > 1.40) & (x < 1.45)], np.array(dic['nivel_1010'])[(x > 1.40) & (x < 1.45)]/wy, deg=1)\n",
    "x1010 = np.linspace(1.32, 1.45, num=100)\n",
    "ax3.plot(x1010, np.polyval(f1010, x1010), 'ro', markersize=4)\n",
    "ax3.plot(x, dic['nivel_1010']/wy, 'b')\n",
    "\n",
    "# Crosses:\n",
    "##########\n",
    "ax3.plot(cross_points(f1007, f1008), np.polyval(f1007, cross_points(f1007, f1008)), 'k*', markersize=10, label=\"ICIR\")\n",
    "ax3.plot(cross_points(f1007, f1009), np.polyval(f1007, cross_points(f1007, f1009)), 'k*', markersize=10)\n",
    "ax3.plot(cross_points(f1007, f1010), np.polyval(f1007, cross_points(f1007, f1010)), 'k*', markersize=10)\n",
    "\n",
    "ax3.set_xlabel('$d_{y}/a$')\n",
    "ax3.set_ylabel('$E/\\hbar \\omega_{y}$')\n",
    "ax3.legend(fontsize=14, bbox_to_anchor=(1.03, 1))\n",
    "ax3.set_ylim(2.22, 2.225)\n",
    "ax3.set_xlim(1.18, 1.45)\n",
    "plt.tight_layout()\n",
    "fig3.savefig('PRL_Sala_Results/Figures/Ix6604_Iy4993_Iz50_Easc_Interpolation.png', dpi=200)"
   ]
  },
  {
   "cell_type": "code",
   "execution_count": 108,
   "metadata": {},
   "outputs": [
    {
     "name": "stdout",
     "output_type": "stream",
     "text": [
      "Crosses between (x, E):\n",
      "* 1007-1008: (1.240533584195364, 2.2240736569368496)\n",
      "* 1007-1009: (1.3404819126093988, 2.222729959460301)\n",
      "* 1007-1010: (1.437189311409866, 2.221429832786912)\n"
     ]
    }
   ],
   "source": [
    "print(f'''Crosses between (x, E):\n",
    "* 1007-1008: ({cross_points(f1007, f1008)}, {np.polyval(f1007, cross_points(f1007, f1008))})\n",
    "* 1007-1009: ({cross_points(f1007, f1009)}, {np.polyval(f1007, cross_points(f1007, f1009))})\n",
    "* 1007-1010: ({cross_points(f1007, f1010)}, {np.polyval(f1007, cross_points(f1007, f1010))})''')"
   ]
  },
  {
   "cell_type": "code",
   "execution_count": 109,
   "metadata": {},
   "outputs": [
    {
     "name": "stdout",
     "output_type": "stream",
     "text": [
      "ICIR: asc/dy = 0.8061047381064019 and 0.6958025585502106\n"
     ]
    }
   ],
   "source": [
    "print(f\"ICIR: asc/dy = {1/cross_points(f1007, f1008)} and {1/cross_points(f1007, f1010)}\")"
   ]
  },
  {
   "cell_type": "code",
   "execution_count": 110,
   "metadata": {},
   "outputs": [],
   "source": [
    "np.savetxt('PRL_Sala_Results/ICIR_positions_6604_4993_50.txt', \n",
    "           [[1.15, 1.15], [1/cross_points(f1007, f1008), 1/cross_points(f1007, f1010)], \n",
    "            [np.polyval(f1007, cross_points(f1007, f1008)), np.polyval(f1007, cross_points(f1007, f1010))]], \n",
    "           header='wx/wy, asc/dy, E/hwy')"
   ]
  }
 ],
 "metadata": {
  "kernelspec": {
   "display_name": "Python 3",
   "language": "python",
   "name": "python3"
  },
  "language_info": {
   "codemirror_mode": {
    "name": "ipython",
    "version": 3
   },
   "file_extension": ".py",
   "mimetype": "text/x-python",
   "name": "python",
   "nbconvert_exporter": "python",
   "pygments_lexer": "ipython3",
   "version": "3.8.5"
  }
 },
 "nbformat": 4,
 "nbformat_minor": 4
}
