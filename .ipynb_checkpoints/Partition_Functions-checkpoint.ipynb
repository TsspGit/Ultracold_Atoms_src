{
 "cells": [
  {
   "cell_type": "code",
   "execution_count": 1,
   "id": "6eec3efa",
   "metadata": {},
   "outputs": [],
   "source": [
    "__author__ = \"Tomás Sánchez Sánchez-Pastor\"\n",
    "__date__   = \"06/10/2021\"\n",
    "import numpy as np\n",
    "from numpy import pi\n",
    "import matplotlib.pyplot as plt\n",
    "plt.rc('text',usetex=True)\n",
    "plt.rc('font',family='serif')\n",
    "ref_ticksize = 16\n",
    "plt.rcParams['xtick.labelsize']=ref_ticksize\n",
    "plt.rcParams['legend.fontsize']=ref_ticksize\n",
    "plt.rcParams['ytick.labelsize']=ref_ticksize\n",
    "plt.rcParams['axes.labelsize']=ref_ticksize * 3/2\n",
    "plt.rcParams['axes.titlesize']=ref_ticksize * 3/2"
   ]
  },
  {
   "cell_type": "markdown",
   "id": "54f50027",
   "metadata": {},
   "source": [
    "The quantum partition function of a system with eigenergies $\\varepsilon_\\nu$ is computed as\n",
    "$$Z = \\sum^\\infty_{\\nu=0} e^{-\\beta \\varepsilon_\\nu},$$\n",
    "with $\\beta=\\frac{1}{k_B T}$, being $k_B$ the Boltzmann's constant. It is closely related with the probability distribution of N particles in the system\n",
    "$$P(\\nu) = \\frac{1}{Z}e^{-\\beta \\varepsilon_\\nu}$$"
   ]
  },
  {
   "cell_type": "markdown",
   "id": "54ecb020",
   "metadata": {},
   "source": [
    "## Harmonic Oscillator"
   ]
  },
  {
   "cell_type": "markdown",
   "id": "534ae151",
   "metadata": {},
   "source": [
    "$$\\varepsilon_\\nu = \\hbar \\omega(\\nu + 1/2)$$"
   ]
  },
  {
   "cell_type": "code",
   "execution_count": 92,
   "id": "f0ef783d",
   "metadata": {},
   "outputs": [],
   "source": [
    "kb   = 1.38064852e-23  # J/K\n",
    "T    = 1e-9            # K\n",
    "beta = 1/(kb*T)        # 1/J\n",
    "hbar = 1.054571817e-34 # J·s\n",
    "w    = 2*np.pi*14      # rad/s\n",
    "n    = np.arange(0, 10, 1)\n",
    "n_list = np.linspace(0, 10)"
   ]
  },
  {
   "cell_type": "code",
   "execution_count": 93,
   "id": "956860ef",
   "metadata": {},
   "outputs": [],
   "source": [
    "def eho(nu):\n",
    "    return hbar*w*(2*nu+1/2)"
   ]
  },
  {
   "cell_type": "code",
   "execution_count": 94,
   "id": "5b32bfe2",
   "metadata": {},
   "outputs": [],
   "source": [
    "Zho = np.exp(-beta*hbar*w/2) / (1 - np.exp(-beta*hbar*w)) \n",
    "Pho = 1/Zho * np.exp(-beta*eho(n))\n",
    "Pho_list = 1/Zho * np.exp(-beta*eho(n_list))"
   ]
  },
  {
   "cell_type": "code",
   "execution_count": 105,
   "id": "83b8df65",
   "metadata": {},
   "outputs": [
    {
     "name": "stdout",
     "output_type": "stream",
     "text": [
      "\n",
      "____________________\n",
      "n             P(n)\n",
      "____________________\n",
      "0            48.93%\n",
      "2            12.76%\n",
      "4            3.33%\n",
      "6            0.87%\n",
      "8            0.23%\n"
     ]
    },
    {
     "data": {
      "image/png": "[encoded data removed]",
      "text/plain": [
       "<Figure size 432x288 with 1 Axes>"
      ]
     },
     "metadata": {
      "needs_background": "light"
     },
     "output_type": "display_data"
    }
   ],
   "source": [
    "fig, ax = plt.subplots()\n",
    "ax.bar(n, Pho, edgecolor='b', facecolor='w', lw=2)\n",
    "ax.plot(n_list, Pho_list, 'k', alpha=0.8)\n",
    "ax.set_xlabel(r'$n$')\n",
    "ax.set_ylabel(r'$P(n)$')\n",
    "ax.set_xlim(-0.45, 8)\n",
    "print(f'''\n",
    "____________________\n",
    "n             P(n)\n",
    "____________________\n",
    "0            {round(Pho[0]*100, 2)}%\n",
    "2            {round(Pho[1]*100, 2)}%\n",
    "4            {round(Pho[2]*100, 2)}%\n",
    "6            {round(Pho[3]*100, 2)}%\n",
    "8            {round(Pho[4]*100, 2)}%''')"
   ]
  },
  {
   "cell_type": "markdown",
   "id": "a872005f",
   "metadata": {},
   "source": [
    "## Anharmonic Oscillator (sextic)"
   ]
  },
  {
   "cell_type": "markdown",
   "id": "a9d0b768",
   "metadata": {},
   "source": [
    "$$\\varepsilon_\\nu = \\hbar \\omega(\\nu + 1/2) - \\frac{\\hbar^2 \\omega^2}{16V}(\\nu^2 + \\nu + 1/2) + \\frac{\\hbar^3 \\omega^3}{1152V}(4\\nu^3 + 6\\nu^2 + 8\\nu + 3)$$"
   ]
  },
  {
   "cell_type": "code",
   "execution_count": 75,
   "id": "8c064648",
   "metadata": {},
   "outputs": [],
   "source": [
    "V = 1.5514861655061523e-10/6.436409310e15"
   ]
  },
  {
   "cell_type": "code",
   "execution_count": 76,
   "id": "16a4557c",
   "metadata": {},
   "outputs": [],
   "source": [
    "def eah(nu):\n",
    "    return hbar*w*(2*nu+1/2) - hbar**2*w**2/(16*V)*(4*nu**2+nu+1/2) + hbar**3*w**3/(1152*V)*(32*nu**3 + 24*nu**2 + 16*nu + 3)"
   ]
  },
  {
   "cell_type": "code",
   "execution_count": 77,
   "id": "e9ba8b16",
   "metadata": {},
   "outputs": [],
   "source": [
    "Zah = 0\n",
    "for i in range(20):\n",
    "    Zah += np.exp(-beta*eah(i))\n",
    "Pah = 1/Zah * np.exp(-beta*eah(n))"
   ]
  },
  {
   "cell_type": "code",
   "execution_count": 106,
   "id": "68e245bd",
   "metadata": {
    "scrolled": false
   },
   "outputs": [
    {
     "name": "stdout",
     "output_type": "stream",
     "text": [
      "\n",
      "____________________\n",
      "n             P(n)\n",
      "____________________\n",
      "0            48.93%\n",
      "2            12.76%\n",
      "4            3.33%\n",
      "6            0.87%\n",
      "8            0.23%\n"
     ]
    },
    {
     "data": {
      "image/png": "[encoded data removed]",
      "text/plain": [
       "<Figure size 432x288 with 1 Axes>"
      ]
     },
     "metadata": {
      "needs_background": "light"
     },
     "output_type": "display_data"
    }
   ],
   "source": [
    "fig, ax = plt.subplots()\n",
    "ax.bar(n, Pah, edgecolor='b', facecolor='w', lw=2)\n",
    "ax.set_xlabel(r'$n$')\n",
    "ax.set_ylabel(r'$P(n)$')\n",
    "ax.set_xlim(-0.45, 8)\n",
    "print(f'''\n",
    "____________________\n",
    "n             P(n)\n",
    "____________________\n",
    "0            {round(Pho[0]*100, 2)}%\n",
    "2            {round(Pho[1]*100, 2)}%\n",
    "4            {round(Pho[2]*100, 2)}%\n",
    "6            {round(Pho[3]*100, 2)}%\n",
    "8            {round(Pho[4]*100, 2)}%''')"
   ]
  },
  {
   "cell_type": "markdown",
   "id": "09a0ae3a",
   "metadata": {},
   "source": [
    "**Conclusion: The anharmonic correction can be neglected when measuring the level probability distribution**"
   ]
  }
 ],
 "metadata": {
  "kernelspec": {
   "display_name": "Python [conda env:root] *",
   "language": "python",
   "name": "conda-root-py"
  },
  "language_info": {
   "codemirror_mode": {
    "name": "ipython",
    "version": 3
   },
   "file_extension": ".py",
   "mimetype": "text/x-python",
   "name": "python",
   "nbconvert_exporter": "python",
   "pygments_lexer": "ipython3",
   "version": "3.8.8"
  }
 },
 "nbformat": 4,
 "nbformat_minor": 5
}
