{
 "cells": [
  {
   "cell_type": "code",
   "execution_count": 1,
   "metadata": {},
   "outputs": [],
   "source": [
    "__author__ = \"@Tssp\"\n",
    "__date__ = \"21/09/20\"\n",
    "import numpy as np\n",
    "import matplotlib.pyplot as plt\n",
    "import os\n",
    "from utils.atomic_units import ao, vo, e, hbar, me, Eh, to\n",
    "from decimal import Decimal\n",
    "from utils.Energies_Analysis_utils import *\n",
    "plt.rc('text',usetex=True)\n",
    "plt.rc('font',family='serif')\n",
    "plt.rcParams['xtick.labelsize']=16\n",
    "plt.rcParams['ytick.labelsize']=16\n",
    "plt.rcParams['axes.labelsize']=18\n",
    "plt.rcParams['axes.titlesize']=18"
   ]
  },
  {
   "cell_type": "code",
   "execution_count": 17,
   "metadata": {},
   "outputs": [
    {
     "name": "stdout",
     "output_type": "stream",
     "text": [
      "ICIR_positions_5505_4993_50.txt\n",
      "ICIR_positions_4993_4993_50.txt\n",
      "ICIR_positions_6042_4993_50.txt\n",
      "ICIR_positions_6604_4993_50.txt\n"
     ]
    }
   ],
   "source": [
    "wx_wy = list()\n",
    "asc_dy = list()\n",
    "for f in os.listdir('PRL_Sala_Results/'):\n",
    "    if 'ICIR_positions' in f:\n",
    "        print(f)\n",
    "        try:\n",
    "            wx_wy.extend(np.loadtxt('PRL_Sala_Results/' + f)[0].tolist())\n",
    "            asc_dy.extend(np.loadtxt('PRL_Sala_Results/' + f)[1].tolist())\n",
    "        except:\n",
    "            wx_wy.append(np.loadtxt('PRL_Sala_Results/' + f)[0])\n",
    "            asc_dy.append(np.loadtxt('PRL_Sala_Results/' + f)[1])"
   ]
  },
  {
   "cell_type": "code",
   "execution_count": 18,
   "metadata": {},
   "outputs": [
    {
     "name": "stdout",
     "output_type": "stream",
     "text": [
      "wx/wy [1.05, 1.05, 1.0, 1.1, 1.1, 1.15, 1.15]\n",
      "a_cir/dy [0.7804284076418225, 0.73401877568123, 0.7722301173376469, 0.7215251307367165, 0.7944200931162337, 0.873792592613847, 0.8062650815371778]\n"
     ]
    }
   ],
   "source": [
    "print(f'wx/wy {wx_wy}\\na_cir/dy {asc_dy}')"
   ]
  },
  {
   "cell_type": "code",
   "execution_count": 19,
   "metadata": {},
   "outputs": [],
   "source": [
    "asc_dy_up = [0.7722301173376469, 0.7804284076418225, 0.873792592613847]\n",
    "wxwy_up = [1, 1.05, 1.15]\n",
    "asc_dy_down = [0.7722301173376469, 0.73401877568123, 0.8062650815371778]\n",
    "wxwy_down = [1, 1.05, 1.15]"
   ]
  },
  {
   "cell_type": "code",
   "execution_count": 20,
   "metadata": {},
   "outputs": [
    {
     "data": {
      "text/plain": [
       "Text(0, 0.5, '$a^{ICIR}/d_y$')"
      ]
     },
     "execution_count": 20,
     "metadata": {},
     "output_type": "execute_result"
    },
    {
     "data": {
      "image/png": "[encoded data removed]",
      "text/plain": [
       "<Figure size 576x432 with 1 Axes>"
      ]
     },
     "metadata": {
      "needs_background": "light"
     },
     "output_type": "display_data"
    }
   ],
   "source": [
    "fig, ax = plt.subplots(figsize=(8, 6))\n",
    "ax.plot(wx_wy, asc_dy, 'k*')\n",
    "ax.set_xlim(0.997, 1.25)\n",
    "ax.set_ylim(0.64, 0.83)\n",
    "ax.set_xlabel('$\\omega_x/\\omega_y$')\n",
    "ax.set_ylabel('$a^{ICIR}/d_y$')"
   ]
  },
  {
   "cell_type": "code",
   "execution_count": null,
   "metadata": {},
   "outputs": [],
   "source": []
  }
 ],
 "metadata": {
  "kernelspec": {
   "display_name": "Python 3",
   "language": "python",
   "name": "python3"
  },
  "language_info": {
   "codemirror_mode": {
    "name": "ipython",
    "version": 3
   },
   "file_extension": ".py",
   "mimetype": "text/x-python",
   "name": "python",
   "nbconvert_exporter": "python",
   "pygments_lexer": "ipython3",
   "version": "3.8.5"
  }
 },
 "nbformat": 4,
 "nbformat_minor": 4
}
