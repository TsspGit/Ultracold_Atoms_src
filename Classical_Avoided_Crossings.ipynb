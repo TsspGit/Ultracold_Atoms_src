{
 "cells": [
  {
   "cell_type": "code",
   "execution_count": 1,
   "metadata": {},
   "outputs": [],
   "source": [
    "__author__ = \"@Tssp\"\n",
    "__date__ = \"9/12/20\"\n",
    "import sympy as sp\n",
    "from sympy import init_session\n",
    "from math import pi"
   ]
  },
  {
   "cell_type": "code",
   "execution_count": 151,
   "metadata": {},
   "outputs": [],
   "source": [
    "x1 = sp.Function('x_1') \n",
    "x2 = sp.Function('x_2')\n",
    "m1, m2, k1, k2, kappa, t, omega, A, B = sp.symbols('m_1 m_2 k_1 k_2 \\kappa t omega A B')"
   ]
  },
  {
   "cell_type": "code",
   "execution_count": 113,
   "metadata": {},
   "outputs": [
    {
     "name": "stdout",
     "output_type": "stream",
     "text": [
      "The Lagrangian is:\n"
     ]
    },
    {
     "data": {
      "text/latex": [
       "$\\displaystyle - 0.5 \\kappa \\left(\\operatorname{x_{1}}{\\left(t \\right)} - \\operatorname{x_{2}}{\\left(t \\right)}\\right)^{2} - 0.5 k_{1} \\operatorname{x_{1}}^{2}{\\left(t \\right)} - 0.5 k_{2} \\operatorname{x_{2}}^{2}{\\left(t \\right)} + 0.5 m_{1} \\left(\\frac{d}{d t} \\operatorname{x_{1}}{\\left(t \\right)}\\right)^{2} + 0.5 m_{2} \\left(\\frac{d}{d t} \\operatorname{x_{2}}{\\left(t \\right)}\\right)^{2}$"
      ],
      "text/plain": [
       "-0.5*\\kappa*(x_1(t) - x_2(t))**2 - 0.5*k_1*x_1(t)**2 - 0.5*k_2*x_2(t)**2 + 0.5*m_1*Derivative(x_1(t), t)**2 + 0.5*m_2*Derivative(x_2(t), t)**2"
      ]
     },
     "execution_count": 113,
     "metadata": {},
     "output_type": "execute_result"
    }
   ],
   "source": [
    "L = 1/2*m1*sp.diff(x1(t), t)**2 + 1/2*m2*sp.diff(x2(t), t)**2 - (1/2*k1*x1(t)**2 + 1/2*k2*x2(t)**2 + 1/2*kappa*(x1(t) - x2(t))**2)\n",
    "print('The Lagrangian is:')\n",
    "L"
   ]
  },
  {
   "cell_type": "code",
   "execution_count": 115,
   "metadata": {},
   "outputs": [],
   "source": [
    "L = sp.expand(L)"
   ]
  },
  {
   "cell_type": "code",
   "execution_count": 137,
   "metadata": {},
   "outputs": [
    {
     "data": {
      "text/latex": [
       "$\\displaystyle - 1.0 \\kappa \\operatorname{x_{1}}{\\left(t \\right)} + 1.0 \\kappa \\operatorname{x_{2}}{\\left(t \\right)} - 1.0 k_{1} \\operatorname{x_{1}}{\\left(t \\right)} - 1.0 m_{1} \\frac{d^{2}}{d t^{2}} \\operatorname{x_{1}}{\\left(t \\right)}$"
      ],
      "text/plain": [
       "-1.0*\\kappa*x_1(t) + 1.0*\\kappa*x_2(t) - 1.0*k_1*x_1(t) - 1.0*m_1*Derivative(x_1(t), (t, 2))"
      ]
     },
     "execution_count": 137,
     "metadata": {},
     "output_type": "execute_result"
    }
   ],
   "source": [
    "eq_x1 = sp.calculus.euler_equations(L, (x1(t), x2(t)), t)[0].args[0]\n",
    "eq_x2 = sp.calculus.euler_equations(L, (x1(t), x2(t)), t)[1].args[0]\n",
    "eq_x1"
   ]
  },
  {
   "cell_type": "code",
   "execution_count": 138,
   "metadata": {},
   "outputs": [
    {
     "data": {
      "text/latex": [
       "$\\displaystyle 1.0 \\kappa \\operatorname{x_{1}}{\\left(t \\right)} - 1.0 \\kappa \\operatorname{x_{2}}{\\left(t \\right)} - 1.0 k_{2} \\operatorname{x_{2}}{\\left(t \\right)} - 1.0 m_{2} \\frac{d^{2}}{d t^{2}} \\operatorname{x_{2}}{\\left(t \\right)}$"
      ],
      "text/plain": [
       "1.0*\\kappa*x_1(t) - 1.0*\\kappa*x_2(t) - 1.0*k_2*x_2(t) - 1.0*m_2*Derivative(x_2(t), (t, 2))"
      ]
     },
     "execution_count": 138,
     "metadata": {},
     "output_type": "execute_result"
    }
   ],
   "source": [
    "eq_x2"
   ]
  },
  {
   "cell_type": "code",
   "execution_count": 156,
   "metadata": {},
   "outputs": [
    {
     "data": {
      "text/latex": [
       "$\\displaystyle \\kappa \\left(\\operatorname{x_{1}}{\\left(t \\right)} - \\operatorname{x_{2}}{\\left(t \\right)}\\right) + \\frac{k_{1} \\operatorname{x_{1}}{\\left(t \\right)}}{m_{1}} + \\frac{d^{2}}{d t^{2}} \\operatorname{x_{1}}{\\left(t \\right)}$"
      ],
      "text/plain": [
       "\\kappa*(x_1(t) - x_2(t)) + k_1*x_1(t)/m_1 + Derivative(x_1(t), (t, 2))"
      ]
     },
     "execution_count": 156,
     "metadata": {},
     "output_type": "execute_result"
    }
   ],
   "source": [
    "eq_x1 = x1(t).diff(t, 2) + k1/m1*x1(t) + kappa*(x1(t) - x2(t))\n",
    "eq_x2 = x2(t).diff(t, 2) + k2/m2*x2(t) - kappa*(x1(t) - x2(t))\n",
    "eq_x1"
   ]
  },
  {
   "cell_type": "code",
   "execution_count": 163,
   "metadata": {},
   "outputs": [],
   "source": [
    "# Ansatz:\n",
    "eq_x1 = eq_x1.subs({x1(t): A*sp.exp(1j*omega*t), x2(t): B*sp.exp(1j*omega*t)})\n",
    "eq_x2 = eq_x2.subs({x1(t): A*sp.exp(1j*omega*t), x2(t): B*sp.exp(1j*omega*t)})"
   ]
  },
  {
   "cell_type": "code",
   "execution_count": 164,
   "metadata": {},
   "outputs": [
    {
     "data": {
      "text/latex": [
       "$\\displaystyle \\frac{A k_{1} e^{1.0 i \\omega t}}{m_{1}} + \\kappa \\left(A e^{1.0 i \\omega t} - B e^{1.0 i \\omega t}\\right) + \\frac{\\partial^{2}}{\\partial t^{2}} A e^{1.0 i \\omega t}$"
      ],
      "text/plain": [
       "A*k_1*exp(1.0*I*omega*t)/m_1 + \\kappa*(A*exp(1.0*I*omega*t) - B*exp(1.0*I*omega*t)) + Derivative(A*exp(1.0*I*omega*t), (t, 2))"
      ]
     },
     "execution_count": 164,
     "metadata": {},
     "output_type": "execute_result"
    }
   ],
   "source": [
    "eq_x1"
   ]
  },
  {
   "cell_type": "code",
   "execution_count": null,
   "metadata": {},
   "outputs": [],
   "source": [
    "eq_x1 = -omega**2 "
   ]
  }
 ],
 "metadata": {
  "kernelspec": {
   "display_name": "Python 3",
   "language": "python",
   "name": "python3"
  },
  "language_info": {
   "codemirror_mode": {
    "name": "ipython",
    "version": 3
   },
   "file_extension": ".py",
   "mimetype": "text/x-python",
   "name": "python",
   "nbconvert_exporter": "python",
   "pygments_lexer": "ipython3",
   "version": "3.8.5"
  }
 },
 "nbformat": 4,
 "nbformat_minor": 4
}
