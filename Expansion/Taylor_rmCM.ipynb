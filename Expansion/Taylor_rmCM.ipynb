{
 "cells": [
  {
   "cell_type": "code",
   "execution_count": 1,
   "metadata": {
    "scrolled": false
   },
   "outputs": [],
   "source": [
    "__author__ = \"@Tssp\"\n",
    "__date__ = \"6/10/20\"\n",
    "import sympy as sp\n",
    "from sympy import init_session\n",
    "from math import pi\n",
    "from input_Taylor_rmCM import atom1, atom2, m1_value, m2_value, nx1, Ix1, Ix2, wLx1, alpha1"
   ]
  },
  {
   "cell_type": "code",
   "execution_count": 2,
   "metadata": {},
   "outputs": [
    {
     "name": "stdout",
     "output_type": "stream",
     "text": [
      " \n",
      "           atom 1         =    Li7\n",
      "           atom 2         =    Li7\n",
      "           order (Taylor) =    6\n",
      "           Ix(mW/cm2) 1   =    4993\n",
      "           Ix(mW/cm2) 2   =    4993\n",
      "           wL(nm)         =    1000\n",
      "           alpha(a.u)     =    200\n",
      "           kx(a.u)        =    0.00033249187158105134\n",
      "           Vx(a.u) 1      =    1.5514861655061523e-10   \n",
      "           Vx(a.u) 2      =    1.5514861655061523e-10   \n",
      "      \n"
     ]
    }
   ],
   "source": [
    "Ix1_value = Ix1/6.436409310e15 # a.u\n",
    "Ix2_value = Ix2/6.436409310e15 # a.u\n",
    "Vx1_value = alpha1 * Ix1_value\n",
    "Vx2_value = alpha1 * Ix2_value\n",
    "wL_value  = wLx1 / 0.0529177249 # a.u\n",
    "kx_value  = 2*pi/wL_value\n",
    "print(f\"\"\" \n",
    "           atom 1         =    {atom1}\n",
    "           atom 2         =    {atom2}\n",
    "           order (Taylor) =    {nx1}\n",
    "           Ix(mW/cm2) 1   =    {Ix1}\n",
    "           Ix(mW/cm2) 2   =    {Ix2}\n",
    "           wL(nm)         =    {wLx1}\n",
    "           alpha(a.u)     =    {alpha1}\n",
    "           kx(a.u)        =    {kx_value}\n",
    "           Vx(a.u) 1      =    {Vx1_value}   \n",
    "           Vx(a.u) 2      =    {Vx2_value}   \n",
    "      \"\"\")\n",
    "mu1_value = m1_value/(m1_value * m2_value)\n",
    "mu2_value = m2_value/(m1_value * m2_value)"
   ]
  },
  {
   "cell_type": "code",
   "execution_count": 6,
   "metadata": {},
   "outputs": [
    {
     "data": {
      "text/plain": [
       "35.89762866164949"
      ]
     },
     "execution_count": 6,
     "metadata": {},
     "output_type": "execute_result"
    }
   ],
   "source": [
    "Vx1_value / (kx_value**2/2/m1_value)"
   ]
  },
  {
   "cell_type": "code",
   "execution_count": 3,
   "metadata": {},
   "outputs": [],
   "source": [
    "x1, x2, mu1, mu2, kx, Vx1, Vx2, x, X = sp.symbols('x_1 x_2 \\mu_1 \\mu_2 k_x V^1_o_x V^2_o_x x X')\n",
    "dic_subs = {mu1: mu1_value,\n",
    "           mu2: mu2_value,\n",
    "           kx: kx_value,\n",
    "           Vx1: Vx1_value,\n",
    "           Vx2: Vx2_value}"
   ]
  },
  {
   "cell_type": "code",
   "execution_count": 4,
   "metadata": {},
   "outputs": [
    {
     "data": {
      "text/latex": [
       "$\\displaystyle \\frac{2 V^{1}_{o x} k_{x}^{6} x_{1}^{6}}{45} - \\frac{V^{1}_{o x} k_{x}^{4} x_{1}^{4}}{3} + V^{1}_{o x} k_{x}^{2} x_{1}^{2} + \\frac{2 V^{2}_{o x} k_{x}^{6} x_{2}^{6}}{45} - \\frac{V^{2}_{o x} k_{x}^{4} x_{2}^{4}}{3} + V^{2}_{o x} k_{x}^{2} x_{2}^{2}$"
      ],
      "text/plain": [
       "2*V^1_o_x*k_x**6*x_1**6/45 - V^1_o_x*k_x**4*x_1**4/3 + V^1_o_x*k_x**2*x_1**2 + 2*V^2_o_x*k_x**6*x_2**6/45 - V^2_o_x*k_x**4*x_2**4/3 + V^2_o_x*k_x**2*x_2**2"
      ]
     },
     "execution_count": 4,
     "metadata": {},
     "output_type": "execute_result"
    }
   ],
   "source": [
    "VoL = Vx1*sp.sin(kx*x1)**2 + Vx2*sp.sin(kx*x2)**2\n",
    "VoL_expanded = sp.series(VoL, x1, n=nx1+1).removeO()\n",
    "VoL_expanded = sp.series(VoL_expanded, x2, n=nx1+1).removeO()\n",
    "VoL_expanded"
   ]
  },
  {
   "cell_type": "code",
   "execution_count": 5,
   "metadata": {},
   "outputs": [
    {
     "data": {
      "text/latex": [
       "$\\displaystyle \\frac{2 V^{1}_{o x} k_{x}^{6} \\left(X + \\mu_2 x\\right)^{6}}{45} - \\frac{V^{1}_{o x} k_{x}^{4} \\left(X + \\mu_2 x\\right)^{4}}{3} + V^{1}_{o x} k_{x}^{2} \\left(X + \\mu_2 x\\right)^{2} + \\frac{2 V^{2}_{o x} k_{x}^{6} \\left(X - \\mu_1 x\\right)^{6}}{45} - \\frac{V^{2}_{o x} k_{x}^{4} \\left(X - \\mu_1 x\\right)^{4}}{3} + V^{2}_{o x} k_{x}^{2} \\left(X - \\mu_1 x\\right)^{2}$"
      ],
      "text/plain": [
       "2*V^1_o_x*k_x**6*(X + \\mu_2*x)**6/45 - V^1_o_x*k_x**4*(X + \\mu_2*x)**4/3 + V^1_o_x*k_x**2*(X + \\mu_2*x)**2 + 2*V^2_o_x*k_x**6*(X - \\mu_1*x)**6/45 - V^2_o_x*k_x**4*(X - \\mu_1*x)**4/3 + V^2_o_x*k_x**2*(X - \\mu_1*x)**2"
      ]
     },
     "execution_count": 5,
     "metadata": {},
     "output_type": "execute_result"
    }
   ],
   "source": [
    "VoL_rmCM = VoL_expanded.subs(x2, X - x*mu1)\n",
    "VoL_rmCM = VoL_rmCM.subs(x1, X + x*mu2)\n",
    "VoL_rmCM"
   ]
  },
  {
   "cell_type": "code",
   "execution_count": 7,
   "metadata": {
    "scrolled": true
   },
   "outputs": [
    {
     "data": {
      "text/latex": [
       "$\\displaystyle V^{1}_{o x} X^{2} k_{x}^{2} + 2 V^{1}_{o x} X \\mu_2 k_{x}^{2} x + V^{1}_{o x} \\mu_2^{2} k_{x}^{2} x^{2} + V^{2}_{o x} X^{2} k_{x}^{2} - 2 V^{2}_{o x} X \\mu_1 k_{x}^{2} x + V^{2}_{o x} \\mu_1^{2} k_{x}^{2} x^{2}$"
      ],
      "text/plain": [
       "V^1_o_x*X**2*k_x**2 + 2*V^1_o_x*X*\\mu_2*k_x**2*x + V^1_o_x*\\mu_2**2*k_x**2*x**2 + V^2_o_x*X**2*k_x**2 - 2*V^2_o_x*X*\\mu_1*k_x**2*x + V^2_o_x*\\mu_1**2*k_x**2*x**2"
      ]
     },
     "execution_count": 7,
     "metadata": {},
     "output_type": "execute_result"
    }
   ],
   "source": [
    "VoL_rmCM_expanded = sp.expand(VoL_rmCM)\n",
    "VoL_rmCM_expanded"
   ]
  },
  {
   "cell_type": "code",
   "execution_count": 8,
   "metadata": {},
   "outputs": [
    {
     "name": "stdout",
     "output_type": "stream",
     "text": [
      "0\n",
      "0\n",
      "5.36024139270039e-17\n",
      "0\n",
      "0\n",
      "0\n",
      "3.27706082511666e-25\n",
      "0\n",
      "0\n"
     ]
    }
   ],
   "source": [
    "coeff = list()\n",
    "for i in range(0, nx1+1):\n",
    "    for j in range(0, nx1+1):\n",
    "        coeff.append(VoL_rmCM_expanded.coeff(x, i).coeff(X, j).subs(dic_subs))\n",
    "        print(VoL_rmCM_expanded.coeff(x, i).coeff(X, j).subs(dic_subs))"
   ]
  },
  {
   "cell_type": "code",
   "execution_count": 21,
   "metadata": {},
   "outputs": [],
   "source": [
    "f = open(\"expansion_coeff.txt\", \"a\")\n",
    "f.write(str(atom1) + '\\n')\n",
    "f.write(str(atom2) + '\\n')\n",
    "f.write(str(alpha1) + '\\n')\n",
    "f.write(str(alpha1) + '\\n')\n",
    "f.write(str(len(coeff)) + '\\n')\n",
    "f.write(str(nx1) + '\\n')\n",
    "f.write(\"orden de Y y de Z\" + '\\n')\n",
    "for line in coeff:\n",
    "    f.write(str(line) + '\\n')\n",
    "f.write('Lo mismo pa los coeff de Y y de Z' + '\\n')\n",
    "f.close()"
   ]
  },
  {
   "cell_type": "markdown",
   "metadata": {},
   "source": [
    "### Archivo de salida:\n",
    "Nombre del átomo 1\n",
    "\n",
    "Nombre del átomo 2\n",
    "\n",
    "Polarización 1\n",
    "\n",
    "Polarización 2\n",
    "\n",
    "Número de términos de la expansión total\n",
    "\n",
    "Orden de la expansión en x\n",
    "\n",
    "\"\" en y\n",
    "\n",
    "\"\" en z\n",
    "\n",
    "(0, 0) coef (no se sabe si entre 2 o por 2) Nota: todos los x^n·X^m n + m != 6, son 0!\n",
    "\n",
    "(x0, X1) coef\n",
    "\n",
    "(x0, X2) coef\n",
    "\n",
    ".\n",
    "\n",
    ".\n",
    "\n",
    ".\n",
    "\n",
    "(x0, Xn) coef\n",
    "\n",
    "(x1, X0) coef\n",
    "\n",
    "(x1, X1) coef\n",
    "\n",
    ".\n",
    "\n",
    ".\n",
    "\n",
    ".\n",
    "\n",
    "(xn, Xn)\n",
    "\n",
    "\"\" en y\n",
    "\n",
    "\"\" en z\n"
   ]
  }
 ],
 "metadata": {
  "kernelspec": {
   "display_name": "Python 3",
   "language": "python",
   "name": "python3"
  },
  "language_info": {
   "codemirror_mode": {
    "name": "ipython",
    "version": 3
   },
   "file_extension": ".py",
   "mimetype": "text/x-python",
   "name": "python",
   "nbconvert_exporter": "python",
   "pygments_lexer": "ipython3",
   "version": "3.8.5"
  }
 },
 "nbformat": 4,
 "nbformat_minor": 4
}
