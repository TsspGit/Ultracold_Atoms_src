{
 "cells": [
  {
   "cell_type": "code",
   "execution_count": 2,
   "metadata": {
    "scrolled": false
   },
   "outputs": [],
   "source": [
    "__author__ = \"@Tssp\"\n",
    "__date__ = \"6/10/20\"\n",
    "import sympy as sp\n",
    "from sympy import init_session\n",
    "from math import pi\n",
    "from input_Taylor_rmCM import atom1, atom2, m1_value, m2_value, nx, Ix1, Ix2, wL, alpha"
   ]
  },
  {
   "cell_type": "code",
   "execution_count": 4,
   "metadata": {},
   "outputs": [
    {
     "name": "stdout",
     "output_type": "stream",
     "text": [
      " \n",
      "           atom 1         =    Li7\n",
      "           atom 2         =    Li7\n",
      "           order (Taylor) =    6\n",
      "           Ix(mW/cm2) 1   =    6603\n",
      "           Ix(mW/cm2) 2   =    6603\n",
      "           wL(nm)         =    1000\n",
      "           alpha(a.u)     =    200\n",
      "           kx(a.u)        =    0.006283185307179587\n",
      "           Vx(a.u) 1      =    2.0517651013092578e-10   \n",
      "           Vx(a.u) 2      =    2.0517651013092578e-10   \n",
      "      \n"
     ]
    }
   ],
   "source": [
    "Ix1_value = Ix1/6.436409310e15 # a.u\n",
    "Ix2_value = Ix2/6.436409310e15 # a.u\n",
    "Vx1_value = alpha * Ix1_value\n",
    "Vx2_value = alpha * Ix2_value\n",
    "wL_value  = wL / 0.0529177249 # a.u\n",
    "kx_value  = 2*pi/wL\n",
    "print(f\"\"\" \n",
    "           atom 1         =    {atom1}\n",
    "           atom 2         =    {atom2}\n",
    "           order (Taylor) =    {nx}\n",
    "           Ix(mW/cm2) 1   =    {Ix1}\n",
    "           Ix(mW/cm2) 2   =    {Ix2}\n",
    "           wL(nm)         =    {wL}\n",
    "           alpha(a.u)     =    {alpha}\n",
    "           kx(a.u)        =    {kx_value}\n",
    "           Vx(a.u) 1      =    {Vx1_value}   \n",
    "           Vx(a.u) 2      =    {Vx2_value}   \n",
    "      \"\"\")\n",
    "mu1_value = m1_value/(m1_value * m2_value)\n",
    "mu2_value = m2_value/(m1_value * m2_value)"
   ]
  },
  {
   "cell_type": "code",
   "execution_count": 5,
   "metadata": {},
   "outputs": [],
   "source": [
    "x1, x2, mu1, mu2, kx, Vx1, Vx2, x, X = sp.symbols('x_1 x_2 \\mu_1 \\mu_2 k_x V^1_o_x V^2_o_x x X')\n",
    "dic_subs = {mu1: mu1_value,\n",
    "           mu2: mu2_value,\n",
    "           kx: kx_value,\n",
    "           Vx1: Vx1_value,\n",
    "           Vx2: Vx2_value}"
   ]
  },
  {
   "cell_type": "code",
   "execution_count": 6,
   "metadata": {},
   "outputs": [
    {
     "data": {
      "text/latex": [
       "$\\displaystyle \\frac{2 V^{1}_{o x} k_{x}^{6} x_{1}^{6}}{45} - \\frac{V^{1}_{o x} k_{x}^{4} x_{1}^{4}}{3} + V^{1}_{o x} k_{x}^{2} x_{1}^{2} + \\frac{2 V^{2}_{o x} k_{x}^{6} x_{2}^{6}}{45} - \\frac{V^{2}_{o x} k_{x}^{4} x_{2}^{4}}{3} + V^{2}_{o x} k_{x}^{2} x_{2}^{2}$"
      ],
      "text/plain": [
       "2*V^1_o_x*k_x**6*x_1**6/45 - V^1_o_x*k_x**4*x_1**4/3 + V^1_o_x*k_x**2*x_1**2 + 2*V^2_o_x*k_x**6*x_2**6/45 - V^2_o_x*k_x**4*x_2**4/3 + V^2_o_x*k_x**2*x_2**2"
      ]
     },
     "execution_count": 6,
     "metadata": {},
     "output_type": "execute_result"
    }
   ],
   "source": [
    "VoL = Vx1*sp.sin(kx*x1)**2 + Vx2*sp.sin(kx*x2)**2\n",
    "VoL_expanded = sp.series(VoL, x1, n=nx+1).removeO()\n",
    "VoL_expanded = sp.series(VoL_expanded, x2, n=nx+1).removeO()\n",
    "VoL_expanded"
   ]
  },
  {
   "cell_type": "code",
   "execution_count": 7,
   "metadata": {},
   "outputs": [
    {
     "data": {
      "text/latex": [
       "$\\displaystyle \\frac{2 V^{1}_{o x} k_{x}^{6} \\left(X + \\mu_2 x\\right)^{6}}{45} - \\frac{V^{1}_{o x} k_{x}^{4} \\left(X + \\mu_2 x\\right)^{4}}{3} + V^{1}_{o x} k_{x}^{2} \\left(X + \\mu_2 x\\right)^{2} + \\frac{2 V^{2}_{o x} k_{x}^{6} \\left(X - \\mu_1 x\\right)^{6}}{45} - \\frac{V^{2}_{o x} k_{x}^{4} \\left(X - \\mu_1 x\\right)^{4}}{3} + V^{2}_{o x} k_{x}^{2} \\left(X - \\mu_1 x\\right)^{2}$"
      ],
      "text/plain": [
       "2*V^1_o_x*k_x**6*(X + \\mu_2*x)**6/45 - V^1_o_x*k_x**4*(X + \\mu_2*x)**4/3 + V^1_o_x*k_x**2*(X + \\mu_2*x)**2 + 2*V^2_o_x*k_x**6*(X - \\mu_1*x)**6/45 - V^2_o_x*k_x**4*(X - \\mu_1*x)**4/3 + V^2_o_x*k_x**2*(X - \\mu_1*x)**2"
      ]
     },
     "execution_count": 7,
     "metadata": {},
     "output_type": "execute_result"
    }
   ],
   "source": [
    "VoL_rmCM = VoL_expanded.subs(x2, X - x*mu1)\n",
    "VoL_rmCM = VoL_rmCM.subs(x1, X + x*mu2)\n",
    "VoL_rmCM"
   ]
  },
  {
   "cell_type": "code",
   "execution_count": 8,
   "metadata": {
    "scrolled": true
   },
   "outputs": [
    {
     "data": {
      "text/latex": [
       "$\\displaystyle \\frac{2 V^{1}_{o x} X^{6} k_{x}^{6}}{45} + \\frac{4 V^{1}_{o x} X^{5} \\mu_2 k_{x}^{6} x}{15} + \\frac{2 V^{1}_{o x} X^{4} \\mu_2^{2} k_{x}^{6} x^{2}}{3} - \\frac{V^{1}_{o x} X^{4} k_{x}^{4}}{3} + \\frac{8 V^{1}_{o x} X^{3} \\mu_2^{3} k_{x}^{6} x^{3}}{9} - \\frac{4 V^{1}_{o x} X^{3} \\mu_2 k_{x}^{4} x}{3} + \\frac{2 V^{1}_{o x} X^{2} \\mu_2^{4} k_{x}^{6} x^{4}}{3} - 2 V^{1}_{o x} X^{2} \\mu_2^{2} k_{x}^{4} x^{2} + V^{1}_{o x} X^{2} k_{x}^{2} + \\frac{4 V^{1}_{o x} X \\mu_2^{5} k_{x}^{6} x^{5}}{15} - \\frac{4 V^{1}_{o x} X \\mu_2^{3} k_{x}^{4} x^{3}}{3} + 2 V^{1}_{o x} X \\mu_2 k_{x}^{2} x + \\frac{2 V^{1}_{o x} \\mu_2^{6} k_{x}^{6} x^{6}}{45} - \\frac{V^{1}_{o x} \\mu_2^{4} k_{x}^{4} x^{4}}{3} + V^{1}_{o x} \\mu_2^{2} k_{x}^{2} x^{2} + \\frac{2 V^{2}_{o x} X^{6} k_{x}^{6}}{45} - \\frac{4 V^{2}_{o x} X^{5} \\mu_1 k_{x}^{6} x}{15} + \\frac{2 V^{2}_{o x} X^{4} \\mu_1^{2} k_{x}^{6} x^{2}}{3} - \\frac{V^{2}_{o x} X^{4} k_{x}^{4}}{3} - \\frac{8 V^{2}_{o x} X^{3} \\mu_1^{3} k_{x}^{6} x^{3}}{9} + \\frac{4 V^{2}_{o x} X^{3} \\mu_1 k_{x}^{4} x}{3} + \\frac{2 V^{2}_{o x} X^{2} \\mu_1^{4} k_{x}^{6} x^{4}}{3} - 2 V^{2}_{o x} X^{2} \\mu_1^{2} k_{x}^{4} x^{2} + V^{2}_{o x} X^{2} k_{x}^{2} - \\frac{4 V^{2}_{o x} X \\mu_1^{5} k_{x}^{6} x^{5}}{15} + \\frac{4 V^{2}_{o x} X \\mu_1^{3} k_{x}^{4} x^{3}}{3} - 2 V^{2}_{o x} X \\mu_1 k_{x}^{2} x + \\frac{2 V^{2}_{o x} \\mu_1^{6} k_{x}^{6} x^{6}}{45} - \\frac{V^{2}_{o x} \\mu_1^{4} k_{x}^{4} x^{4}}{3} + V^{2}_{o x} \\mu_1^{2} k_{x}^{2} x^{2}$"
      ],
      "text/plain": [
       "2*V^1_o_x*X**6*k_x**6/45 + 4*V^1_o_x*X**5*\\mu_2*k_x**6*x/15 + 2*V^1_o_x*X**4*\\mu_2**2*k_x**6*x**2/3 - V^1_o_x*X**4*k_x**4/3 + 8*V^1_o_x*X**3*\\mu_2**3*k_x**6*x**3/9 - 4*V^1_o_x*X**3*\\mu_2*k_x**4*x/3 + 2*V^1_o_x*X**2*\\mu_2**4*k_x**6*x**4/3 - 2*V^1_o_x*X**2*\\mu_2**2*k_x**4*x**2 + V^1_o_x*X**2*k_x**2 + 4*V^1_o_x*X*\\mu_2**5*k_x**6*x**5/15 - 4*V^1_o_x*X*\\mu_2**3*k_x**4*x**3/3 + 2*V^1_o_x*X*\\mu_2*k_x**2*x + 2*V^1_o_x*\\mu_2**6*k_x**6*x**6/45 - V^1_o_x*\\mu_2**4*k_x**4*x**4/3 + V^1_o_x*\\mu_2**2*k_x**2*x**2 + 2*V^2_o_x*X**6*k_x**6/45 - 4*V^2_o_x*X**5*\\mu_1*k_x**6*x/15 + 2*V^2_o_x*X**4*\\mu_1**2*k_x**6*x**2/3 - V^2_o_x*X**4*k_x**4/3 - 8*V^2_o_x*X**3*\\mu_1**3*k_x**6*x**3/9 + 4*V^2_o_x*X**3*\\mu_1*k_x**4*x/3 + 2*V^2_o_x*X**2*\\mu_1**4*k_x**6*x**4/3 - 2*V^2_o_x*X**2*\\mu_1**2*k_x**4*x**2 + V^2_o_x*X**2*k_x**2 - 4*V^2_o_x*X*\\mu_1**5*k_x**6*x**5/15 + 4*V^2_o_x*X*\\mu_1**3*k_x**4*x**3/3 - 2*V^2_o_x*X*\\mu_1*k_x**2*x + 2*V^2_o_x*\\mu_1**6*k_x**6*x**6/45 - V^2_o_x*\\mu_1**4*k_x**4*x**4/3 + V^2_o_x*\\mu_1**2*k_x**2*x**2"
      ]
     },
     "execution_count": 8,
     "metadata": {},
     "output_type": "execute_result"
    }
   ],
   "source": [
    "VoL_rmCM_expanded = sp.expand(VoL_rmCM)\n",
    "VoL_rmCM_expanded"
   ]
  },
  {
   "cell_type": "code",
   "execution_count": 9,
   "metadata": {},
   "outputs": [
    {
     "name": "stdout",
     "output_type": "stream",
     "text": [
      "0\n",
      "0\n",
      "1.62000878991067e-14\n",
      "0\n",
      "-2.13184611769411e-19\n",
      "0\n",
      "1.12215881736742e-24\n",
      "0\n",
      "0\n",
      "0\n",
      "0\n",
      "0\n",
      "0\n",
      "0\n",
      "9.90415720640971e-23\n",
      "0\n",
      "-7.82000908427697e-27\n",
      "0\n",
      "1.02907194766318e-31\n",
      "0\n",
      "0\n",
      "0\n",
      "0\n",
      "0\n",
      "0\n",
      "0\n",
      "0\n",
      "0\n",
      "-7.96812542094312e-36\n",
      "0\n",
      "6.29137965783778e-40\n",
      "0\n",
      "0\n",
      "0\n",
      "0\n",
      "0\n",
      "0\n",
      "0\n",
      "0\n",
      "0\n",
      "0\n",
      "0\n",
      "2.56421708180441e-49\n",
      "0\n",
      "0\n",
      "0\n",
      "0\n",
      "0\n",
      "0\n"
     ]
    }
   ],
   "source": [
    "for i in range(0, 7):\n",
    "    for j in range(0, 7):\n",
    "        print(VoL_rmCM_expanded.coeff(x, i).coeff(X, j).subs(dic_subs))"
   ]
  },
  {
   "cell_type": "markdown",
   "metadata": {},
   "source": [
    "### Archivo de salida:\n",
    "Nombre del átomo 1\n",
    "\n",
    "Nombre del átomo 2\n",
    "\n",
    "Polarización 1\n",
    "\n",
    "Polarización 2\n",
    "\n",
    "Número de términos de la expansión total\n",
    "\n",
    "Orden de la expansión en x\n",
    "\n",
    "\"\" en y\n",
    "\n",
    "\"\" en z\n",
    "\n",
    "(0, 0) coef (no se sabe si entre 2 o por 2) Nota: todos los x^n·X^m n + m != 6, son 0!\n",
    "\n",
    "(x0, X1) coef\n",
    "\n",
    "(x0, X2) coef\n",
    "\n",
    ".\n",
    "\n",
    ".\n",
    "\n",
    ".\n",
    "\n",
    "(x0, Xn) coef\n",
    "\n",
    "(x1, X0) coef\n",
    "\n",
    "(x1, X1) coef\n",
    "\n",
    ".\n",
    "\n",
    ".\n",
    "\n",
    ".\n",
    "\n",
    "(xn, Xn)\n",
    "\n",
    "\"\" en y\n",
    "\n",
    "\"\" en z\n"
   ]
  }
 ],
 "metadata": {
  "kernelspec": {
   "display_name": "Python 3",
   "language": "python",
   "name": "python3"
  },
  "language_info": {
   "codemirror_mode": {
    "name": "ipython",
    "version": 3
   },
   "file_extension": ".py",
   "mimetype": "text/x-python",
   "name": "python",
   "nbconvert_exporter": "python",
   "pygments_lexer": "ipython3",
   "version": "3.8.5"
  }
 },
 "nbformat": 4,
 "nbformat_minor": 4
}
