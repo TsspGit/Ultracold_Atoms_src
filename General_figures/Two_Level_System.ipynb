{
 "cells": [
  {
   "cell_type": "code",
   "execution_count": 1,
   "metadata": {},
   "outputs": [],
   "source": [
    "__author__ = \"@Tssp\"\n",
    "__date__ = \"10/11/20\"\n",
    "import sympy as sp\n",
    "from math import pi"
   ]
  },
  {
   "cell_type": "code",
   "execution_count": 41,
   "metadata": {},
   "outputs": [],
   "source": [
    "E1, E2, W, Delta, st0, st1, Eavg = sp.symbols('E_1 E_2 W \\Delta |0> |1> E_{avg}')"
   ]
  },
  {
   "cell_type": "code",
   "execution_count": 42,
   "metadata": {},
   "outputs": [
    {
     "name": "stdout",
     "output_type": "stream",
     "text": [
      "Hamiltonian:\n"
     ]
    },
    {
     "data": {
      "text/latex": [
       "$\\displaystyle \\left[\\begin{matrix}E_{1} & W\\\\W & E_{2}\\end{matrix}\\right]$"
      ],
      "text/plain": [
       "Matrix([\n",
       "[E_1,   W],\n",
       "[  W, E_2]])"
      ]
     },
     "execution_count": 42,
     "metadata": {},
     "output_type": "execute_result"
    }
   ],
   "source": [
    "H = sp.Matrix([[E1, W], [W, E2]])\n",
    "print(\"Hamiltonian:\")\n",
    "H"
   ]
  },
  {
   "cell_type": "code",
   "execution_count": 97,
   "metadata": {},
   "outputs": [],
   "source": [
    "eigval1 = list(H.eigenvals().keys())[0].subs((E1 + E2)/2, Eavg).subs(E1**2 - 2*E1*E2+ E2**2, Delta**2)\n",
    "eigval2 = list(H.eigenvals().keys())[1].subs((E1 + E2)/2, Eavg).subs(E1**2 - 2*E1*E2+ E2**2, Delta**2)"
   ]
  },
  {
   "cell_type": "code",
   "execution_count": 99,
   "metadata": {},
   "outputs": [
    {
     "data": {
      "text/latex": [
       "$\\displaystyle E_{avg} - \\frac{\\sqrt{4 W^{2} + \\Delta^{2}}}{2}$"
      ],
      "text/plain": [
       "E_{avg} - sqrt(4*W**2 + \\Delta**2)/2"
      ]
     },
     "execution_count": 99,
     "metadata": {},
     "output_type": "execute_result"
    }
   ],
   "source": [
    "eigval1"
   ]
  },
  {
   "cell_type": "code",
   "execution_count": 100,
   "metadata": {},
   "outputs": [
    {
     "data": {
      "text/latex": [
       "$\\displaystyle E_{avg} + \\frac{\\sqrt{4 W^{2} + \\Delta^{2}}}{2}$"
      ],
      "text/plain": [
       "E_{avg} + sqrt(4*W**2 + \\Delta**2)/2"
      ]
     },
     "execution_count": 100,
     "metadata": {},
     "output_type": "execute_result"
    }
   ],
   "source": [
    "eigval2"
   ]
  },
  {
   "cell_type": "code",
   "execution_count": 139,
   "metadata": {},
   "outputs": [],
   "source": [
    "eigvect1 = H.eigenvects()[0][2][0].subs((E1 - E2), Delta).subs(E1**2 - 2*E1*E2+ E2**2, Delta**2)\n",
    "eigvect2 = H.eigenvects()[1][2][0].subs((E1 - E2), Delta).subs(E1**2 - 2*E1*E2+ E2**2, Delta**2)"
   ]
  },
  {
   "cell_type": "code",
   "execution_count": 140,
   "metadata": {},
   "outputs": [
    {
     "data": {
      "text/latex": [
       "$\\displaystyle \\left[\\begin{matrix}- \\frac{2 W}{\\Delta + \\sqrt{4 W^{2} + \\Delta^{2}}}\\\\1\\end{matrix}\\right]$"
      ],
      "text/plain": [
       "Matrix([\n",
       "[-2*W/(\\Delta + sqrt(4*W**2 + \\Delta**2))],\n",
       "[                                       1]])"
      ]
     },
     "execution_count": 140,
     "metadata": {},
     "output_type": "execute_result"
    }
   ],
   "source": [
    "eigvect1"
   ]
  },
  {
   "cell_type": "code",
   "execution_count": 141,
   "metadata": {},
   "outputs": [
    {
     "data": {
      "text/latex": [
       "$\\displaystyle - \\frac{2 W |0>}{\\Delta + \\sqrt{4 W^{2} + \\Delta^{2}}} + |1>$"
      ],
      "text/plain": [
       "-2*W*|0>/(\\Delta + sqrt(4*W**2 + \\Delta**2)) + |1>"
      ]
     },
     "execution_count": 141,
     "metadata": {},
     "output_type": "execute_result"
    }
   ],
   "source": [
    "eigvect1 = eigvect1[0] * st0 + eigvect1[1]*st1\n",
    "eigvect1"
   ]
  },
  {
   "cell_type": "code",
   "execution_count": 142,
   "metadata": {},
   "outputs": [
    {
     "data": {
      "text/latex": [
       "$\\displaystyle \\left[\\begin{matrix}- \\frac{2 W}{\\Delta - \\sqrt{4 W^{2} + \\Delta^{2}}}\\\\1\\end{matrix}\\right]$"
      ],
      "text/plain": [
       "Matrix([\n",
       "[-2*W/(\\Delta - sqrt(4*W**2 + \\Delta**2))],\n",
       "[                                       1]])"
      ]
     },
     "execution_count": 142,
     "metadata": {},
     "output_type": "execute_result"
    }
   ],
   "source": [
    "eigvect2"
   ]
  },
  {
   "cell_type": "code",
   "execution_count": 143,
   "metadata": {},
   "outputs": [
    {
     "data": {
      "text/latex": [
       "$\\displaystyle - \\frac{2 W |0>}{\\Delta - \\sqrt{4 W^{2} + \\Delta^{2}}} + |1>$"
      ],
      "text/plain": [
       "-2*W*|0>/(\\Delta - sqrt(4*W**2 + \\Delta**2)) + |1>"
      ]
     },
     "execution_count": 143,
     "metadata": {},
     "output_type": "execute_result"
    }
   ],
   "source": [
    "eigvect2 = eigvect2[0] * st0 + eigvect2[1]*st1\n",
    "eigvect2"
   ]
  },
  {
   "cell_type": "code",
   "execution_count": 145,
   "metadata": {},
   "outputs": [
    {
     "data": {
      "text/latex": [
       "$\\displaystyle - \\frac{|0>}{\\sqrt{1 + \\frac{\\Delta^{2}}{4 W^{2}}} + \\frac{\\Delta}{2 W}} + |1>$"
      ],
      "text/plain": [
       "-|0>/(sqrt(1 + \\Delta**2/(4*W**2)) + \\Delta/(2*W)) + |1>"
      ]
     },
     "execution_count": 145,
     "metadata": {},
     "output_type": "execute_result"
    }
   ],
   "source": [
    "eigvect1 = -1/( Delta/(2*W) + sp.sqrt(1+ Delta**2/(2*W)**2) )*st0 + st1\n",
    "eigvect1"
   ]
  },
  {
   "cell_type": "code",
   "execution_count": 146,
   "metadata": {},
   "outputs": [
    {
     "data": {
      "text/latex": [
       "$\\displaystyle - \\frac{|0>}{- \\sqrt{1 + \\frac{\\Delta^{2}}{4 W^{2}}} + \\frac{\\Delta}{2 W}} + |1>$"
      ],
      "text/plain": [
       "-|0>/(-sqrt(1 + \\Delta**2/(4*W**2)) + \\Delta/(2*W)) + |1>"
      ]
     },
     "execution_count": 146,
     "metadata": {},
     "output_type": "execute_result"
    }
   ],
   "source": [
    "eigvect2 = -1/( Delta/(2*W) - sp.sqrt(1+ Delta**2/(2*W)**2) )*st0 + st1\n",
    "eigvect2"
   ]
  },
  {
   "cell_type": "code",
   "execution_count": 151,
   "metadata": {},
   "outputs": [
    {
     "name": "stdout",
     "output_type": "stream",
     "text": [
      "State |->\n"
     ]
    },
    {
     "data": {
      "text/latex": [
       "$\\displaystyle |0> \\left(-1 + \\frac{\\Delta}{2 W}\\right) + |1>$"
      ],
      "text/plain": [
       "|0>*(-1 + \\Delta/(2*W)) + |1>"
      ]
     },
     "execution_count": 151,
     "metadata": {},
     "output_type": "execute_result"
    }
   ],
   "source": [
    "print(\"State |->\")\n",
    "sp.series(eigvect1, Delta/(2*W), n=2).removeO().collect(st0)"
   ]
  },
  {
   "cell_type": "code",
   "execution_count": 152,
   "metadata": {},
   "outputs": [
    {
     "name": "stdout",
     "output_type": "stream",
     "text": [
      "State |+>\n"
     ]
    },
    {
     "data": {
      "text/latex": [
       "$\\displaystyle |0> \\left(1 + \\frac{\\Delta}{2 W}\\right) + |1>$"
      ],
      "text/plain": [
       "|0>*(1 + \\Delta/(2*W)) + |1>"
      ]
     },
     "execution_count": 152,
     "metadata": {},
     "output_type": "execute_result"
    }
   ],
   "source": [
    "print(\"State |+>\")\n",
    "sp.series(eigvect2, Delta/(2*W), n=2).removeO().collect(st0)"
   ]
  }
 ],
 "metadata": {
  "kernelspec": {
   "display_name": "Python 3",
   "language": "python",
   "name": "python3"
  },
  "language_info": {
   "codemirror_mode": {
    "name": "ipython",
    "version": 3
   },
   "file_extension": ".py",
   "mimetype": "text/x-python",
   "name": "python",
   "nbconvert_exporter": "python",
   "pygments_lexer": "ipython3",
   "version": "3.8.5"
  }
 },
 "nbformat": 4,
 "nbformat_minor": 4
}
