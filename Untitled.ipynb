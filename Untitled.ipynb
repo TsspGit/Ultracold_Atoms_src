{
 "cells": [
  {
   "cell_type": "code",
   "execution_count": 8,
   "id": "6eec3efa",
   "metadata": {},
   "outputs": [],
   "source": [
    "__author__ = \"Tomás Sánchez Sánchez-Pastor\"\n",
    "__date__   = \"28 de Septiembre del 2021\"\n",
    "import numpy as np\n",
    "from numpy import sqrt, pi, exp\n",
    "from scipy.special import gamma, hyp2f1\n",
    "import matplotlib.pyplot as plt"
   ]
  },
  {
   "cell_type": "code",
   "execution_count": 39,
   "id": "f0ef783d",
   "metadata": {},
   "outputs": [],
   "source": [
    "x = np.linspace(0, 10)\n",
    "E = 1"
   ]
  },
  {
   "cell_type": "code",
   "execution_count": 40,
   "id": "783313ee",
   "metadata": {},
   "outputs": [
    {
     "name": "stderr",
     "output_type": "stream",
     "text": [
      "<ipython-input-40-f1804bed968e>:1: RuntimeWarning: invalid value encountered in multiply\n",
      "  C_Z_hyp = sqrt(pi)*gamma(1/4 - E/2)/gamma(3/4 - E/2) - gamma(1/4 - E/2)/gamma(5/4 - E/2) * exp((E - 3/2)*x)*\\\n",
      "<ipython-input-40-f1804bed968e>:4: RuntimeWarning: invalid value encountered in multiply\n",
      "  T_hyp  = exp((E + 1/2)*x) * sqrt(exp(2*x) - 1)/(E + 1/2) * hyp2f1(1, 3/4 + E/2, 5/4 + E/2, exp(+2*x))\n"
     ]
    }
   ],
   "source": [
    "C_Z_hyp = sqrt(pi)*gamma(1/4 - E/2)/gamma(3/4 - E/2) - gamma(1/4 - E/2)/gamma(5/4 - E/2) * exp((E - 3/2)*x)*\\\n",
    "sqrt(exp(2*x) - 1) * hyp2f1(1, 3/4 - E/2, 5/4 - E/2, exp(-2*x))\n",
    "\n",
    "T_hyp  = exp((E + 1/2)*x) * sqrt(exp(2*x) - 1)/(E + 1/2) * hyp2f1(1, 3/4 + E/2, 5/4 + E/2, exp(+2*x)) "
   ]
  },
  {
   "cell_type": "code",
   "execution_count": 41,
   "id": "2b337948",
   "metadata": {},
   "outputs": [
    {
     "data": {
      "text/plain": [
       "[<matplotlib.lines.Line2D at 0x7fd2d04bc460>]"
      ]
     },
     "execution_count": 41,
     "metadata": {},
     "output_type": "execute_result"
    },
    {
     "data": {
      "image/png": "[encoded data removed]",
      "text/plain": [
       "<Figure size 576x432 with 1 Axes>"
      ]
     },
     "metadata": {
      "needs_background": "light"
     },
     "output_type": "display_data"
    }
   ],
   "source": [
    "fig, ax = plt.subplots(figsize=(8,6))\n",
    "#ax.plot(x, C_Z_hyp)\n",
    "ax.plot(x, T_hyp)"
   ]
  },
  {
   "cell_type": "code",
   "execution_count": 43,
   "id": "0717024e",
   "metadata": {},
   "outputs": [
    {
     "data": {
      "text/plain": [
       "array([inf, inf, inf, inf, inf, inf, inf, inf, inf, inf, inf, inf, inf,\n",
       "       inf, inf, inf, inf, inf, inf, inf, inf, inf, inf, inf, inf, inf,\n",
       "       inf, inf, inf, inf, inf, inf, inf, inf, inf, inf, inf, inf, inf,\n",
       "       inf, inf, inf, inf, inf, inf, inf, inf, inf, inf, inf])"
      ]
     },
     "execution_count": 43,
     "metadata": {},
     "output_type": "execute_result"
    }
   ],
   "source": [
    "hyp2f1(1, 3/4 + E/2, 5/4 + E/2, exp(+2*x))"
   ]
  },
  {
   "cell_type": "code",
   "execution_count": null,
   "id": "58797e2a",
   "metadata": {},
   "outputs": [],
   "source": []
  }
 ],
 "metadata": {
  "kernelspec": {
   "display_name": "Python [conda env:root] *",
   "language": "python",
   "name": "conda-root-py"
  },
  "language_info": {
   "codemirror_mode": {
    "name": "ipython",
    "version": 3
   },
   "file_extension": ".py",
   "mimetype": "text/x-python",
   "name": "python",
   "nbconvert_exporter": "python",
   "pygments_lexer": "ipython3",
   "version": "3.8.8"
  }
 },
 "nbformat": 4,
 "nbformat_minor": 5
}
