{
 "cells": [
  {
   "cell_type": "code",
   "execution_count": 1,
   "metadata": {},
   "outputs": [],
   "source": [
    "__author__ = \"@Tssp\"\n",
    "__date__ = \"9/10/20\"\n",
    "import numpy as np\n",
    "import matplotlib.pyplot as plt\n",
    "import os\n",
    "from utils.atomic_units import ao, vo, e, hbar, me, Eh, to\n",
    "from decimal import Decimal\n",
    "from utils.Energies_Analysis_utils import *\n",
    "plt.rc('text',usetex=True)\n",
    "plt.rc('font',family='serif')\n",
    "plt.rcParams['xtick.labelsize']=16\n",
    "plt.rcParams['ytick.labelsize']=16\n",
    "plt.rcParams['axes.labelsize']=18\n",
    "plt.rcParams['axes.titlesize']=18\n",
    "aur = (1 + np.sqrt(5))/2\n",
    "aursize = (5*aur, 5)"
   ]
  },
  {
   "cell_type": "code",
   "execution_count": 2,
   "metadata": {},
   "outputs": [],
   "source": [
    "delta = np.loadtxt('Simulations/delta_asc_ix6603.dat', dtype=str)[:,0]\n",
    "asc = np.loadtxt('Simulations/delta_asc_ix6603.dat')[:,1]\n",
    "delta = delta.tolist()\n",
    "asc = asc.tolist()"
   ]
  },
  {
   "cell_type": "code",
   "execution_count": 3,
   "metadata": {},
   "outputs": [
    {
     "name": "stdout",
     "output_type": "stream",
     "text": [
      "wy [u.a]:  2141065.2804475287\n",
      "dho [u.a]:  1737.6709708894564\n"
     ]
    }
   ],
   "source": [
    "# Parameters and Constants:\n",
    "mass = 7.0160040 * 1.66053873e-27 / me # a.u\n",
    "alpha = 200 # a.u\n",
    "lambd = 1000 * 1e-9 / ao # a.u\n",
    "ky = 2*np.pi/lambd\n",
    "Iy = 4993 * (1e4 / Eh * to * ao**2)\n",
    "Vy = alpha * Iy # a.u\n",
    "Iy = Vy/alpha\n",
    "wy = np.sqrt( 2 * Vy * ky**2 / mass)       \n",
    "dho = np.sqrt(2 / (mass * wy))\n",
    "print('wy [u.a]: ', wy/to)\n",
    "print('dho [u.a]: ', dho)"
   ]
  },
  {
   "cell_type": "code",
   "execution_count": 4,
   "metadata": {
    "scrolled": true
   },
   "outputs": [
    {
     "data": {
      "text/plain": [
       "1.250035048577335"
      ]
     },
     "execution_count": 4,
     "metadata": {},
     "output_type": "execute_result"
    }
   ],
   "source": [
    "np.sqrt(7802/4993)"
   ]
  },
  {
   "cell_type": "code",
   "execution_count": 5,
   "metadata": {},
   "outputs": [],
   "source": [
    "folder_path = 'Simulations/ix7802_iy4993_iz50/config/'"
   ]
  },
  {
   "cell_type": "code",
   "execution_count": 6,
   "metadata": {},
   "outputs": [
    {
     "name": "stdout",
     "output_type": "stream",
     "text": [
      "There are a 11 folders without data, \n",
      "delta=['.70735', '.707891', '.7081066', '.7083468', '.708483', '.708822', '.7090032', '.7090948', '.7091583', '.71195', '.71200'] non readed\n"
     ]
    }
   ],
   "source": [
    "Data = list()\n",
    "delta_nonreaded = list()\n",
    "for d in delta:\n",
    "    try:\n",
    "        Data.append(np.loadtxt(folder_path + f'Li7Li7_x10000_y10000_z10000_120rm8g2l60m14_68CM8g1L60M14_Li7a200_Li7a200_kx1000_ky1000_kz1000_ix7802_iy4993_iz50_LiLi_a3Sup_0{d}_sinTnx6_sinTny6_sinTnz6/Ag_vsLiLi_int_rm200_CM50_ddb.eva'))\n",
    "    except:\n",
    "        delta_nonreaded.append(d)\n",
    "        continue\n",
    "print(f'There are a {len(delta_nonreaded)} folders without data, \\ndelta={delta_nonreaded} non readed')"
   ]
  },
  {
   "cell_type": "code",
   "execution_count": 7,
   "metadata": {},
   "outputs": [
    {
     "name": "stdout",
     "output_type": "stream",
     "text": [
      "filtering completed\n"
     ]
    }
   ],
   "source": [
    "# Delete from original delta and asc lists the unreaded values:\n",
    "for dnr in delta_nonreaded:\n",
    "    idx = delta.index(dnr)\n",
    "    del delta[idx], asc[idx]\n",
    "assert len(delta) == len(asc)\n",
    "print(\"filtering completed\")\n",
    "x = dho / asc"
   ]
  },
  {
   "cell_type": "code",
   "execution_count": 8,
   "metadata": {},
   "outputs": [],
   "source": [
    "dic = transpose_energies(Data)"
   ]
  },
  {
   "cell_type": "code",
   "execution_count": 9,
   "metadata": {},
   "outputs": [
    {
     "name": "stdout",
     "output_type": "stream",
     "text": [
      "Least bound state:  1001 -0.14367160045877198\n",
      "First trap state:  1002 0.05907864941907296\n"
     ]
    }
   ],
   "source": [
    "dic, least_bound_pos = dic_from_least_bound_forward(dic, wy)"
   ]
  },
  {
   "cell_type": "code",
   "execution_count": 10,
   "metadata": {},
   "outputs": [],
   "source": [
    "for key in dic.keys():\n",
    "    dic[key] = np.sort(dic[key])"
   ]
  },
  {
   "cell_type": "code",
   "execution_count": 11,
   "metadata": {},
   "outputs": [
    {
     "data": {
      "image/png": "[encoded data removed]",
      "text/plain": [
       "<Figure size 582.492x360 with 1 Axes>"
      ]
     },
     "metadata": {
      "needs_background": "light"
     },
     "output_type": "display_data"
    }
   ],
   "source": [
    "fig, ax = plt.subplots(figsize=aursize)\n",
    "for i in range(least_bound_pos, least_bound_pos + 30):\n",
    "    ax.plot(x, dic['nivel_{}'.format(i)]/wy, 'b*')\n",
    "ax.set_ylim(0, 3)\n",
    "ax.set_xlabel('$d_{y}/a$')\n",
    "ax.set_ylabel('$E/\\hbar \\omega_{y}$')\n",
    "plt.tight_layout()\n",
    "fig.savefig('Results/Figures/Ix7802_Iy4993_Iz50_Easc.png', dpi=200)\n",
    "plt.show()"
   ]
  },
  {
   "cell_type": "code",
   "execution_count": 18,
   "metadata": {},
   "outputs": [
    {
     "data": {
      "text/plain": [
       "1.2114214345703793"
      ]
     },
     "execution_count": 18,
     "metadata": {},
     "output_type": "execute_result"
    }
   ],
   "source": [
    "delta.index('.7092404')\n",
    "x[41]"
   ]
  },
  {
   "cell_type": "markdown",
   "metadata": {},
   "source": [
    "# Crosses"
   ]
  },
  {
   "cell_type": "code",
   "execution_count": 71,
   "metadata": {},
   "outputs": [],
   "source": [
    "%matplotlib inline"
   ]
  },
  {
   "cell_type": "code",
   "execution_count": 72,
   "metadata": {},
   "outputs": [
    {
     "name": "stdout",
     "output_type": "stream",
     "text": [
      "1012\n",
      "1013\n"
     ]
    },
    {
     "data": {
      "image/png": "[encoded data removed]",
      "text/plain": [
       "<Figure size 576x432 with 1 Axes>"
      ]
     },
     "metadata": {
      "needs_background": "light"
     },
     "output_type": "display_data"
    }
   ],
   "source": [
    "fig2, ax2 = plt.subplots(figsize=(8,6))\n",
    "xpol = np.linspace(x[0], x[-1], num=50)\n",
    "for i in range(least_bound_pos + 11, least_bound_pos + 13):\n",
    "    print(i)\n",
    "    ax2.plot(x, dic['nivel_{}'.format(i)]/wy, 'b*')\n",
    "#ax2.set_ylim(2.32, 2.326)\n",
    "ax2.set_xlim(1.49, 1.65)\n",
    "ax2.set_xlabel('$d_{y}/a$')\n",
    "ax2.set_ylabel('$E/\\hbar \\omega_{y}$')\n",
    "ax2.legend(['Data'], fontsize=14)\n",
    "plt.grid()\n",
    "plt.show()"
   ]
  },
  {
   "cell_type": "code",
   "execution_count": 73,
   "metadata": {},
   "outputs": [
    {
     "name": "stdout",
     "output_type": "stream",
     "text": [
      "Using matplotlib backend: MacOSX\n"
     ]
    }
   ],
   "source": [
    "%matplotlib"
   ]
  },
  {
   "cell_type": "code",
   "execution_count": 74,
   "metadata": {},
   "outputs": [],
   "source": [
    "fig2, ax2 = plt.subplots(figsize=(8,6))\n",
    "for i in range(least_bound_pos + 6, least_bound_pos + 13):\n",
    "    ax2.plot(x, dic['nivel_{}'.format(i)]/wy, 'b')\n",
    "ax2.set_ylim(2.32, 2.326)\n",
    "ax2.set_xlim(1.13, 1.6)\n",
    "ax2.set_xlabel('$d_{y}/a$')\n",
    "ax2.set_ylabel('$E/\\hbar \\omega_{y}$')\n",
    "ax2.legend(['Data'], fontsize=14)\n",
    "plt.grid()\n",
    "xcoord = []\n",
    "ycoord = []\n",
    "def onclick(event):\n",
    "    global ix, iy\n",
    "    ix, iy = event.xdata, event.ydata\n",
    "    plt.plot(ix, iy, 'ro', markersize=4)\n",
    "    plt.draw()\n",
    "    global xcoord, ycoord\n",
    "    xcoord.append(ix)\n",
    "    ycoord.append(iy)\n",
    "    if len(xcoord) == 40:\n",
    "        fig2.canvas.mpl_disconnect(cid)\n",
    "        print(f'xcoord: {xcoord}\\n ycoord: {ycoord}')\n",
    "    return xcoord, ycoord\n",
    "cid = fig2.canvas.mpl_connect('button_press_event', onclick)\n",
    "plt.show()"
   ]
  },
  {
   "cell_type": "code",
   "execution_count": 75,
   "metadata": {},
   "outputs": [],
   "source": [
    "%matplotlib inline"
   ]
  },
  {
   "cell_type": "code",
   "execution_count": 77,
   "metadata": {
    "scrolled": false
   },
   "outputs": [
    {
     "data": {
      "image/png": "[encoded data removed]",
      "text/plain": [
       "<Figure size 582.492x360 with 1 Axes>"
      ]
     },
     "metadata": {
      "needs_background": "light"
     },
     "output_type": "display_data"
    }
   ],
   "source": [
    "fig3, ax3 = plt.subplots(figsize=aursize)\n",
    "# nivel 1007:\n",
    "f1007 = np.polyfit(xcoord, ycoord, deg=1)\n",
    "x1007 = np.linspace(1.13, 1.60, num=40)\n",
    "ax3.plot(x1007, np.polyval(f1007, x1007), 'r--', markersize=4, label='Diabatic')\n",
    "ax3.plot(x, dic['nivel_1007']/wy, 'b', label='Adiabatic')\n",
    "\n",
    "# nivel 1008:\n",
    "f1008 = np.polyfit(x[(x > 1.06) & (x < 1.2)], np.array(dic['nivel_1008'])[(x > 1.06) & (x < 1.2)]/wy, deg=1)\n",
    "x1008 = np.linspace(1.21, 1.24, num=100)\n",
    "ax3.plot(x1008, np.polyval(f1008, x1008), 'r--', markersize=4)\n",
    "ax3.plot(x, dic['nivel_1008']/wy, 'b')\n",
    "\n",
    "# nivel 1009:\n",
    "f1009 = np.polyfit(x[(x > 1.25) & (x < 1.29)], np.array(dic['nivel_1009'])[(x > 1.25) & (x < 1.29)]/wy, deg=1)\n",
    "x1009 = np.linspace(1.3, 1.33, num=100)\n",
    "ax3.plot(x1009, np.polyval(f1009, x1009), 'r--', markersize=4)\n",
    "ax3.plot(x, dic['nivel_1009']/wy, 'b')\n",
    "\n",
    "# nivel 1010:\n",
    "f1010 = np.polyfit(x[(x > 1.30) & (x < 1.4)], np.array(dic['nivel_1010'])[(x > 1.30) & (x < 1.4)]/wy, deg=1)\n",
    "x1010 = np.linspace(1.40, 1.43, num=100)\n",
    "ax3.plot(x1010, np.polyval(f1010, x1010), 'r--', markersize=4)\n",
    "ax3.plot(x, dic['nivel_1010']/wy, 'b')\n",
    "\n",
    "# nivel 1011:\n",
    "f1011 = np.polyfit(x[(x > 1.32) & (x < 1.42)], np.array(dic['nivel_1011'])[(x > 1.32) & (x < 1.42)]/wy, deg=1)\n",
    "x1011 = np.linspace(1.41, 1.44, num=100)\n",
    "ax3.plot(x1011, np.polyval(f1011, x1011), 'r--', markersize=4)\n",
    "ax3.plot(x, dic['nivel_1011']/wy, 'b')\n",
    "\n",
    "# nivel 1012:\n",
    "f1012 = np.polyfit(x[(x > 1.43) & (x < 1.52)], np.array(dic['nivel_1012'])[(x > 1.43) & (x < 1.52)]/wy, deg=1)\n",
    "x1012 = np.linspace(1.5, 1.53, num=100)\n",
    "ax3.plot(x1012, np.polyval(f1012, x1012), 'r--', markersize=4)\n",
    "ax3.plot(x, dic['nivel_1012']/wy, 'b')\n",
    "\n",
    "# Crosses:\n",
    "##########\n",
    "ax3.plot(cross_points(f1007, f1008), np.polyval(f1007, cross_points(f1007, f1008)), 'k*', markersize=10, label=\"ICIR\")\n",
    "ax3.plot(cross_points(f1007, f1009), np.polyval(f1007, cross_points(f1007, f1009)), 'k*', markersize=10)\n",
    "ax3.plot(cross_points(f1007, f1010), np.polyval(f1007, cross_points(f1007, f1010)), 'k*', markersize=10)\n",
    "ax3.plot(cross_points(f1007, f1011), np.polyval(f1007, cross_points(f1007, f1011)), 'k*', markersize=10)\n",
    "ax3.plot(cross_points(f1007, f1012), np.polyval(f1007, cross_points(f1007, f1012)), 'k*', markersize=10)\n",
    "\n",
    "# States:\n",
    "#########\n",
    "ax3.annotate(r'$\\left|\\psi^{(b)} \\Phi_{(0,2,0)}\\right>$', xy=(1.21, 2.322), xytext=(1.13, 2.3185), fontsize=14, \n",
    "             bbox=dict(boxstyle=\"round\", alpha=0.1, facecolor='r'),\n",
    "             arrowprops=dict(arrowstyle=\"wedge, tail_width=0.5\", alpha=0.1, facecolor='r'))\n",
    "\n",
    "ax3.annotate(r'$\\left|\\psi^{(1)} \\Phi_{(0,0,0)}\\right>$', xy=(1.2, 2.325), xytext=(1.13, 2.3265), fontsize=14, \n",
    "             bbox=dict(boxstyle=\"round\", alpha=0.1, facecolor='r'),\n",
    "             arrowprops=dict(arrowstyle=\"wedge, tail_width=0.5\", alpha=0.1, facecolor='r'))\n",
    "\n",
    "ax3.annotate(r'$\\left|\\psi^{(b)} \\Phi_{(0,2,2)}\\right>$', xy=(1.3, 2.325), xytext=(1.24, 2.3265), fontsize=14, \n",
    "             bbox=dict(boxstyle=\"round\", alpha=0.1, facecolor='r'),\n",
    "             arrowprops=dict(arrowstyle=\"wedge, tail_width=0.5\", alpha=0.1, facecolor='r'))\n",
    "\n",
    "ax3.annotate(r'$\\left|\\psi^{(b)} \\Phi_{(0,2,4)}\\right>$', xy=(1.413, 2.325), xytext=(1.35, 2.3265), fontsize=14, \n",
    "             bbox=dict(boxstyle=\"round\", alpha=0.1, facecolor='r'),\n",
    "             arrowprops=dict(arrowstyle=\"wedge, tail_width=0.5\", alpha=0.1, facecolor='r'))\n",
    "\n",
    "ax3.annotate(r'$\\left|\\psi^{(b)} \\Phi_{(0,2,6)}\\right>$', xy=(1.43, 2.321), xytext=(1.46, 2.3185), fontsize=14, \n",
    "             bbox=dict(boxstyle=\"round\", alpha=0.1, facecolor='r'),\n",
    "             arrowprops=dict(arrowstyle=\"wedge, tail_width=0.5\", alpha=0.1, facecolor='r'))\n",
    "\n",
    "ax3.annotate(r'$\\left|\\psi^{(b)} \\Phi_{(2,0,0)}\\right>$', xy=(1.52, 2.325), xytext=(1.50, 2.3265), fontsize=14, \n",
    "             bbox=dict(boxstyle=\"round\", alpha=0.1, facecolor='r'),\n",
    "             arrowprops=dict(arrowstyle=\"wedge, tail_width=0.5\", alpha=0.1, facecolor='r'))\n",
    "\n",
    "ax3.set_xlabel('$d_{y}/a$')\n",
    "ax3.set_ylabel('$E/\\hbar \\omega_{y}$')\n",
    "ax3.legend(fontsize=14, bbox_to_anchor=(1.03, 1))\n",
    "ax3.set_ylim(2.3197, 2.326)\n",
    "ax3.set_xlim(1.13, 1.58)\n",
    "plt.tight_layout()\n",
    "fig3.savefig('Results/Figures/Ix7802_Iy4993_Iz50_Easc_Interpolation.png', dpi=200)"
   ]
  },
  {
   "cell_type": "code",
   "execution_count": 23,
   "metadata": {},
   "outputs": [
    {
     "name": "stdout",
     "output_type": "stream",
     "text": [
      "Crosses between (x, E):\n",
      "* 1007-1008: (1.2114164988027574, 2.324908637073628)\n",
      "* 1007-1009: (1.3041460663262452, 2.3237126800938785)\n",
      "* 1007-1010: (1.41511628370454, 2.322281468781648)\n",
      "* 1007-1011: (1.4323801915228471, 2.322058811741348)\n",
      "* 1007-1012: (1.524337126543412, 2.320872819600855)\n"
     ]
    }
   ],
   "source": [
    "print(f'''Crosses between (x, E):\n",
    "* 1007-1008: ({cross_points(f1007, f1008)}, {np.polyval(f1007, cross_points(f1007, f1008))})\n",
    "* 1007-1009: ({cross_points(f1007, f1009)}, {np.polyval(f1007, cross_points(f1007, f1009))})\n",
    "* 1007-1010: ({cross_points(f1007, f1010)}, {np.polyval(f1007, cross_points(f1007, f1010))})\n",
    "* 1007-1011: ({cross_points(f1007, f1011)}, {np.polyval(f1007, cross_points(f1007, f1011))})\n",
    "* 1007-1012: ({cross_points(f1007, f1012)}, {np.polyval(f1007, cross_points(f1007, f1012))})''')"
   ]
  },
  {
   "cell_type": "code",
   "execution_count": 24,
   "metadata": {},
   "outputs": [
    {
     "name": "stdout",
     "output_type": "stream",
     "text": [
      "ICIR: asc/dy = 0.8254799245249671 and 0.6560228591083396\n"
     ]
    }
   ],
   "source": [
    "print(f\"ICIR: asc/dy = {1/cross_points(f1007, f1008)} and {1/cross_points(f1007, f1012)}\")"
   ]
  },
  {
   "cell_type": "code",
   "execution_count": 25,
   "metadata": {},
   "outputs": [
    {
     "name": "stdout",
     "output_type": "stream",
     "text": [
      "asc: 1434.4125018990549 and 1139.9518785124656\n"
     ]
    }
   ],
   "source": [
    "print(f\"asc: {0.8254799245249671*dho} and {0.6560228591083396*dho}\")"
   ]
  },
  {
   "cell_type": "code",
   "execution_count": 26,
   "metadata": {},
   "outputs": [],
   "source": [
    "np.savetxt('Results/ICIR_positions_7802_4993_50.txt', \n",
    "           [[1.25, 1.25], [1/cross_points(f1007, f1008), 1/cross_points(f1007, f1012)], \n",
    "            [np.polyval(f1007, cross_points(f1007, f1008)), np.polyval(f1007, cross_points(f1007, f1012))]], \n",
    "           header='wx/wy, asc/dy, E/hwy')"
   ]
  },
  {
   "cell_type": "code",
   "execution_count": 19,
   "metadata": {},
   "outputs": [
    {
     "name": "stdout",
     "output_type": "stream",
     "text": [
      "Energy gap in the ICIRS:\n",
      "* 1007-1008: 0.05777245626367226\n",
      "* 1007-1012: 0.5018957411798133\n",
      "\n"
     ]
    }
   ],
   "source": [
    "print(f'''Energy gap in the ICIRS:\n",
    "* 1007-1008: {(dic['nivel_1008'][41] - dic['nivel_1007'][41])/wy}\n",
    "* 1007-1012: {(dic['nivel_1012'][13] - dic['nivel_1007'][13])/wy}\n",
    "''')"
   ]
  }
 ],
 "metadata": {
  "kernelspec": {
   "display_name": "Python 3",
   "language": "python",
   "name": "python3"
  },
  "language_info": {
   "codemirror_mode": {
    "name": "ipython",
    "version": 3
   },
   "file_extension": ".py",
   "mimetype": "text/x-python",
   "name": "python",
   "nbconvert_exporter": "python",
   "pygments_lexer": "ipython3",
   "version": "3.8.5"
  }
 },
 "nbformat": 4,
 "nbformat_minor": 4
}
