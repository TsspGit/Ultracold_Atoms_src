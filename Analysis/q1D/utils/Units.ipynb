{
 "cells": [
  {
   "cell_type": "code",
   "execution_count": 48,
   "metadata": {},
   "outputs": [],
   "source": [
    "__author__ = \"@Tssp\"\n",
    "import numpy as np\n",
    "import matplotlib.pyplot as plt\n",
    "plt.rc('text',usetex=True)\n",
    "plt.rc('font',family='serif')\n",
    "plt.rcParams['xtick.labelsize']=16\n",
    "plt.rcParams['ytick.labelsize']=16\n",
    "plt.rcParams['axes.labelsize']=18\n",
    "plt.rcParams['axes.titlesize']=18"
   ]
  },
  {
   "cell_type": "code",
   "execution_count": 46,
   "metadata": {},
   "outputs": [],
   "source": [
    "###### Laser Intensities ######\n",
    "Ix = 6604 # W/m2\n",
    "Iy = 4993 # W/m2\n",
    "Iz = 50 # W/m2\n",
    "\n",
    "###### Constants in a.u ######\n",
    "hbar = 1 # J s\n",
    "m = 7.0160040 * 1.66053873e-27 / 9.109382e-31 # Da to kg to u.a\n",
    "alpha = 200 # u.a\n",
    "c = 3e8/ # SI\n",
    "eo = 8.85e-12 # SI\n",
    "l = 1000 * 1e-9 # SI\n",
    "k = 2*np.pi/l # SI"
   ]
  },
  {
   "cell_type": "code",
   "execution_count": 49,
   "metadata": {},
   "outputs": [
    {
     "data": {
      "text/plain": [
       "12755.214050493962"
      ]
     },
     "execution_count": 49,
     "metadata": {},
     "output_type": "execute_result"
    }
   ],
   "source": [
    "m"
   ]
  },
  {
   "cell_type": "markdown",
   "metadata": {},
   "source": [
    "### $$ V_j = \\frac{1}{2c \\epsilon_0} \\alpha I_j, \\qquad j=x,y,z $$\n",
    "### $$ \\frac{\\omega_x}{\\omega_y} = 1.15 = \\sqrt{\\frac{V_x}{V_y}} = \\sqrt{\\frac{I_x}{I_y}} $$\n",
    "### $$ \\eta_y = 10 = \\frac{\\omega_y}{\\omega_z} $$\n",
    "### $$ V_y = 35.9E_R,\\qquad E_R = \\frac{\\hbar^2k^2}{2m} $$\n",
    "### $$ \\lambda = 1000nm $$"
   ]
  },
  {
   "cell_type": "code",
   "execution_count": 27,
   "metadata": {},
   "outputs": [],
   "source": [
    "def ER(m):\n",
    "    return hbar**2 * k**2/(2*m)"
   ]
  },
  {
   "cell_type": "code",
   "execution_count": 28,
   "metadata": {},
   "outputs": [],
   "source": [
    "def V(I):\n",
    "    return alpha*I/(2*c*eo)"
   ]
  },
  {
   "cell_type": "code",
   "execution_count": 29,
   "metadata": {},
   "outputs": [
    {
     "data": {
      "text/plain": [
       "1.889151290877796e-29"
      ]
     },
     "execution_count": 29,
     "metadata": {},
     "output_type": "execute_result"
    }
   ],
   "source": [
    "ER(m)"
   ]
  },
  {
   "cell_type": "code",
   "execution_count": 37,
   "metadata": {},
   "outputs": [
    {
     "data": {
      "text/plain": [
       "2.78396683155179e-23"
      ]
     },
     "execution_count": 37,
     "metadata": {},
     "output_type": "execute_result"
    }
   ],
   "source": [
    "V(Iy)"
   ]
  },
  {
   "cell_type": "code",
   "execution_count": 40,
   "metadata": {},
   "outputs": [
    {
     "name": "stdout",
     "output_type": "stream",
     "text": [
      "This should be 35.9:  1473660.0742327084\n"
     ]
    }
   ],
   "source": [
    "print(\"This should be 35.9: \",V(Iy)/ER(m))"
   ]
  },
  {
   "cell_type": "code",
   "execution_count": 32,
   "metadata": {},
   "outputs": [
    {
     "name": "stdout",
     "output_type": "stream",
     "text": [
      "The wavelength of the recoil is:  4.935697851052178 nm\n"
     ]
    }
   ],
   "source": [
    "print('The wavelength of the recoil is: ', 2*np.pi/np.sqrt(V(Iy)/35.9*2*m/hbar**2)*1e9, 'nm')"
   ]
  },
  {
   "cell_type": "markdown",
   "metadata": {},
   "source": [
    "# $a_0$ vs potential\n",
    "### $$ \\omega_j = k\\sqrt{\\frac{2V_j}{m}} $$\n",
    "### $$ d_{HO} = \\sqrt{\\frac{2\\hbar}{m\\omega}} \\approx a_0 $$"
   ]
  },
  {
   "cell_type": "code",
   "execution_count": 33,
   "metadata": {},
   "outputs": [],
   "source": [
    "omega = k * np.sqrt(2 * V(Iz)/m)\n",
    "dho = np.sqrt(2*hbar/(m*omega))"
   ]
  },
  {
   "cell_type": "code",
   "execution_count": 34,
   "metadata": {},
   "outputs": [
    {
     "name": "stdout",
     "output_type": "stream",
     "text": [
      "Trap lenght in the Z direction:  386.036 u.a\n"
     ]
    }
   ],
   "source": [
    "print('Trap lenght in the Z direction: ', round(dho/0.529e-10, 3), 'u.a')"
   ]
  },
  {
   "cell_type": "code",
   "execution_count": 50,
   "metadata": {},
   "outputs": [
    {
     "data": {
      "text/plain": [
       "137.1308836577012"
      ]
     },
     "execution_count": 50,
     "metadata": {},
     "output_type": "execute_result"
    }
   ],
   "source": [
    "3e8/2.187691e6"
   ]
  },
  {
   "cell_type": "code",
   "execution_count": null,
   "metadata": {},
   "outputs": [],
   "source": []
  }
 ],
 "metadata": {
  "kernelspec": {
   "display_name": "Python 3",
   "language": "python",
   "name": "python3"
  },
  "language_info": {
   "codemirror_mode": {
    "name": "ipython",
    "version": 3
   },
   "file_extension": ".py",
   "mimetype": "text/x-python",
   "name": "python",
   "nbconvert_exporter": "python",
   "pygments_lexer": "ipython3",
   "version": "3.8.3"
  }
 },
 "nbformat": 4,
 "nbformat_minor": 4
}
