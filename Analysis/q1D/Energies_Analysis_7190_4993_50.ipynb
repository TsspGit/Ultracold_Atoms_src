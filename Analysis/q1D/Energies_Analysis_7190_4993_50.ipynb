{
 "cells": [
  {
   "cell_type": "code",
   "execution_count": 1,
   "metadata": {},
   "outputs": [],
   "source": [
    "__author__ = \"@Tssp\"\n",
    "__date__ = \"21/09/20\"\n",
    "import numpy as np\n",
    "import matplotlib.pyplot as plt\n",
    "import os\n",
    "from utils.atomic_units import ao, vo, e, hbar, me, Eh, to\n",
    "from decimal import Decimal\n",
    "from utils.Energies_Analysis_utils import *\n",
    "plt.rc('text',usetex=True)\n",
    "plt.rc('font',family='serif')\n",
    "ref_ticksize = 16\n",
    "plt.rcParams['xtick.labelsize']=ref_ticksize\n",
    "plt.rcParams['ytick.labelsize']=ref_ticksize\n",
    "plt.rcParams['legend.fontsize']=ref_ticksize\n",
    "plt.rcParams['axes.labelsize']=ref_ticksize * 3/2\n",
    "plt.rcParams['axes.titlesize']=ref_ticksize * 3/2\n",
    "aur = (1 + np.sqrt(5))/2\n",
    "aursize = (4.3*aur, 4.3)"
   ]
  },
  {
   "cell_type": "code",
   "execution_count": 2,
   "metadata": {},
   "outputs": [],
   "source": [
    "delta = np.loadtxt('Simulations/delta_asc_ix6603.dat', dtype=str)[:,0]\n",
    "asc = np.loadtxt('Simulations/delta_asc_ix6603.dat')[:,1]\n",
    "delta = delta.tolist()\n",
    "asc = asc.tolist()"
   ]
  },
  {
   "cell_type": "code",
   "execution_count": 3,
   "metadata": {},
   "outputs": [
    {
     "name": "stdout",
     "output_type": "stream",
     "text": [
      "wy [u.a]:  2141065.2804475287\n",
      "dho [u.a]:  1737.6709708894564\n"
     ]
    }
   ],
   "source": [
    "# Parameters and Constants:\n",
    "mass = 7.0160040 * 1.66053873e-27 / me # a.u\n",
    "alpha = 200 # a.u\n",
    "lambd = 1000 * 1e-9 / ao # a.u\n",
    "ky = 2*np.pi/lambd\n",
    "Iy = 4993 * (1e4 / Eh * to * ao**2)\n",
    "Vy = alpha * Iy # a.u\n",
    "Iy = Vy/alpha\n",
    "wy = np.sqrt( 2 * Vy * ky**2 / mass)       \n",
    "dho = np.sqrt(2 / (mass * wy))\n",
    "print('wy [u.a]: ', wy/to)\n",
    "print('dho [u.a]: ', dho)"
   ]
  },
  {
   "cell_type": "code",
   "execution_count": 4,
   "metadata": {},
   "outputs": [
    {
     "data": {
      "text/plain": [
       "1.2000066759945147"
      ]
     },
     "execution_count": 4,
     "metadata": {},
     "output_type": "execute_result"
    }
   ],
   "source": [
    "np.sqrt(7190/4993)"
   ]
  },
  {
   "cell_type": "code",
   "execution_count": 5,
   "metadata": {},
   "outputs": [],
   "source": [
    "folder_path = \"Simulations/ix7190_iy4993_iz50/config/\""
   ]
  },
  {
   "cell_type": "code",
   "execution_count": 6,
   "metadata": {},
   "outputs": [
    {
     "name": "stdout",
     "output_type": "stream",
     "text": [
      "There are a few folders without data, \n",
      "delta=['.70500', '.70505', '.70510', '.70515', '.70520', '.70525', '.70530', '.70535', '.70540', '.70545', '.70550', '.70555', '.70560', '.70565', '.70570', '.70575', '.70580', '.70585', '.70590', '.70595', '.70600', '.70605', '.70610', '.70615', '.70620', '.70625', '.70630', '.70635', '.70640', '.70645', '.70650', '.70655', '.70660', '.70665', '.70670', '.70675', '.70680', '.70685', '.70690', '.70695', '.707666', '.7081066', '.7083468', '.708483', '.708822', '.7090032', '.7090948', '.7092404', '.70950', '.70965', '.70970', '.70975', '.70980', '.70985', '.70995', '.71000', '.71005', '.71015', '.71020', '.71035', '.71040', '.71045', '.71055', '.71060', '.71065', '.71085', '.71090', '.71100', '.71110', '.71120', '.71125', '.71130', '.71135', '.71140', '.71145', '.71150', '.71155', '.71160', '.71165', '.71170', '.71195', '.71200', '.71205', '.71210', '.71215', '.71220', '.71225', '.71230', '.71235', '.71240', '.71245', '.71250', '.71255', '.71260', '.71265', '.71270', '.71275', '.71280', '.71285', '.71290', '.71295', '.71300', '.71305', '.71310', '.71315', '.71320', '.71325', '.71330', '.71335', '.71340', '.71345', '.71350', '.71355', '.71360', '.71365', '.71370', '.71375', '.71380', '.71385', '.71390', '.71395', '.71400', '.71405', '.71410', '.71415', '.71420', '.71425', '.71430', '.71435', '.71440', '.71445', '.71450', '.71455', '.71460', '.71465', '.71470', '.71475', '.71480', '.71485', '.71490', '.71495', '.71500', '.71505', '.71510', '.71515', '.71520', '.71525', '.71530', '.71535', '.71540', '.71545', '.71550', '.71555', '.71560', '.71565', '.71570', '.71575', '.71580', '.71585', '.71590', '.71595', '.71600', '.71605', '.71610', '.71615', '.71620', '.71625', '.71630', '.71635', '.71640', '.71645', '.71650', '.71655', '.71660', '.71665', '.71670', '.71675', '.71680', '.71685', '.71690', '.71695', '.71700', '.71705', '.71710', '.71715', '.71720', '.71725', '.71730', '.71735', '.71740', '.71745', '.71750', '.71755', '.71760', '.71765', '.71770', '.71775', '.71780', '.71785', '.71790', '.71795', '.71800'] non readed\n"
     ]
    }
   ],
   "source": [
    "Data = list()\n",
    "delta_nonreaded = list()\n",
    "for d in delta:\n",
    "    try:\n",
    "        Data.append(np.loadtxt(folder_path + f'Li7Li7_x10000_y10000_z10000_120rm8g2l60m14_68CM8g1L60M14_Li7a200_Li7a200_kx1000_ky1000_kz1000_ix7190_iy4993_iz50_LiLi_a3Sup_0{d}_sinTnx6_sinTny6_sinTnz6/Ag_vsLiLi_int_rm200_CM50_ddb.eva'))\n",
    "    except:\n",
    "        delta_nonreaded.append(d)\n",
    "        continue\n",
    "print(f'There are a few folders without data, \\ndelta={delta_nonreaded} non readed')"
   ]
  },
  {
   "cell_type": "code",
   "execution_count": 7,
   "metadata": {},
   "outputs": [
    {
     "name": "stdout",
     "output_type": "stream",
     "text": [
      "filtering completed\n"
     ]
    }
   ],
   "source": [
    "# Delete from original delta and asc lists the unreaded values:\n",
    "for dnr in delta_nonreaded:\n",
    "    idx = delta.index(dnr)\n",
    "    del delta[idx], asc[idx]\n",
    "assert len(delta) == len(asc)\n",
    "print(\"filtering completed\")\n",
    "x = dho / asc"
   ]
  },
  {
   "cell_type": "code",
   "execution_count": 8,
   "metadata": {},
   "outputs": [],
   "source": [
    "dic = transpose_energies(Data)"
   ]
  },
  {
   "cell_type": "code",
   "execution_count": 9,
   "metadata": {},
   "outputs": [
    {
     "name": "stdout",
     "output_type": "stream",
     "text": [
      "Least bound state:  1001 -0.17161550962676037\n",
      "First trap state:  1002 0.031137923337031345\n"
     ]
    }
   ],
   "source": [
    "dic, least_bound_pos = dic_from_least_bound_forward(dic, wy)"
   ]
  },
  {
   "cell_type": "code",
   "execution_count": 10,
   "metadata": {},
   "outputs": [],
   "source": [
    "for key in dic.keys():\n",
    "    dic[key] = np.sort(dic[key])"
   ]
  },
  {
   "cell_type": "code",
   "execution_count": 11,
   "metadata": {
    "scrolled": false
   },
   "outputs": [
    {
     "data": {
      "image/png": "[encoded data removed]",
      "text/plain": [
       "<Figure size 500.943x309.6 with 1 Axes>"
      ]
     },
     "metadata": {
      "needs_background": "light"
     },
     "output_type": "display_data"
    }
   ],
   "source": [
    "fig, ax = plt.subplots(figsize=aursize)\n",
    "for i in range(least_bound_pos, least_bound_pos + 30):\n",
    "    ax.plot(x, dic['nivel_{}'.format(i)]/wy, 'b*')\n",
    "ax.set_ylim(0, 3)\n",
    "ax.set_xlabel('$d_{y}/a$')\n",
    "ax.set_ylabel('$E/\\hbar \\omega_{y}$')\n",
    "plt.tight_layout()\n",
    "fig.savefig('Results/Figures/Ix7190_Iy4993_Iz50_Easc.png', dpi=200)\n",
    "plt.show()"
   ]
  },
  {
   "cell_type": "markdown",
   "metadata": {},
   "source": [
    "# Crosses"
   ]
  },
  {
   "cell_type": "code",
   "execution_count": 18,
   "metadata": {},
   "outputs": [],
   "source": [
    "%matplotlib inline"
   ]
  },
  {
   "cell_type": "code",
   "execution_count": 19,
   "metadata": {},
   "outputs": [
    {
     "name": "stdout",
     "output_type": "stream",
     "text": [
      "1007\n",
      "1008\n",
      "1009\n",
      "1010\n",
      "1011\n",
      "1012\n",
      "1013\n"
     ]
    },
    {
     "data": {
      "image/png": "[encoded data removed]",
      "text/plain": [
       "<Figure size 500.943x309.6 with 1 Axes>"
      ]
     },
     "metadata": {
      "needs_background": "light"
     },
     "output_type": "display_data"
    }
   ],
   "source": [
    "fig2, ax2 = plt.subplots(figsize=aursize)\n",
    "xpol = np.linspace(x[0], x[-1], num=50)\n",
    "for i in range(least_bound_pos + 6, least_bound_pos + 13):\n",
    "    print(i)\n",
    "    ax2.plot(x, dic['nivel_{}'.format(i)]/wy, '-*')\n",
    "ax2.set_ylim(2.270, 2.276)\n",
    "ax2.set_xlim(1.18, 1.50)\n",
    "ax2.set_xlabel('$d_{y}/a$')\n",
    "ax2.set_ylabel('$E/\\hbar$')\n",
    "plt.grid()\n",
    "plt.show()"
   ]
  },
  {
   "cell_type": "code",
   "execution_count": 20,
   "metadata": {},
   "outputs": [
    {
     "data": {
      "text/plain": [
       "1.406567677792764e-10"
      ]
     },
     "execution_count": 20,
     "metadata": {},
     "output_type": "execute_result"
    }
   ],
   "source": [
    "dic['nivel_1010'][-5]"
   ]
  },
  {
   "cell_type": "code",
   "execution_count": 24,
   "metadata": {},
   "outputs": [
    {
     "name": "stdout",
     "output_type": "stream",
     "text": [
      "Using matplotlib backend: MacOSX\n"
     ]
    }
   ],
   "source": [
    "%matplotlib"
   ]
  },
  {
   "cell_type": "code",
   "execution_count": 25,
   "metadata": {},
   "outputs": [],
   "source": [
    "fig2, ax2 = plt.subplots(figsize=aursize)\n",
    "for i in range(least_bound_pos + 6, least_bound_pos + 10):\n",
    "    ax2.plot(x, dic['nivel_{}'.format(i)]/wy, 'b')\n",
    "ax2.set_ylim(2.270, 2.276)\n",
    "ax2.set_xlim(1.18, 1.45)\n",
    "ax2.set_xlabel('$d_{y}/a$')\n",
    "ax2.set_ylabel('$E/\\hbar \\omega_{y}$')\n",
    "ax2.legend(['Data'], fontsize=14)\n",
    "plt.grid()\n",
    "xcoord = []\n",
    "ycoord = []\n",
    "def onclick(event):\n",
    "    global ix, iy\n",
    "    ix, iy = event.xdata, event.ydata\n",
    "    plt.plot(ix, iy, 'ro', markersize=4)\n",
    "    plt.draw()\n",
    "    global xcoord, ycoord\n",
    "    xcoord.append(ix)\n",
    "    ycoord.append(iy)\n",
    "    if len(xcoord) == 40:\n",
    "        fig2.canvas.mpl_disconnect(cid)\n",
    "        print(f'xcoord: {xcoord}\\n ycoord: {ycoord}')\n",
    "    return xcoord, ycoord\n",
    "cid = fig2.canvas.mpl_connect('button_press_event', onclick)\n",
    "plt.show()"
   ]
  },
  {
   "cell_type": "code",
   "execution_count": 26,
   "metadata": {},
   "outputs": [],
   "source": [
    "%matplotlib inline"
   ]
  },
  {
   "cell_type": "code",
   "execution_count": 37,
   "metadata": {},
   "outputs": [
    {
     "data": {
      "image/png": "[encoded data removed]",
      "text/plain": [
       "<Figure size 500.943x309.6 with 1 Axes>"
      ]
     },
     "metadata": {
      "needs_background": "light"
     },
     "output_type": "display_data"
    }
   ],
   "source": [
    "fig3, ax3 = plt.subplots(figsize=aursize)\n",
    "# nivel 1007:\n",
    "f1007 = np.polyfit(xcoord, ycoord, deg=1)\n",
    "x1007 = np.linspace(1.15, 1.50, num=40)\n",
    "ax3.plot(x1007, np.polyval(f1007, x1007), 'r--', markersize=4, label='Diabatic')\n",
    "ax3.plot(x, dic['nivel_1007']/wy, 'b', label='Adiabatic')\n",
    "\n",
    "# nivel 1008:\n",
    "f1008 = np.polyfit(x[(x > 1.07) & (x < 1.23)], np.array(dic['nivel_1008'])[(x > 1.07) & (x < 1.23)]/wy, deg=1)\n",
    "x1008 = np.linspace(1.21, 1.25, num=100)\n",
    "ax3.plot(x1008, np.polyval(f1008, x1008), 'r--', markersize=4)\n",
    "ax3.plot(x, dic['nivel_1008']/wy, 'b')\n",
    "\n",
    "# nivel 1009:\n",
    "f1009 = np.polyfit(x[(x > 1.20) & (x < 1.32)], np.array(dic['nivel_1009'])[(x > 1.20) & (x < 1.32)]/wy, deg=1)\n",
    "x1009 = np.linspace(1.3, 1.34, num=100)\n",
    "ax3.plot(x1009, np.polyval(f1009, x1009), 'r--', markersize=4)\n",
    "ax3.plot(x, dic['nivel_1009']/wy, 'b')\n",
    "\n",
    "# nivel 1010:\n",
    "f1010 = np.polyfit(x[(x > 1.30) & (x < 1.425)], np.array(dic['nivel_1010'])[(x > 1.30) & (x < 1.425)]/wy, deg=1)\n",
    "x1010 = np.linspace(1.40, 1.43, num=100)\n",
    "ax3.plot(x1010, np.polyval(f1010, x1010), 'r--', markersize=4)\n",
    "ax3.plot(x, dic['nivel_1010']/wy, 'b')\n",
    "\n",
    "# nivel 1011:\n",
    "f1011 = np.polyfit(x[(x > 1.34) & (x < 1.44)], np.array(dic['nivel_1011'])[(x > 1.34) & (x < 1.44)]/wy, deg=1)\n",
    "x1011 = np.linspace(1.40, 1.45, num=100)\n",
    "ax3.plot(x1011, np.polyval(f1011, x1011), 'r--', markersize=4)\n",
    "ax3.plot(x, dic['nivel_1011']/wy, 'b')\n",
    "\n",
    "# nivel 1012:\n",
    "f1012 = np.polyfit(x[(x > 1.375) & (x < 1.475)], np.array(dic['nivel_1012'])[(x > 1.375) & (x < 1.475)]/wy, deg=1)\n",
    "x1012 = np.linspace(1.45, 1.50, num=100)\n",
    "ax3.plot(x1012, np.polyval(f1012, x1012), 'r--', markersize=4)\n",
    "ax3.plot(x, dic['nivel_1012']/wy, 'b')\n",
    "\n",
    "# Crosses:\n",
    "##########\n",
    "ax3.plot(cross_points(f1007, f1008), np.polyval(f1007, cross_points(f1007, f1008)), 'k*', markersize=10, label=\"ICIR\")\n",
    "ax3.plot(cross_points(f1007, f1009), np.polyval(f1007, cross_points(f1007, f1009)), 'k*', markersize=10)\n",
    "ax3.plot(cross_points(f1007, f1010), np.polyval(f1007, cross_points(f1007, f1010)), 'k*', markersize=10)\n",
    "ax3.plot(cross_points(f1007, f1011), np.polyval(f1007, cross_points(f1007, f1011)), 'k*', markersize=10)\n",
    "ax3.plot(cross_points(f1007, f1012), np.polyval(f1007, cross_points(f1007, f1012)), 'k*', markersize=10)\n",
    "\n",
    "# States:\n",
    "#########\n",
    "ax3.annotate(r'$\\left|\\psi^{(b)} \\Phi_{(0,2,0)}\\right>$', xy=(1.231, 2.2714), xytext=(1.18, 2.268), fontsize=ref_ticksize, \n",
    "             bbox=dict(boxstyle=\"round\", alpha=0.1, facecolor='r'),\n",
    "             arrowprops=dict(arrowstyle=\"wedge, tail_width=0.5\", alpha=0.1, facecolor='r'))\n",
    "\n",
    "ax3.annotate(r'$\\left|\\psi^{(1)} \\Phi_{(0,0,0)}\\right>$', xy=(1.215, 2.2745), xytext=(1.18, 2.2765), fontsize=ref_ticksize, \n",
    "             bbox=dict(boxstyle=\"round\", alpha=0.1, facecolor='r'),\n",
    "             arrowprops=dict(arrowstyle=\"wedge, tail_width=0.5\", alpha=0.1, facecolor='r'))\n",
    "\n",
    "ax3.annotate(r'$\\left|\\psi^{(b)} \\Phi_{(0,2,2)}\\right>$', xy=(1.323, 2.272), xytext=(1.275, 2.2765), fontsize=ref_ticksize, \n",
    "             bbox=dict(boxstyle=\"round\", alpha=0.1, facecolor='r'),\n",
    "             arrowprops=dict(arrowstyle=\"wedge, tail_width=0.5\", alpha=0.1, facecolor='r'))\n",
    "\n",
    "ax3.annotate(r'$\\left|\\psi^{(b)} \\Phi_{(0,2,4)}\\right>$', xy=(1.43, 2.2714), xytext=(1.37, 2.268), fontsize=ref_ticksize, \n",
    "             bbox=dict(boxstyle=\"round\", alpha=0.1, facecolor='r'),\n",
    "             arrowprops=dict(arrowstyle=\"wedge, tail_width=0.5\", alpha=0.1, facecolor='r'))\n",
    "\n",
    "ax3.annotate(r'$\\left|\\psi^{(b)} \\Phi_{(0,2,6)}\\right>$', xy=(1.447, 2.27433), xytext=(1.37, 2.2765), fontsize=ref_ticksize, \n",
    "             bbox=dict(boxstyle=\"round\", alpha=0.1, facecolor='r'),\n",
    "             arrowprops=dict(arrowstyle=\"wedge, tail_width=0.5\", alpha=0.1, facecolor='r'))\n",
    "\n",
    "ax3.annotate(r'$\\left|\\psi^{(b)} \\Phi_{(2,0,0)}\\right>$', xy=(1.48, 2.2717), xytext=(1.50, 2.268), fontsize=ref_ticksize, \n",
    "             bbox=dict(boxstyle=\"round\", alpha=0.1, facecolor='r'),\n",
    "             arrowprops=dict(arrowstyle=\"wedge, tail_width=0.5\", alpha=0.1, facecolor='r'))\n",
    "\n",
    "ax3.set_xlabel('$d_{y}/a$')\n",
    "ax3.set_ylabel('$E/\\hbar \\omega_{y}$')\n",
    "ax3.set_ylim(2.270, 2.276)\n",
    "ax3.set_xlim(1.18, 1.50)\n",
    "plt.tight_layout()\n",
    "fig3.savefig('Results/Figures/Ix7190_Iy4993_Iz50_Easc_Interpolation.png', dpi=200)"
   ]
  },
  {
   "cell_type": "code",
   "execution_count": 53,
   "metadata": {},
   "outputs": [
    {
     "name": "stdout",
     "output_type": "stream",
     "text": [
      "Crosses between (x, E):\n",
      "* 1007-1008: (1.2278286812755128, 2.274434184279014)\n",
      "* 1007-1009: (1.3188637698367296, 2.273240663657982)\n",
      "* 1007-1010: (1.4287804673443103, 2.2717995946466325)\n",
      "* 1007-1011: (1.4451210850723433, 2.271585360063824)\n",
      "* 1007-1012: (1.4797626964669628, 2.2711311892798034)\n"
     ]
    }
   ],
   "source": [
    "print(f'''Crosses between (x, E):\n",
    "* 1007-1008: ({cross_points(f1007, f1008)}, {np.polyval(f1007, cross_points(f1007, f1008))})\n",
    "* 1007-1009: ({cross_points(f1007, f1009)}, {np.polyval(f1007, cross_points(f1007, f1009))})\n",
    "* 1007-1010: ({cross_points(f1007, f1010)}, {np.polyval(f1007, cross_points(f1007, f1010))})\n",
    "* 1007-1011: ({cross_points(f1007, f1011)}, {np.polyval(f1007, cross_points(f1007, f1011))})\n",
    "* 1007-1012: ({cross_points(f1007, f1012)}, {np.polyval(f1007, cross_points(f1007, f1012))})''')"
   ]
  },
  {
   "cell_type": "code",
   "execution_count": 54,
   "metadata": {},
   "outputs": [
    {
     "name": "stdout",
     "output_type": "stream",
     "text": [
      "ICIR: asc/dy = 0.8144458711952908 and 0.6757840310392809\n"
     ]
    }
   ],
   "source": [
    "print(f\"ICIR: asc/dy = {1/cross_points(f1007, f1008)} and {1/cross_points(f1007, f1012)}\")"
   ]
  },
  {
   "cell_type": "code",
   "execution_count": 5,
   "metadata": {},
   "outputs": [
    {
     "name": "stdout",
     "output_type": "stream",
     "text": [
      "asc: 1415.2389477368301 and 1174.2902933276177\n"
     ]
    }
   ],
   "source": [
    "print(f\"asc: {0.8144458711952908*dho} and {0.6757840310392809*dho}\")"
   ]
  },
  {
   "cell_type": "code",
   "execution_count": 55,
   "metadata": {},
   "outputs": [],
   "source": [
    "np.savetxt('Results/ICIR_positions_7190_4993_50.txt', \n",
    "           [[1.20, 1.20], [1/cross_points(f1007, f1008), 1/cross_points(f1007, f1012)], \n",
    "            [np.polyval(f1007, cross_points(f1007, f1008)), np.polyval(f1007, cross_points(f1007, f1012))]], \n",
    "           header='wx/wy, asc/dy, E/hwy')"
   ]
  },
  {
   "cell_type": "code",
   "execution_count": 18,
   "metadata": {},
   "outputs": [
    {
     "name": "stdout",
     "output_type": "stream",
     "text": [
      "Energy gap in the ICIRS:\n",
      "* 1007-1008: 0.006541283467658358\n",
      "* 1007-1012: 0.402361088458205\n",
      "\n"
     ]
    }
   ],
   "source": [
    "print(f'''Energy gap in the ICIRS:\n",
    "* 1007-1008: {(dic['nivel_1008'][45] - dic['nivel_1007'][45])/wy}\n",
    "* 1007-1012: {(dic['nivel_1012'][18] - dic['nivel_1007'][18])/wy}\n",
    "''')"
   ]
  },
  {
   "cell_type": "code",
   "execution_count": null,
   "metadata": {},
   "outputs": [],
   "source": []
  }
 ],
 "metadata": {
  "kernelspec": {
   "display_name": "Python 3",
   "language": "python",
   "name": "python3"
  },
  "language_info": {
   "codemirror_mode": {
    "name": "ipython",
    "version": 3
   },
   "file_extension": ".py",
   "mimetype": "text/x-python",
   "name": "python",
   "nbconvert_exporter": "python",
   "pygments_lexer": "ipython3",
   "version": "3.8.5"
  }
 },
 "nbformat": 4,
 "nbformat_minor": 4
}
