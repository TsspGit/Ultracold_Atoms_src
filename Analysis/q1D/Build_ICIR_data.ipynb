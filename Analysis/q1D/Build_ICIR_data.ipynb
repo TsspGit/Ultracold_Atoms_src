{
 "cells": [
  {
   "cell_type": "code",
   "execution_count": 1,
   "metadata": {},
   "outputs": [],
   "source": [
    "__author__ = \"@Tssp\"\n",
    "__date__ = \"30/11/20\"\n",
    "import numpy as np\n",
    "import os"
   ]
  },
  {
   "cell_type": "code",
   "execution_count": 2,
   "metadata": {},
   "outputs": [],
   "source": [
    "Ix_list = ['4993', '5505', '6042', '6604', '7190', '7802']\n",
    "asc_020_exact = []\n",
    "asc_200_exact = []\n",
    "asc_020_C0 = []\n",
    "asc_200_C0 = []\n",
    "asc_020_C1 = []\n",
    "asc_200_C1 = []\n",
    "asc_020_C2 = []\n",
    "asc_200_C2 = []\n",
    "asc_020_config = []\n",
    "asc_200_config = []\n",
    "asc_020_config_C0 = []\n",
    "asc_200_config_C0 = []\n",
    "asc_020_config_C1 = []\n",
    "asc_200_config_C1 = []\n",
    "asc_020_config_C2 = []\n",
    "asc_200_config_C2 = []\n",
    "wxwy_theory = []\n",
    "for Ix in Ix_list:\n",
    "    try:\n",
    "        wxwy.extend(np.loadtxt(f'Results/ICIR_q1d_ix{Ix}_iy4993_iz50_exact.dat')[0].tolist())\n",
    "        asc_020_exact.extend(np.loadtxt(f'Results/ICIR_q1d_ix{Ix}_iy4993_iz50_exact.dat')[1].tolist())\n",
    "        asc_200_exact.extend(np.loadtxt(f'Results/ICIR_q1d_ix{Ix}_iy4993_iz50_exact.dat')[2].tolist())\n",
    "        asc_020_C0.extend(np.loadtxt(f'Results/ICIR_q1d_ix{Ix}_iy4993_iz50_C0.dat')[1].tolist())\n",
    "        asc_200_C0.extend(np.loadtxt(f'Results/ICIR_q1d_ix{Ix}_iy4993_iz50_C0.dat')[2].tolist())\n",
    "        asc_020_C1.extend(np.loadtxt(f'Results/ICIR_q1d_ix{Ix}_iy4993_iz50_C1.dat')[1].tolist())\n",
    "        asc_200_C1.extend(np.loadtxt(f'Results/ICIR_q1d_ix{Ix}_iy4993_iz50_C1.dat')[2].tolist())\n",
    "        asc_020_C2.extend(np.loadtxt(f'Results/ICIR_q1d_ix{Ix}_iy4993_iz50_C2.dat')[1].tolist())\n",
    "        asc_200_C2.extend(np.loadtxt(f'Results/ICIR_q1d_ix{Ix}_iy4993_iz50_C2.dat')[2].tolist())\n",
    "        asc_020_config.extend(np.loadtxt(f'Results/ICIR_q1d_ix{Ix}_iy4993_iz50_config.dat')[1].tolist())\n",
    "        asc_200_config.extend(np.loadtxt(f'Results/ICIR_q1d_ix{Ix}_iy4993_iz50_config.dat')[2].tolist())\n",
    "        asc_020_config_C0.extend(np.loadtxt(f'Results/ICIR_q1d_ix{Ix}_iy4993_iz50_config_C0.dat')[1].tolist())\n",
    "        asc_200_config_C0.extend(np.loadtxt(f'Results/ICIR_q1d_ix{Ix}_iy4993_iz50_config_C0.dat')[2].tolist())\n",
    "        asc_020_config_C1.extend(np.loadtxt(f'Results/ICIR_q1d_ix{Ix}_iy4993_iz50_config_C1.dat')[1].tolist())\n",
    "        asc_200_config_C1.extend(np.loadtxt(f'Results/ICIR_q1d_ix{Ix}_iy4993_iz50_config_C1.dat')[2].tolist())\n",
    "        asc_020_config_C2.extend(np.loadtxt(f'Results/ICIR_q1d_ix{Ix}_iy4993_iz50_config_C2.dat')[1].tolist())\n",
    "        asc_200_config_C2.extend(np.loadtxt(f'Results/ICIR_q1d_ix{Ix}_iy4993_iz50_config_C2.dat')[2].tolist())\n",
    "    except:\n",
    "        wxwy_theory.append(np.loadtxt(f'Results/ICIR_q1d_ix{Ix}_iy4993_iz50_exact.dat')[0].tolist())\n",
    "        asc_020_exact.append(np.loadtxt(f'Results/ICIR_q1d_ix{Ix}_iy4993_iz50_exact.dat')[1].tolist())\n",
    "        asc_200_exact.append(np.loadtxt(f'Results/ICIR_q1d_ix{Ix}_iy4993_iz50_exact.dat')[2].tolist())\n",
    "        asc_020_C0.append(np.loadtxt(f'Results/ICIR_q1d_ix{Ix}_iy4993_iz50_C0.dat')[1].tolist())\n",
    "        asc_200_C0.append(np.loadtxt(f'Results/ICIR_q1d_ix{Ix}_iy4993_iz50_C0.dat')[2].tolist())\n",
    "        asc_020_C1.append(np.loadtxt(f'Results/ICIR_q1d_ix{Ix}_iy4993_iz50_C1.dat')[1].tolist())\n",
    "        asc_200_C1.append(np.loadtxt(f'Results/ICIR_q1d_ix{Ix}_iy4993_iz50_C1.dat')[2].tolist())\n",
    "        asc_020_C2.append(np.loadtxt(f'Results/ICIR_q1d_ix{Ix}_iy4993_iz50_C2.dat')[1].tolist())\n",
    "        asc_200_C2.append(np.loadtxt(f'Results/ICIR_q1d_ix{Ix}_iy4993_iz50_C2.dat')[2].tolist())\n",
    "        asc_020_config.append(np.loadtxt(f'Results/ICIR_q1d_ix{Ix}_iy4993_iz50_config.dat')[1].tolist())\n",
    "        asc_200_config.append(np.loadtxt(f'Results/ICIR_q1d_ix{Ix}_iy4993_iz50_config.dat')[2].tolist())\n",
    "        asc_020_config_C0.append(np.loadtxt(f'Results/ICIR_q1d_ix{Ix}_iy4993_iz50_config_C0.dat')[1].tolist())\n",
    "        asc_200_config_C0.append(np.loadtxt(f'Results/ICIR_q1d_ix{Ix}_iy4993_iz50_config_C0.dat')[2].tolist())\n",
    "        asc_020_config_C1.append(np.loadtxt(f'Results/ICIR_q1d_ix{Ix}_iy4993_iz50_config_C1.dat')[1].tolist())\n",
    "        asc_200_config_C1.append(np.loadtxt(f'Results/ICIR_q1d_ix{Ix}_iy4993_iz50_config_C1.dat')[2].tolist())\n",
    "        asc_020_config_C2.append(np.loadtxt(f'Results/ICIR_q1d_ix{Ix}_iy4993_iz50_config_C2.dat')[1].tolist())\n",
    "        asc_200_config_C2.append(np.loadtxt(f'Results/ICIR_q1d_ix{Ix}_iy4993_iz50_config_C2.dat')[2].tolist())"
   ]
  },
  {
   "cell_type": "code",
   "execution_count": 3,
   "metadata": {},
   "outputs": [],
   "source": [
    "np.savetxt('Results/ICIR_q1D_Theory.txt', [wxwy_theory, asc_020_exact, asc_200_exact, asc_020_C0, asc_200_C0, \n",
    "                                           asc_020_C1, asc_200_C1, asc_020_C2, asc_200_C2, asc_020_config, asc_200_config,\n",
    "                                          asc_020_config_C0, asc_200_config_C0, asc_020_config_C1, asc_200_config_C1,\n",
    "                                          asc_020_config_C2, asc_200_config_C2],\n",
    "           header='wx/wy, asc(020)_exact, asc(200)_exact, asc(020)_C0, asc(200)_C0, asc(020)_C1, asc(200)_C1, asc(020)_C2, asc(200)_C2 asc(020)_config asc(200)_config asc(020)_config_C0 asc(200)_config_C0 asc(020)_config_C1 asc(200)_config_C1 asc(020)_config_C2 asc(200)_config_C2')"
   ]
  }
 ],
 "metadata": {
  "kernelspec": {
   "display_name": "Python 3",
   "language": "python",
   "name": "python3"
  },
  "language_info": {
   "codemirror_mode": {
    "name": "ipython",
    "version": 3
   },
   "file_extension": ".py",
   "mimetype": "text/x-python",
   "name": "python",
   "nbconvert_exporter": "python",
   "pygments_lexer": "ipython3",
   "version": "3.8.5"
  }
 },
 "nbformat": 4,
 "nbformat_minor": 4
}
