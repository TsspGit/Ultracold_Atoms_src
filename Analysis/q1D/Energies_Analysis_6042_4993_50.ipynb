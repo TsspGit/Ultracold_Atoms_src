{
 "cells": [
  {
   "cell_type": "code",
   "execution_count": 1,
   "metadata": {},
   "outputs": [],
   "source": [
    "__author__ = \"@Tssp\"\n",
    "import numpy as np\n",
    "import matplotlib.pyplot as plt\n",
    "import os\n",
    "from utils.atomic_units import ao, vo, e, hbar, me, Eh, to\n",
    "from decimal import Decimal\n",
    "from utils.Energies_Analysis_utils import *\n",
    "plt.rc('text',usetex=True)\n",
    "plt.rc('font',family='serif')\n",
    "ref_ticksize = 16\n",
    "plt.rcParams['xtick.labelsize']=ref_ticksize\n",
    "plt.rcParams['ytick.labelsize']=ref_ticksize\n",
    "plt.rcParams['legend.fontsize']=ref_ticksize\n",
    "plt.rcParams['axes.labelsize']=ref_ticksize * 3/2\n",
    "plt.rcParams['axes.titlesize']=ref_ticksize * 3/2\n",
    "aur = (1 + np.sqrt(5))/2\n",
    "aursize = (4.3*aur, 4.3)"
   ]
  },
  {
   "cell_type": "code",
   "execution_count": 2,
   "metadata": {},
   "outputs": [],
   "source": [
    "delta = np.loadtxt('Simulations/delta_asc_ix6603.dat', dtype=str)[:,0]\n",
    "asc = np.loadtxt('Simulations/delta_asc_ix6603.dat')[:,1]\n",
    "delta = delta.tolist()\n",
    "asc = asc.tolist()"
   ]
  },
  {
   "cell_type": "code",
   "execution_count": 3,
   "metadata": {},
   "outputs": [
    {
     "name": "stdout",
     "output_type": "stream",
     "text": [
      "wy [u.a]:  2141065.2804475287\n",
      "dho [u.a]:  1737.6709708894564\n"
     ]
    }
   ],
   "source": [
    "# Parameters and Constants:\n",
    "mass = 7.0160040 * 1.66053873e-27 / me # a.u\n",
    "alpha = 200 # a.u\n",
    "lambd = 1000 * 1e-9 / ao # a.u\n",
    "ky = 2*np.pi/lambd\n",
    "Iy = 4993 * (1e4 / Eh * to * ao**2)\n",
    "Vy = alpha * Iy # a.u\n",
    "Iy = Vy/alpha\n",
    "wy = np.sqrt( 2 * Vy * ky**2 / mass)       \n",
    "dho = np.sqrt(2 / (mass * wy))\n",
    "print('wy [u.a]: ', wy/to)\n",
    "print('dho [u.a]: ', dho)"
   ]
  },
  {
   "cell_type": "code",
   "execution_count": 4,
   "metadata": {},
   "outputs": [
    {
     "data": {
      "text/plain": [
       "1.1000427863426487"
      ]
     },
     "execution_count": 4,
     "metadata": {},
     "output_type": "execute_result"
    }
   ],
   "source": [
    "np.sqrt(6042/4993)"
   ]
  },
  {
   "cell_type": "code",
   "execution_count": 5,
   "metadata": {},
   "outputs": [
    {
     "name": "stdout",
     "output_type": "stream",
     "text": [
      "/Users/tomy/PhD/Ultracold_Atoms_src/Analysis/q1d\n"
     ]
    }
   ],
   "source": [
    "print(os.getcwd())\n",
    "folder_path = \"Simulations/ix6042_iy4993_iz50/config/\""
   ]
  },
  {
   "cell_type": "code",
   "execution_count": 6,
   "metadata": {},
   "outputs": [
    {
     "name": "stdout",
     "output_type": "stream",
     "text": [
      "There are a few folders without data, \n",
      "delta=['.707666', '.707891', '.7081066', '.708483', '.708822', '.7090948', '.7092404', '.7091583', '.71195', '.71200'] non readed\n"
     ]
    }
   ],
   "source": [
    "Data = list()\n",
    "delta_nonreaded = list()\n",
    "for d in delta:\n",
    "    try:\n",
    "        Data.append(np.loadtxt(folder_path + f'Li7Li7_x10000_y10000_z10000_120rm8g2l60m14_68CM8g1L60M14_Li7a200_Li7a200_kx1000_ky1000_kz1000_ix6042_iy4993_iz50_LiLi_a3Sup_0{d}_sinTnx6_sinTny6_sinTnz6/Ag_vsLiLi_int_rm200_CM50_ddb.eva'))\n",
    "    except:\n",
    "        delta_nonreaded.append(d)\n",
    "        continue\n",
    "print(f'There are a few folders without data, \\ndelta={delta_nonreaded} non readed')"
   ]
  },
  {
   "cell_type": "code",
   "execution_count": 7,
   "metadata": {},
   "outputs": [
    {
     "name": "stdout",
     "output_type": "stream",
     "text": [
      "filtering completed\n"
     ]
    }
   ],
   "source": [
    "# Delete from original delta and asc lists the unreaded values:\n",
    "for dnr in delta_nonreaded:\n",
    "    idx = delta.index(dnr)\n",
    "    del delta[idx], asc[idx]\n",
    "assert len(delta) == len(asc)\n",
    "print(\"filtering completed\")\n",
    "x = dho / asc"
   ]
  },
  {
   "cell_type": "code",
   "execution_count": 8,
   "metadata": {},
   "outputs": [
    {
     "name": "stdout",
     "output_type": "stream",
     "text": [
      "ICIR (delta, asc): (0.7083468, 1250.58444896419), (0.7090032, 1380.42059648854)\n"
     ]
    }
   ],
   "source": [
    "print(f\"ICIR (delta, asc): (0{delta[27]}, {asc[27]}), (0{delta[42]}, {asc[42]})\")"
   ]
  },
  {
   "cell_type": "code",
   "execution_count": 9,
   "metadata": {},
   "outputs": [],
   "source": [
    "dic = transpose_energies(Data)"
   ]
  },
  {
   "cell_type": "code",
   "execution_count": 10,
   "metadata": {},
   "outputs": [
    {
     "name": "stdout",
     "output_type": "stream",
     "text": [
      "Least bound state:  1002 -0.024393531854232063\n",
      "First trap state:  1003 0.24432374208320168\n"
     ]
    }
   ],
   "source": [
    "dic, least_bound_pos = dic_from_least_bound_forward(dic, wy)"
   ]
  },
  {
   "cell_type": "code",
   "execution_count": 11,
   "metadata": {},
   "outputs": [],
   "source": [
    "for key in dic.keys():\n",
    "    dic[key] = np.sort(dic[key])"
   ]
  },
  {
   "cell_type": "code",
   "execution_count": 13,
   "metadata": {},
   "outputs": [
    {
     "data": {
      "image/png": "[encoded data removed]",
      "text/plain": [
       "<Figure size 432x288 with 1 Axes>"
      ]
     },
     "metadata": {
      "needs_background": "light"
     },
     "output_type": "display_data"
    }
   ],
   "source": [
    "fig, ax = plt.subplots()\n",
    "for i in range(least_bound_pos, least_bound_pos + 30):\n",
    "    ax.plot(x, dic['nivel_{}'.format(i)]/wy, 'b*')\n",
    "ax.set_ylim(0, 3)\n",
    "ax.set_xlabel('$d_{y}/a$')\n",
    "ax.set_ylabel('$E/\\hbar \\omega_{y}$')\n",
    "plt.tight_layout()\n",
    "fig.savefig('Results/Figures/Ix6042_Iy4993_Iz50_Easc.png', dpi=200)\n",
    "plt.show()"
   ]
  },
  {
   "cell_type": "markdown",
   "metadata": {},
   "source": [
    "# Crosses"
   ]
  },
  {
   "cell_type": "code",
   "execution_count": 14,
   "metadata": {},
   "outputs": [
    {
     "name": "stdout",
     "output_type": "stream",
     "text": [
      "Energy in x=0.8270618846763502 for the level 1007 is 1.226799029565977e-10\n",
      "Energy in x=0.8270618846763502 for the level 1008 is 1.259831591641269e-10\n",
      "Energy in x=0.8270618846763502 for the level 1009 is 1.335094112910361e-10\n",
      "Energy in x=0.8270618846763502 for the level 1010 is 1.354067259009778e-10\n",
      "Energy in x=0.8270618846763502 for the level 1011 is 1.388488484244867e-10\n"
     ]
    },
    {
     "data": {
      "image/png": "[encoded data removed]",
      "text/plain": [
       "<Figure size 576x432 with 1 Axes>"
      ]
     },
     "metadata": {
      "needs_background": "light"
     },
     "output_type": "display_data"
    }
   ],
   "source": [
    "fig2, ax2 = plt.subplots(figsize=(8,6))\n",
    "for i in range(least_bound_pos + 5, least_bound_pos + 10):\n",
    "    print(f\"Energy in x={x[-16]} for the level {i} is {dic[f'nivel_{i}'][-16]}\")\n",
    "    ax2.plot(x, dic['nivel_{}'.format(i)]/wy, 'b')\n",
    "#ax2.set_ylim(2.171, 2.175)\n",
    "ax2.set_ylim(2.1725, 2.1745)\n",
    "ax2.set_xlim(1.16, 1.46)\n",
    "ax2.set_xlabel('$d_{y}/a$')\n",
    "ax2.set_ylabel('$E/\\hbar \\omega_{y}$')\n",
    "ax2.legend(['Data'], fontsize=14)\n",
    "plt.grid()"
   ]
  },
  {
   "cell_type": "code",
   "execution_count": 15,
   "metadata": {},
   "outputs": [
    {
     "name": "stdout",
     "output_type": "stream",
     "text": [
      "ICIR x=1.2587982063652745\n",
      "1007: 2.165229907666163\n",
      "1008: 2.1739469405883614\n",
      "\n",
      "ICIR x=1.3894871092701506\n",
      "1007: 1.9639204142150946\n",
      "1010: 2.172113970743342\n"
     ]
    }
   ],
   "source": [
    "print(f\"ICIR x={x[42]}\\n1007: {dic['nivel_1007'][42]/wy}\\n1008: {dic['nivel_1008'][42]/wy}\\n\")\n",
    "print(f\"ICIR x={x[27]}\\n1007: {dic['nivel_1007'][27]/wy}\\n1010: {dic['nivel_1010'][27]/wy}\")"
   ]
  },
  {
   "cell_type": "code",
   "execution_count": 16,
   "metadata": {},
   "outputs": [
    {
     "name": "stdout",
     "output_type": "stream",
     "text": [
      "Using matplotlib backend: MacOSX\n"
     ]
    }
   ],
   "source": [
    "%matplotlib"
   ]
  },
  {
   "cell_type": "code",
   "execution_count": 17,
   "metadata": {},
   "outputs": [],
   "source": [
    "fig2, ax2 = plt.subplots(figsize=(8,6))\n",
    "for i in range(least_bound_pos + 5, least_bound_pos + 9):\n",
    "    ax2.plot(x, dic['nivel_{}'.format(i)]/wy, 'b')\n",
    "ax2.set_ylim(2.171, 2.175)\n",
    "ax2.set_xlim(1.16, 1.45)\n",
    "ax2.set_xlabel('$d_{y}/a$')\n",
    "ax2.set_ylabel('$E/\\hbar \\omega_{y}$')\n",
    "ax2.legend(['Data'], fontsize=14)\n",
    "plt.grid()\n",
    "xcoord = []\n",
    "ycoord = []\n",
    "def onclick(event):\n",
    "    global ix, iy\n",
    "    ix, iy = event.xdata, event.ydata\n",
    "    plt.plot(ix, iy, 'ro', markersize=4)\n",
    "    plt.draw()\n",
    "    global xcoord, ycoord\n",
    "    xcoord.append(ix)\n",
    "    ycoord.append(iy)\n",
    "    if len(xcoord) == 40:\n",
    "        fig2.canvas.mpl_disconnect(cid)\n",
    "        print(f'xcoord: {xcoord}\\n ycoord: {ycoord}')\n",
    "    return xcoord, ycoord\n",
    "cid = fig2.canvas.mpl_connect('button_press_event', onclick)\n",
    "plt.show()"
   ]
  },
  {
   "cell_type": "code",
   "execution_count": 18,
   "metadata": {},
   "outputs": [],
   "source": [
    "%matplotlib inline"
   ]
  },
  {
   "cell_type": "code",
   "execution_count": 19,
   "metadata": {},
   "outputs": [
    {
     "data": {
      "image/png": "[encoded data removed]",
      "text/plain": [
       "<Figure size 432x288 with 1 Axes>"
      ]
     },
     "metadata": {
      "needs_background": "light"
     },
     "output_type": "display_data"
    }
   ],
   "source": [
    "fig3, ax3 = plt.subplots()\n",
    "# nivel 1007:\n",
    "f1007 = np.polyfit(xcoord, ycoord, deg=1)\n",
    "x1007 = np.linspace(1, 1.45, num=60)\n",
    "ax3.plot(x1007, np.polyval(f1007, x1007), 'r--', markersize=4, label='Diabatic')\n",
    "ax3.plot(x, dic['nivel_1007']/wy, 'b', label='Adiabatic')\n",
    "\n",
    "# nivel 1008:\n",
    "f1008 = np.polyfit(x[(x > 1.125) & (x < 1.27)], np.array(dic['nivel_1008'])[(x > 1.125) & (x < 1.27)]/wy, deg=1)\n",
    "x1008 = np.linspace(1.25, 1.27, num=70)\n",
    "ax3.plot(x1008, np.polyval(f1008, x1008), 'r--', markersize=4)\n",
    "ax3.plot(x, dic['nivel_1008']/wy, 'b')\n",
    "\n",
    "# nivel 1009:\n",
    "f1009 = np.polyfit(x[(x > 1.22) & (x < 1.34)], np.array(dic['nivel_1009'])[(x > 1.22) & (x < 1.34)]/wy, deg=1)\n",
    "x1009 = np.linspace(1.33, 1.36, num=100)\n",
    "ax3.plot(x1009, np.polyval(f1009, x1009), 'r--', markersize=4)\n",
    "ax3.plot(x, dic['nivel_1009']/wy, 'b')\n",
    "\n",
    "# nivel 1010:\n",
    "f1010 = np.polyfit(x[(x > 1.27) & (x < 1.40)], np.array(dic['nivel_1010'])[(x > 1.27) & (x < 1.40)]/wy, deg=1)\n",
    "x1010 = np.linspace(1.38, 1.41, num=100)\n",
    "ax3.plot(x1010, np.polyval(f1010, x1010), 'r--', markersize=4)\n",
    "ax3.plot(x, dic['nivel_1010']/wy, 'b')\n",
    "\n",
    "# Crosses:\n",
    "##########\n",
    "ax3.plot(cross_points(f1007, f1008), np.polyval(f1007, cross_points(f1007, f1008)), 'k*', markersize=10, label='ICIR')\n",
    "ax3.plot(cross_points(f1007, f1009), np.polyval(f1007, cross_points(f1007, f1009)), 'k*', markersize=10)\n",
    "ax3.plot(cross_points(f1007, f1010), np.polyval(f1007, cross_points(f1007, f1010)), 'k*', markersize=10)\n",
    "\n",
    "# States:\n",
    "#########\n",
    "ax3.annotate(r'$\\left|\\psi^{(b)} \\Phi_{(0,2,0)}\\right>$', xy=(1.26, 2.172), xytext=(1.2, 2.17), fontsize=ref_ticksize, \n",
    "             bbox=dict(boxstyle=\"round\", alpha=0.1, facecolor='r'),\n",
    "             arrowprops=dict(arrowstyle=\"wedge, tail_width=0.5\", alpha=0.1, facecolor='r'))\n",
    "\n",
    "ax3.annotate(r'$\\left|\\psi^{(1)} \\Phi_{(0,0,0)}\\right>$', xy=(1.25, 2.1737), xytext=(1.2, 2.1755), fontsize=ref_ticksize, \n",
    "             bbox=dict(boxstyle=\"round\", alpha=0.1, facecolor='r'),\n",
    "             arrowprops=dict(arrowstyle=\"wedge, tail_width=0.5\", alpha=0.1, facecolor='r'))\n",
    "\n",
    "ax3.annotate(r'$\\left|\\psi^{(b)} \\Phi_{(0,2,2)}\\right>$', xy=(1.35, 2.1735), xytext=(1.35, 2.1755), fontsize=ref_ticksize, \n",
    "             bbox=dict(boxstyle=\"round\", alpha=0.1, facecolor='r'),\n",
    "             arrowprops=dict(arrowstyle=\"wedge, tail_width=0.5\", alpha=0.1, facecolor='r'))\n",
    "\n",
    "ax3.annotate(r'$\\left|\\psi^{(b)} \\Phi_{(2,0,0)}\\right>$', xy=(1.39, 2.1715), xytext=(1.35, 2.17), fontsize=ref_ticksize, \n",
    "             bbox=dict(boxstyle=\"round\", alpha=0.1, facecolor='r'),\n",
    "             arrowprops=dict(arrowstyle=\"wedge, tail_width=0.5\", alpha=0.1, facecolor='r'))\n",
    "\n",
    "ax3.set_xlabel('$d_{y}/a$')\n",
    "ax3.set_ylabel('$E/\\hbar \\omega_{y}$')\n",
    "#ax3.legend(fontsize=14, bbox_to_anchor=(1.03, 1))\n",
    "ax3.set_ylim(2.171, 2.175)\n",
    "ax3.set_xlim(1.158, 1.45)\n",
    "plt.tight_layout()\n",
    "fig3.savefig('Results/Figures/Ix6042_Iy4993_Iz50_Easc_Interpolation.png', dpi=200)"
   ]
  },
  {
   "cell_type": "code",
   "execution_count": 20,
   "metadata": {},
   "outputs": [
    {
     "name": "stdout",
     "output_type": "stream",
     "text": [
      "Crosses between (x, E):\n",
      "* 1007-1008: (1.2588422059078757, 2.1735519223963204)\n",
      "* 1007-1009: (1.3466181965821256, 2.1723616872649476)\n",
      "* 1007-1010: (1.3895346689213797, 2.17177974347029)\n"
     ]
    }
   ],
   "source": [
    "print(f'''Crosses between (x, E):\n",
    "* 1007-1008: ({cross_points(f1007, f1008)}, {np.polyval(f1007, cross_points(f1007, f1008))})\n",
    "* 1007-1009: ({cross_points(f1007, f1009)}, {np.polyval(f1007, cross_points(f1007, f1009))})\n",
    "* 1007-1010: ({cross_points(f1007, f1010)}, {np.polyval(f1007, cross_points(f1007, f1010))})''')"
   ]
  },
  {
   "cell_type": "code",
   "execution_count": 21,
   "metadata": {},
   "outputs": [
    {
     "name": "stdout",
     "output_type": "stream",
     "text": [
      "ICIR: asc/dy = 0.7943807375593998 and 0.7196653832151203\n"
     ]
    }
   ],
   "source": [
    "print(f\"ICIR: asc/dy = {1/cross_points(f1007, f1008)} and {1/cross_points(f1007, f1010)}\")"
   ]
  },
  {
   "cell_type": "code",
   "execution_count": 4,
   "metadata": {},
   "outputs": [
    {
     "name": "stdout",
     "output_type": "stream",
     "text": [
      "asc: 1380.4331548682244 and 1250.5877486528213\n"
     ]
    }
   ],
   "source": [
    "print(f\"asc: {0.7944157311678092*dho} and {0.7196919149847377*dho}\")"
   ]
  },
  {
   "cell_type": "code",
   "execution_count": 37,
   "metadata": {},
   "outputs": [],
   "source": [
    "np.savetxt('Results/ICIR_positions_6042_4993_50.txt', [[1.1, 1.1], [1/cross_points(f1007, f1010), 1/cross_points(f1007, f1008)], [np.polyval(f1007, cross_points(f1007, f1010)), np.polyval(f1007, cross_points(f1007, f1008))]], header='wx/wy, asc/dy, E/hwy')"
   ]
  },
  {
   "cell_type": "code",
   "execution_count": 22,
   "metadata": {},
   "outputs": [
    {
     "name": "stdout",
     "output_type": "stream",
     "text": [
      "Energy gap in the ICIRS:\n",
      "* 1007-1008: 0.008717032922198109\n",
      "* 1007-1010: 0.2081935565282477\n",
      "\n"
     ]
    }
   ],
   "source": [
    "print(f'''Energy gap in the ICIRS:\n",
    "* 1007-1008: {(dic['nivel_1008'][42] - dic['nivel_1007'][42])/wy}\n",
    "* 1007-1010: {(dic['nivel_1010'][27] - dic['nivel_1007'][27])/wy}\n",
    "''')"
   ]
  },
  {
   "cell_type": "code",
   "execution_count": 27,
   "metadata": {},
   "outputs": [
    {
     "data": {
      "text/plain": [
       "1.9639204142150946"
      ]
     },
     "execution_count": 27,
     "metadata": {},
     "output_type": "execute_result"
    }
   ],
   "source": [
    "dic['nivel_1007'][27]/wy"
   ]
  },
  {
   "cell_type": "code",
   "execution_count": 33,
   "metadata": {},
   "outputs": [
    {
     "data": {
      "text/plain": [
       "0.010836139244970107"
      ]
     },
     "execution_count": 33,
     "metadata": {},
     "output_type": "execute_result"
    }
   ],
   "source": [
    "(dic['nivel_1010'][27]/wy - 1/2*(dic['nivel_1010'][27]/wy + dic['nivel_1007'][27]/wy))**2 - 0.2081935565282477**2/4"
   ]
  },
  {
   "cell_type": "code",
   "execution_count": null,
   "metadata": {},
   "outputs": [],
   "source": [
    "E1 = 5.535837050060826E-011 + \n",
    "E2 = "
   ]
  }
 ],
 "metadata": {
  "kernelspec": {
   "display_name": "Python 3",
   "language": "python",
   "name": "python3"
  },
  "language_info": {
   "codemirror_mode": {
    "name": "ipython",
    "version": 3
   },
   "file_extension": ".py",
   "mimetype": "text/x-python",
   "name": "python",
   "nbconvert_exporter": "python",
   "pygments_lexer": "ipython3",
   "version": "3.8.5"
  }
 },
 "nbformat": 4,
 "nbformat_minor": 4
}
