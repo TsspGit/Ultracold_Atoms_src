{
 "cells": [
  {
   "cell_type": "code",
   "execution_count": 1,
   "metadata": {},
   "outputs": [],
   "source": [
    "__author__ = \"@Tssp\"\n",
    "__date__   = \"9/10/20\"\n",
    "import numpy as np\n",
    "import matplotlib.pyplot as plt\n",
    "plt.rc('text',usetex=True)\n",
    "plt.rc('font',family='serif')\n",
    "plt.rcParams['xtick.labelsize']=16\n",
    "plt.rcParams['ytick.labelsize']=16\n",
    "plt.rcParams['axes.labelsize']=18\n",
    "plt.rcParams['axes.titlesize']=18"
   ]
  },
  {
   "cell_type": "code",
   "execution_count": 2,
   "metadata": {},
   "outputs": [],
   "source": [
    "def plot_wf(path, fig, ax):\n",
    "    Data = np.loadtxt(path)\n",
    "    x = Data[:,0]\n",
    "    y = Data[:,1]\n",
    "    wf = Data[:,2]\n",
    "    global cm\n",
    "    cm = ax.tricontourf(x, y, wf, cmap='jet')\n",
    "    #ax.set_xlim(-5000, 5000)\n",
    "    #ax.set_ylim(-5000, 5000)\n",
    "    return fig"
   ]
  },
  {
   "cell_type": "code",
   "execution_count": 4,
   "metadata": {},
   "outputs": [],
   "source": [
    "path = 'Li7Li7_x10000_y10000_z10000_120rm8g2l60m14_68CM8g1L60M14_Li7a200_Li7a200_kx1000_ky1000_kz1000_ix7190_iy4993_iz50_LiLi_a3Sup_0.71115_sinTnx6_sinTny6_sinTnz6Ag_vsLiLi_int_rm200_CM50_dd_1007agCM1Ag_LEV'"
   ]
  },
  {
   "cell_type": "markdown",
   "metadata": {},
   "source": [
    "# X axis plots"
   ]
  },
  {
   "cell_type": "code",
   "execution_count": null,
   "metadata": {},
   "outputs": [],
   "source": [
    "fig = plt.subplots(nrows=2, ncols=3, figsize=(10,6))\n",
    "ax = plt.subplot(2, 3, 1)\n",
    "plot_wf(path_1010 + '_x1x2.dat', fig, ax)\n",
    "ax.set_title('1010')\n",
    "ax.set_ylabel('$x_2 (a.u)$')\n",
    "\n",
    "ax = plt.subplot(2, 3, 2)\n",
    "plot_wf(path_1011 + '_x1x2.dat', fig, ax)\n",
    "ax.set_title('1011')\n",
    "\n",
    "ax = plt.subplot(2, 3, 3)\n",
    "plot_wf(path_1012 + '_x1x2.dat', fig, ax)\n",
    "\n",
    "ax = plt.subplot(2, 3, 4)\n",
    "plot_wf(path_1013 + '_x1x2.dat', fig, ax)\n",
    "ax.set_title('1013')\n",
    "ax.set_ylabel('$x_1 (a.u)$')\n",
    "\n",
    "ax = plt.subplot(2, 3, 5)\n",
    "plot_wf(path_1014 + '_x1x2.dat', fig, ax)\n",
    "ax.set_title('1014')\n",
    "ax.set_xlabel('$x_2 (a.u)$')\n",
    "\n",
    "ax = plt.subplot(2, 3, 6)\n",
    "plot_wf(path_1015 + '_x1x2.dat', fig, ax)\n",
    "ax.set_title('1015')\n",
    "ax.set_xlabel('$x_2 (a.u)$')\n",
    "\n",
    "cbaxes = fig[0].add_axes([1.05, 0.1, 0.03, 0.8]) \n",
    "fig[0].colorbar(cm, ax=fig[1], cax=cbaxes)\n",
    "plt.tight_layout()\n",
    "plt.savefig('WF_ix7190_iy4993_iz50_x.png', bbox_inches='tight', dpi=200)"
   ]
  },
  {
   "cell_type": "markdown",
   "metadata": {},
   "source": [
    "# Y axis plots"
   ]
  },
  {
   "cell_type": "code",
   "execution_count": null,
   "metadata": {},
   "outputs": [],
   "source": [
    "fig = plt.subplots(nrows=2, ncols=3, figsize=(10,6))\n",
    "ax = plt.subplot(2, 3, 1)\n",
    "plot_wf(path_1007 + '_y1y2.dat', fig, ax)\n",
    "ax.set_ylabel('$y_2 (a.u)$')\n",
    "ax.set_title('1007')\n",
    "ax = plt.subplot(2, 3, 2)\n",
    "plot_wf(path_1008 + '_y1y2.dat', fig, ax)\n",
    "ax.set_title('1008')\n",
    "ax = plt.subplot(2, 3, 3)\n",
    "plot_wf(path_1009 + '_y1y2.dat', fig, ax)\n",
    "ax.set_title('1009')\n",
    "ax = plt.subplot(2, 3, 4)\n",
    "plot_wf(path_1010 + '_y1y2.dat', fig, ax)\n",
    "ax.set_title('1010')\n",
    "ax.set_ylabel('$y_2 (a.u)$')\n",
    "ax.set_xlabel('$y_1 (a.u)$')\n",
    "ax = plt.subplot(2, 3, 5)\n",
    "plot_wf(path_1011 + '_y1y2.dat', fig, ax)\n",
    "ax.set_title('1011')\n",
    "ax.set_xlabel('$y_1 (a.u)$')\n",
    "ax = plt.subplot(2, 3, 6)\n",
    "plot_wf(path_1012 + '_y1y2.dat', fig, ax)\n",
    "ax.set_title('1012')\n",
    "ax.set_xlabel('$y_1 (a.u)$')\n",
    "cbaxes = fig[0].add_axes([1.05, 0.1, 0.03, 0.8]) \n",
    "fig[0].colorbar(cm, ax=fig[1], cax=cbaxes)\n",
    "plt.tight_layout()\n",
    "plt.savefig('WF_ix7190_iy4993_iz50_y.png', bbox_inches='tight', dpi=200)"
   ]
  },
  {
   "cell_type": "markdown",
   "metadata": {},
   "source": [
    "# Z axis plots"
   ]
  },
  {
   "cell_type": "code",
   "execution_count": 4,
   "metadata": {},
   "outputs": [
    {
     "name": "stderr",
     "output_type": "stream",
     "text": [
      "<ipython-input-4-a432965d786f>:33: UserWarning: This figure includes Axes that are not compatible with tight_layout, so results might be incorrect.\n",
      "  plt.tight_layout()\n"
     ]
    },
    {
     "data": {
      "image/png": "[encoded data removed]",
      "text/plain": [
       "<Figure size 720x432 with 7 Axes>"
      ]
     },
     "metadata": {
      "needs_background": "light"
     },
     "output_type": "display_data"
    }
   ],
   "source": [
    "fig = plt.subplots(nrows=2, ncols=3, figsize=(10,6))\n",
    "ax = plt.subplot(2, 3, 1)\n",
    "plot_wf(path + '1007_z1z2.dat', fig, ax)\n",
    "ax.set_ylabel('$z_2 (a.u)$')\n",
    "ax.set_title('1007')\n",
    "\n",
    "ax = plt.subplot(2, 3, 2)\n",
    "plot_wf(path + '1008_z1z2.dat', fig, ax)\n",
    "ax.set_title('1008')\n",
    "\n",
    "ax = plt.subplot(2, 3, 3)\n",
    "plot_wf(path + '1009_z1z2.dat', fig, ax)\n",
    "ax.set_title('1009')\n",
    "\n",
    "ax = plt.subplot(2, 3, 4)\n",
    "plot_wf(path + '1010_z1z2.dat', fig, ax)\n",
    "ax.set_title('1010')\n",
    "ax.set_ylabel('$z_2 (a.u)$')\n",
    "ax.set_xlabel('$z_1 (a.u)$')\n",
    "\n",
    "ax = plt.subplot(2, 3, 5)\n",
    "plot_wf(path + '1011_z1z2.dat', fig, ax)\n",
    "ax.set_title('1011')\n",
    "ax.set_xlabel('$z_1 (a.u)$')\n",
    "\n",
    "ax = plt.subplot(2, 3, 6)\n",
    "plot_wf(path + '_z1z2.dat', fig, ax)\n",
    "ax.set_title('1060')\n",
    "ax.set_xlabel('$z_1 (a.u)$')\n",
    "\n",
    "cbaxes = fig[0].add_axes([1.05, 0.1, 0.03, 0.8]) \n",
    "fig[0].colorbar(cm, ax=fig[1], cax=cbaxes)\n",
    "plt.tight_layout()\n",
    "plt.savefig('WF_ix7190_iy4993_iz50_z.png', bbox_inches='tight', dpi=200)"
   ]
  },
  {
   "cell_type": "code",
   "execution_count": null,
   "metadata": {},
   "outputs": [],
   "source": []
  }
 ],
 "metadata": {
  "kernelspec": {
   "display_name": "Python 3",
   "language": "python",
   "name": "python3"
  },
  "language_info": {
   "codemirror_mode": {
    "name": "ipython",
    "version": 3
   },
   "file_extension": ".py",
   "mimetype": "text/x-python",
   "name": "python",
   "nbconvert_exporter": "python",
   "pygments_lexer": "ipython3",
   "version": "3.8.5"
  }
 },
 "nbformat": 4,
 "nbformat_minor": 4
}
