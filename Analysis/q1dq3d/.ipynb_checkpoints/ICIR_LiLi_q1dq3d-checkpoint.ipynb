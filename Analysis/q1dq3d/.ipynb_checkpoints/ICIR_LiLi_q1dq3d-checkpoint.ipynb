{
 "cells": [
  {
   "cell_type": "code",
   "execution_count": 1,
   "metadata": {},
   "outputs": [],
   "source": [
    "__author__ = \"@Tssp\"\n",
    "__date__ = \"06/05/2021\"\n",
    "import numpy as np\n",
    "import matplotlib.pyplot as plt\n",
    "import os\n",
    "from utils.atomic_units import ao, vo, e, hbar, me, Eh, to\n",
    "from decimal import Decimal\n",
    "from utils.Energies_Analysis_utils import *\n",
    "from matplotlib.ticker import AutoMinorLocator\n",
    "plt.rc('text',usetex=True)\n",
    "plt.rc('font',family='serif')\n",
    "ref_ticksize = 18\n",
    "plt.rcParams['xtick.labelsize']=ref_ticksize\n",
    "plt.rcParams['ytick.labelsize']=ref_ticksize\n",
    "plt.rcParams['axes.labelsize']=ref_ticksize * 3/2\n",
    "plt.rcParams['axes.titlesize']=ref_ticksize * 3/2\n",
    "plt.rcParams['legend.fontsize']=ref_ticksize / (3/2)\n",
    "aur = (1 + np.sqrt(5))/2\n",
    "aursize = (4.3*aur, 4.3)"
   ]
  },
  {
   "cell_type": "markdown",
   "metadata": {},
   "source": [
    "## ICIR: $\\psi^{(b)}\\Phi_{(0, 0, 4)}, \\psi^{(b)}\\Phi_{(4, 0, 0)}$"
   ]
  },
  {
   "cell_type": "code",
   "execution_count": 3,
   "metadata": {},
   "outputs": [],
   "source": [
    "wxwy = [1, 1.05, 1.1, 1.15, 1.20, 1.25]\n",
    "ady_040 = np.array([0.532371023346663, 0.5368266995135845, 0.5411576173679913])\n",
    "ady_400 = np.array([0.532371023346663, 0.5101673701135563, 0.49096834606589446])\n"
   ]
  },
  {
   "cell_type": "code",
   "execution_count": 4,
   "metadata": {},
   "outputs": [
    {
     "data": {
      "image/png": "[encoded data removed]",
      "text/plain": [
       "<Figure size 500.943x309.6 with 1 Axes>"
      ]
     },
     "metadata": {
      "needs_background": "light"
     },
     "output_type": "display_data"
    }
   ],
   "source": [
    "fig, ax = plt.subplots(figsize=aursize)\n",
    "ax.plot(wxwy[:3], ady_040, 'w*',\\\n",
    "         markersize=16, markeredgecolor='k')\n",
    "ax.plot(wxwy[:3], ady_400, 'w*',\\\n",
    "         markersize=16, markeredgecolor='k',)\n",
    "ax.set_xlim(0.997, 1.254)\n",
    "#ax.set_ylim(0.50, 0.59)\n",
    "ax.set_xlabel('$\\omega_x/\\omega_y$')\n",
    "ax.set_ylabel('$a_s/d_y$')\n",
    "ax.xaxis.set_minor_locator(AutoMinorLocator())\n",
    "ax.yaxis.set_minor_locator(AutoMinorLocator())\n",
    "#plt.grid()\n",
    "plt.tight_layout()\n",
    "#fig.savefig('Results/Figures/ICIR_q3d.png', dpi=200)"
   ]
  },
  {
   "cell_type": "markdown",
   "metadata": {},
   "source": [
    "## ICIR: $\\psi^{(b)}\\Phi_{(2, 0, 0)}$"
   ]
  },
  {
   "cell_type": "code",
   "execution_count": 5,
   "metadata": {},
   "outputs": [],
   "source": [
    "ady_020 = [1.7015212827379438, 1.8060681522319317, 1.9151705144860252]\n",
    "ady_200 = [1.7015212827379438, 1.453700321485349, 1.2729869018483122 ]\n",
    "ady_theory = []\n",
    "ady_theory_C0 = []\n",
    "ady_theory_C2 = []\n",
    "C = []"
   ]
  },
  {
   "cell_type": "code",
   "execution_count": 6,
   "metadata": {},
   "outputs": [
    {
     "data": {
      "image/png": "[encoded data removed]",
      "text/plain": [
       "<Figure size 500.943x309.6 with 1 Axes>"
      ]
     },
     "metadata": {
      "needs_background": "light"
     },
     "output_type": "display_data"
    }
   ],
   "source": [
    "fig, ax = plt.subplots(figsize=aursize)\n",
    "ax.plot(wxwy[:3], ady_020, 'w*',\\\n",
    "         markersize=16, markeredgecolor='k')\n",
    "ax.plot(wxwy[:3], ady_200, 'w*',\\\n",
    "         markersize=16, markeredgecolor='k',)\n",
    "ax.set_xlabel('$\\omega_x/\\omega_y$')\n",
    "ax.set_ylabel('$a_s/d_y$')\n",
    "ax.xaxis.set_minor_locator(AutoMinorLocator())\n",
    "ax.yaxis.set_minor_locator(AutoMinorLocator())\n",
    "#plt.grid()\n",
    "ax.set_xlim(0.997, 1.254)\n",
    "plt.tight_layout()\n",
    "#fig.savefig('Results/Figures/ICIR_q3d_emergent.png', dpi=200)"
   ]
  },
  {
   "cell_type": "code",
   "execution_count": null,
   "metadata": {},
   "outputs": [],
   "source": []
  }
 ],
 "metadata": {
  "kernelspec": {
   "display_name": "Python 3",
   "language": "python",
   "name": "python3"
  },
  "language_info": {
   "codemirror_mode": {
    "name": "ipython",
    "version": 3
   },
   "file_extension": ".py",
   "mimetype": "text/x-python",
   "name": "python",
   "nbconvert_exporter": "python",
   "pygments_lexer": "ipython3",
   "version": "3.8.5"
  }
 },
 "nbformat": 4,
 "nbformat_minor": 4
}
